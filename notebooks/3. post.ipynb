{
 "cells": [
  {
   "cell_type": "code",
   "execution_count": 1,
   "metadata": {},
   "outputs": [],
   "source": [
    "import pandas as pd\n",
    "import os, sys\n",
    "os.chdir('/home/phyto-2/CASCADE/')  # Provide your path here\n",
    "\n",
    "sys.path.insert(0, './cascade/')\n",
    "from post import gridded_datasets, merge_literature_datasets, split_resampled_cellular_dataset"
   ]
  },
  {
   "cell_type": "code",
   "execution_count": 2,
   "metadata": {},
   "outputs": [],
   "source": [
    "m = gridded_datasets(abundances_path =\"./data/output/gridded_abundances.csv\",\n",
    "              carbon_path = \"./data/output/cellular_dataset.csv\",\n",
    "              export_path=\"./data/Zenodo/gridded_datasets/\")"
   ]
  },
  {
   "cell_type": "code",
   "execution_count": 3,
   "metadata": {},
   "outputs": [
    {
     "name": "stdout",
     "output_type": "stream",
     "text": [
      "41713\n"
     ]
    }
   ],
   "source": [
    "d = pd.read_csv(\"./data/output/ungridded_abundances.csv\")\n",
    "d = pd.melt(d, id_vars=['Latitude', 'Longitude', 'Depth', 'Month', 'Year', 'Day', 'Reference', 'Method'], \n",
    "            value_name='cells L-1', var_name=\"Species\")\n",
    "d.dropna(inplace=True)\n",
    "d.to_csv(\"./data/Zenodo/concatenated_literature/literature_abundances.csv\", index=False)\n",
    "\n",
    "print(len(d))"
   ]
  },
  {
   "cell_type": "code",
   "execution_count": 4,
   "metadata": {},
   "outputs": [
    {
     "name": "stdout",
     "output_type": "stream",
     "text": [
      "31875\n"
     ]
    }
   ],
   "source": [
    "d = pd.read_csv(\"./data/output/gridded_abundances.csv\")\n",
    "\n",
    "d = pd.melt(d, id_vars=['Latitude', 'Longitude', 'Depth', 'Month', 'Year'], \n",
    "            value_name='cells L-1', var_name=\"Species\")\n",
    "d.dropna(inplace=True)\n",
    "d.to_csv(\"./data/Zenodo/gridded_datasets/gridded_abundances.csv\", index=False)\n",
    "\n",
    "print(len(d))"
   ]
  },
  {
   "cell_type": "code",
   "execution_count": 5,
   "metadata": {},
   "outputs": [
    {
     "name": "stdout",
     "output_type": "stream",
     "text": [
      "finished merging literature datasets\n",
      "exported to: ./data/Zenodo/concatenated_literature/\n"
     ]
    }
   ],
   "source": [
    "merge_literature_datasets(pic_path = \"./data/pic/\", \n",
    "                          poc_path = \"./data/poc/\",\n",
    "                          size_path =\"./data/sizes/\", \n",
    "                          export_path =\"./data/Zenodo/concatenated_literature/\")"
   ]
  },
  {
   "cell_type": "code",
   "execution_count": 6,
   "metadata": {},
   "outputs": [
    {
     "name": "stdout",
     "output_type": "stream",
     "text": [
      "                            species     value       variable\n",
      "0             Emiliania huxleyi HET  4.586700  diameter (um)\n",
      "1             Emiliania huxleyi HET  4.565145  diameter (um)\n",
      "2             Emiliania huxleyi HET  4.573902  diameter (um)\n",
      "3             Emiliania huxleyi HET  4.582339  diameter (um)\n",
      "4             Emiliania huxleyi HET  4.575715  diameter (um)\n",
      "...                             ...       ...            ...\n",
      "555995  Syracolithus sp. type A HOL  3.390295         pg pic\n",
      "555996  Syracolithus sp. type A HOL  3.342248         pg pic\n",
      "555997  Syracolithus sp. type A HOL  3.354333         pg pic\n",
      "555998  Syracolithus sp. type A HOL  3.355647         pg pic\n",
      "555999  Syracolithus sp. type A HOL  3.416377         pg pic\n",
      "\n",
      "[556000 rows x 3 columns]\n",
      "                            species     value       variable\n",
      "0             Emiliania huxleyi HET  4.586700  diameter (um)\n",
      "1             Emiliania huxleyi HET  4.565145  diameter (um)\n",
      "2             Emiliania huxleyi HET  4.573902  diameter (um)\n",
      "3             Emiliania huxleyi HET  4.582339  diameter (um)\n",
      "4             Emiliania huxleyi HET  4.575715  diameter (um)\n",
      "...                             ...       ...            ...\n",
      "552995  Syracolithus sp. type A HOL  6.120190  diameter (um)\n",
      "552996  Syracolithus sp. type A HOL  6.103175  diameter (um)\n",
      "552997  Syracolithus sp. type A HOL  6.107464  diameter (um)\n",
      "552998  Syracolithus sp. type A HOL  6.107930  diameter (um)\n",
      "552999  Syracolithus sp. type A HOL  6.129388  diameter (um)\n",
      "\n",
      "[139000 rows x 3 columns]\n"
     ]
    }
   ],
   "source": [
    "split_resampled_cellular_dataset(data_path = \"./data/output/cellular_dataset.csv\", \n",
    "                                     export_path = \"./data/Zenodo/resampled_cellular_datasets/\")"
   ]
  }
 ],
 "metadata": {
  "kernelspec": {
   "display_name": "my-geopandas-env-2",
   "language": "python",
   "name": "python3"
  },
  "language_info": {
   "codemirror_mode": {
    "name": "ipython",
    "version": 3
   },
   "file_extension": ".py",
   "mimetype": "text/x-python",
   "name": "python",
   "nbconvert_exporter": "python",
   "pygments_lexer": "ipython3",
   "version": "3.12.4"
  }
 },
 "nbformat": 4,
 "nbformat_minor": 2
}
