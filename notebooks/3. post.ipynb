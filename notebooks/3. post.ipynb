{
 "cells": [
  {
   "cell_type": "code",
   "execution_count": 24,
   "metadata": {},
   "outputs": [],
   "source": [
    "import pandas as pd\n",
    "import numpy as np\n",
    "import os, sys\n",
    "os.chdir('/home/phyto-2/CASCADE/')  # Provide your path here\n",
    "\n",
    "sys.path.insert(0, './cascade/')\n",
    "from post import gridded_datasets, merge_literature_datasets, split_resampled_cellular_dataset, cellular_dataset_table\n",
    "\n",
    "try: #make new dir if needed\n",
    "    os.makedirs(\"./data/Zenodo/resampled_cellular_datasets/\")\n",
    "except:\n",
    "    None\n",
    "try: #make new dir if needed\n",
    "    os.makedirs(\"./data/Zenodo/gridded_datasets/\")\n",
    "except:\n",
    "    None\n",
    "try: #make new dir if needed\n",
    "    os.makedirs(\"./data/Zenodo/concatenated_literature_datasets/\")\n",
    "except:\n",
    "    None\n",
    "try: #make new dir if needed\n",
    "    os.makedirs(\"./data/Zenodo/species_lists/\")\n",
    "except:\n",
    "    None\n",
    "try: #make new dir if needed\n",
    "    os.makedirs(\"./data/Zenodo/classification/\")\n",
    "except:\n",
    "    None"
   ]
  },
  {
   "cell_type": "code",
   "execution_count": 2,
   "metadata": {},
   "outputs": [
    {
     "data": {
      "text/plain": [
       "['./data/Zenodo/classification/synonyms.yml',\n",
       " './data/Zenodo/classification/phases.yml',\n",
       " './data/Zenodo/classification/family.yml']"
      ]
     },
     "execution_count": 2,
     "metadata": {},
     "output_type": "execute_result"
    }
   ],
   "source": [
    "from distutils.dir_util import copy_tree\n",
    "copy_tree(\"./data/classification\", \"./data/Zenodo/classification/\")"
   ]
  },
  {
   "cell_type": "code",
   "execution_count": 3,
   "metadata": {},
   "outputs": [],
   "source": [
    "m = cellular_dataset_table(d = pd.read_csv(\"./data/output/cellular_dataset.csv\"))\n",
    "d = m.concat_estimates()\n",
    "d.to_csv(\"./data/Zenodo/resampled_cellular_datasets/summary_table.csv\", index=False)"
   ]
  },
  {
   "cell_type": "code",
   "execution_count": 4,
   "metadata": {},
   "outputs": [],
   "source": [
    "d = pd.read_csv(\"./data/output/counts.csv\")\n",
    "\n",
    "rare = d[d['count']<20]\n",
    "common = d[d['count']>=20]\n",
    "\n",
    "rare.to_csv(\"./data/Zenodo/species_lists/rare_species.csv\", index=False)\n",
    "common.to_csv(\"./data/Zenodo/species_lists/common_species.csv\", index=False)"
   ]
  },
  {
   "cell_type": "code",
   "execution_count": 5,
   "metadata": {},
   "outputs": [],
   "source": [
    "m = gridded_datasets(abundances_path =\"./data/output/gridded_abundances.csv\",\n",
    "              carbon_path = \"./data/output/cellular_dataset.csv\",\n",
    "              export_path=\"./data/Zenodo/gridded_datasets/\")"
   ]
  },
  {
   "cell_type": "code",
   "execution_count": 28,
   "metadata": {},
   "outputs": [
    {
     "name": "stdout",
     "output_type": "stream",
     "text": [
      "      Latitude  Longitude  Depth  Month  Year   Day               Reference  \\\n",
      "0     -63.6900  -169.0700  100.0     12  2010   1.0  Saavedra-Pellitero2014   \n",
      "1     -63.2928   175.1865    3.0      1  2005   5.0          Malinverno2015   \n",
      "2     -62.9800   -63.3900    5.0      2  2009  18.0    Charalampopoulou2016   \n",
      "3     -62.9057   172.1225    3.0      1  2005   5.0          Malinverno2015   \n",
      "4     -62.7800   -63.7000   10.0      2  2009  17.0    Charalampopoulou2016   \n",
      "...        ...        ...    ...    ...   ...   ...                     ...   \n",
      "6022   79.7200     8.8300    1.0      8  2008   3.0    Charalampopoulou2011   \n",
      "6023   80.2800    22.3100    2.0      8  2008  16.0    Charalampopoulou2011   \n",
      "6024   80.2800    22.3100   12.0      8  2008  16.0    Charalampopoulou2011   \n",
      "6025   80.3600    16.2800    2.0      8  2008  10.0    Charalampopoulou2011   \n",
      "6026   80.8100    19.2000    2.0      8  2008   6.0    Charalampopoulou2011   \n",
      "\n",
      "     Method  Acanthoica acanthifera HET  Acanthoica acanthos HET  ...  \\\n",
      "0       SEM                         NaN                      NaN  ...   \n",
      "1       SEM                         NaN                      NaN  ...   \n",
      "2       SEM                         NaN                      NaN  ...   \n",
      "3       SEM                         NaN                      NaN  ...   \n",
      "4       SEM                         NaN                      NaN  ...   \n",
      "...     ...                         ...                      ...  ...   \n",
      "6022    SEM                         NaN                      NaN  ...   \n",
      "6023    SEM                         NaN                      NaN  ...   \n",
      "6024    SEM                         NaN                      NaN  ...   \n",
      "6025    SEM                         NaN                      NaN  ...   \n",
      "6026    SEM                         NaN                      NaN  ...   \n",
      "\n",
      "      Umbilicosphaera anulus HET  Umbilicosphaera foliosa HET  \\\n",
      "0                            NaN                          NaN   \n",
      "1                            NaN                          NaN   \n",
      "2                            NaN                          NaN   \n",
      "3                            NaN                          NaN   \n",
      "4                            NaN                          NaN   \n",
      "...                          ...                          ...   \n",
      "6022                         NaN                          NaN   \n",
      "6023                         NaN                          NaN   \n",
      "6024                         NaN                          NaN   \n",
      "6025                         NaN                          NaN   \n",
      "6026                         NaN                          NaN   \n",
      "\n",
      "      Umbilicosphaera hulburtiana HET  Umbilicosphaera sibogae HET  \\\n",
      "0                                 NaN                          NaN   \n",
      "1                                 NaN                          NaN   \n",
      "2                                 NaN                          NaN   \n",
      "3                                 NaN                          NaN   \n",
      "4                                 NaN                          NaN   \n",
      "...                               ...                          ...   \n",
      "6022                              NaN                          NaN   \n",
      "6023                              NaN                          NaN   \n",
      "6024                              NaN                          NaN   \n",
      "6025                              NaN                          NaN   \n",
      "6026                              NaN                          NaN   \n",
      "\n",
      "      Vexillarius cancellifer HET  Vexillarius iaculifer HET  \\\n",
      "0                             NaN                        NaN   \n",
      "1                             NaN                        NaN   \n",
      "2                             NaN                        NaN   \n",
      "3                             NaN                        NaN   \n",
      "4                             NaN                        NaN   \n",
      "...                           ...                        ...   \n",
      "6022                          NaN                        NaN   \n",
      "6023                          NaN                        NaN   \n",
      "6024                          NaN                        NaN   \n",
      "6025                          NaN                        NaN   \n",
      "6026                          NaN                        NaN   \n",
      "\n",
      "      Wigwamma antarctica HET  Wigwamma triradiata HET  \\\n",
      "0                         NaN                      NaN   \n",
      "1                         NaN                      NaN   \n",
      "2                       500.0                      NaN   \n",
      "3                         NaN                      NaN   \n",
      "4                       500.0                      NaN   \n",
      "...                       ...                      ...   \n",
      "6022                      NaN                      NaN   \n",
      "6023                      NaN                      NaN   \n",
      "6024                      NaN                      NaN   \n",
      "6025                      NaN                      NaN   \n",
      "6026                      NaN                      NaN   \n",
      "\n",
      "      Zygosphaera amoena HOL  Zygosphaera marsilii HOL  \n",
      "0                        NaN                       NaN  \n",
      "1                        NaN                       NaN  \n",
      "2                        NaN                       NaN  \n",
      "3                        NaN                       NaN  \n",
      "4                        NaN                       NaN  \n",
      "...                      ...                       ...  \n",
      "6022                     NaN                       NaN  \n",
      "6023                     NaN                       NaN  \n",
      "6024                     NaN                       NaN  \n",
      "6025                     NaN                       NaN  \n",
      "6026                     NaN                       NaN  \n",
      "\n",
      "[6027 rows x 234 columns]\n",
      "number of studies:  61\n",
      "number of observations:\n",
      "41713\n",
      "number of sample locations:\n",
      "6016\n",
      "most recent year:  2019\n",
      "oldest year:  1964\n"
     ]
    }
   ],
   "source": [
    "d = pd.read_csv(\"./data/output/ungridded_abundances.csv\")\n",
    "d = pd.melt(d, id_vars=['Latitude', 'Longitude', 'Depth', 'Month', 'Year', 'Day', 'Reference', 'Method'], \n",
    "            value_name='cells L-1', var_name=\"Species\")\n",
    "d.set_index(['Latitude', 'Longitude', 'Depth', 'Month', 'Year', 'Day', 'Reference', 'Method'])\n",
    "d.dropna(inplace=True)\n",
    "d.to_csv(\"./data/Zenodo/concatenated_literature_datasets/literature_abundances.csv\", index=False)\n",
    "\n",
    "\n",
    "print(\"number of studies: \", len(d['Reference'].unique()))\n",
    "\n",
    "\n",
    "print(\"number of observations:\")\n",
    "print(len(d))\n",
    "\n",
    "id_vars = ['Latitude', 'Longitude', 'Depth', 'Month', 'Year', 'Day']\n",
    "print(\"number of sample locations:\")\n",
    "print(len(d[id_vars].drop_duplicates()))\n",
    "\n",
    "print(\"most recent year: \", np.max(d['Year']))\n",
    "print(\"oldest year: \", np.min(d['Year']))\n"
   ]
  },
  {
   "cell_type": "code",
   "execution_count": 7,
   "metadata": {},
   "outputs": [
    {
     "name": "stdout",
     "output_type": "stream",
     "text": [
      "number of observations:\n",
      "31875\n",
      "number of sample locations:\n",
      "4157\n"
     ]
    }
   ],
   "source": [
    "d = pd.read_csv(\"./data/output/gridded_abundances.csv\")\n",
    "\n",
    "id_vars = ['Latitude', 'Longitude', 'Depth', 'Month', 'Year']\n",
    "d = pd.melt(d, id_vars=id_vars, \n",
    "            value_name='cells L-1', var_name=\"Species\")\n",
    "d.dropna(inplace=True)\n",
    "d.to_csv(\"./data/Zenodo/gridded_datasets/gridded_abundances.csv\", index=False)\n",
    "\n",
    "print(\"number of observations:\")\n",
    "print(len(d))\n",
    "\n",
    "print(\"number of sample locations:\")\n",
    "print(len(d[id_vars].drop_duplicates()))"
   ]
  },
  {
   "cell_type": "code",
   "execution_count": 8,
   "metadata": {},
   "outputs": [
    {
     "name": "stdout",
     "output_type": "stream",
     "text": [
      "finished merging literature datasets\n",
      "exported to: ./data/Zenodo/concatenated_literature_datasets/\n"
     ]
    }
   ],
   "source": [
    "merge_literature_datasets(pic_path = \"./data/pic/\", \n",
    "                          poc_path = \"./data/poc/\",\n",
    "                          size_path =\"./data/sizes/\", \n",
    "                          export_path =\"./data/Zenodo/concatenated_literature_datasets/\")"
   ]
  },
  {
   "cell_type": "code",
   "execution_count": 9,
   "metadata": {},
   "outputs": [],
   "source": [
    "split_resampled_cellular_dataset(data_path = \"./data/output/cellular_dataset.csv\", \n",
    "                                     export_path = \"./data/Zenodo/resampled_cellular_datasets/\")"
   ]
  }
 ],
 "metadata": {
  "kernelspec": {
   "display_name": "my-geopandas-env-2",
   "language": "python",
   "name": "python3"
  },
  "language_info": {
   "codemirror_mode": {
    "name": "ipython",
    "version": 3
   },
   "file_extension": ".py",
   "mimetype": "text/x-python",
   "name": "python",
   "nbconvert_exporter": "python",
   "pygments_lexer": "ipython3",
   "version": "3.12.4"
  }
 },
 "nbformat": 4,
 "nbformat_minor": 2
}
