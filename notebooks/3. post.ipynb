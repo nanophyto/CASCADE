{
 "cells": [
  {
   "cell_type": "code",
   "execution_count": 1,
   "metadata": {},
   "outputs": [],
   "source": [
    "import pandas as pd\n",
    "import os, sys\n",
    "os.chdir('/home/phyto-2/CASCADE/')  # Provide your path here\n",
    "\n",
    "sys.path.insert(0, './cascade/')\n",
    "from post import gridded_datasets, merge_literature_datasets, split_resampled_cellular_dataset, cellular_dataset_table\n",
    "\n",
    "try: #make new dir if needed\n",
    "    os.makedirs(\"./data/Zenodo/resampled_cellular_datasets/\")\n",
    "except:\n",
    "    None\n",
    "try: #make new dir if needed\n",
    "    os.makedirs(\"./data/Zenodo/gridded_datasets/\")\n",
    "except:\n",
    "    None\n",
    "try: #make new dir if needed\n",
    "    os.makedirs(\"./data/Zenodo/concatenated_literature_datasets/\")\n",
    "except:\n",
    "    None\n",
    "try: #make new dir if needed\n",
    "    os.makedirs(\"./data/Zenodo/species_lists/\")\n",
    "except:\n",
    "    None\n",
    "try: #make new dir if needed\n",
    "    os.makedirs(\"./data/Zenodo/classification/\")\n",
    "except:\n",
    "    None"
   ]
  },
  {
   "cell_type": "code",
   "execution_count": 2,
   "metadata": {},
   "outputs": [
    {
     "data": {
      "text/plain": [
       "['./data/Zenodo/classification/synonyms.yml',\n",
       " './data/Zenodo/classification/phases.yml',\n",
       " './data/Zenodo/classification/family.yml']"
      ]
     },
     "execution_count": 2,
     "metadata": {},
     "output_type": "execute_result"
    }
   ],
   "source": [
    "from distutils.dir_util import copy_tree\n",
    "copy_tree(\"./data/classification\", \"./data/Zenodo/classification/\")"
   ]
  },
  {
   "cell_type": "code",
   "execution_count": 3,
   "metadata": {},
   "outputs": [],
   "source": [
    "m = cellular_dataset_table(d = pd.read_csv(\"./data/output/cellular_dataset.csv\"))\n",
    "d = m.concat_estimates()\n",
    "d.to_csv(\"./data/Zenodo/resampled_cellular_datasets/summary_table.csv\", index=False)"
   ]
  },
  {
   "cell_type": "code",
   "execution_count": 4,
   "metadata": {},
   "outputs": [],
   "source": [
    "d = pd.read_csv(\"./data/output/counts.csv\")\n",
    "\n",
    "rare = d[d['count']<20]\n",
    "common = d[d['count']>=20]\n",
    "\n",
    "rare.to_csv(\"./data/Zenodo/species_lists/rare_species.csv\", index=False)\n",
    "common.to_csv(\"./data/Zenodo/species_lists/common_species.csv\", index=False)"
   ]
  },
  {
   "cell_type": "code",
   "execution_count": 5,
   "metadata": {},
   "outputs": [],
   "source": [
    "m = gridded_datasets(abundances_path =\"./data/output/gridded_abundances.csv\",\n",
    "              carbon_path = \"./data/output/cellular_dataset.csv\",\n",
    "              export_path=\"./data/Zenodo/gridded_datasets/\")"
   ]
  },
  {
   "cell_type": "code",
   "execution_count": 18,
   "metadata": {},
   "outputs": [
    {
     "name": "stdout",
     "output_type": "stream",
     "text": [
      "61\n",
      "number of observations:\n",
      "41713\n",
      "number of sample locations:\n",
      "6016\n"
     ]
    }
   ],
   "source": [
    "d = pd.read_csv(\"./data/output/ungridded_abundances.csv\")\n",
    "d = pd.melt(d, id_vars=['Latitude', 'Longitude', 'Depth', 'Month', 'Year', 'Day', 'Reference', 'Method'], \n",
    "            value_name='cells L-1', var_name=\"Species\")\n",
    "d.dropna(inplace=True)\n",
    "d.to_csv(\"./data/Zenodo/concatenated_literature_datasets/literature_abundances.csv\", index=False)\n",
    "\n",
    "print(len(d['Reference'].unique()))\n",
    "\n",
    "print(\"number of observations:\")\n",
    "print(len(d))\n",
    "\n",
    "id_vars = ['Latitude', 'Longitude', 'Depth', 'Month', 'Year', 'Day']\n",
    "print(\"number of sample locations:\")\n",
    "print(len(d[id_vars].drop_duplicates()))\n"
   ]
  },
  {
   "cell_type": "code",
   "execution_count": 16,
   "metadata": {},
   "outputs": [
    {
     "ename": "KeyError",
     "evalue": "\"The following id_vars or value_vars are not present in the DataFrame: ['Reference']\"",
     "output_type": "error",
     "traceback": [
      "\u001b[0;31m---------------------------------------------------------------------------\u001b[0m",
      "\u001b[0;31mKeyError\u001b[0m                                  Traceback (most recent call last)",
      "Cell \u001b[0;32mIn[16], line 4\u001b[0m\n\u001b[1;32m      1\u001b[0m d \u001b[38;5;241m=\u001b[39m pd\u001b[38;5;241m.\u001b[39mread_csv(\u001b[38;5;124m\"\u001b[39m\u001b[38;5;124m./data/output/gridded_abundances.csv\u001b[39m\u001b[38;5;124m\"\u001b[39m)\n\u001b[1;32m      3\u001b[0m id_vars \u001b[38;5;241m=\u001b[39m [\u001b[38;5;124m'\u001b[39m\u001b[38;5;124mLatitude\u001b[39m\u001b[38;5;124m'\u001b[39m, \u001b[38;5;124m'\u001b[39m\u001b[38;5;124mLongitude\u001b[39m\u001b[38;5;124m'\u001b[39m, \u001b[38;5;124m'\u001b[39m\u001b[38;5;124mDepth\u001b[39m\u001b[38;5;124m'\u001b[39m, \u001b[38;5;124m'\u001b[39m\u001b[38;5;124mMonth\u001b[39m\u001b[38;5;124m'\u001b[39m, \u001b[38;5;124m'\u001b[39m\u001b[38;5;124mYear\u001b[39m\u001b[38;5;124m'\u001b[39m, \u001b[38;5;124m'\u001b[39m\u001b[38;5;124mReference\u001b[39m\u001b[38;5;124m'\u001b[39m]\n\u001b[0;32m----> 4\u001b[0m d \u001b[38;5;241m=\u001b[39m pd\u001b[38;5;241m.\u001b[39mmelt(d, id_vars\u001b[38;5;241m=\u001b[39mid_vars, \n\u001b[1;32m      5\u001b[0m             value_name\u001b[38;5;241m=\u001b[39m\u001b[38;5;124m'\u001b[39m\u001b[38;5;124mcells L-1\u001b[39m\u001b[38;5;124m'\u001b[39m, var_name\u001b[38;5;241m=\u001b[39m\u001b[38;5;124m\"\u001b[39m\u001b[38;5;124mSpecies\u001b[39m\u001b[38;5;124m\"\u001b[39m)\n\u001b[1;32m      6\u001b[0m d\u001b[38;5;241m.\u001b[39mdropna(inplace\u001b[38;5;241m=\u001b[39m\u001b[38;5;28;01mTrue\u001b[39;00m)\n\u001b[1;32m      7\u001b[0m d\u001b[38;5;241m.\u001b[39mto_csv(\u001b[38;5;124m\"\u001b[39m\u001b[38;5;124m./data/Zenodo/gridded_datasets/gridded_abundances.csv\u001b[39m\u001b[38;5;124m\"\u001b[39m, index\u001b[38;5;241m=\u001b[39m\u001b[38;5;28;01mFalse\u001b[39;00m)\n",
      "File \u001b[0;32m~/miniconda3/envs/cascade-env/lib/python3.12/site-packages/pandas/core/reshape/melt.py:74\u001b[0m, in \u001b[0;36mmelt\u001b[0;34m(frame, id_vars, value_vars, var_name, value_name, col_level, ignore_index)\u001b[0m\n\u001b[1;32m     70\u001b[0m \u001b[38;5;28;01mif\u001b[39;00m missing\u001b[38;5;241m.\u001b[39many():\n\u001b[1;32m     71\u001b[0m     missing_labels \u001b[38;5;241m=\u001b[39m [\n\u001b[1;32m     72\u001b[0m         lab \u001b[38;5;28;01mfor\u001b[39;00m lab, not_found \u001b[38;5;129;01min\u001b[39;00m \u001b[38;5;28mzip\u001b[39m(labels, missing) \u001b[38;5;28;01mif\u001b[39;00m not_found\n\u001b[1;32m     73\u001b[0m     ]\n\u001b[0;32m---> 74\u001b[0m     \u001b[38;5;28;01mraise\u001b[39;00m \u001b[38;5;167;01mKeyError\u001b[39;00m(\n\u001b[1;32m     75\u001b[0m         \u001b[38;5;124m\"\u001b[39m\u001b[38;5;124mThe following id_vars or value_vars are not present in \u001b[39m\u001b[38;5;124m\"\u001b[39m\n\u001b[1;32m     76\u001b[0m         \u001b[38;5;124mf\u001b[39m\u001b[38;5;124m\"\u001b[39m\u001b[38;5;124mthe DataFrame: \u001b[39m\u001b[38;5;132;01m{\u001b[39;00mmissing_labels\u001b[38;5;132;01m}\u001b[39;00m\u001b[38;5;124m\"\u001b[39m\n\u001b[1;32m     77\u001b[0m     )\n\u001b[1;32m     78\u001b[0m \u001b[38;5;28;01mif\u001b[39;00m value_vars_was_not_none:\n\u001b[1;32m     79\u001b[0m     frame \u001b[38;5;241m=\u001b[39m frame\u001b[38;5;241m.\u001b[39miloc[:, algos\u001b[38;5;241m.\u001b[39munique(idx)]\n",
      "\u001b[0;31mKeyError\u001b[0m: \"The following id_vars or value_vars are not present in the DataFrame: ['Reference']\""
     ]
    }
   ],
   "source": [
    "d = pd.read_csv(\"./data/output/gridded_abundances.csv\")\n",
    "\n",
    "id_vars = ['Latitude', 'Longitude', 'Depth', 'Month', 'Year']\n",
    "d = pd.melt(d, id_vars=id_vars, \n",
    "            value_name='cells L-1', var_name=\"Species\")\n",
    "d.dropna(inplace=True)\n",
    "d.to_csv(\"./data/Zenodo/gridded_datasets/gridded_abundances.csv\", index=False)\n",
    "\n",
    "print(\"number of observations:\")\n",
    "print(len(d))\n",
    "\n",
    "print(\"number of sample locations:\")\n",
    "print(len(d[id_vars].drop_duplicates()))"
   ]
  },
  {
   "cell_type": "code",
   "execution_count": 8,
   "metadata": {},
   "outputs": [
    {
     "name": "stdout",
     "output_type": "stream",
     "text": [
      "finished merging literature datasets\n",
      "exported to: ./data/Zenodo/concatenated_literature_datasets/\n"
     ]
    }
   ],
   "source": [
    "merge_literature_datasets(pic_path = \"./data/pic/\", \n",
    "                          poc_path = \"./data/poc/\",\n",
    "                          size_path =\"./data/sizes/\", \n",
    "                          export_path =\"./data/Zenodo/concatenated_literature_datasets/\")"
   ]
  },
  {
   "cell_type": "code",
   "execution_count": 9,
   "metadata": {},
   "outputs": [],
   "source": [
    "split_resampled_cellular_dataset(data_path = \"./data/output/cellular_dataset.csv\", \n",
    "                                     export_path = \"./data/Zenodo/resampled_cellular_datasets/\")"
   ]
  }
 ],
 "metadata": {
  "kernelspec": {
   "display_name": "my-geopandas-env-2",
   "language": "python",
   "name": "python3"
  },
  "language_info": {
   "codemirror_mode": {
    "name": "ipython",
    "version": 3
   },
   "file_extension": ".py",
   "mimetype": "text/x-python",
   "name": "python",
   "nbconvert_exporter": "python",
   "pygments_lexer": "ipython3",
   "version": "3.12.4"
  }
 },
 "nbformat": 4,
 "nbformat_minor": 2
}
