{
 "cells": [
  {
   "cell_type": "code",
   "execution_count": 1,
   "metadata": {},
   "outputs": [],
   "source": [
    "import pandas as pd\n",
    "import numpy as np\n",
    "import os, sys\n",
    "os.chdir('/home/phyto-2/CASCADE/')  # Provide your path here\n",
    "\n",
    "sys.path.insert(0, './cascade/')\n",
    "from post import gridded_datasets, merge_literature_datasets, split_resampled_cellular_dataset, cellular_dataset_table\n",
    "\n",
    "try: #make new dir if needed\n",
    "    os.makedirs(\"./data/Zenodo/resampled_cellular_datasets/\")\n",
    "except:\n",
    "    None\n",
    "try: #make new dir if needed\n",
    "    os.makedirs(\"./data/Zenodo/gridded_datasets/\")\n",
    "except:\n",
    "    None\n",
    "try: #make new dir if needed\n",
    "    os.makedirs(\"./data/Zenodo/concatenated_literature_datasets/\")\n",
    "except:\n",
    "    None\n",
    "try: #make new dir if needed\n",
    "    os.makedirs(\"./data/Zenodo/species_lists/\")\n",
    "except:\n",
    "    None\n",
    "try: #make new dir if needed\n",
    "    os.makedirs(\"./data/Zenodo/classification/\")\n",
    "except:\n",
    "    None"
   ]
  },
  {
   "cell_type": "code",
   "execution_count": 2,
   "metadata": {},
   "outputs": [
    {
     "data": {
      "text/plain": [
       "['./data/Zenodo/classification/synonyms.yml',\n",
       " './data/Zenodo/classification/phases.yml',\n",
       " './data/Zenodo/classification/family.yml']"
      ]
     },
     "execution_count": 2,
     "metadata": {},
     "output_type": "execute_result"
    }
   ],
   "source": [
    "from distutils.dir_util import copy_tree\n",
    "copy_tree(\"./data/classification\", \"./data/Zenodo/classification/\")"
   ]
  },
  {
   "cell_type": "code",
   "execution_count": 3,
   "metadata": {},
   "outputs": [
    {
     "name": "stdout",
     "output_type": "stream",
     "text": [
      "warning: PIC and PIC:POC for: Syracosphaera molischii HOL is NA\n",
      "warning: PIC and PIC:POC for: Sphaerocalyptra quadridentata HOL is NA\n",
      "warning: PIC and PIC:POC for: Zygosphaera amoena HOL is NA\n",
      "warning: PIC and PIC:POC for: Calicasphaera blokii HOL is NA\n",
      "warning: PIC and PIC:POC for: Calicasphaera concava HOL is NA\n",
      "warning: PIC and PIC:POC for: Syracosphaera lafourcadii HOL is NA\n"
     ]
    }
   ],
   "source": [
    "m = cellular_dataset_table(d = pd.read_csv(\"./data/output/cellular_dataset.csv\"))\n",
    "d = m.concat_estimates()\n",
    "d.to_csv(\"./data/Zenodo/resampled_cellular_datasets/summary_table.csv\", index=False)"
   ]
  },
  {
   "cell_type": "code",
   "execution_count": 4,
   "metadata": {},
   "outputs": [],
   "source": [
    "d = pd.read_csv(\"./data/output/counts.csv\")\n",
    "\n",
    "rare = d[d['count']<20]\n",
    "common = d[d['count']>=20]\n",
    "\n",
    "rare.to_csv(\"./data/Zenodo/species_lists/rare_species.csv\", index=False)\n",
    "common.to_csv(\"./data/Zenodo/species_lists/common_species.csv\", index=False)"
   ]
  },
  {
   "cell_type": "code",
   "execution_count": 5,
   "metadata": {},
   "outputs": [],
   "source": [
    "m = gridded_datasets(abundances_path =\"./data/output/gridded_abundances.csv\",\n",
    "              carbon_path = \"./data/output/cellular_dataset.csv\",\n",
    "              export_path=\"./data/Zenodo/gridded_datasets/\")"
   ]
  },
  {
   "cell_type": "code",
   "execution_count": 6,
   "metadata": {},
   "outputs": [
    {
     "name": "stdout",
     "output_type": "stream",
     "text": [
      "number of studies:  61\n",
      "number of observations:\n",
      "44059\n",
      "number of sample locations:\n",
      "6372\n",
      "most recent year:  2019\n",
      "oldest year:  1964\n"
     ]
    }
   ],
   "source": [
    "d = pd.read_csv(\"./data/output/ungridded_abundances.csv\")\n",
    "d = pd.melt(d, id_vars=['Latitude', 'Longitude', 'Depth', 'Month', 'Year', 'Day', 'Reference', 'Method'], \n",
    "            value_name='cells L-1', var_name=\"Species\")\n",
    "d.set_index(['Latitude', 'Longitude', 'Depth', 'Month', 'Year', 'Day', 'Reference', 'Method'])\n",
    "d.dropna(inplace=True)\n",
    "d.to_csv(\"./data/Zenodo/concatenated_literature_datasets/literature_abundances.csv\", index=False)\n",
    "\n",
    "print(\"number of studies: \", len(d['Reference'].unique()))\n",
    "\n",
    "print(\"number of observations:\")\n",
    "print(len(d))\n",
    "\n",
    "id_vars = ['Latitude', 'Longitude', 'Depth', 'Month', 'Year', 'Day']\n",
    "print(\"number of sample locations:\")\n",
    "print(len(d[id_vars].drop_duplicates()))\n",
    "\n",
    "print(\"most recent year: \", np.max(d['Year']))\n",
    "print(\"oldest year: \", np.min(d['Year']))\n"
   ]
  },
  {
   "cell_type": "code",
   "execution_count": 7,
   "metadata": {},
   "outputs": [
    {
     "name": "stdout",
     "output_type": "stream",
     "text": [
      "number of observations:\n",
      "33984\n",
      "number of sample locations:\n",
      "4372\n"
     ]
    }
   ],
   "source": [
    "d = pd.read_csv(\"./data/output/gridded_abundances.csv\")\n",
    "\n",
    "id_vars = ['Latitude', 'Longitude', 'Depth', 'Month', 'Year']\n",
    "d = pd.melt(d, id_vars=id_vars, \n",
    "            value_name='cells L-1', var_name=\"Species\")\n",
    "d.dropna(inplace=True)\n",
    "d.to_csv(\"./data/Zenodo/gridded_datasets/gridded_abundances.csv\", index=False)\n",
    "\n",
    "print(\"number of observations:\")\n",
    "print(len(d))\n",
    "\n",
    "print(\"number of sample locations:\")\n",
    "print(len(d[id_vars].drop_duplicates()))"
   ]
  },
  {
   "cell_type": "code",
   "execution_count": 8,
   "metadata": {},
   "outputs": [
    {
     "name": "stdout",
     "output_type": "stream",
     "text": [
      "finished merging literature datasets\n",
      "exported to: ./data/Zenodo/concatenated_literature_datasets/\n"
     ]
    }
   ],
   "source": [
    "merge_literature_datasets(pic_path = \"./data/pic/\", \n",
    "                          poc_path = \"./data/poc/\",\n",
    "                          size_path =\"./data/sizes/\", \n",
    "                          export_path =\"./data/Zenodo/concatenated_literature_datasets/\")"
   ]
  },
  {
   "cell_type": "code",
   "execution_count": 9,
   "metadata": {},
   "outputs": [],
   "source": [
    "split_resampled_cellular_dataset(data_path = \"./data/output/cellular_dataset.csv\", \n",
    "                                     export_path = \"./data/Zenodo/resampled_cellular_datasets/\")"
   ]
  }
 ],
 "metadata": {
  "kernelspec": {
   "display_name": "my-geopandas-env-2",
   "language": "python",
   "name": "python3"
  },
  "language_info": {
   "codemirror_mode": {
    "name": "ipython",
    "version": 3
   },
   "file_extension": ".py",
   "mimetype": "text/x-python",
   "name": "python",
   "nbconvert_exporter": "python",
   "pygments_lexer": "ipython3",
   "version": "3.12.3"
  }
 },
 "nbformat": 4,
 "nbformat_minor": 2
}
