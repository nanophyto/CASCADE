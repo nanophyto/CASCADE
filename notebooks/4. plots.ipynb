{
 "cells": [
  {
   "cell_type": "code",
   "execution_count": 1,
   "metadata": {},
   "outputs": [],
   "source": [
    "import pandas as pd\n",
    "import numpy as np \n",
    "import statsmodels.api as sm\n",
    "import matplotlib.pyplot as plt\n",
    "plt.rcParams.update({'font.size': 18})\n",
    "import sys\n",
    "sys.path.insert(0, '/home/phyto/CASCADE/cascade/')\n",
    "from functions import add_months_since_solstice\n",
    "from plots import multipage_plots, sd_simulations"
   ]
  },
  {
   "cell_type": "code",
   "execution_count": 3,
   "metadata": {},
   "outputs": [
    {
     "name": "stderr",
     "output_type": "stream",
     "text": [
      "/home/phyto/CASCADE/cascade/plots.py:251: RuntimeWarning: invalid value encountered in scalar divide\n",
      "  return (real, minmax, ((minmax - real)*100)/real)\n"
     ]
    }
   ],
   "source": [
    "p = sd_simulations()\n",
    "p.plot()"
   ]
  },
  {
   "cell_type": "code",
   "execution_count": null,
   "metadata": {},
   "outputs": [],
   "source": [
    "#plot SEM vs LM size estimates:"
   ]
  },
  {
   "cell_type": "code",
   "execution_count": null,
   "metadata": {},
   "outputs": [
    {
     "ename": "NameError",
     "evalue": "name 'regression_simulation' is not defined",
     "output_type": "error",
     "traceback": [
      "\u001b[0;31m---------------------------------------------------------------------------\u001b[0m",
      "\u001b[0;31mNameError\u001b[0m                                 Traceback (most recent call last)",
      "Cell \u001b[0;32mIn[4], line 9\u001b[0m\n\u001b[1;32m      6\u001b[0m X_train \u001b[38;5;241m=\u001b[39m np\u001b[38;5;241m.\u001b[39mlog(X_train)\n\u001b[1;32m      7\u001b[0m X_predict \u001b[38;5;241m=\u001b[39m np\u001b[38;5;241m.\u001b[39mlog(X_train)\n\u001b[0;32m----> 9\u001b[0m r \u001b[38;5;241m=\u001b[39m \u001b[43mregression_simulation\u001b[49m(X_train, Y_train)\n\u001b[1;32m     10\u001b[0m r\u001b[38;5;241m.\u001b[39mplot_fit(x\u001b[38;5;241m=\u001b[39mX_train, y\u001b[38;5;241m=\u001b[39mY_train, ylab\u001b[38;5;241m=\u001b[39m\u001b[38;5;124m\"\u001b[39m\u001b[38;5;124mPOC\u001b[39m\u001b[38;5;124m\"\u001b[39m, title\u001b[38;5;241m=\u001b[39m \u001b[38;5;124m\"\u001b[39m\u001b[38;5;124mAllometric GLM for POC\u001b[39m\u001b[38;5;124m\"\u001b[39m)\n\u001b[1;32m     11\u001b[0m r\u001b[38;5;241m.\u001b[39mreturn_performance()\n",
      "\u001b[0;31mNameError\u001b[0m: name 'regression_simulation' is not defined"
     ]
    }
   ],
   "source": [
    "#plot POC regression:\n",
    "d = pd.read_csv(\"/home/phyto/CoccoData/data/unprocessed/poulton2024.csv\")\n",
    "Y_train = d['pg poc']\n",
    "X_train = d['volume']\n",
    "\n",
    "X_train = np.log(X_train)\n",
    "X_predict = np.log(X_train)\n",
    "\n",
    "r = regression_simulation(X_train, Y_train)\n",
    "r.plot_fit(x=X_train, y=Y_train, ylab=\"POC\", title= \"Allometric GLM for POC\")\n",
    "r.return_performance()"
   ]
  },
  {
   "cell_type": "code",
   "execution_count": null,
   "metadata": {},
   "outputs": [
    {
     "ename": "NameError",
     "evalue": "name 'pd' is not defined",
     "output_type": "error",
     "traceback": [
      "\u001b[0;31m---------------------------------------------------------------------------\u001b[0m",
      "\u001b[0;31mNameError\u001b[0m                                 Traceback (most recent call last)",
      "Cell \u001b[0;32mIn[1], line 2\u001b[0m\n\u001b[1;32m      1\u001b[0m \u001b[38;5;66;03m#plot PIC regression:\u001b[39;00m\n\u001b[0;32m----> 2\u001b[0m d \u001b[38;5;241m=\u001b[39m \u001b[43mpd\u001b[49m\u001b[38;5;241m.\u001b[39mread_csv(\u001b[38;5;124m\"\u001b[39m\u001b[38;5;124m/home/phyto/CoccoData/data/allometry/sheward2024.csv\u001b[39m\u001b[38;5;124m\"\u001b[39m)\n\u001b[1;32m      3\u001b[0m d \u001b[38;5;241m=\u001b[39m pd\u001b[38;5;241m.\u001b[39mget_dummies(d, columns\u001b[38;5;241m=\u001b[39m[\u001b[38;5;124m\"\u001b[39m\u001b[38;5;124mphase\u001b[39m\u001b[38;5;124m\"\u001b[39m], dtype\u001b[38;5;241m=\u001b[39m\u001b[38;5;28mfloat\u001b[39m)\n\u001b[1;32m      4\u001b[0m X_train \u001b[38;5;241m=\u001b[39m d[[\u001b[38;5;124m\"\u001b[39m\u001b[38;5;124mvolume\u001b[39m\u001b[38;5;124m\"\u001b[39m, \u001b[38;5;124m\"\u001b[39m\u001b[38;5;124mphase_HET\u001b[39m\u001b[38;5;124m\"\u001b[39m, \u001b[38;5;124m\"\u001b[39m\u001b[38;5;124mphase_HOL\u001b[39m\u001b[38;5;124m\"\u001b[39m]]\u001b[38;5;241m.\u001b[39mastype(\u001b[38;5;28mfloat\u001b[39m)\n",
      "\u001b[0;31mNameError\u001b[0m: name 'pd' is not defined"
     ]
    }
   ],
   "source": [
    "#plot PIC regression:\n",
    "d = pd.read_csv(\"/home/phyto/CoccoData/data/allometry/sheward2024.csv\")\n",
    "d = pd.get_dummies(d, columns=[\"phase\"], dtype=float)\n",
    "X_train = d[[\"volume\", \"phase_HET\", \"phase_HOL\"]].astype(float)\n",
    "Y_train = d['pg pic']\n",
    "\n",
    "r = regression_simulation(X_train, Y_train=Y_train, link= sm.families.links.Identity())\n",
    "r.plot_fit_PIC()"
   ]
  },
  {
   "cell_type": "code",
   "execution_count": 2,
   "metadata": {},
   "outputs": [
    {
     "name": "stdout",
     "output_type": "stream",
     "text": [
      "0\n",
      "finished exporting pdf to: /home/phyto/CASCADE/data/output/library.pdf\n"
     ]
    }
   ],
   "source": [
    "#make a supplemental pdf with plots of every spp\n",
    "d = pd.read_csv(\"/home/phyto/CASCADE/data/output/gridded_observations.csv\")\n",
    "d = add_months_since_solstice(d)\n",
    "\n",
    "\n",
    "ds = pd.read_csv(\"/home/phyto/CASCADE/data/output/abundant_species.csv\")\n",
    "ds = ds.sort_values(by=['species'])\n",
    "species_list = list(ds['species'])[0:6]\n",
    "#species_list = list(ds['species'])\n",
    "\n",
    "m = multipage_plots(ds=d, species_list=species_list, n_page=7, out_path='/home/phyto/CASCADE/data/output/library.pdf')\n",
    "m.export_pdf()\n"
   ]
  }
 ],
 "metadata": {
  "kernelspec": {
   "display_name": "my-geopandas-env-2",
   "language": "python",
   "name": "python3"
  },
  "language_info": {
   "codemirror_mode": {
    "name": "ipython",
    "version": 3
   },
   "file_extension": ".py",
   "mimetype": "text/x-python",
   "name": "python",
   "nbconvert_exporter": "python",
   "pygments_lexer": "ipython3",
   "version": "3.11.4"
  }
 },
 "nbformat": 4,
 "nbformat_minor": 2
}
