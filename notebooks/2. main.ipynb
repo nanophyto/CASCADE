{
 "cells": [
  {
   "cell_type": "code",
   "execution_count": 1,
   "metadata": {},
   "outputs": [],
   "source": [
    "from math import log10, floor\n",
    "import numpy as np\n",
    "import pandas as pd\n",
    "import sys, glob, os"
   ]
  },
  {
   "cell_type": "code",
   "execution_count": 2,
   "metadata": {},
   "outputs": [],
   "source": [
    "sys.path.insert(0, '/home/phyto-2/CASCADE/cascade/')\n",
    "from pre import  pre_abundances\n",
    "from main import merge_abundances, pipeline\n",
    "from functions import abundance_refs_table, rename_synonyms"
   ]
  },
  {
   "cell_type": "code",
   "execution_count": 3,
   "metadata": {},
   "outputs": [
    {
     "name": "stderr",
     "output_type": "stream",
     "text": [
      "/home/phyto-2/CASCADE/cascade/main.py:896: PerformanceWarning: DataFrame is highly fragmented.  This is usually the result of calling `frame.insert` many times, which has poor performance.  Consider joining all columns at once using pd.concat(axis=1) instead. To get a de-fragmented frame, use `newframe = frame.copy()`\n",
      "  d.reset_index(drop=False, inplace=True)\n",
      "/home/phyto-2/CASCADE/cascade/main.py:926: FutureWarning: DataFrame.groupby with axis=1 is deprecated. Do `frame.T.groupby(...)` without axis instead.\n",
      "  .groupby(level=0, axis=1, dropna=False)).sum( min_count=1).reset_index()\n"
     ]
    },
    {
     "name": "stdout",
     "output_type": "stream",
     "text": [
      "['Haidar2001' 'Ziveri2014' 'Boeckel2008' 'Bonomo2014' 'Cortes2001'\n",
      " 'Daniels2016' 'Godrijan2018' 'Bonomo2017' 'Acri2019' 'Malinverno2015'\n",
      " 'Andruleit2013' 'Karatsolis2017' 'Bonomo2012' 'Sal2013' 'Kopczynska2007'\n",
      " 'fiala2013' 'Assmy2007' 'karentz2013' 'ramos2006' 'grados2007'\n",
      " 'marshall1968' 'Pagou2008' 'estrada1991' 'widdicombe2010' 'wassman2004'\n",
      " 'Baumann2008' 'Charalampopoulou2011' 'Andruleit2005' 'Guptha1995'\n",
      " 'Estrada1999' 'Silver2009' 'Gotsis-Skretas1999' 'Eynaud1999'\n",
      " 'Schiebel2004' 'Malinverno2003' 'Cros2013' 'DAmario2017' 'Dimiza2008'\n",
      " 'Charalampopoulou2016' 'Keuter2023' 'Dimiza2016' 'Cepek1996'\n",
      " 'Triantaphyllou2018' 'Cerino2017' 'Hagino2006' 'Kleijne1984' 'Bonomo2021'\n",
      " 'Giraudeau2016' 'Luan2016' 'Bonomo2018' 'Keuter2022' 'Baumann2000'\n",
      " 'Patil2017' 'Estradaxxxx' 'Kinkel2000' 'Smith2017' 'Andruleit2003'\n",
      " 'Dimiza2020' 'Okada1973' 'Saavedra-Pellitero2014' 'Valencia-Vila2016'\n",
      " 'Dimiza2015' 'Supraha2016' 'Oviedo2015' 'Guerreiro2013' 'Schiebel2011'\n",
      " 'Poulton2017' 'Estrada2016' 'Andruleit2007' 'Takahashi2000']\n",
      "groupby\n",
      "drop index\n",
      "all species are defined\n",
      "dropped columns that contained undefined\n"
     ]
    },
    {
     "name": "stderr",
     "output_type": "stream",
     "text": [
      "/home/phyto-2/CASCADE/cascade/main.py:967: FutureWarning: Downcasting object dtype arrays on .fillna, .ffill, .bfill is deprecated and will change in a future version. Call result.infer_objects(copy=False) instead. To opt-in to the future behavior, set `pd.set_option('future.no_silent_downcasting', True)`\n",
      "  counts =pd.DataFrame({'count': np.count_nonzero(d.fillna(0), axis=0), 'species': d.columns})\n"
     ]
    },
    {
     "name": "stdout",
     "output_type": "stream",
     "text": [
      "ungridded abundances exported to: /home/phyto-2/CASCADE/data/output/ungridded_observations.csv\n",
      "gridded abundances exported to: /home/phyto-2/CASCADE/data/output/gridded_observations.csv\n"
     ]
    }
   ],
   "source": [
    "'''\n",
    "Merging abundances:\n",
    "\n",
    "Note that this assumes you have already pre-processed you data such that the dimensions are:\n",
    "Latitude, Longitude, Month, Day, Year, Reference, and Method\n",
    "All species should furthermore be defined in: ../data/classification/synonyms.yml\n",
    "'''\n",
    "\n",
    "m = merge_abundances(import_path=\"/home/phyto-2/CASCADE/data/abundances\", \n",
    "                     export_path=\"/home/phyto-2/CASCADE/data/output/\",\n",
    "                     synonym_path='/home/phyto-2/CASCADE/data/classification/synonyms.yml')\n",
    "\n",
    "m.export_obs_counts()\n",
    "m.export_ungridded_abundances()\n",
    "m.export_gridded_abundances()"
   ]
  },
  {
   "cell_type": "code",
   "execution_count": 4,
   "metadata": {},
   "outputs": [
    {
     "name": "stdout",
     "output_type": "stream",
     "text": [
      "concatenated abundances: 11602\n",
      "concatenated observations: 41754\n",
      "gridded abundances: 6613\n",
      "gridded observations: 59684\n"
     ]
    }
   ],
   "source": [
    "m.print_stats()"
   ]
  },
  {
   "cell_type": "code",
   "execution_count": 9,
   "metadata": {},
   "outputs": [
    {
     "name": "stdout",
     "output_type": "stream",
     "text": [
      "exported yml to: /home/phyto-2/CASCADE/data//output/library.yml\n",
      "Syracosphaera lafourcadii HOL\n",
      "resampling size for spp: Syracosphaera lafourcadii HOL\n",
      "estimating cross study cv for spp\n",
      "estimating cross study cv for spp\n",
      "group sd unknown, using cross species sd instead (size)\n",
      "estimating pic for spp Syracosphaera lafourcadii HOL\n",
      "estimating pic based on GLM\n",
      "estimating poc for spp Syracosphaera lafourcadii HOL\n",
      "estimating poc based on GLM\n",
      "finished estimating species #132 out of 139 species\n",
      "Calicasphaera diconstricta\n",
      "resampling size for spp: Calicasphaera diconstricta\n",
      "estimating cross study cv for spp\n",
      "estimating cross study cv for spp\n"
     ]
    },
    {
     "name": "stderr",
     "output_type": "stream",
     "text": [
      "/home/phyto-2/miniconda3/envs/abil-env/lib/python3.12/site-packages/statsmodels/genmod/generalized_linear_model.py:308: DomainWarning: The Identity link function does not respect the domain of the Gamma family.\n",
      "  warnings.warn((f\"The {type(family.link).__name__} link function \"\n",
      "/home/phyto-2/miniconda3/envs/abil-env/lib/python3.12/site-packages/statsmodels/genmod/generalized_linear_model.py:308: DomainWarning: The Identity link function does not respect the domain of the Gamma family.\n",
      "  warnings.warn((f\"The {type(family.link).__name__} link function \"\n"
     ]
    },
    {
     "name": "stdout",
     "output_type": "stream",
     "text": [
      "group sd unknown, using cross species sd instead (size)\n",
      "estimating pic for spp Calicasphaera diconstricta\n",
      "estimating pic based on GLM\n",
      "estimating poc for spp Calicasphaera diconstricta\n",
      "estimating poc based on GLM\n",
      "finished estimating species #133 out of 139 species\n",
      "Turrilithus latericioides\n",
      "resampling size for spp: Turrilithus latericioides\n",
      "estimating cross study cv for spp\n",
      "estimating cross study cv for spp\n"
     ]
    },
    {
     "name": "stderr",
     "output_type": "stream",
     "text": [
      "/home/phyto-2/miniconda3/envs/abil-env/lib/python3.12/site-packages/statsmodels/genmod/generalized_linear_model.py:308: DomainWarning: The Identity link function does not respect the domain of the Gamma family.\n",
      "  warnings.warn((f\"The {type(family.link).__name__} link function \"\n",
      "/home/phyto-2/miniconda3/envs/abil-env/lib/python3.12/site-packages/statsmodels/genmod/generalized_linear_model.py:308: DomainWarning: The Identity link function does not respect the domain of the Gamma family.\n",
      "  warnings.warn((f\"The {type(family.link).__name__} link function \"\n"
     ]
    },
    {
     "name": "stdout",
     "output_type": "stream",
     "text": [
      "group sd unknown, using cross species sd instead (size)\n",
      "estimating pic for spp Turrilithus latericioides\n",
      "estimating pic based on GLM\n",
      "estimating poc for spp Turrilithus latericioides\n",
      "estimating poc based on GLM\n",
      "finished estimating species #134 out of 139 species\n",
      "Algirosphaera cucullata\n",
      "resampling size for spp: Algirosphaera cucullata\n",
      "estimating cross study cv for spp\n",
      "estimating cross study cv for spp\n"
     ]
    },
    {
     "name": "stderr",
     "output_type": "stream",
     "text": [
      "/home/phyto-2/miniconda3/envs/abil-env/lib/python3.12/site-packages/statsmodels/genmod/generalized_linear_model.py:308: DomainWarning: The Identity link function does not respect the domain of the Gamma family.\n",
      "  warnings.warn((f\"The {type(family.link).__name__} link function \"\n",
      "/home/phyto-2/miniconda3/envs/abil-env/lib/python3.12/site-packages/statsmodels/genmod/generalized_linear_model.py:308: DomainWarning: The Identity link function does not respect the domain of the Gamma family.\n",
      "  warnings.warn((f\"The {type(family.link).__name__} link function \"\n"
     ]
    },
    {
     "name": "stdout",
     "output_type": "stream",
     "text": [
      "group sd unknown, using cross species sd instead (size)\n",
      "estimating pic for spp Algirosphaera cucullata\n",
      "estimating pic based on GLM\n",
      "estimating poc for spp Algirosphaera cucullata\n",
      "estimating poc based on GLM\n",
      "finished estimating species #135 out of 139 species\n",
      "Sphaerocalyptra sp. 1\n",
      "resampling size for spp: Sphaerocalyptra sp. 1\n",
      "estimating cross study cv for spp\n",
      "estimating cross study cv for spp\n"
     ]
    },
    {
     "name": "stderr",
     "output_type": "stream",
     "text": [
      "/home/phyto-2/miniconda3/envs/abil-env/lib/python3.12/site-packages/statsmodels/genmod/generalized_linear_model.py:308: DomainWarning: The Identity link function does not respect the domain of the Gamma family.\n",
      "  warnings.warn((f\"The {type(family.link).__name__} link function \"\n",
      "/home/phyto-2/miniconda3/envs/abil-env/lib/python3.12/site-packages/statsmodels/genmod/generalized_linear_model.py:308: DomainWarning: The Identity link function does not respect the domain of the Gamma family.\n",
      "  warnings.warn((f\"The {type(family.link).__name__} link function \"\n"
     ]
    },
    {
     "name": "stdout",
     "output_type": "stream",
     "text": [
      "group sd unknown, using cross species sd instead (size)\n",
      "estimating pic for spp Sphaerocalyptra sp. 1\n",
      "estimating pic based on GLM\n",
      "estimating poc for spp Sphaerocalyptra sp. 1\n",
      "estimating poc based on GLM\n",
      "finished estimating species #136 out of 139 species\n",
      "Poritectolithus maximus\n",
      "resampling size for spp: Poritectolithus maximus\n",
      "estimating cross study cv for spp\n",
      "estimating cross study cv for spp\n"
     ]
    },
    {
     "name": "stderr",
     "output_type": "stream",
     "text": [
      "/home/phyto-2/miniconda3/envs/abil-env/lib/python3.12/site-packages/statsmodels/genmod/generalized_linear_model.py:308: DomainWarning: The Identity link function does not respect the domain of the Gamma family.\n",
      "  warnings.warn((f\"The {type(family.link).__name__} link function \"\n",
      "/home/phyto-2/miniconda3/envs/abil-env/lib/python3.12/site-packages/statsmodels/genmod/generalized_linear_model.py:308: DomainWarning: The Identity link function does not respect the domain of the Gamma family.\n",
      "  warnings.warn((f\"The {type(family.link).__name__} link function \"\n"
     ]
    },
    {
     "name": "stdout",
     "output_type": "stream",
     "text": [
      "group sd unknown, using cross species sd instead (size)\n",
      "estimating pic for spp Poritectolithus maximus\n",
      "estimating pic based on GLM\n",
      "estimating poc for spp Poritectolithus maximus\n",
      "estimating poc based on GLM\n",
      "finished estimating species #137 out of 139 species\n",
      "Holococcolithophora dentata\n",
      "resampling size for spp: Holococcolithophora dentata\n",
      "estimating cross study cv for spp\n",
      "estimating cross study cv for spp\n"
     ]
    },
    {
     "name": "stderr",
     "output_type": "stream",
     "text": [
      "/home/phyto-2/miniconda3/envs/abil-env/lib/python3.12/site-packages/statsmodels/genmod/generalized_linear_model.py:308: DomainWarning: The Identity link function does not respect the domain of the Gamma family.\n",
      "  warnings.warn((f\"The {type(family.link).__name__} link function \"\n",
      "/home/phyto-2/miniconda3/envs/abil-env/lib/python3.12/site-packages/statsmodels/genmod/generalized_linear_model.py:308: DomainWarning: The Identity link function does not respect the domain of the Gamma family.\n",
      "  warnings.warn((f\"The {type(family.link).__name__} link function \"\n"
     ]
    },
    {
     "name": "stdout",
     "output_type": "stream",
     "text": [
      "group sd unknown, using cross species sd instead (size)\n",
      "estimating pic for spp Holococcolithophora dentata\n",
      "estimating pic based on GLM\n",
      "estimating poc for spp Holococcolithophora dentata\n",
      "estimating poc based on GLM\n",
      "finished estimating species #138 out of 139 species\n",
      "Syracolithus sp. type A\n",
      "resampling size for spp: Syracolithus sp. type A\n",
      "estimating cross study cv for spp\n",
      "estimating cross study cv for spp\n"
     ]
    },
    {
     "name": "stderr",
     "output_type": "stream",
     "text": [
      "/home/phyto-2/miniconda3/envs/abil-env/lib/python3.12/site-packages/statsmodels/genmod/generalized_linear_model.py:308: DomainWarning: The Identity link function does not respect the domain of the Gamma family.\n",
      "  warnings.warn((f\"The {type(family.link).__name__} link function \"\n",
      "/home/phyto-2/miniconda3/envs/abil-env/lib/python3.12/site-packages/statsmodels/genmod/generalized_linear_model.py:308: DomainWarning: The Identity link function does not respect the domain of the Gamma family.\n",
      "  warnings.warn((f\"The {type(family.link).__name__} link function \"\n"
     ]
    },
    {
     "name": "stdout",
     "output_type": "stream",
     "text": [
      "group sd unknown, using cross species sd instead (size)\n",
      "estimating pic for spp Syracolithus sp. type A\n",
      "estimating pic based on GLM\n",
      "estimating poc for spp Syracolithus sp. type A\n",
      "estimating poc based on GLM\n",
      "finished estimating species #139 out of 139 species\n"
     ]
    },
    {
     "name": "stderr",
     "output_type": "stream",
     "text": [
      "/home/phyto-2/miniconda3/envs/abil-env/lib/python3.12/site-packages/statsmodels/genmod/generalized_linear_model.py:308: DomainWarning: The Identity link function does not respect the domain of the Gamma family.\n",
      "  warnings.warn((f\"The {type(family.link).__name__} link function \"\n",
      "/home/phyto-2/miniconda3/envs/abil-env/lib/python3.12/site-packages/statsmodels/genmod/generalized_linear_model.py:308: DomainWarning: The Identity link function does not respect the domain of the Gamma family.\n",
      "  warnings.warn((f\"The {type(family.link).__name__} link function \"\n"
     ]
    }
   ],
   "source": [
    "'''\n",
    "Merging size, POC and PIC estimates:\n",
    "\n",
    "'''\n",
    "m = pipeline(root= '/home/phyto-2/CASCADE/data/')\n",
    "m.export_all(\"/home/phyto-2/CASCADE/data/output/cellular_dataset.csv\",\n",
    "              loop_range = range(0, 139)\n",
    ")"
   ]
  }
 ],
 "metadata": {
  "kernelspec": {
   "display_name": "my-geopandas-env-2",
   "language": "python",
   "name": "python3"
  },
  "language_info": {
   "codemirror_mode": {
    "name": "ipython",
    "version": 3
   },
   "file_extension": ".py",
   "mimetype": "text/x-python",
   "name": "python",
   "nbconvert_exporter": "python",
   "pygments_lexer": "ipython3",
   "version": "3.11.4"
  }
 },
 "nbformat": 4,
 "nbformat_minor": 2
}
