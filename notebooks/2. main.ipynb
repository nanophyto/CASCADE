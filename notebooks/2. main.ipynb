{
 "cells": [
  {
   "cell_type": "code",
   "execution_count": 1,
   "metadata": {},
   "outputs": [],
   "source": [
    "from math import log10, floor\n",
    "import numpy as np\n",
    "import pandas as pd\n",
    "import sys, glob, os"
   ]
  },
  {
   "cell_type": "code",
   "execution_count": 2,
   "metadata": {},
   "outputs": [],
   "source": [
    "sys.path.insert(0, '/home/phyto/CASCADE/cascade/')\n",
    "from pre import  pre_abundances\n",
    "from main import merge_abundances, pipeline\n",
    "from functions import abundance_refs_table, rename_synonyms"
   ]
  },
  {
   "cell_type": "code",
   "execution_count": 3,
   "metadata": {},
   "outputs": [
    {
     "name": "stdout",
     "output_type": "stream",
     "text": [
      "all species are defined\n",
      "ungridded abundances exported to: /home/phyto/CASCADE/data/output/ungridded_observations.csv\n",
      "gridded abundances exported to: /home/phyto/CASCADE/data/output/gridded_observations.csv\n"
     ]
    }
   ],
   "source": [
    "'''\n",
    "Merging abundances:\n",
    "\n",
    "Note that this assumes you have already pre-processed you data such that the dimensions are:\n",
    "Latitude, Longitude, Month, Day, Year, Reference, and Method\n",
    "All species should furthermore be defined in: ../data/classification/synonyms.yml\n",
    "'''\n",
    "\n",
    "m = merge_abundances(import_path=\"/home/phyto/CASCADE/data/abundances\", \n",
    "                     export_path=\"/home/phyto/CASCADE/data/output/\")\n",
    "\n",
    "m.export_obs_counts()\n",
    "m.export_ungridded_abundances()\n",
    "m.export_gridded_abundances()"
   ]
  },
  {
   "cell_type": "code",
   "execution_count": 4,
   "metadata": {},
   "outputs": [
    {
     "name": "stdout",
     "output_type": "stream",
     "text": [
      "concatenated abundances: 4261\n",
      "concatenated observations: 30318\n",
      "gridded abundances: 3170\n",
      "gridded observations: 37505\n"
     ]
    }
   ],
   "source": [
    "m.print_stats()"
   ]
  },
  {
   "cell_type": "code",
   "execution_count": 22,
   "metadata": {},
   "outputs": [
    {
     "name": "stdout",
     "output_type": "stream",
     "text": [
      "exported yml to: /home/phyto/CASCADE/data//output/library.yml\n",
      "Helladosphaera pienaarii\n",
      "resampling size for spp: Helladosphaera pienaarii\n",
      "estimating cross study cv for spp\n",
      "estimating cross study cv for spp\n",
      "group sd unknown, using cross species sd instead (size)\n",
      "group sd unknown, using cross species sd instead (size)\n",
      "estimating pic for spp Helladosphaera pienaarii\n",
      "estimating pic based on GLM\n",
      "estimating poc for spp Helladosphaera pienaarii\n",
      "estimating poc based on GLM\n"
     ]
    },
    {
     "name": "stderr",
     "output_type": "stream",
     "text": [
      "/home/phyto/anaconda3/envs/my-geopandas-env-2/lib/python3.11/site-packages/statsmodels/genmod/generalized_linear_model.py:307: DomainWarning: The Identity link function does not respect the domain of the Gamma family.\n",
      "  warnings.warn((f\"The {type(family.link).__name__} link function \"\n",
      "/home/phyto/anaconda3/envs/my-geopandas-env-2/lib/python3.11/site-packages/statsmodels/genmod/generalized_linear_model.py:307: DomainWarning: The Identity link function does not respect the domain of the Gamma family.\n",
      "  warnings.warn((f\"The {type(family.link).__name__} link function \"\n"
     ]
    },
    {
     "name": "stdout",
     "output_type": "stream",
     "text": [
      "finished estimating species #127 out of 132 species\n",
      "Coccolithus pelagicus HOL\n",
      "resampling size for spp: Coccolithus pelagicus HOL\n",
      "estimating cross study cv for spp\n",
      "estimating cross study cv for spp\n",
      "group sd unknown, using cross species sd instead (size)\n",
      "estimating pic for spp Coccolithus pelagicus HOL\n",
      "estimating pic based on GLM\n"
     ]
    },
    {
     "name": "stderr",
     "output_type": "stream",
     "text": [
      "/home/phyto/anaconda3/envs/my-geopandas-env-2/lib/python3.11/site-packages/statsmodels/genmod/generalized_linear_model.py:307: DomainWarning: The Identity link function does not respect the domain of the Gamma family.\n",
      "  warnings.warn((f\"The {type(family.link).__name__} link function \"\n",
      "/home/phyto/anaconda3/envs/my-geopandas-env-2/lib/python3.11/site-packages/statsmodels/genmod/generalized_linear_model.py:307: DomainWarning: The Identity link function does not respect the domain of the Gamma family.\n",
      "  warnings.warn((f\"The {type(family.link).__name__} link function \"\n"
     ]
    },
    {
     "name": "stdout",
     "output_type": "stream",
     "text": [
      "estimating poc for spp Coccolithus pelagicus HOL\n",
      "estimating poc based on GLM\n",
      "finished estimating species #128 out of 132 species\n",
      "Turrilithus latericioides\n",
      "resampling size for spp: Turrilithus latericioides\n",
      "estimating cross study cv for spp\n",
      "estimating cross study cv for spp\n",
      "group sd unknown, using cross species sd instead (size)\n",
      "estimating pic for spp Turrilithus latericioides\n",
      "estimating pic based on GLM\n"
     ]
    },
    {
     "name": "stderr",
     "output_type": "stream",
     "text": [
      "/home/phyto/anaconda3/envs/my-geopandas-env-2/lib/python3.11/site-packages/statsmodels/genmod/generalized_linear_model.py:307: DomainWarning: The Identity link function does not respect the domain of the Gamma family.\n",
      "  warnings.warn((f\"The {type(family.link).__name__} link function \"\n",
      "/home/phyto/anaconda3/envs/my-geopandas-env-2/lib/python3.11/site-packages/statsmodels/genmod/generalized_linear_model.py:307: DomainWarning: The Identity link function does not respect the domain of the Gamma family.\n",
      "  warnings.warn((f\"The {type(family.link).__name__} link function \"\n"
     ]
    },
    {
     "name": "stdout",
     "output_type": "stream",
     "text": [
      "estimating poc for spp Turrilithus latericioides\n",
      "estimating poc based on GLM\n",
      "finished estimating species #129 out of 132 species\n",
      "Syracosphaera strigilis\n",
      "resampling size for spp: Syracosphaera strigilis\n",
      "estimating cross study cv for spp\n",
      "estimating cross study cv for spp\n",
      "group sd unknown, using cross species sd instead (size)\n",
      "estimating pic for spp Syracosphaera strigilis\n",
      "estimating pic based on GLM\n"
     ]
    },
    {
     "name": "stderr",
     "output_type": "stream",
     "text": [
      "/home/phyto/anaconda3/envs/my-geopandas-env-2/lib/python3.11/site-packages/statsmodels/genmod/generalized_linear_model.py:307: DomainWarning: The Identity link function does not respect the domain of the Gamma family.\n",
      "  warnings.warn((f\"The {type(family.link).__name__} link function \"\n",
      "/home/phyto/anaconda3/envs/my-geopandas-env-2/lib/python3.11/site-packages/statsmodels/genmod/generalized_linear_model.py:307: DomainWarning: The Identity link function does not respect the domain of the Gamma family.\n",
      "  warnings.warn((f\"The {type(family.link).__name__} link function \"\n"
     ]
    },
    {
     "name": "stdout",
     "output_type": "stream",
     "text": [
      "estimating poc for spp Syracosphaera strigilis\n",
      "estimating poc based on GLM\n",
      "finished estimating species #130 out of 132 species\n",
      "Syracosphaera exigua\n",
      "resampling size for spp: Syracosphaera exigua\n",
      "estimating cross study cv for spp\n",
      "estimating cross study cv for spp\n",
      "group sd unknown, using cross species sd instead (size)\n",
      "estimating pic for spp Syracosphaera exigua\n",
      "estimating pic based on GLM\n"
     ]
    },
    {
     "name": "stderr",
     "output_type": "stream",
     "text": [
      "/home/phyto/anaconda3/envs/my-geopandas-env-2/lib/python3.11/site-packages/statsmodels/genmod/generalized_linear_model.py:307: DomainWarning: The Identity link function does not respect the domain of the Gamma family.\n",
      "  warnings.warn((f\"The {type(family.link).__name__} link function \"\n",
      "/home/phyto/anaconda3/envs/my-geopandas-env-2/lib/python3.11/site-packages/statsmodels/genmod/generalized_linear_model.py:307: DomainWarning: The Identity link function does not respect the domain of the Gamma family.\n",
      "  warnings.warn((f\"The {type(family.link).__name__} link function \"\n"
     ]
    },
    {
     "name": "stdout",
     "output_type": "stream",
     "text": [
      "estimating poc for spp Syracosphaera exigua\n",
      "estimating poc based on GLM\n",
      "finished estimating species #131 out of 132 species\n",
      "Syracosphaera lafourcadii HOL\n",
      "resampling size for spp: Syracosphaera lafourcadii HOL\n",
      "estimating cross study cv for spp\n",
      "estimating cross study cv for spp\n",
      "group sd unknown, using cross species sd instead (size)\n",
      "estimating pic for spp Syracosphaera lafourcadii HOL\n",
      "estimating pic based on GLM\n"
     ]
    },
    {
     "name": "stderr",
     "output_type": "stream",
     "text": [
      "/home/phyto/anaconda3/envs/my-geopandas-env-2/lib/python3.11/site-packages/statsmodels/genmod/generalized_linear_model.py:307: DomainWarning: The Identity link function does not respect the domain of the Gamma family.\n",
      "  warnings.warn((f\"The {type(family.link).__name__} link function \"\n",
      "/home/phyto/anaconda3/envs/my-geopandas-env-2/lib/python3.11/site-packages/statsmodels/genmod/generalized_linear_model.py:307: DomainWarning: The Identity link function does not respect the domain of the Gamma family.\n",
      "  warnings.warn((f\"The {type(family.link).__name__} link function \"\n"
     ]
    },
    {
     "name": "stdout",
     "output_type": "stream",
     "text": [
      "estimating poc for spp Syracosphaera lafourcadii HOL\n",
      "estimating poc based on GLM\n",
      "finished estimating species #132 out of 132 species\n"
     ]
    }
   ],
   "source": [
    "'''\n",
    "Merging size, POC and PIC estimates:\n",
    "\n",
    "'''\n",
    "m = pipeline(root= '/home/phyto/CASCADE/data/')\n",
    "m.export_all(\"/home/phyto/CASCADE/data/output/cellular_dataset.csv\",\n",
    "              loop_range = range(126, 132)\n",
    ")\n"
   ]
  },
  {
   "cell_type": "markdown",
   "metadata": {},
   "source": []
  }
 ],
 "metadata": {
  "kernelspec": {
   "display_name": "my-geopandas-env-2",
   "language": "python",
   "name": "python3"
  },
  "language_info": {
   "codemirror_mode": {
    "name": "ipython",
    "version": 3
   },
   "file_extension": ".py",
   "mimetype": "text/x-python",
   "name": "python",
   "nbconvert_exporter": "python",
   "pygments_lexer": "ipython3",
   "version": "3.11.4"
  }
 },
 "nbformat": 4,
 "nbformat_minor": 2
}
