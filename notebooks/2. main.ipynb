{
 "cells": [
  {
   "cell_type": "code",
   "execution_count": 1,
   "metadata": {},
   "outputs": [],
   "source": [
    "from math import log10, floor\n",
    "import numpy as np\n",
    "import pandas as pd\n",
    "import sys, glob, os"
   ]
  },
  {
   "cell_type": "code",
   "execution_count": 2,
   "metadata": {},
   "outputs": [],
   "source": [
    "sys.path.insert(0, '/home/phyto-2/CASCADE/cascade/')\n",
    "from pre import  pre_abundances\n",
    "from main import merge_abundances, pipeline\n",
    "from functions import abundance_refs_table, rename_synonyms"
   ]
  },
  {
   "cell_type": "code",
   "execution_count": 3,
   "metadata": {},
   "outputs": [
    {
     "name": "stderr",
     "output_type": "stream",
     "text": [
      "/home/phyto-2/CASCADE/cascade/main.py:896: PerformanceWarning: DataFrame is highly fragmented.  This is usually the result of calling `frame.insert` many times, which has poor performance.  Consider joining all columns at once using pd.concat(axis=1) instead. To get a de-fragmented frame, use `newframe = frame.copy()`\n",
      "  d.reset_index(drop=False, inplace=True)\n",
      "/home/phyto-2/CASCADE/cascade/main.py:926: FutureWarning: DataFrame.groupby with axis=1 is deprecated. Do `frame.T.groupby(...)` without axis instead.\n",
      "  .groupby(level=0, axis=1, dropna=False)).sum( min_count=1).reset_index()\n"
     ]
    },
    {
     "name": "stdout",
     "output_type": "stream",
     "text": [
      "['Haidar2001' 'Ziveri2014' 'Boeckel2008' 'Bonomo2014' 'Cortes2001'\n",
      " 'Daniels2016' 'Godrijan2018' 'Bonomo2017' 'Acri2019' 'Malinverno2015'\n",
      " 'Andruleit2013' 'Karatsolis2017' 'Bonomo2012' 'Sal2013' 'Kopczynska2007'\n",
      " 'fiala2013' 'Assmy2007' 'karentz2013' 'ramos2006' 'grados2007'\n",
      " 'marshall1968' 'Pagou2008' 'estrada1991' 'widdicombe2010' 'wassman2004'\n",
      " 'Baumann2008' 'Charalampopoulou2011' 'Andruleit2005' 'Guptha1995'\n",
      " 'Estrada1999' 'Silver2009' 'Gotsis-Skretas1999' 'Eynaud1999'\n",
      " 'Schiebel2004' 'Malinverno2003' 'Cros2013' 'DAmario2017' 'Dimiza2008'\n",
      " 'Charalampopoulou2016' 'Keuter2023' 'Dimiza2016' 'Cepek1996'\n",
      " 'Triantaphyllou2018' 'Cerino2017' 'Hagino2006' 'Kleijne1984' 'Bonomo2021'\n",
      " 'Giraudeau2016' 'Luan2016' 'Bonomo2018' 'Keuter2022' 'Baumann2000'\n",
      " 'Patil2017' 'Estradaxxxx' 'Kinkel2000' 'Smith2017' 'Andruleit2003'\n",
      " 'Dimiza2020' 'Okada1973' 'Saavedra-Pellitero2014' 'Valencia-Vila2016'\n",
      " 'Dimiza2015' 'Supraha2016' 'Oviedo2015' 'Guerreiro2013' 'Schiebel2011'\n",
      " 'Poulton2017' 'Estrada2016' 'Andruleit2007' 'Takahashi2000']\n",
      "groupby\n",
      "drop index\n",
      "all species are defined\n",
      "dropped columns that contained undefined\n"
     ]
    },
    {
     "name": "stderr",
     "output_type": "stream",
     "text": [
      "/home/phyto-2/CASCADE/cascade/main.py:967: FutureWarning: Downcasting object dtype arrays on .fillna, .ffill, .bfill is deprecated and will change in a future version. Call result.infer_objects(copy=False) instead. To opt-in to the future behavior, set `pd.set_option('future.no_silent_downcasting', True)`\n",
      "  counts =pd.DataFrame({'count': np.count_nonzero(d.fillna(0), axis=0), 'species': d.columns})\n"
     ]
    },
    {
     "name": "stdout",
     "output_type": "stream",
     "text": [
      "ungridded abundances exported to: /home/phyto-2/CASCADE/data/output/ungridded_observations.csv\n",
      "gridded abundances exported to: /home/phyto-2/CASCADE/data/output/gridded_observations.csv\n"
     ]
    }
   ],
   "source": [
    "'''\n",
    "Merging abundances:\n",
    "\n",
    "Note that this assumes you have already pre-processed you data such that the dimensions are:\n",
    "Latitude, Longitude, Month, Day, Year, Reference, and Method\n",
    "All species should furthermore be defined in: ../data/classification/synonyms.yml\n",
    "'''\n",
    "\n",
    "m = merge_abundances(import_path=\"/home/phyto-2/CASCADE/data/abundances\", \n",
    "                     export_path=\"/home/phyto-2/CASCADE/data/output/\",\n",
    "                     synonym_path='/home/phyto-2/CASCADE/data/classification/synonyms.yml')\n",
    "\n",
    "m.export_obs_counts()\n",
    "m.export_ungridded_abundances()\n",
    "m.export_gridded_abundances()"
   ]
  },
  {
   "cell_type": "code",
   "execution_count": 4,
   "metadata": {},
   "outputs": [
    {
     "name": "stdout",
     "output_type": "stream",
     "text": [
      "concatenated abundances: 11602\n",
      "concatenated observations: 41754\n",
      "gridded abundances: 6613\n",
      "gridded observations: 59684\n"
     ]
    }
   ],
   "source": [
    "m.print_stats()"
   ]
  },
  {
   "cell_type": "code",
   "execution_count": 6,
   "metadata": {},
   "outputs": [
    {
     "name": "stdout",
     "output_type": "stream",
     "text": [
      "exported yml to: /home/phyto-2/CASCADE/data//output/library.yml\n",
      "Emiliania huxleyi\n",
      "resampling size for spp: Emiliania huxleyi\n",
      "estimating cross study cv for spp\n",
      "estimating cross study cv for spp\n",
      "estimating pic for spp Emiliania huxleyi\n",
      "estimating cross study cv for spp\n",
      "estimating cross study cv for spp\n",
      "estimating pic based on resampling\n",
      "estimating poc for spp Emiliania huxleyi\n",
      "estimating cross study cv for spp\n",
      "estimating cross study cv for spp\n",
      "estimating poc based on resampling\n",
      "mean known for:Emiliania huxleyi\n",
      "finished estimating species #1 out of 139 species\n",
      "Syracosphaera pulchra\n",
      "resampling size for spp: Syracosphaera pulchra\n",
      "estimating cross study cv for spp\n",
      "estimating cross study cv for spp\n",
      "estimating pic for spp Syracosphaera pulchra\n",
      "estimating cross study cv for spp\n",
      "estimating cross study cv for spp\n",
      "estimating pic based on resampling\n",
      "estimating poc for spp Syracosphaera pulchra\n",
      "estimating cross study cv for spp\n",
      "estimating cross study cv for spp\n",
      "estimating poc based on resampling\n",
      "finished estimating species #2 out of 139 species\n",
      "Rhabdosphaera clavigera\n",
      "resampling size for spp: Rhabdosphaera clavigera\n",
      "estimating cross study cv for spp\n",
      "estimating cross study cv for spp\n",
      "estimating pic for spp Rhabdosphaera clavigera\n",
      "estimating cross study cv for spp\n",
      "estimating cross study cv for spp\n",
      "estimating pic based on resampling\n",
      "estimating poc for spp Rhabdosphaera clavigera\n",
      "estimating poc based on GLM\n",
      "finished estimating species #3 out of 139 species\n",
      "Umbellosphaera tenuis\n",
      "resampling size for spp: Umbellosphaera tenuis\n",
      "estimating cross study cv for spp\n",
      "estimating cross study cv for spp\n",
      "estimating pic for spp Umbellosphaera tenuis\n",
      "estimating cross study cv for spp\n",
      "estimating cross study cv for spp\n",
      "estimating pic based on resampling\n",
      "estimating poc for spp Umbellosphaera tenuis\n",
      "estimating poc based on GLM\n",
      "finished estimating species #4 out of 139 species\n",
      "Umbellosphaera irregularis\n",
      "resampling size for spp: Umbellosphaera irregularis\n",
      "estimating cross study cv for spp\n",
      "estimating cross study cv for spp\n",
      "estimating pic for spp Umbellosphaera irregularis\n",
      "estimating cross study cv for spp\n",
      "estimating cross study cv for spp\n",
      "estimating pic based on resampling\n",
      "estimating poc for spp Umbellosphaera irregularis\n",
      "estimating poc based on GLM\n",
      "finished estimating species #5 out of 139 species\n",
      "Discosphaera tubifera\n",
      "resampling size for spp: Discosphaera tubifera\n",
      "estimating cross study cv for spp\n",
      "estimating cross study cv for spp\n",
      "estimating pic for spp Discosphaera tubifera\n",
      "estimating cross study cv for spp\n",
      "estimating cross study cv for spp\n",
      "estimating pic based on resampling\n",
      "estimating poc for spp Discosphaera tubifera\n",
      "estimating poc based on GLM\n",
      "finished estimating species #6 out of 139 species\n",
      "Algirosphaera robusta\n",
      "resampling size for spp: Algirosphaera robusta\n",
      "estimating cross study cv for spp\n",
      "estimating cross study cv for spp\n",
      "estimating pic for spp Algirosphaera robusta\n",
      "estimating cross study cv for spp\n",
      "estimating cross study cv for spp\n",
      "estimating pic based on resampling\n",
      "estimating poc for spp Algirosphaera robusta\n",
      "estimating poc based on GLM\n",
      "finished estimating species #7 out of 139 species\n",
      "Gephyrocapsa oceanica\n",
      "resampling size for spp: Gephyrocapsa oceanica\n",
      "estimating cross study cv for spp\n",
      "estimating cross study cv for spp\n",
      "estimating pic for spp Gephyrocapsa oceanica\n",
      "estimating pic based on GLM\n",
      "estimating poc for spp Gephyrocapsa oceanica\n",
      "estimating cross study cv for spp\n"
     ]
    },
    {
     "name": "stderr",
     "output_type": "stream",
     "text": [
      "/home/phyto-2/miniconda3/envs/abil-env/lib/python3.12/site-packages/statsmodels/genmod/generalized_linear_model.py:308: DomainWarning: The Identity link function does not respect the domain of the Gamma family.\n",
      "  warnings.warn((f\"The {type(family.link).__name__} link function \"\n",
      "/home/phyto-2/miniconda3/envs/abil-env/lib/python3.12/site-packages/statsmodels/genmod/generalized_linear_model.py:308: DomainWarning: The Identity link function does not respect the domain of the Gamma family.\n",
      "  warnings.warn((f\"The {type(family.link).__name__} link function \"\n"
     ]
    },
    {
     "name": "stdout",
     "output_type": "stream",
     "text": [
      "estimating cross study cv for spp\n",
      "estimating poc based on resampling\n",
      "finished estimating species #8 out of 139 species\n",
      "Gephyrocapsa ericsonii\n",
      "resampling size for spp: Gephyrocapsa ericsonii\n",
      "estimating cross study cv for spp\n",
      "estimating cross study cv for spp\n",
      "estimating pic for spp Gephyrocapsa ericsonii\n",
      "estimating cross study cv for spp\n",
      "estimating cross study cv for spp\n",
      "estimating pic based on resampling\n",
      "estimating poc for spp Gephyrocapsa ericsonii\n",
      "estimating poc based on GLM\n",
      "finished estimating species #9 out of 139 species\n",
      "Helicosphaera carteri\n",
      "resampling size for spp: Helicosphaera carteri\n",
      "estimating cross study cv for spp\n",
      "estimating cross study cv for spp\n",
      "estimating pic for spp Helicosphaera carteri\n",
      "estimating cross study cv for spp\n",
      "estimating cross study cv for spp\n",
      "estimating pic based on resampling\n",
      "mean known for:Helicosphaera carteri\n",
      "estimating poc for spp Helicosphaera carteri\n",
      "estimating poc based on GLM\n",
      "finished estimating species #10 out of 139 species\n",
      "Syracosphaera molischii\n",
      "resampling size for spp: Syracosphaera molischii\n",
      "estimating cross study cv for spp\n",
      "estimating cross study cv for spp\n",
      "estimating pic for spp Syracosphaera molischii\n",
      "estimating cross study cv for spp\n",
      "estimating cross study cv for spp\n",
      "estimating pic based on resampling\n",
      "estimating poc for spp Syracosphaera molischii\n",
      "estimating poc based on GLM\n",
      "finished estimating species #11 out of 139 species\n",
      "Acanthoica quattrospina\n",
      "resampling size for spp: Acanthoica quattrospina\n",
      "estimating cross study cv for spp\n",
      "estimating cross study cv for spp\n",
      "estimating pic for spp Acanthoica quattrospina\n",
      "estimating cross study cv for spp\n",
      "estimating cross study cv for spp\n",
      "estimating pic based on resampling\n",
      "estimating poc for spp Acanthoica quattrospina\n",
      "estimating poc based on GLM\n",
      "finished estimating species #12 out of 139 species\n",
      "Calcidiscus leptoporus\n",
      "resampling size for spp: Calcidiscus leptoporus\n",
      "estimating cross study cv for spp\n",
      "estimating cross study cv for spp\n",
      "estimating pic for spp Calcidiscus leptoporus\n",
      "estimating cross study cv for spp\n",
      "estimating cross study cv for spp\n",
      "estimating pic based on resampling\n",
      "estimating poc for spp Calcidiscus leptoporus\n",
      "estimating poc based on GLM\n",
      "finished estimating species #13 out of 139 species\n",
      "Florisphaera profunda\n",
      "resampling size for spp: Florisphaera profunda\n",
      "estimating cross study cv for spp\n",
      "estimating cross study cv for spp\n",
      "estimating pic for spp Florisphaera profunda\n",
      "estimating cross study cv for spp\n",
      "estimating cross study cv for spp\n",
      "estimating pic based on resampling\n",
      "estimating poc for spp Florisphaera profunda\n",
      "estimating poc based on GLM\n",
      "finished estimating species #14 out of 139 species\n",
      "Umbilicosphaera sibogae\n",
      "resampling size for spp: Umbilicosphaera sibogae\n",
      "estimating cross study cv for spp\n",
      "estimating cross study cv for spp\n",
      "estimating pic for spp Umbilicosphaera sibogae\n",
      "estimating cross study cv for spp\n",
      "estimating cross study cv for spp\n",
      "estimating pic based on resampling\n",
      "estimating poc for spp Umbilicosphaera sibogae\n",
      "estimating poc based on GLM\n",
      "finished estimating species #15 out of 139 species\n",
      "Calciosolenia brasiliensis\n",
      "resampling size for spp: Calciosolenia brasiliensis\n",
      "estimating cross study cv for spp\n",
      "estimating cross study cv for spp\n",
      "group sd unknown, using cross species sd instead (size)\n",
      "estimating pic for spp Calciosolenia brasiliensis\n",
      "estimating pic based on GLM\n",
      "estimating poc for spp Calciosolenia brasiliensis\n",
      "estimating poc based on GLM\n",
      "finished estimating species #16 out of 139 species\n",
      "Syracosphaera mediterranea\n",
      "resampling size for spp: Syracosphaera mediterranea\n",
      "estimating cross study cv for spp\n"
     ]
    },
    {
     "name": "stderr",
     "output_type": "stream",
     "text": [
      "/home/phyto-2/miniconda3/envs/abil-env/lib/python3.12/site-packages/statsmodels/genmod/generalized_linear_model.py:308: DomainWarning: The Identity link function does not respect the domain of the Gamma family.\n",
      "  warnings.warn((f\"The {type(family.link).__name__} link function \"\n",
      "/home/phyto-2/miniconda3/envs/abil-env/lib/python3.12/site-packages/statsmodels/genmod/generalized_linear_model.py:308: DomainWarning: The Identity link function does not respect the domain of the Gamma family.\n",
      "  warnings.warn((f\"The {type(family.link).__name__} link function \"\n"
     ]
    },
    {
     "name": "stdout",
     "output_type": "stream",
     "text": [
      "estimating cross study cv for spp\n",
      "estimating pic for spp Syracosphaera mediterranea\n",
      "estimating cross study cv for spp\n",
      "estimating cross study cv for spp\n",
      "estimating pic based on resampling\n",
      "mean known for:Syracosphaera mediterranea\n",
      "group sd unknown, using cross species sd instead\n",
      "estimating poc for spp Syracosphaera mediterranea\n",
      "estimating poc based on GLM\n",
      "finished estimating species #17 out of 139 species\n",
      "Syracosphaera histrica\n",
      "resampling size for spp: Syracosphaera histrica\n",
      "estimating cross study cv for spp\n",
      "estimating cross study cv for spp\n",
      "group sd unknown, using cross species sd instead (size)\n",
      "group sd unknown, using cross species sd instead (size)\n",
      "estimating pic for spp Syracosphaera histrica\n",
      "estimating cross study cv for spp\n",
      "estimating cross study cv for spp\n",
      "estimating pic based on resampling\n",
      "mean known for:Syracosphaera histrica\n",
      "group sd unknown, using cross species sd instead\n",
      "estimating poc for spp Syracosphaera histrica\n",
      "estimating poc based on GLM\n",
      "finished estimating species #18 out of 139 species\n",
      "Rhabdosphaera xiphos\n",
      "resampling size for spp: Rhabdosphaera xiphos\n",
      "estimating cross study cv for spp\n",
      "estimating cross study cv for spp\n",
      "estimating pic for spp Rhabdosphaera xiphos\n",
      "estimating pic based on GLM\n",
      "estimating poc for spp Rhabdosphaera xiphos\n",
      "estimating poc based on GLM\n",
      "finished estimating species #19 out of 139 species\n",
      "Syracosphaera ossa\n",
      "resampling size for spp: Syracosphaera ossa\n",
      "estimating cross study cv for spp\n"
     ]
    },
    {
     "name": "stderr",
     "output_type": "stream",
     "text": [
      "/home/phyto-2/miniconda3/envs/abil-env/lib/python3.12/site-packages/statsmodels/genmod/generalized_linear_model.py:308: DomainWarning: The Identity link function does not respect the domain of the Gamma family.\n",
      "  warnings.warn((f\"The {type(family.link).__name__} link function \"\n",
      "/home/phyto-2/miniconda3/envs/abil-env/lib/python3.12/site-packages/statsmodels/genmod/generalized_linear_model.py:308: DomainWarning: The Identity link function does not respect the domain of the Gamma family.\n",
      "  warnings.warn((f\"The {type(family.link).__name__} link function \"\n"
     ]
    },
    {
     "name": "stdout",
     "output_type": "stream",
     "text": [
      "estimating cross study cv for spp\n",
      "estimating pic for spp Syracosphaera ossa\n",
      "estimating cross study cv for spp\n",
      "estimating cross study cv for spp\n",
      "estimating pic based on resampling\n",
      "estimating poc for spp Syracosphaera ossa\n",
      "estimating poc based on GLM\n",
      "finished estimating species #20 out of 139 species\n",
      "Calciosolenia murrayi\n",
      "resampling size for spp: Calciosolenia murrayi\n",
      "estimating cross study cv for spp\n",
      "estimating cross study cv for spp\n",
      "estimating pic for spp Calciosolenia murrayi\n",
      "estimating cross study cv for spp\n",
      "estimating cross study cv for spp\n",
      "estimating pic based on resampling\n",
      "estimating poc for spp Calciosolenia murrayi\n",
      "estimating poc based on GLM\n",
      "finished estimating species #21 out of 139 species\n",
      "Ophiaster hydroideus\n",
      "resampling size for spp: Ophiaster hydroideus\n",
      "estimating cross study cv for spp\n",
      "estimating cross study cv for spp\n",
      "group sd unknown, using cross species sd instead (size)\n",
      "estimating pic for spp Ophiaster hydroideus\n",
      "estimating pic based on GLM\n",
      "estimating poc for spp Ophiaster hydroideus\n",
      "estimating poc based on GLM\n",
      "finished estimating species #22 out of 139 species\n",
      "Palusphaera vandelii\n",
      "resampling size for spp: Palusphaera vandelii\n",
      "estimating cross study cv for spp\n",
      "estimating cross study cv for spp\n"
     ]
    },
    {
     "name": "stderr",
     "output_type": "stream",
     "text": [
      "/home/phyto-2/miniconda3/envs/abil-env/lib/python3.12/site-packages/statsmodels/genmod/generalized_linear_model.py:308: DomainWarning: The Identity link function does not respect the domain of the Gamma family.\n",
      "  warnings.warn((f\"The {type(family.link).__name__} link function \"\n",
      "/home/phyto-2/miniconda3/envs/abil-env/lib/python3.12/site-packages/statsmodels/genmod/generalized_linear_model.py:308: DomainWarning: The Identity link function does not respect the domain of the Gamma family.\n",
      "  warnings.warn((f\"The {type(family.link).__name__} link function \"\n"
     ]
    },
    {
     "name": "stdout",
     "output_type": "stream",
     "text": [
      "group sd unknown, using cross species sd instead (size)\n",
      "estimating pic for spp Palusphaera vandelii\n",
      "estimating pic based on GLM\n",
      "estimating poc for spp Palusphaera vandelii\n",
      "estimating poc based on GLM\n",
      "finished estimating species #23 out of 139 species\n",
      "Syracosphaera anthos\n",
      "resampling size for spp: Syracosphaera anthos\n",
      "estimating cross study cv for spp\n"
     ]
    },
    {
     "name": "stderr",
     "output_type": "stream",
     "text": [
      "/home/phyto-2/miniconda3/envs/abil-env/lib/python3.12/site-packages/statsmodels/genmod/generalized_linear_model.py:308: DomainWarning: The Identity link function does not respect the domain of the Gamma family.\n",
      "  warnings.warn((f\"The {type(family.link).__name__} link function \"\n",
      "/home/phyto-2/miniconda3/envs/abil-env/lib/python3.12/site-packages/statsmodels/genmod/generalized_linear_model.py:308: DomainWarning: The Identity link function does not respect the domain of the Gamma family.\n",
      "  warnings.warn((f\"The {type(family.link).__name__} link function \"\n"
     ]
    },
    {
     "name": "stdout",
     "output_type": "stream",
     "text": [
      "estimating cross study cv for spp\n",
      "estimating pic for spp Syracosphaera anthos\n",
      "estimating cross study cv for spp\n",
      "estimating cross study cv for spp\n",
      "estimating pic based on resampling\n",
      "estimating poc for spp Syracosphaera anthos\n",
      "estimating poc based on GLM\n",
      "finished estimating species #24 out of 139 species\n",
      "Gephyrocapsa muellerae\n",
      "resampling size for spp: Gephyrocapsa muellerae\n",
      "estimating cross study cv for spp\n",
      "estimating cross study cv for spp\n",
      "estimating pic for spp Gephyrocapsa muellerae\n",
      "estimating cross study cv for spp\n",
      "estimating cross study cv for spp\n",
      "estimating pic based on resampling\n",
      "estimating poc for spp Gephyrocapsa muellerae\n",
      "estimating cross study cv for spp\n",
      "estimating cross study cv for spp\n",
      "estimating poc based on resampling\n",
      "finished estimating species #25 out of 139 species\n",
      "Umbilicosphaera hulburtiana\n",
      "resampling size for spp: Umbilicosphaera hulburtiana\n",
      "estimating cross study cv for spp\n",
      "estimating cross study cv for spp\n",
      "estimating pic for spp Umbilicosphaera hulburtiana\n",
      "estimating cross study cv for spp\n",
      "estimating cross study cv for spp\n",
      "estimating pic based on resampling\n",
      "estimating poc for spp Umbilicosphaera hulburtiana\n",
      "estimating poc based on GLM\n",
      "finished estimating species #26 out of 139 species\n",
      "Helladosphaera cornifera\n",
      "resampling size for spp: Helladosphaera cornifera\n",
      "estimating cross study cv for spp\n",
      "estimating cross study cv for spp\n",
      "estimating pic for spp Helladosphaera cornifera\n",
      "estimating cross study cv for spp\n",
      "estimating cross study cv for spp\n",
      "estimating pic based on resampling\n",
      "estimating poc for spp Helladosphaera cornifera\n",
      "estimating poc based on GLM\n",
      "finished estimating species #27 out of 139 species\n",
      "Syracosphaera nodosa\n",
      "resampling size for spp: Syracosphaera nodosa\n",
      "estimating cross study cv for spp\n",
      "estimating cross study cv for spp\n",
      "estimating pic for spp Syracosphaera nodosa\n",
      "estimating cross study cv for spp\n",
      "estimating cross study cv for spp\n",
      "estimating pic based on resampling\n",
      "estimating poc for spp Syracosphaera nodosa\n",
      "estimating poc based on GLM\n",
      "finished estimating species #28 out of 139 species\n",
      "Syracosphaera prolongata\n",
      "resampling size for spp: Syracosphaera prolongata\n",
      "estimating cross study cv for spp\n",
      "estimating cross study cv for spp\n",
      "estimating pic for spp Syracosphaera prolongata\n",
      "estimating cross study cv for spp\n",
      "estimating cross study cv for spp\n",
      "estimating pic based on resampling\n",
      "estimating poc for spp Syracosphaera prolongata\n",
      "estimating poc based on GLM\n",
      "finished estimating species #29 out of 139 species\n",
      "Michaelsarsia elegans\n",
      "resampling size for spp: Michaelsarsia elegans\n",
      "estimating cross study cv for spp\n",
      "estimating cross study cv for spp\n",
      "estimating pic for spp Michaelsarsia elegans\n",
      "estimating cross study cv for spp\n",
      "estimating cross study cv for spp\n",
      "estimating pic based on resampling\n",
      "estimating poc for spp Michaelsarsia elegans\n",
      "estimating poc based on GLM\n",
      "finished estimating species #30 out of 139 species\n",
      "Oolithotus antillarum\n",
      "resampling size for spp: Oolithotus antillarum\n",
      "estimating cross study cv for spp\n",
      "estimating cross study cv for spp\n",
      "estimating pic for spp Oolithotus antillarum\n",
      "estimating cross study cv for spp\n",
      "estimating cross study cv for spp\n",
      "estimating pic based on resampling\n",
      "estimating poc for spp Oolithotus antillarum\n",
      "estimating poc based on GLM\n",
      "finished estimating species #31 out of 139 species\n",
      "Gladiolithus flabellatus\n",
      "resampling size for spp: Gladiolithus flabellatus\n",
      "estimating cross study cv for spp\n",
      "estimating cross study cv for spp\n",
      "estimating pic for spp Gladiolithus flabellatus\n",
      "estimating cross study cv for spp\n",
      "estimating cross study cv for spp\n",
      "estimating pic based on resampling\n",
      "estimating poc for spp Gladiolithus flabellatus\n",
      "estimating poc based on GLM\n",
      "finished estimating species #32 out of 139 species\n",
      "Michaelsarsia adriaticus\n",
      "resampling size for spp: Michaelsarsia adriaticus\n",
      "estimating cross study cv for spp\n",
      "estimating cross study cv for spp\n",
      "group sd unknown, using cross species sd instead (size)\n",
      "group sd unknown, using cross species sd instead (size)\n",
      "estimating pic for spp Michaelsarsia adriaticus\n",
      "estimating pic based on GLM\n",
      "estimating poc for spp Michaelsarsia adriaticus\n",
      "estimating poc based on GLM\n",
      "finished estimating species #33 out of 139 species\n",
      "Syracosphaera arethusae HOL\n",
      "resampling size for spp: Syracosphaera arethusae HOL\n",
      "estimating cross study cv for spp\n",
      "estimating cross study cv for spp\n"
     ]
    },
    {
     "name": "stderr",
     "output_type": "stream",
     "text": [
      "/home/phyto-2/miniconda3/envs/abil-env/lib/python3.12/site-packages/statsmodels/genmod/generalized_linear_model.py:308: DomainWarning: The Identity link function does not respect the domain of the Gamma family.\n",
      "  warnings.warn((f\"The {type(family.link).__name__} link function \"\n",
      "/home/phyto-2/miniconda3/envs/abil-env/lib/python3.12/site-packages/statsmodels/genmod/generalized_linear_model.py:308: DomainWarning: The Identity link function does not respect the domain of the Gamma family.\n",
      "  warnings.warn((f\"The {type(family.link).__name__} link function \"\n"
     ]
    },
    {
     "name": "stdout",
     "output_type": "stream",
     "text": [
      "group sd unknown, using cross species sd instead (size)\n",
      "group sd unknown, using cross species sd instead (size)\n",
      "estimating pic for spp Syracosphaera arethusae HOL\n",
      "estimating pic based on GLM\n",
      "estimating poc for spp Syracosphaera arethusae HOL\n",
      "estimating poc based on GLM\n",
      "finished estimating species #34 out of 139 species\n",
      "Syracosphaera corolla\n",
      "resampling size for spp: Syracosphaera corolla\n",
      "estimating cross study cv for spp\n",
      "estimating cross study cv for spp\n",
      "group sd unknown, using cross species sd instead (size)\n"
     ]
    },
    {
     "name": "stderr",
     "output_type": "stream",
     "text": [
      "/home/phyto-2/miniconda3/envs/abil-env/lib/python3.12/site-packages/statsmodels/genmod/generalized_linear_model.py:308: DomainWarning: The Identity link function does not respect the domain of the Gamma family.\n",
      "  warnings.warn((f\"The {type(family.link).__name__} link function \"\n",
      "/home/phyto-2/miniconda3/envs/abil-env/lib/python3.12/site-packages/statsmodels/genmod/generalized_linear_model.py:308: DomainWarning: The Identity link function does not respect the domain of the Gamma family.\n",
      "  warnings.warn((f\"The {type(family.link).__name__} link function \"\n"
     ]
    },
    {
     "name": "stdout",
     "output_type": "stream",
     "text": [
      "estimating pic for spp Syracosphaera corolla\n",
      "estimating pic based on GLM\n",
      "estimating poc for spp Syracosphaera corolla\n",
      "estimating poc based on GLM\n",
      "finished estimating species #35 out of 139 species\n",
      "Syracosphaera histrica HOL\n",
      "resampling size for spp: Syracosphaera histrica HOL\n",
      "estimating cross study cv for spp\n",
      "estimating cross study cv for spp\n"
     ]
    },
    {
     "name": "stderr",
     "output_type": "stream",
     "text": [
      "/home/phyto-2/miniconda3/envs/abil-env/lib/python3.12/site-packages/statsmodels/genmod/generalized_linear_model.py:308: DomainWarning: The Identity link function does not respect the domain of the Gamma family.\n",
      "  warnings.warn((f\"The {type(family.link).__name__} link function \"\n",
      "/home/phyto-2/miniconda3/envs/abil-env/lib/python3.12/site-packages/statsmodels/genmod/generalized_linear_model.py:308: DomainWarning: The Identity link function does not respect the domain of the Gamma family.\n",
      "  warnings.warn((f\"The {type(family.link).__name__} link function \"\n"
     ]
    },
    {
     "name": "stdout",
     "output_type": "stream",
     "text": [
      "group sd unknown, using cross species sd instead (size)\n",
      "group sd unknown, using cross species sd instead (size)\n",
      "estimating pic for spp Syracosphaera histrica HOL\n",
      "estimating cross study cv for spp\n",
      "estimating cross study cv for spp\n",
      "estimating pic based on resampling\n",
      "mean known for:Syracosphaera histrica HOL\n",
      "group sd unknown, using cross species sd instead\n",
      "estimating poc for spp Syracosphaera histrica HOL\n",
      "estimating poc based on GLM\n",
      "finished estimating species #36 out of 139 species\n",
      "Corisphaera gracilis\n",
      "resampling size for spp: Corisphaera gracilis\n",
      "estimating cross study cv for spp\n",
      "estimating cross study cv for spp\n",
      "estimating pic for spp Corisphaera gracilis\n",
      "estimating cross study cv for spp\n",
      "estimating cross study cv for spp\n",
      "estimating pic based on resampling\n",
      "estimating poc for spp Corisphaera gracilis\n",
      "estimating poc based on GLM\n",
      "finished estimating species #37 out of 139 species\n",
      "Ceratolithus cristatus HET\n",
      "resampling size for spp: Ceratolithus cristatus HET\n",
      "estimating cross study cv for spp\n",
      "estimating cross study cv for spp\n",
      "group sd unknown, using cross species sd instead (size)\n",
      "group sd unknown, using cross species sd instead (size)\n",
      "estimating pic for spp Ceratolithus cristatus HET\n",
      "estimating pic based on GLM\n",
      "estimating poc for spp Ceratolithus cristatus HET\n",
      "estimating poc based on GLM\n",
      "finished estimating species #38 out of 139 species\n",
      "Syracosphaera halldalii\n",
      "resampling size for spp: Syracosphaera halldalii\n",
      "estimating cross study cv for spp\n"
     ]
    },
    {
     "name": "stderr",
     "output_type": "stream",
     "text": [
      "/home/phyto-2/miniconda3/envs/abil-env/lib/python3.12/site-packages/statsmodels/genmod/generalized_linear_model.py:308: DomainWarning: The Identity link function does not respect the domain of the Gamma family.\n",
      "  warnings.warn((f\"The {type(family.link).__name__} link function \"\n",
      "/home/phyto-2/miniconda3/envs/abil-env/lib/python3.12/site-packages/statsmodels/genmod/generalized_linear_model.py:308: DomainWarning: The Identity link function does not respect the domain of the Gamma family.\n",
      "  warnings.warn((f\"The {type(family.link).__name__} link function \"\n"
     ]
    },
    {
     "name": "stdout",
     "output_type": "stream",
     "text": [
      "estimating cross study cv for spp\n",
      "estimating pic for spp Syracosphaera halldalii\n",
      "estimating cross study cv for spp\n",
      "estimating cross study cv for spp\n",
      "estimating pic based on resampling\n",
      "estimating poc for spp Syracosphaera halldalii\n",
      "estimating poc based on GLM\n",
      "finished estimating species #39 out of 139 species\n",
      "Coccolithus pelagicus\n",
      "resampling size for spp: Coccolithus pelagicus\n",
      "estimating cross study cv for spp\n",
      "estimating cross study cv for spp\n",
      "estimating pic for spp Coccolithus pelagicus\n",
      "estimating cross study cv for spp\n",
      "estimating cross study cv for spp\n",
      "estimating pic based on resampling\n",
      "estimating poc for spp Coccolithus pelagicus\n",
      "estimating cross study cv for spp\n",
      "estimating cross study cv for spp\n",
      "estimating poc based on resampling\n",
      "mean known for:Coccolithus pelagicus\n",
      "finished estimating species #40 out of 139 species\n",
      "Calcidiscus leptoporus HOL\n",
      "resampling size for spp: Calcidiscus leptoporus HOL\n",
      "estimating cross study cv for spp\n",
      "estimating cross study cv for spp\n",
      "group sd unknown, using cross species sd instead (size)\n",
      "estimating pic for spp Calcidiscus leptoporus HOL\n",
      "estimating pic based on GLM\n",
      "estimating poc for spp Calcidiscus leptoporus HOL\n",
      "estimating poc based on GLM\n",
      "finished estimating species #41 out of 139 species\n",
      "Syracosphaera mediterranea HOL wettsteinii type\n",
      "resampling size for spp: Syracosphaera mediterranea HOL wettsteinii type\n",
      "estimating cross study cv for spp\n"
     ]
    },
    {
     "name": "stderr",
     "output_type": "stream",
     "text": [
      "/home/phyto-2/miniconda3/envs/abil-env/lib/python3.12/site-packages/statsmodels/genmod/generalized_linear_model.py:308: DomainWarning: The Identity link function does not respect the domain of the Gamma family.\n",
      "  warnings.warn((f\"The {type(family.link).__name__} link function \"\n",
      "/home/phyto-2/miniconda3/envs/abil-env/lib/python3.12/site-packages/statsmodels/genmod/generalized_linear_model.py:308: DomainWarning: The Identity link function does not respect the domain of the Gamma family.\n",
      "  warnings.warn((f\"The {type(family.link).__name__} link function \"\n"
     ]
    },
    {
     "name": "stdout",
     "output_type": "stream",
     "text": [
      "estimating cross study cv for spp\n",
      "estimating pic for spp Syracosphaera mediterranea HOL wettsteinii type\n",
      "estimating cross study cv for spp\n",
      "estimating cross study cv for spp\n",
      "estimating pic based on resampling\n",
      "mean known for:Syracosphaera mediterranea HOL wettsteinii type\n",
      "group sd unknown, using cross species sd instead\n",
      "estimating poc for spp Syracosphaera mediterranea HOL wettsteinii type\n",
      "estimating poc based on GLM\n",
      "finished estimating species #42 out of 139 species\n",
      "Calciopappus caudatus\n",
      "resampling size for spp: Calciopappus caudatus\n",
      "estimating cross study cv for spp\n",
      "estimating cross study cv for spp\n",
      "group sd unknown, using cross species sd instead (size)\n",
      "estimating pic for spp Calciopappus caudatus\n",
      "estimating pic based on GLM\n",
      "estimating poc for spp Calciopappus caudatus\n",
      "estimating poc based on GLM\n",
      "finished estimating species #43 out of 139 species\n",
      "Syracosphaera anthos HOL\n",
      "resampling size for spp: Syracosphaera anthos HOL\n",
      "estimating cross study cv for spp\n"
     ]
    },
    {
     "name": "stderr",
     "output_type": "stream",
     "text": [
      "/home/phyto-2/miniconda3/envs/abil-env/lib/python3.12/site-packages/statsmodels/genmod/generalized_linear_model.py:308: DomainWarning: The Identity link function does not respect the domain of the Gamma family.\n",
      "  warnings.warn((f\"The {type(family.link).__name__} link function \"\n",
      "/home/phyto-2/miniconda3/envs/abil-env/lib/python3.12/site-packages/statsmodels/genmod/generalized_linear_model.py:308: DomainWarning: The Identity link function does not respect the domain of the Gamma family.\n",
      "  warnings.warn((f\"The {type(family.link).__name__} link function \"\n"
     ]
    },
    {
     "name": "stdout",
     "output_type": "stream",
     "text": [
      "estimating cross study cv for spp\n",
      "estimating pic for spp Syracosphaera anthos HOL\n",
      "estimating cross study cv for spp\n",
      "estimating cross study cv for spp\n",
      "estimating pic based on resampling\n",
      "mean known for:Syracosphaera anthos HOL\n",
      "group sd unknown, using cross species sd instead\n",
      "estimating poc for spp Syracosphaera anthos HOL\n",
      "estimating poc based on GLM\n",
      "finished estimating species #44 out of 139 species\n",
      "Syracosphaera molischii HOL\n",
      "resampling size for spp: Syracosphaera molischii HOL\n",
      "estimating cross study cv for spp\n",
      "estimating cross study cv for spp\n",
      "group sd unknown, using cross species sd instead (size)\n",
      "group sd unknown, using cross species sd instead (size)\n",
      "estimating pic for spp Syracosphaera molischii HOL\n",
      "estimating pic based on GLM\n",
      "estimating poc for spp Syracosphaera molischii HOL\n",
      "estimating poc based on GLM\n",
      "finished estimating species #45 out of 139 species\n",
      "Ophiaster formosus\n",
      "resampling size for spp: Ophiaster formosus\n",
      "estimating cross study cv for spp\n",
      "estimating cross study cv for spp\n"
     ]
    },
    {
     "name": "stderr",
     "output_type": "stream",
     "text": [
      "/home/phyto-2/miniconda3/envs/abil-env/lib/python3.12/site-packages/statsmodels/genmod/generalized_linear_model.py:308: DomainWarning: The Identity link function does not respect the domain of the Gamma family.\n",
      "  warnings.warn((f\"The {type(family.link).__name__} link function \"\n",
      "/home/phyto-2/miniconda3/envs/abil-env/lib/python3.12/site-packages/statsmodels/genmod/generalized_linear_model.py:308: DomainWarning: The Identity link function does not respect the domain of the Gamma family.\n",
      "  warnings.warn((f\"The {type(family.link).__name__} link function \"\n"
     ]
    },
    {
     "name": "stdout",
     "output_type": "stream",
     "text": [
      "group sd unknown, using cross species sd instead (size)\n",
      "estimating pic for spp Ophiaster formosus\n",
      "estimating pic based on GLM\n",
      "estimating poc for spp Ophiaster formosus\n",
      "estimating poc based on GLM\n",
      "finished estimating species #46 out of 139 species\n",
      "Alisphaera unicornis\n",
      "resampling size for spp: Alisphaera unicornis\n",
      "estimating cross study cv for spp\n",
      "estimating cross study cv for spp\n"
     ]
    },
    {
     "name": "stderr",
     "output_type": "stream",
     "text": [
      "/home/phyto-2/miniconda3/envs/abil-env/lib/python3.12/site-packages/statsmodels/genmod/generalized_linear_model.py:308: DomainWarning: The Identity link function does not respect the domain of the Gamma family.\n",
      "  warnings.warn((f\"The {type(family.link).__name__} link function \"\n",
      "/home/phyto-2/miniconda3/envs/abil-env/lib/python3.12/site-packages/statsmodels/genmod/generalized_linear_model.py:308: DomainWarning: The Identity link function does not respect the domain of the Gamma family.\n",
      "  warnings.warn((f\"The {type(family.link).__name__} link function \"\n"
     ]
    },
    {
     "name": "stdout",
     "output_type": "stream",
     "text": [
      "group sd unknown, using cross species sd instead (size)\n",
      "estimating pic for spp Alisphaera unicornis\n",
      "estimating pic based on GLM\n",
      "estimating poc for spp Alisphaera unicornis\n",
      "estimating poc based on GLM\n",
      "finished estimating species #47 out of 139 species\n",
      "Acanthoica acanthifera\n",
      "resampling size for spp: Acanthoica acanthifera\n",
      "estimating cross study cv for spp\n",
      "estimating cross study cv for spp\n"
     ]
    },
    {
     "name": "stderr",
     "output_type": "stream",
     "text": [
      "/home/phyto-2/miniconda3/envs/abil-env/lib/python3.12/site-packages/statsmodels/genmod/generalized_linear_model.py:308: DomainWarning: The Identity link function does not respect the domain of the Gamma family.\n",
      "  warnings.warn((f\"The {type(family.link).__name__} link function \"\n",
      "/home/phyto-2/miniconda3/envs/abil-env/lib/python3.12/site-packages/statsmodels/genmod/generalized_linear_model.py:308: DomainWarning: The Identity link function does not respect the domain of the Gamma family.\n",
      "  warnings.warn((f\"The {type(family.link).__name__} link function \"\n"
     ]
    },
    {
     "name": "stdout",
     "output_type": "stream",
     "text": [
      "group sd unknown, using cross species sd instead (size)\n",
      "group sd unknown, using cross species sd instead (size)\n",
      "estimating pic for spp Acanthoica acanthifera\n",
      "estimating cross study cv for spp\n",
      "estimating cross study cv for spp\n",
      "estimating pic based on resampling\n",
      "mean known for:Acanthoica acanthifera\n",
      "group sd unknown, using cross species sd instead\n",
      "estimating poc for spp Acanthoica acanthifera\n",
      "estimating poc based on GLM\n",
      "finished estimating species #48 out of 139 species\n",
      "Umbilicosphaera foliosa\n",
      "resampling size for spp: Umbilicosphaera foliosa\n",
      "estimating cross study cv for spp\n",
      "estimating cross study cv for spp\n",
      "estimating pic for spp Umbilicosphaera foliosa\n",
      "estimating pic based on GLM\n",
      "estimating poc for spp Umbilicosphaera foliosa\n",
      "estimating poc based on GLM\n",
      "finished estimating species #49 out of 139 species\n",
      "Syracosphaera protrudens\n",
      "resampling size for spp: Syracosphaera protrudens\n",
      "estimating cross study cv for spp\n",
      "estimating cross study cv for spp\n"
     ]
    },
    {
     "name": "stderr",
     "output_type": "stream",
     "text": [
      "/home/phyto-2/miniconda3/envs/abil-env/lib/python3.12/site-packages/statsmodels/genmod/generalized_linear_model.py:308: DomainWarning: The Identity link function does not respect the domain of the Gamma family.\n",
      "  warnings.warn((f\"The {type(family.link).__name__} link function \"\n",
      "/home/phyto-2/miniconda3/envs/abil-env/lib/python3.12/site-packages/statsmodels/genmod/generalized_linear_model.py:308: DomainWarning: The Identity link function does not respect the domain of the Gamma family.\n",
      "  warnings.warn((f\"The {type(family.link).__name__} link function \"\n"
     ]
    },
    {
     "name": "stdout",
     "output_type": "stream",
     "text": [
      "group sd unknown, using cross species sd instead (size)\n",
      "estimating pic for spp Syracosphaera protrudens\n",
      "estimating pic based on GLM\n",
      "estimating poc for spp Syracosphaera protrudens\n",
      "estimating poc based on GLM\n",
      "finished estimating species #50 out of 139 species\n",
      "Syracosphaera marginiporata\n",
      "resampling size for spp: Syracosphaera marginiporata\n",
      "estimating cross study cv for spp\n",
      "estimating cross study cv for spp\n"
     ]
    },
    {
     "name": "stderr",
     "output_type": "stream",
     "text": [
      "/home/phyto-2/miniconda3/envs/abil-env/lib/python3.12/site-packages/statsmodels/genmod/generalized_linear_model.py:308: DomainWarning: The Identity link function does not respect the domain of the Gamma family.\n",
      "  warnings.warn((f\"The {type(family.link).__name__} link function \"\n",
      "/home/phyto-2/miniconda3/envs/abil-env/lib/python3.12/site-packages/statsmodels/genmod/generalized_linear_model.py:308: DomainWarning: The Identity link function does not respect the domain of the Gamma family.\n",
      "  warnings.warn((f\"The {type(family.link).__name__} link function \"\n"
     ]
    },
    {
     "name": "stdout",
     "output_type": "stream",
     "text": [
      "group sd unknown, using cross species sd instead (size)\n",
      "group sd unknown, using cross species sd instead (size)\n",
      "estimating pic for spp Syracosphaera marginiporata\n",
      "estimating pic based on GLM\n",
      "estimating poc for spp Syracosphaera marginiporata\n",
      "estimating poc based on GLM\n",
      "finished estimating species #51 out of 139 species\n",
      "Cyrtosphaera aculeata\n",
      "resampling size for spp: Cyrtosphaera aculeata\n",
      "estimating cross study cv for spp\n",
      "estimating cross study cv for spp\n"
     ]
    },
    {
     "name": "stderr",
     "output_type": "stream",
     "text": [
      "/home/phyto-2/miniconda3/envs/abil-env/lib/python3.12/site-packages/statsmodels/genmod/generalized_linear_model.py:308: DomainWarning: The Identity link function does not respect the domain of the Gamma family.\n",
      "  warnings.warn((f\"The {type(family.link).__name__} link function \"\n",
      "/home/phyto-2/miniconda3/envs/abil-env/lib/python3.12/site-packages/statsmodels/genmod/generalized_linear_model.py:308: DomainWarning: The Identity link function does not respect the domain of the Gamma family.\n",
      "  warnings.warn((f\"The {type(family.link).__name__} link function \"\n"
     ]
    },
    {
     "name": "stdout",
     "output_type": "stream",
     "text": [
      "group sd unknown, using cross species sd instead (size)\n",
      "group sd unknown, using cross species sd instead (size)\n",
      "estimating pic for spp Cyrtosphaera aculeata\n",
      "estimating pic based on GLM\n",
      "estimating poc for spp Cyrtosphaera aculeata\n",
      "estimating poc based on GLM\n",
      "finished estimating species #52 out of 139 species\n",
      "Alisphaera unicornis POL\n",
      "resampling size for spp: Alisphaera unicornis POL\n",
      "estimating cross study cv for spp\n",
      "estimating cross study cv for spp\n"
     ]
    },
    {
     "name": "stderr",
     "output_type": "stream",
     "text": [
      "/home/phyto-2/miniconda3/envs/abil-env/lib/python3.12/site-packages/statsmodels/genmod/generalized_linear_model.py:308: DomainWarning: The Identity link function does not respect the domain of the Gamma family.\n",
      "  warnings.warn((f\"The {type(family.link).__name__} link function \"\n",
      "/home/phyto-2/miniconda3/envs/abil-env/lib/python3.12/site-packages/statsmodels/genmod/generalized_linear_model.py:308: DomainWarning: The Identity link function does not respect the domain of the Gamma family.\n",
      "  warnings.warn((f\"The {type(family.link).__name__} link function \"\n"
     ]
    },
    {
     "name": "stdout",
     "output_type": "stream",
     "text": [
      "group sd unknown, using cross species sd instead (size)\n",
      "estimating pic for spp Alisphaera unicornis POL\n",
      "estimating pic based on GLM\n",
      "estimating poc for spp Alisphaera unicornis POL\n",
      "estimating poc based on GLM\n",
      "finished estimating species #53 out of 139 species\n",
      "Oolithotus fragilis\n",
      "resampling size for spp: Oolithotus fragilis\n",
      "estimating cross study cv for spp\n"
     ]
    },
    {
     "name": "stderr",
     "output_type": "stream",
     "text": [
      "/home/phyto-2/miniconda3/envs/abil-env/lib/python3.12/site-packages/statsmodels/genmod/generalized_linear_model.py:308: DomainWarning: The Identity link function does not respect the domain of the Gamma family.\n",
      "  warnings.warn((f\"The {type(family.link).__name__} link function \"\n",
      "/home/phyto-2/miniconda3/envs/abil-env/lib/python3.12/site-packages/statsmodels/genmod/generalized_linear_model.py:308: DomainWarning: The Identity link function does not respect the domain of the Gamma family.\n",
      "  warnings.warn((f\"The {type(family.link).__name__} link function \"\n"
     ]
    },
    {
     "name": "stdout",
     "output_type": "stream",
     "text": [
      "estimating cross study cv for spp\n",
      "estimating pic for spp Oolithotus fragilis\n",
      "estimating cross study cv for spp\n",
      "estimating cross study cv for spp\n",
      "estimating pic based on resampling\n",
      "estimating poc for spp Oolithotus fragilis\n",
      "estimating poc based on GLM\n",
      "finished estimating species #54 out of 139 species\n",
      "Calyptrolithina divergens\n",
      "resampling size for spp: Calyptrolithina divergens\n",
      "estimating cross study cv for spp\n",
      "estimating cross study cv for spp\n",
      "group sd unknown, using cross species sd instead (size)\n",
      "estimating pic for spp Calyptrolithina divergens\n",
      "estimating pic based on GLM\n",
      "estimating poc for spp Calyptrolithina divergens\n",
      "estimating poc based on GLM\n",
      "finished estimating species #55 out of 139 species\n",
      "Sphaerocalyptra quadridentata\n",
      "resampling size for spp: Sphaerocalyptra quadridentata\n",
      "estimating cross study cv for spp\n",
      "estimating cross study cv for spp\n"
     ]
    },
    {
     "name": "stderr",
     "output_type": "stream",
     "text": [
      "/home/phyto-2/miniconda3/envs/abil-env/lib/python3.12/site-packages/statsmodels/genmod/generalized_linear_model.py:308: DomainWarning: The Identity link function does not respect the domain of the Gamma family.\n",
      "  warnings.warn((f\"The {type(family.link).__name__} link function \"\n",
      "/home/phyto-2/miniconda3/envs/abil-env/lib/python3.12/site-packages/statsmodels/genmod/generalized_linear_model.py:308: DomainWarning: The Identity link function does not respect the domain of the Gamma family.\n",
      "  warnings.warn((f\"The {type(family.link).__name__} link function \"\n"
     ]
    },
    {
     "name": "stdout",
     "output_type": "stream",
     "text": [
      "group sd unknown, using cross species sd instead (size)\n",
      "estimating pic for spp Sphaerocalyptra quadridentata\n",
      "estimating pic based on GLM\n",
      "estimating poc for spp Sphaerocalyptra quadridentata\n",
      "estimating poc based on GLM\n",
      "finished estimating species #56 out of 139 species\n",
      "Syracosphaera pulchra HOL oblonga type\n",
      "resampling size for spp: Syracosphaera pulchra HOL oblonga type\n",
      "estimating cross study cv for spp\n"
     ]
    },
    {
     "name": "stderr",
     "output_type": "stream",
     "text": [
      "/home/phyto-2/miniconda3/envs/abil-env/lib/python3.12/site-packages/statsmodels/genmod/generalized_linear_model.py:308: DomainWarning: The Identity link function does not respect the domain of the Gamma family.\n",
      "  warnings.warn((f\"The {type(family.link).__name__} link function \"\n",
      "/home/phyto-2/miniconda3/envs/abil-env/lib/python3.12/site-packages/statsmodels/genmod/generalized_linear_model.py:308: DomainWarning: The Identity link function does not respect the domain of the Gamma family.\n",
      "  warnings.warn((f\"The {type(family.link).__name__} link function \"\n"
     ]
    },
    {
     "name": "stdout",
     "output_type": "stream",
     "text": [
      "estimating cross study cv for spp\n",
      "estimating pic for spp Syracosphaera pulchra HOL oblonga type\n",
      "estimating cross study cv for spp\n",
      "estimating cross study cv for spp\n",
      "estimating pic based on resampling\n",
      "mean known for:Syracosphaera pulchra HOL oblonga type\n",
      "group sd unknown, using cross species sd instead\n",
      "estimating poc for spp Syracosphaera pulchra HOL oblonga type\n",
      "estimating poc based on GLM\n",
      "finished estimating species #57 out of 139 species\n",
      "Syracosphaera neapolitana\n",
      "resampling size for spp: Syracosphaera neapolitana\n",
      "estimating cross study cv for spp\n",
      "estimating cross study cv for spp\n",
      "estimating pic for spp Syracosphaera neapolitana\n",
      "estimating pic based on GLM\n",
      "estimating poc for spp Syracosphaera neapolitana\n",
      "estimating poc based on GLM\n",
      "finished estimating species #58 out of 139 species\n",
      "Calciopappus rigidus\n",
      "resampling size for spp: Calciopappus rigidus\n",
      "estimating cross study cv for spp\n",
      "estimating cross study cv for spp\n",
      "group sd unknown, using cross species sd instead (size)\n"
     ]
    },
    {
     "name": "stderr",
     "output_type": "stream",
     "text": [
      "/home/phyto-2/miniconda3/envs/abil-env/lib/python3.12/site-packages/statsmodels/genmod/generalized_linear_model.py:308: DomainWarning: The Identity link function does not respect the domain of the Gamma family.\n",
      "  warnings.warn((f\"The {type(family.link).__name__} link function \"\n",
      "/home/phyto-2/miniconda3/envs/abil-env/lib/python3.12/site-packages/statsmodels/genmod/generalized_linear_model.py:308: DomainWarning: The Identity link function does not respect the domain of the Gamma family.\n",
      "  warnings.warn((f\"The {type(family.link).__name__} link function \"\n"
     ]
    },
    {
     "name": "stdout",
     "output_type": "stream",
     "text": [
      "estimating pic for spp Calciopappus rigidus\n",
      "estimating pic based on GLM\n",
      "estimating poc for spp Calciopappus rigidus\n",
      "estimating poc based on GLM\n",
      "finished estimating species #59 out of 139 species\n",
      "Syracosphaera dilatata\n",
      "resampling size for spp: Syracosphaera dilatata\n",
      "estimating cross study cv for spp\n",
      "estimating cross study cv for spp\n",
      "group sd unknown, using cross species sd instead (size)\n"
     ]
    },
    {
     "name": "stderr",
     "output_type": "stream",
     "text": [
      "/home/phyto-2/miniconda3/envs/abil-env/lib/python3.12/site-packages/statsmodels/genmod/generalized_linear_model.py:308: DomainWarning: The Identity link function does not respect the domain of the Gamma family.\n",
      "  warnings.warn((f\"The {type(family.link).__name__} link function \"\n",
      "/home/phyto-2/miniconda3/envs/abil-env/lib/python3.12/site-packages/statsmodels/genmod/generalized_linear_model.py:308: DomainWarning: The Identity link function does not respect the domain of the Gamma family.\n",
      "  warnings.warn((f\"The {type(family.link).__name__} link function \"\n"
     ]
    },
    {
     "name": "stdout",
     "output_type": "stream",
     "text": [
      "estimating pic for spp Syracosphaera dilatata\n",
      "estimating pic based on GLM\n",
      "estimating poc for spp Syracosphaera dilatata\n",
      "estimating poc based on GLM\n",
      "finished estimating species #60 out of 139 species\n",
      "Syracosphaera bannockii HOL\n",
      "resampling size for spp: Syracosphaera bannockii HOL\n",
      "estimating cross study cv for spp\n"
     ]
    },
    {
     "name": "stderr",
     "output_type": "stream",
     "text": [
      "/home/phyto-2/miniconda3/envs/abil-env/lib/python3.12/site-packages/statsmodels/genmod/generalized_linear_model.py:308: DomainWarning: The Identity link function does not respect the domain of the Gamma family.\n",
      "  warnings.warn((f\"The {type(family.link).__name__} link function \"\n",
      "/home/phyto-2/miniconda3/envs/abil-env/lib/python3.12/site-packages/statsmodels/genmod/generalized_linear_model.py:308: DomainWarning: The Identity link function does not respect the domain of the Gamma family.\n",
      "  warnings.warn((f\"The {type(family.link).__name__} link function \"\n"
     ]
    },
    {
     "name": "stdout",
     "output_type": "stream",
     "text": [
      "estimating cross study cv for spp\n",
      "estimating pic for spp Syracosphaera bannockii HOL\n",
      "estimating cross study cv for spp\n",
      "estimating cross study cv for spp\n",
      "estimating pic based on resampling\n",
      "estimating poc for spp Syracosphaera bannockii HOL\n",
      "estimating poc based on GLM\n",
      "finished estimating species #61 out of 139 species\n",
      "Syracosphaera aurisinae\n",
      "resampling size for spp: Syracosphaera aurisinae\n",
      "estimating cross study cv for spp\n",
      "estimating cross study cv for spp\n",
      "group sd unknown, using cross species sd instead (size)\n",
      "group sd unknown, using cross species sd instead (size)\n",
      "group sd unknown, using cross species sd instead (size)\n",
      "group sd unknown, using cross species sd instead (size)\n",
      "estimating pic for spp Syracosphaera aurisinae\n",
      "estimating pic based on GLM\n",
      "estimating poc for spp Syracosphaera aurisinae\n",
      "estimating poc based on GLM\n",
      "finished estimating species #62 out of 139 species\n",
      "Helicosphaera HOL catilliferus type\n",
      "resampling size for spp: Helicosphaera HOL catilliferus type\n",
      "estimating cross study cv for spp\n"
     ]
    },
    {
     "name": "stderr",
     "output_type": "stream",
     "text": [
      "/home/phyto-2/miniconda3/envs/abil-env/lib/python3.12/site-packages/statsmodels/genmod/generalized_linear_model.py:308: DomainWarning: The Identity link function does not respect the domain of the Gamma family.\n",
      "  warnings.warn((f\"The {type(family.link).__name__} link function \"\n",
      "/home/phyto-2/miniconda3/envs/abil-env/lib/python3.12/site-packages/statsmodels/genmod/generalized_linear_model.py:308: DomainWarning: The Identity link function does not respect the domain of the Gamma family.\n",
      "  warnings.warn((f\"The {type(family.link).__name__} link function \"\n"
     ]
    },
    {
     "name": "stdout",
     "output_type": "stream",
     "text": [
      "estimating cross study cv for spp\n",
      "estimating pic for spp Helicosphaera HOL catilliferus type\n",
      "estimating pic based on GLM\n",
      "estimating poc for spp Helicosphaera HOL catilliferus type\n",
      "estimating poc based on GLM\n",
      "finished estimating species #63 out of 139 species\n",
      "Syracosphaera rotula\n",
      "resampling size for spp: Syracosphaera rotula\n",
      "estimating cross study cv for spp\n",
      "estimating cross study cv for spp\n"
     ]
    },
    {
     "name": "stderr",
     "output_type": "stream",
     "text": [
      "/home/phyto-2/miniconda3/envs/abil-env/lib/python3.12/site-packages/statsmodels/genmod/generalized_linear_model.py:308: DomainWarning: The Identity link function does not respect the domain of the Gamma family.\n",
      "  warnings.warn((f\"The {type(family.link).__name__} link function \"\n",
      "/home/phyto-2/miniconda3/envs/abil-env/lib/python3.12/site-packages/statsmodels/genmod/generalized_linear_model.py:308: DomainWarning: The Identity link function does not respect the domain of the Gamma family.\n",
      "  warnings.warn((f\"The {type(family.link).__name__} link function \"\n"
     ]
    },
    {
     "name": "stdout",
     "output_type": "stream",
     "text": [
      "group sd unknown, using cross species sd instead (size)\n",
      "group sd unknown, using cross species sd instead (size)\n",
      "estimating pic for spp Syracosphaera rotula\n",
      "estimating pic based on GLM\n",
      "estimating poc for spp Syracosphaera rotula\n",
      "estimating poc based on GLM\n",
      "finished estimating species #64 out of 139 species\n",
      "Papposphaera lepida\n",
      "resampling size for spp: Papposphaera lepida\n",
      "estimating cross study cv for spp\n",
      "estimating cross study cv for spp\n",
      "group sd unknown, using cross species sd instead (size)\n"
     ]
    },
    {
     "name": "stderr",
     "output_type": "stream",
     "text": [
      "/home/phyto-2/miniconda3/envs/abil-env/lib/python3.12/site-packages/statsmodels/genmod/generalized_linear_model.py:308: DomainWarning: The Identity link function does not respect the domain of the Gamma family.\n",
      "  warnings.warn((f\"The {type(family.link).__name__} link function \"\n",
      "/home/phyto-2/miniconda3/envs/abil-env/lib/python3.12/site-packages/statsmodels/genmod/generalized_linear_model.py:308: DomainWarning: The Identity link function does not respect the domain of the Gamma family.\n",
      "  warnings.warn((f\"The {type(family.link).__name__} link function \"\n"
     ]
    },
    {
     "name": "stdout",
     "output_type": "stream",
     "text": [
      "estimating pic for spp Papposphaera lepida\n",
      "estimating pic based on GLM\n",
      "estimating poc for spp Papposphaera lepida\n",
      "estimating poc based on GLM\n",
      "finished estimating species #65 out of 139 species\n",
      "Zygosphaera amoena\n",
      "resampling size for spp: Zygosphaera amoena\n",
      "estimating cross study cv for spp\n",
      "estimating cross study cv for spp\n"
     ]
    },
    {
     "name": "stderr",
     "output_type": "stream",
     "text": [
      "/home/phyto-2/miniconda3/envs/abil-env/lib/python3.12/site-packages/statsmodels/genmod/generalized_linear_model.py:308: DomainWarning: The Identity link function does not respect the domain of the Gamma family.\n",
      "  warnings.warn((f\"The {type(family.link).__name__} link function \"\n",
      "/home/phyto-2/miniconda3/envs/abil-env/lib/python3.12/site-packages/statsmodels/genmod/generalized_linear_model.py:308: DomainWarning: The Identity link function does not respect the domain of the Gamma family.\n",
      "  warnings.warn((f\"The {type(family.link).__name__} link function \"\n"
     ]
    },
    {
     "name": "stdout",
     "output_type": "stream",
     "text": [
      "group sd unknown, using cross species sd instead (size)\n",
      "group sd unknown, using cross species sd instead (size)\n",
      "estimating pic for spp Zygosphaera amoena\n",
      "estimating pic based on GLM\n",
      "estimating poc for spp Zygosphaera amoena\n",
      "estimating poc based on GLM\n",
      "finished estimating species #66 out of 139 species\n",
      "Calyptrosphaera heimdaliae\n",
      "resampling size for spp: Calyptrosphaera heimdaliae\n",
      "estimating cross study cv for spp\n",
      "estimating cross study cv for spp\n"
     ]
    },
    {
     "name": "stderr",
     "output_type": "stream",
     "text": [
      "/home/phyto-2/miniconda3/envs/abil-env/lib/python3.12/site-packages/statsmodels/genmod/generalized_linear_model.py:308: DomainWarning: The Identity link function does not respect the domain of the Gamma family.\n",
      "  warnings.warn((f\"The {type(family.link).__name__} link function \"\n",
      "/home/phyto-2/miniconda3/envs/abil-env/lib/python3.12/site-packages/statsmodels/genmod/generalized_linear_model.py:308: DomainWarning: The Identity link function does not respect the domain of the Gamma family.\n",
      "  warnings.warn((f\"The {type(family.link).__name__} link function \"\n"
     ]
    },
    {
     "name": "stdout",
     "output_type": "stream",
     "text": [
      "group sd unknown, using cross species sd instead (size)\n",
      "estimating pic for spp Calyptrosphaera heimdaliae\n",
      "estimating pic based on GLM\n",
      "estimating poc for spp Calyptrosphaera heimdaliae\n",
      "estimating poc based on GLM\n",
      "finished estimating species #67 out of 139 species\n",
      "Homozygosphaera spinosa\n",
      "resampling size for spp: Homozygosphaera spinosa\n",
      "estimating cross study cv for spp\n"
     ]
    },
    {
     "name": "stderr",
     "output_type": "stream",
     "text": [
      "/home/phyto-2/miniconda3/envs/abil-env/lib/python3.12/site-packages/statsmodels/genmod/generalized_linear_model.py:308: DomainWarning: The Identity link function does not respect the domain of the Gamma family.\n",
      "  warnings.warn((f\"The {type(family.link).__name__} link function \"\n",
      "/home/phyto-2/miniconda3/envs/abil-env/lib/python3.12/site-packages/statsmodels/genmod/generalized_linear_model.py:308: DomainWarning: The Identity link function does not respect the domain of the Gamma family.\n",
      "  warnings.warn((f\"The {type(family.link).__name__} link function \"\n"
     ]
    },
    {
     "name": "stdout",
     "output_type": "stream",
     "text": [
      "estimating cross study cv for spp\n",
      "estimating pic for spp Homozygosphaera spinosa\n",
      "estimating cross study cv for spp\n",
      "estimating cross study cv for spp\n",
      "estimating pic based on resampling\n",
      "estimating poc for spp Homozygosphaera spinosa\n",
      "estimating poc based on GLM\n",
      "finished estimating species #68 out of 139 species\n",
      "Syracosphaera strigilis HOL\n",
      "resampling size for spp: Syracosphaera strigilis HOL\n",
      "estimating cross study cv for spp\n",
      "estimating cross study cv for spp\n",
      "group sd unknown, using cross species sd instead (size)\n",
      "group sd unknown, using cross species sd instead (size)\n",
      "group sd unknown, using cross species sd instead (size)\n",
      "estimating pic for spp Syracosphaera strigilis HOL\n",
      "estimating cross study cv for spp\n",
      "estimating cross study cv for spp\n",
      "estimating pic based on resampling\n",
      "mean known for:Syracosphaera strigilis HOL\n",
      "group sd unknown, using cross species sd instead\n",
      "estimating poc for spp Syracosphaera strigilis HOL\n",
      "estimating poc based on GLM\n",
      "finished estimating species #69 out of 139 species\n",
      "Scyphosphaera apsteinii\n",
      "resampling size for spp: Scyphosphaera apsteinii\n",
      "estimating cross study cv for spp\n",
      "estimating cross study cv for spp\n",
      "estimating pic for spp Scyphosphaera apsteinii\n",
      "estimating pic based on GLM\n",
      "estimating poc for spp Scyphosphaera apsteinii\n",
      "estimating poc based on GLM\n",
      "finished estimating species #70 out of 139 species\n",
      "Syracosphaera periperforata HOL\n",
      "resampling size for spp: Syracosphaera periperforata HOL\n",
      "estimating cross study cv for spp\n",
      "estimating cross study cv for spp\n"
     ]
    },
    {
     "name": "stderr",
     "output_type": "stream",
     "text": [
      "/home/phyto-2/miniconda3/envs/abil-env/lib/python3.12/site-packages/statsmodels/genmod/generalized_linear_model.py:308: DomainWarning: The Identity link function does not respect the domain of the Gamma family.\n",
      "  warnings.warn((f\"The {type(family.link).__name__} link function \"\n",
      "/home/phyto-2/miniconda3/envs/abil-env/lib/python3.12/site-packages/statsmodels/genmod/generalized_linear_model.py:308: DomainWarning: The Identity link function does not respect the domain of the Gamma family.\n",
      "  warnings.warn((f\"The {type(family.link).__name__} link function \"\n"
     ]
    },
    {
     "name": "stdout",
     "output_type": "stream",
     "text": [
      "group sd unknown, using cross species sd instead (size)\n",
      "estimating pic for spp Syracosphaera periperforata HOL\n",
      "estimating pic based on GLM\n",
      "estimating poc for spp Syracosphaera periperforata HOL\n",
      "estimating poc based on GLM\n",
      "finished estimating species #71 out of 139 species\n",
      "Syracosphaera hastata\n",
      "resampling size for spp: Syracosphaera hastata\n",
      "estimating cross study cv for spp\n"
     ]
    },
    {
     "name": "stderr",
     "output_type": "stream",
     "text": [
      "/home/phyto-2/miniconda3/envs/abil-env/lib/python3.12/site-packages/statsmodels/genmod/generalized_linear_model.py:308: DomainWarning: The Identity link function does not respect the domain of the Gamma family.\n",
      "  warnings.warn((f\"The {type(family.link).__name__} link function \"\n",
      "/home/phyto-2/miniconda3/envs/abil-env/lib/python3.12/site-packages/statsmodels/genmod/generalized_linear_model.py:308: DomainWarning: The Identity link function does not respect the domain of the Gamma family.\n",
      "  warnings.warn((f\"The {type(family.link).__name__} link function \"\n"
     ]
    },
    {
     "name": "stdout",
     "output_type": "stream",
     "text": [
      "estimating cross study cv for spp\n",
      "estimating pic for spp Syracosphaera hastata\n",
      "estimating cross study cv for spp\n",
      "estimating cross study cv for spp\n",
      "estimating pic based on resampling\n",
      "mean known for:Syracosphaera hastata\n",
      "group sd unknown, using cross species sd instead\n",
      "estimating poc for spp Syracosphaera hastata\n",
      "estimating poc based on GLM\n",
      "finished estimating species #72 out of 139 species\n",
      "Helicosphaera pavimentum HOL\n",
      "resampling size for spp: Helicosphaera pavimentum HOL\n",
      "Helicosphaera pavimentum\n",
      "estimating cross study cv for spp\n",
      "estimating cross study cv for spp\n",
      "estimating pic for spp Helicosphaera pavimentum HOL\n",
      "estimating pic based on GLM\n",
      "estimating poc for spp Helicosphaera pavimentum HOL\n",
      "estimating poc based on GLM\n",
      "finished estimating species #73 out of 139 species\n",
      "Calyptrosphaera sphaeroidea HOL\n",
      "resampling size for spp: Calyptrosphaera sphaeroidea HOL\n",
      "estimating cross study cv for spp\n",
      "estimating cross study cv for spp\n"
     ]
    },
    {
     "name": "stderr",
     "output_type": "stream",
     "text": [
      "/home/phyto-2/miniconda3/envs/abil-env/lib/python3.12/site-packages/statsmodels/genmod/generalized_linear_model.py:308: DomainWarning: The Identity link function does not respect the domain of the Gamma family.\n",
      "  warnings.warn((f\"The {type(family.link).__name__} link function \"\n",
      "/home/phyto-2/miniconda3/envs/abil-env/lib/python3.12/site-packages/statsmodels/genmod/generalized_linear_model.py:308: DomainWarning: The Identity link function does not respect the domain of the Gamma family.\n",
      "  warnings.warn((f\"The {type(family.link).__name__} link function \"\n"
     ]
    },
    {
     "name": "stdout",
     "output_type": "stream",
     "text": [
      "group sd unknown, using cross species sd instead (size)\n",
      "estimating pic for spp Calyptrosphaera sphaeroidea HOL\n",
      "estimating pic based on GLM\n",
      "estimating poc for spp Calyptrosphaera sphaeroidea HOL\n",
      "estimating poc based on GLM\n",
      "finished estimating species #74 out of 139 species\n",
      "Gephyrocapsa ornata\n",
      "resampling size for spp: Gephyrocapsa ornata\n",
      "estimating cross study cv for spp\n"
     ]
    },
    {
     "name": "stderr",
     "output_type": "stream",
     "text": [
      "/home/phyto-2/miniconda3/envs/abil-env/lib/python3.12/site-packages/statsmodels/genmod/generalized_linear_model.py:308: DomainWarning: The Identity link function does not respect the domain of the Gamma family.\n",
      "  warnings.warn((f\"The {type(family.link).__name__} link function \"\n",
      "/home/phyto-2/miniconda3/envs/abil-env/lib/python3.12/site-packages/statsmodels/genmod/generalized_linear_model.py:308: DomainWarning: The Identity link function does not respect the domain of the Gamma family.\n",
      "  warnings.warn((f\"The {type(family.link).__name__} link function \"\n"
     ]
    },
    {
     "name": "stdout",
     "output_type": "stream",
     "text": [
      "estimating cross study cv for spp\n",
      "estimating pic for spp Gephyrocapsa ornata\n",
      "estimating cross study cv for spp\n",
      "estimating cross study cv for spp\n",
      "estimating pic based on resampling\n",
      "estimating poc for spp Gephyrocapsa ornata\n",
      "estimating poc based on GLM\n",
      "finished estimating species #75 out of 139 species\n",
      "Syracosphaera orbiculus\n",
      "resampling size for spp: Syracosphaera orbiculus\n",
      "estimating cross study cv for spp\n",
      "estimating cross study cv for spp\n",
      "estimating pic for spp Syracosphaera orbiculus\n",
      "estimating cross study cv for spp\n",
      "estimating cross study cv for spp\n",
      "estimating pic based on resampling\n",
      "mean known for:Syracosphaera orbiculus\n",
      "group sd unknown, using cross species sd instead\n",
      "estimating poc for spp Syracosphaera orbiculus\n",
      "estimating poc based on GLM\n",
      "finished estimating species #76 out of 139 species\n",
      "Umbilicosphaera anulus\n",
      "resampling size for spp: Umbilicosphaera anulus\n",
      "estimating cross study cv for spp\n",
      "estimating cross study cv for spp\n",
      "group sd unknown, using cross species sd instead (size)\n",
      "estimating pic for spp Umbilicosphaera anulus\n",
      "estimating pic based on GLM\n",
      "estimating poc for spp Umbilicosphaera anulus\n",
      "estimating poc based on GLM\n",
      "finished estimating species #77 out of 139 species\n",
      "Helicosphaera pavimentum\n",
      "resampling size for spp: Helicosphaera pavimentum\n",
      "estimating cross study cv for spp\n"
     ]
    },
    {
     "name": "stderr",
     "output_type": "stream",
     "text": [
      "/home/phyto-2/miniconda3/envs/abil-env/lib/python3.12/site-packages/statsmodels/genmod/generalized_linear_model.py:308: DomainWarning: The Identity link function does not respect the domain of the Gamma family.\n",
      "  warnings.warn((f\"The {type(family.link).__name__} link function \"\n",
      "/home/phyto-2/miniconda3/envs/abil-env/lib/python3.12/site-packages/statsmodels/genmod/generalized_linear_model.py:308: DomainWarning: The Identity link function does not respect the domain of the Gamma family.\n",
      "  warnings.warn((f\"The {type(family.link).__name__} link function \"\n"
     ]
    },
    {
     "name": "stdout",
     "output_type": "stream",
     "text": [
      "estimating cross study cv for spp\n",
      "estimating pic for spp Helicosphaera pavimentum\n",
      "estimating cross study cv for spp\n",
      "estimating cross study cv for spp\n",
      "estimating pic based on resampling\n",
      "estimating poc for spp Helicosphaera pavimentum\n",
      "estimating poc based on GLM\n",
      "finished estimating species #78 out of 139 species\n",
      "Syracosphaera magnaghii HOL\n",
      "resampling size for spp: Syracosphaera magnaghii HOL\n",
      "estimating cross study cv for spp\n",
      "estimating cross study cv for spp\n",
      "group sd unknown, using cross species sd instead (size)\n",
      "estimating pic for spp Syracosphaera magnaghii HOL\n",
      "estimating pic based on GLM\n",
      "estimating poc for spp Syracosphaera magnaghii HOL\n",
      "estimating poc based on GLM\n",
      "finished estimating species #79 out of 139 species\n",
      "Syracosphaera arethusae\n",
      "resampling size for spp: Syracosphaera arethusae\n",
      "estimating cross study cv for spp\n",
      "estimating cross study cv for spp\n"
     ]
    },
    {
     "name": "stderr",
     "output_type": "stream",
     "text": [
      "/home/phyto-2/miniconda3/envs/abil-env/lib/python3.12/site-packages/statsmodels/genmod/generalized_linear_model.py:308: DomainWarning: The Identity link function does not respect the domain of the Gamma family.\n",
      "  warnings.warn((f\"The {type(family.link).__name__} link function \"\n",
      "/home/phyto-2/miniconda3/envs/abil-env/lib/python3.12/site-packages/statsmodels/genmod/generalized_linear_model.py:308: DomainWarning: The Identity link function does not respect the domain of the Gamma family.\n",
      "  warnings.warn((f\"The {type(family.link).__name__} link function \"\n"
     ]
    },
    {
     "name": "stdout",
     "output_type": "stream",
     "text": [
      "group sd unknown, using cross species sd instead (size)\n",
      "estimating pic for spp Syracosphaera arethusae\n",
      "estimating pic based on GLM\n",
      "estimating poc for spp Syracosphaera arethusae\n",
      "estimating poc based on GLM\n",
      "finished estimating species #80 out of 139 species\n",
      "Alisphaera gaudii\n",
      "resampling size for spp: Alisphaera gaudii\n",
      "estimating cross study cv for spp\n",
      "estimating cross study cv for spp\n"
     ]
    },
    {
     "name": "stderr",
     "output_type": "stream",
     "text": [
      "/home/phyto-2/miniconda3/envs/abil-env/lib/python3.12/site-packages/statsmodels/genmod/generalized_linear_model.py:308: DomainWarning: The Identity link function does not respect the domain of the Gamma family.\n",
      "  warnings.warn((f\"The {type(family.link).__name__} link function \"\n",
      "/home/phyto-2/miniconda3/envs/abil-env/lib/python3.12/site-packages/statsmodels/genmod/generalized_linear_model.py:308: DomainWarning: The Identity link function does not respect the domain of the Gamma family.\n",
      "  warnings.warn((f\"The {type(family.link).__name__} link function \"\n"
     ]
    },
    {
     "name": "stdout",
     "output_type": "stream",
     "text": [
      "group sd unknown, using cross species sd instead (size)\n",
      "estimating pic for spp Alisphaera gaudii\n",
      "estimating pic based on GLM\n",
      "estimating poc for spp Alisphaera gaudii\n",
      "estimating poc based on GLM\n",
      "finished estimating species #81 out of 139 species\n",
      "Syracosphaera aurisinae HOL\n",
      "resampling size for spp: Syracosphaera aurisinae HOL\n",
      "estimating cross study cv for spp\n"
     ]
    },
    {
     "name": "stderr",
     "output_type": "stream",
     "text": [
      "/home/phyto-2/miniconda3/envs/abil-env/lib/python3.12/site-packages/statsmodels/genmod/generalized_linear_model.py:308: DomainWarning: The Identity link function does not respect the domain of the Gamma family.\n",
      "  warnings.warn((f\"The {type(family.link).__name__} link function \"\n",
      "/home/phyto-2/miniconda3/envs/abil-env/lib/python3.12/site-packages/statsmodels/genmod/generalized_linear_model.py:308: DomainWarning: The Identity link function does not respect the domain of the Gamma family.\n",
      "  warnings.warn((f\"The {type(family.link).__name__} link function \"\n"
     ]
    },
    {
     "name": "stdout",
     "output_type": "stream",
     "text": [
      "estimating cross study cv for spp\n",
      "estimating pic for spp Syracosphaera aurisinae HOL\n",
      "estimating cross study cv for spp\n",
      "estimating cross study cv for spp\n",
      "estimating pic based on resampling\n",
      "estimating poc for spp Syracosphaera aurisinae HOL\n",
      "estimating poc based on GLM\n",
      "finished estimating species #82 out of 139 species\n",
      "Syracosphaera epigrosa\n",
      "resampling size for spp: Syracosphaera epigrosa\n",
      "estimating cross study cv for spp\n",
      "estimating cross study cv for spp\n",
      "group sd unknown, using cross species sd instead (size)\n",
      "estimating pic for spp Syracosphaera epigrosa\n",
      "estimating pic based on GLM\n",
      "estimating poc for spp Syracosphaera epigrosa\n",
      "estimating poc based on GLM\n",
      "finished estimating species #83 out of 139 species\n",
      "Syracosphaera bannockii\n",
      "resampling size for spp: Syracosphaera bannockii\n",
      "estimating cross study cv for spp\n"
     ]
    },
    {
     "name": "stderr",
     "output_type": "stream",
     "text": [
      "/home/phyto-2/miniconda3/envs/abil-env/lib/python3.12/site-packages/statsmodels/genmod/generalized_linear_model.py:308: DomainWarning: The Identity link function does not respect the domain of the Gamma family.\n",
      "  warnings.warn((f\"The {type(family.link).__name__} link function \"\n",
      "/home/phyto-2/miniconda3/envs/abil-env/lib/python3.12/site-packages/statsmodels/genmod/generalized_linear_model.py:308: DomainWarning: The Identity link function does not respect the domain of the Gamma family.\n",
      "  warnings.warn((f\"The {type(family.link).__name__} link function \"\n"
     ]
    },
    {
     "name": "stdout",
     "output_type": "stream",
     "text": [
      "estimating cross study cv for spp\n",
      "estimating pic for spp Syracosphaera bannockii\n",
      "estimating cross study cv for spp\n",
      "estimating cross study cv for spp\n",
      "estimating pic based on resampling\n",
      "estimating poc for spp Syracosphaera bannockii\n",
      "estimating poc based on GLM\n",
      "finished estimating species #84 out of 139 species\n",
      "Alisphaera extenta\n",
      "resampling size for spp: Alisphaera extenta\n",
      "estimating cross study cv for spp\n",
      "estimating cross study cv for spp\n",
      "group sd unknown, using cross species sd instead (size)\n",
      "estimating pic for spp Alisphaera extenta\n",
      "estimating pic based on GLM\n",
      "estimating poc for spp Alisphaera extenta\n",
      "estimating poc based on GLM\n",
      "finished estimating species #85 out of 139 species\n",
      "Syracosphaera tumularis\n",
      "resampling size for spp: Syracosphaera tumularis\n",
      "estimating cross study cv for spp\n",
      "estimating cross study cv for spp\n"
     ]
    },
    {
     "name": "stderr",
     "output_type": "stream",
     "text": [
      "/home/phyto-2/miniconda3/envs/abil-env/lib/python3.12/site-packages/statsmodels/genmod/generalized_linear_model.py:308: DomainWarning: The Identity link function does not respect the domain of the Gamma family.\n",
      "  warnings.warn((f\"The {type(family.link).__name__} link function \"\n",
      "/home/phyto-2/miniconda3/envs/abil-env/lib/python3.12/site-packages/statsmodels/genmod/generalized_linear_model.py:308: DomainWarning: The Identity link function does not respect the domain of the Gamma family.\n",
      "  warnings.warn((f\"The {type(family.link).__name__} link function \"\n"
     ]
    },
    {
     "name": "stdout",
     "output_type": "stream",
     "text": [
      "group sd unknown, using cross species sd instead (size)\n",
      "group sd unknown, using cross species sd instead (size)\n",
      "group sd unknown, using cross species sd instead (size)\n",
      "estimating pic for spp Syracosphaera tumularis\n",
      "estimating pic based on GLM\n",
      "estimating poc for spp Syracosphaera tumularis\n",
      "estimating poc based on GLM\n",
      "finished estimating species #86 out of 139 species\n",
      "Gephyrocapsa parvula\n",
      "resampling size for spp: Gephyrocapsa parvula\n",
      "estimating cross study cv for spp\n"
     ]
    },
    {
     "name": "stderr",
     "output_type": "stream",
     "text": [
      "/home/phyto-2/miniconda3/envs/abil-env/lib/python3.12/site-packages/statsmodels/genmod/generalized_linear_model.py:308: DomainWarning: The Identity link function does not respect the domain of the Gamma family.\n",
      "  warnings.warn((f\"The {type(family.link).__name__} link function \"\n",
      "/home/phyto-2/miniconda3/envs/abil-env/lib/python3.12/site-packages/statsmodels/genmod/generalized_linear_model.py:308: DomainWarning: The Identity link function does not respect the domain of the Gamma family.\n",
      "  warnings.warn((f\"The {type(family.link).__name__} link function \"\n"
     ]
    },
    {
     "name": "stdout",
     "output_type": "stream",
     "text": [
      "estimating cross study cv for spp\n",
      "estimating pic for spp Gephyrocapsa parvula\n",
      "estimating cross study cv for spp\n",
      "estimating cross study cv for spp\n",
      "estimating pic based on resampling\n",
      "estimating poc for spp Gephyrocapsa parvula\n",
      "estimating cross study cv for spp\n",
      "estimating cross study cv for spp\n",
      "estimating poc based on resampling\n",
      "finished estimating species #87 out of 139 species\n",
      "Helicosphaera wallichii\n",
      "resampling size for spp: Helicosphaera wallichii\n",
      "estimating cross study cv for spp\n",
      "estimating cross study cv for spp\n",
      "estimating pic for spp Helicosphaera wallichii\n",
      "estimating cross study cv for spp\n",
      "estimating cross study cv for spp\n",
      "estimating pic based on resampling\n",
      "estimating poc for spp Helicosphaera wallichii\n",
      "estimating poc based on GLM\n",
      "finished estimating species #88 out of 139 species\n",
      "Homozygosphaera triarcha\n",
      "resampling size for spp: Homozygosphaera triarcha\n",
      "estimating cross study cv for spp\n",
      "estimating cross study cv for spp\n",
      "group sd unknown, using cross species sd instead (size)\n",
      "estimating pic for spp Homozygosphaera triarcha\n",
      "estimating pic based on GLM\n",
      "estimating poc for spp Homozygosphaera triarcha\n",
      "estimating poc based on GLM\n",
      "finished estimating species #89 out of 139 species\n",
      "Syracosphaera pulchra HOL galea type\n",
      "resampling size for spp: Syracosphaera pulchra HOL galea type\n",
      "Syracosphaera pulchra\n",
      "estimating cross study cv for spp\n"
     ]
    },
    {
     "name": "stderr",
     "output_type": "stream",
     "text": [
      "/home/phyto-2/miniconda3/envs/abil-env/lib/python3.12/site-packages/statsmodels/genmod/generalized_linear_model.py:308: DomainWarning: The Identity link function does not respect the domain of the Gamma family.\n",
      "  warnings.warn((f\"The {type(family.link).__name__} link function \"\n",
      "/home/phyto-2/miniconda3/envs/abil-env/lib/python3.12/site-packages/statsmodels/genmod/generalized_linear_model.py:308: DomainWarning: The Identity link function does not respect the domain of the Gamma family.\n",
      "  warnings.warn((f\"The {type(family.link).__name__} link function \"\n"
     ]
    },
    {
     "name": "stdout",
     "output_type": "stream",
     "text": [
      "estimating cross study cv for spp\n",
      "estimating pic for spp Syracosphaera pulchra HOL galea type\n",
      "estimating pic based on GLM\n",
      "estimating poc for spp Syracosphaera pulchra HOL galea type\n",
      "estimating poc based on GLM\n",
      "finished estimating species #90 out of 139 species\n",
      "Syracosphaera ampliora\n",
      "resampling size for spp: Syracosphaera ampliora\n",
      "estimating cross study cv for spp\n"
     ]
    },
    {
     "name": "stderr",
     "output_type": "stream",
     "text": [
      "/home/phyto-2/miniconda3/envs/abil-env/lib/python3.12/site-packages/statsmodels/genmod/generalized_linear_model.py:308: DomainWarning: The Identity link function does not respect the domain of the Gamma family.\n",
      "  warnings.warn((f\"The {type(family.link).__name__} link function \"\n",
      "/home/phyto-2/miniconda3/envs/abil-env/lib/python3.12/site-packages/statsmodels/genmod/generalized_linear_model.py:308: DomainWarning: The Identity link function does not respect the domain of the Gamma family.\n",
      "  warnings.warn((f\"The {type(family.link).__name__} link function \"\n"
     ]
    },
    {
     "name": "stdout",
     "output_type": "stream",
     "text": [
      "estimating cross study cv for spp\n",
      "estimating pic for spp Syracosphaera ampliora\n",
      "estimating pic based on GLM\n",
      "estimating poc for spp Syracosphaera ampliora\n",
      "estimating poc based on GLM\n",
      "finished estimating species #91 out of 139 species\n",
      "Syracosphaera mediterranea HOL gracillima type\n",
      "resampling size for spp: Syracosphaera mediterranea HOL gracillima type\n",
      "Syracosphaera mediterranea\n",
      "estimating cross study cv for spp\n"
     ]
    },
    {
     "name": "stderr",
     "output_type": "stream",
     "text": [
      "/home/phyto-2/miniconda3/envs/abil-env/lib/python3.12/site-packages/statsmodels/genmod/generalized_linear_model.py:308: DomainWarning: The Identity link function does not respect the domain of the Gamma family.\n",
      "  warnings.warn((f\"The {type(family.link).__name__} link function \"\n",
      "/home/phyto-2/miniconda3/envs/abil-env/lib/python3.12/site-packages/statsmodels/genmod/generalized_linear_model.py:308: DomainWarning: The Identity link function does not respect the domain of the Gamma family.\n",
      "  warnings.warn((f\"The {type(family.link).__name__} link function \"\n"
     ]
    },
    {
     "name": "stdout",
     "output_type": "stream",
     "text": [
      "estimating cross study cv for spp\n",
      "estimating pic for spp Syracosphaera mediterranea HOL gracillima type\n",
      "estimating pic based on GLM\n",
      "estimating poc for spp Syracosphaera mediterranea HOL gracillima type\n",
      "estimating poc based on GLM\n",
      "finished estimating species #92 out of 139 species\n",
      "Picarola margalefii\n",
      "resampling size for spp: Picarola margalefii\n",
      "estimating cross study cv for spp\n",
      "estimating cross study cv for spp\n"
     ]
    },
    {
     "name": "stderr",
     "output_type": "stream",
     "text": [
      "/home/phyto-2/miniconda3/envs/abil-env/lib/python3.12/site-packages/statsmodels/genmod/generalized_linear_model.py:308: DomainWarning: The Identity link function does not respect the domain of the Gamma family.\n",
      "  warnings.warn((f\"The {type(family.link).__name__} link function \"\n",
      "/home/phyto-2/miniconda3/envs/abil-env/lib/python3.12/site-packages/statsmodels/genmod/generalized_linear_model.py:308: DomainWarning: The Identity link function does not respect the domain of the Gamma family.\n",
      "  warnings.warn((f\"The {type(family.link).__name__} link function \"\n"
     ]
    },
    {
     "name": "stdout",
     "output_type": "stream",
     "text": [
      "group sd unknown, using cross species sd instead (size)\n",
      "estimating pic for spp Picarola margalefii\n",
      "estimating pic based on GLM\n",
      "estimating poc for spp Picarola margalefii\n",
      "estimating poc based on GLM\n",
      "finished estimating species #93 out of 139 species\n",
      "Pontosphaera syracusana\n",
      "resampling size for spp: Pontosphaera syracusana\n",
      "estimating cross study cv for spp\n",
      "estimating cross study cv for spp\n"
     ]
    },
    {
     "name": "stderr",
     "output_type": "stream",
     "text": [
      "/home/phyto-2/miniconda3/envs/abil-env/lib/python3.12/site-packages/statsmodels/genmod/generalized_linear_model.py:308: DomainWarning: The Identity link function does not respect the domain of the Gamma family.\n",
      "  warnings.warn((f\"The {type(family.link).__name__} link function \"\n",
      "/home/phyto-2/miniconda3/envs/abil-env/lib/python3.12/site-packages/statsmodels/genmod/generalized_linear_model.py:308: DomainWarning: The Identity link function does not respect the domain of the Gamma family.\n",
      "  warnings.warn((f\"The {type(family.link).__name__} link function \"\n"
     ]
    },
    {
     "name": "stdout",
     "output_type": "stream",
     "text": [
      "group sd unknown, using cross species sd instead (size)\n",
      "estimating pic for spp Pontosphaera syracusana\n",
      "estimating pic based on GLM\n",
      "estimating poc for spp Pontosphaera syracusana\n",
      "estimating poc based on GLM\n",
      "finished estimating species #94 out of 139 species\n",
      "Syracosphaera exigua\n",
      "resampling size for spp: Syracosphaera exigua\n",
      "estimating cross study cv for spp\n",
      "estimating cross study cv for spp\n"
     ]
    },
    {
     "name": "stderr",
     "output_type": "stream",
     "text": [
      "/home/phyto-2/miniconda3/envs/abil-env/lib/python3.12/site-packages/statsmodels/genmod/generalized_linear_model.py:308: DomainWarning: The Identity link function does not respect the domain of the Gamma family.\n",
      "  warnings.warn((f\"The {type(family.link).__name__} link function \"\n",
      "/home/phyto-2/miniconda3/envs/abil-env/lib/python3.12/site-packages/statsmodels/genmod/generalized_linear_model.py:308: DomainWarning: The Identity link function does not respect the domain of the Gamma family.\n",
      "  warnings.warn((f\"The {type(family.link).__name__} link function \"\n"
     ]
    },
    {
     "name": "stdout",
     "output_type": "stream",
     "text": [
      "group sd unknown, using cross species sd instead (size)\n",
      "estimating pic for spp Syracosphaera exigua\n",
      "estimating pic based on GLM\n",
      "estimating poc for spp Syracosphaera exigua\n",
      "estimating poc based on GLM\n",
      "finished estimating species #95 out of 139 species\n",
      "Acanthoica acanthos\n",
      "resampling size for spp: Acanthoica acanthos\n",
      "estimating cross study cv for spp\n",
      "estimating cross study cv for spp\n"
     ]
    },
    {
     "name": "stderr",
     "output_type": "stream",
     "text": [
      "/home/phyto-2/miniconda3/envs/abil-env/lib/python3.12/site-packages/statsmodels/genmod/generalized_linear_model.py:308: DomainWarning: The Identity link function does not respect the domain of the Gamma family.\n",
      "  warnings.warn((f\"The {type(family.link).__name__} link function \"\n",
      "/home/phyto-2/miniconda3/envs/abil-env/lib/python3.12/site-packages/statsmodels/genmod/generalized_linear_model.py:308: DomainWarning: The Identity link function does not respect the domain of the Gamma family.\n",
      "  warnings.warn((f\"The {type(family.link).__name__} link function \"\n"
     ]
    },
    {
     "name": "stdout",
     "output_type": "stream",
     "text": [
      "group sd unknown, using cross species sd instead (size)\n",
      "estimating pic for spp Acanthoica acanthos\n",
      "estimating pic based on GLM\n",
      "estimating poc for spp Acanthoica acanthos\n",
      "estimating poc based on GLM\n",
      "finished estimating species #96 out of 139 species\n",
      "Syracosphaera noroitica\n",
      "resampling size for spp: Syracosphaera noroitica\n",
      "estimating cross study cv for spp\n"
     ]
    },
    {
     "name": "stderr",
     "output_type": "stream",
     "text": [
      "/home/phyto-2/miniconda3/envs/abil-env/lib/python3.12/site-packages/statsmodels/genmod/generalized_linear_model.py:308: DomainWarning: The Identity link function does not respect the domain of the Gamma family.\n",
      "  warnings.warn((f\"The {type(family.link).__name__} link function \"\n",
      "/home/phyto-2/miniconda3/envs/abil-env/lib/python3.12/site-packages/statsmodels/genmod/generalized_linear_model.py:308: DomainWarning: The Identity link function does not respect the domain of the Gamma family.\n",
      "  warnings.warn((f\"The {type(family.link).__name__} link function \"\n"
     ]
    },
    {
     "name": "stdout",
     "output_type": "stream",
     "text": [
      "estimating cross study cv for spp\n",
      "estimating pic for spp Syracosphaera noroitica\n",
      "estimating cross study cv for spp\n",
      "estimating cross study cv for spp\n",
      "estimating pic based on resampling\n",
      "estimating poc for spp Syracosphaera noroitica\n",
      "estimating poc based on GLM\n",
      "finished estimating species #97 out of 139 species\n",
      "Acanthoica quattrospina HOL\n",
      "resampling size for spp: Acanthoica quattrospina HOL\n",
      "estimating cross study cv for spp\n",
      "estimating cross study cv for spp\n",
      "group sd unknown, using cross species sd instead (size)\n",
      "estimating pic for spp Acanthoica quattrospina HOL\n",
      "estimating pic based on GLM\n",
      "estimating poc for spp Acanthoica quattrospina HOL\n",
      "estimating poc based on GLM\n",
      "finished estimating species #98 out of 139 species\n",
      "Braarudosphaera bigelowii\n",
      "resampling size for spp: Braarudosphaera bigelowii\n",
      "estimating cross study cv for spp\n"
     ]
    },
    {
     "name": "stderr",
     "output_type": "stream",
     "text": [
      "/home/phyto-2/miniconda3/envs/abil-env/lib/python3.12/site-packages/statsmodels/genmod/generalized_linear_model.py:308: DomainWarning: The Identity link function does not respect the domain of the Gamma family.\n",
      "  warnings.warn((f\"The {type(family.link).__name__} link function \"\n",
      "/home/phyto-2/miniconda3/envs/abil-env/lib/python3.12/site-packages/statsmodels/genmod/generalized_linear_model.py:308: DomainWarning: The Identity link function does not respect the domain of the Gamma family.\n",
      "  warnings.warn((f\"The {type(family.link).__name__} link function \"\n"
     ]
    },
    {
     "name": "stdout",
     "output_type": "stream",
     "text": [
      "estimating cross study cv for spp\n",
      "estimating pic for spp Braarudosphaera bigelowii\n",
      "estimating pic based on GLM\n",
      "estimating poc for spp Braarudosphaera bigelowii\n",
      "estimating poc based on GLM\n",
      "finished estimating species #99 out of 139 species\n",
      "Helicosphaera hyalina\n",
      "resampling size for spp: Helicosphaera hyalina\n",
      "estimating cross study cv for spp\n",
      "estimating cross study cv for spp\n"
     ]
    },
    {
     "name": "stderr",
     "output_type": "stream",
     "text": [
      "/home/phyto-2/miniconda3/envs/abil-env/lib/python3.12/site-packages/statsmodels/genmod/generalized_linear_model.py:308: DomainWarning: The Identity link function does not respect the domain of the Gamma family.\n",
      "  warnings.warn((f\"The {type(family.link).__name__} link function \"\n",
      "/home/phyto-2/miniconda3/envs/abil-env/lib/python3.12/site-packages/statsmodels/genmod/generalized_linear_model.py:308: DomainWarning: The Identity link function does not respect the domain of the Gamma family.\n",
      "  warnings.warn((f\"The {type(family.link).__name__} link function \"\n"
     ]
    },
    {
     "name": "stdout",
     "output_type": "stream",
     "text": [
      "estimating pic for spp Helicosphaera hyalina\n",
      "estimating cross study cv for spp\n",
      "estimating cross study cv for spp\n",
      "estimating pic based on resampling\n",
      "estimating poc for spp Helicosphaera hyalina\n",
      "estimating poc based on GLM\n",
      "finished estimating species #100 out of 139 species\n",
      "Syracosphaera borealis\n",
      "resampling size for spp: Syracosphaera borealis\n",
      "estimating cross study cv for spp\n",
      "estimating cross study cv for spp\n",
      "group sd unknown, using cross species sd instead (size)\n",
      "group sd unknown, using cross species sd instead (size)\n",
      "estimating pic for spp Syracosphaera borealis\n",
      "estimating pic based on GLM\n",
      "estimating poc for spp Syracosphaera borealis\n",
      "estimating poc based on GLM\n",
      "finished estimating species #101 out of 139 species\n",
      "Syracosphaera squamosa\n",
      "resampling size for spp: Syracosphaera squamosa\n",
      "estimating cross study cv for spp\n",
      "estimating cross study cv for spp\n"
     ]
    },
    {
     "name": "stderr",
     "output_type": "stream",
     "text": [
      "/home/phyto-2/miniconda3/envs/abil-env/lib/python3.12/site-packages/statsmodels/genmod/generalized_linear_model.py:308: DomainWarning: The Identity link function does not respect the domain of the Gamma family.\n",
      "  warnings.warn((f\"The {type(family.link).__name__} link function \"\n",
      "/home/phyto-2/miniconda3/envs/abil-env/lib/python3.12/site-packages/statsmodels/genmod/generalized_linear_model.py:308: DomainWarning: The Identity link function does not respect the domain of the Gamma family.\n",
      "  warnings.warn((f\"The {type(family.link).__name__} link function \"\n"
     ]
    },
    {
     "name": "stdout",
     "output_type": "stream",
     "text": [
      "group sd unknown, using cross species sd instead (size)\n",
      "estimating pic for spp Syracosphaera squamosa\n",
      "estimating pic based on GLM\n",
      "estimating poc for spp Syracosphaera squamosa\n",
      "estimating poc based on GLM\n",
      "finished estimating species #102 out of 139 species\n",
      "Syracosphaera gaarderae\n",
      "resampling size for spp: Syracosphaera gaarderae\n",
      "estimating cross study cv for spp\n",
      "estimating cross study cv for spp\n"
     ]
    },
    {
     "name": "stderr",
     "output_type": "stream",
     "text": [
      "/home/phyto-2/miniconda3/envs/abil-env/lib/python3.12/site-packages/statsmodels/genmod/generalized_linear_model.py:308: DomainWarning: The Identity link function does not respect the domain of the Gamma family.\n",
      "  warnings.warn((f\"The {type(family.link).__name__} link function \"\n",
      "/home/phyto-2/miniconda3/envs/abil-env/lib/python3.12/site-packages/statsmodels/genmod/generalized_linear_model.py:308: DomainWarning: The Identity link function does not respect the domain of the Gamma family.\n",
      "  warnings.warn((f\"The {type(family.link).__name__} link function \"\n"
     ]
    },
    {
     "name": "stdout",
     "output_type": "stream",
     "text": [
      "group sd unknown, using cross species sd instead (size)\n",
      "estimating pic for spp Syracosphaera gaarderae\n",
      "estimating pic based on GLM\n",
      "estimating poc for spp Syracosphaera gaarderae\n",
      "estimating poc based on GLM\n",
      "finished estimating species #103 out of 139 species\n",
      "Corisphaera tyrrheniensis\n",
      "resampling size for spp: Corisphaera tyrrheniensis\n",
      "estimating cross study cv for spp\n"
     ]
    },
    {
     "name": "stderr",
     "output_type": "stream",
     "text": [
      "/home/phyto-2/miniconda3/envs/abil-env/lib/python3.12/site-packages/statsmodels/genmod/generalized_linear_model.py:308: DomainWarning: The Identity link function does not respect the domain of the Gamma family.\n",
      "  warnings.warn((f\"The {type(family.link).__name__} link function \"\n",
      "/home/phyto-2/miniconda3/envs/abil-env/lib/python3.12/site-packages/statsmodels/genmod/generalized_linear_model.py:308: DomainWarning: The Identity link function does not respect the domain of the Gamma family.\n",
      "  warnings.warn((f\"The {type(family.link).__name__} link function \"\n"
     ]
    },
    {
     "name": "stdout",
     "output_type": "stream",
     "text": [
      "estimating cross study cv for spp\n",
      "estimating pic for spp Corisphaera tyrrheniensis\n",
      "estimating cross study cv for spp\n",
      "estimating cross study cv for spp\n",
      "estimating pic based on resampling\n",
      "estimating poc for spp Corisphaera tyrrheniensis\n",
      "estimating poc based on GLM\n",
      "finished estimating species #104 out of 139 species\n",
      "Syracosphaera isselii HOL\n",
      "resampling size for spp: Syracosphaera isselii HOL\n",
      "estimating cross study cv for spp\n",
      "estimating cross study cv for spp\n",
      "group sd unknown, using cross species sd instead (size)\n",
      "estimating pic for spp Syracosphaera isselii HOL\n",
      "estimating pic based on GLM\n",
      "estimating poc for spp Syracosphaera isselii HOL\n",
      "estimating poc based on GLM\n",
      "finished estimating species #105 out of 139 species\n",
      "Calyptrolithina multipora\n",
      "resampling size for spp: Calyptrolithina multipora\n",
      "estimating cross study cv for spp\n"
     ]
    },
    {
     "name": "stderr",
     "output_type": "stream",
     "text": [
      "/home/phyto-2/miniconda3/envs/abil-env/lib/python3.12/site-packages/statsmodels/genmod/generalized_linear_model.py:308: DomainWarning: The Identity link function does not respect the domain of the Gamma family.\n",
      "  warnings.warn((f\"The {type(family.link).__name__} link function \"\n",
      "/home/phyto-2/miniconda3/envs/abil-env/lib/python3.12/site-packages/statsmodels/genmod/generalized_linear_model.py:308: DomainWarning: The Identity link function does not respect the domain of the Gamma family.\n",
      "  warnings.warn((f\"The {type(family.link).__name__} link function \"\n"
     ]
    },
    {
     "name": "stdout",
     "output_type": "stream",
     "text": [
      "estimating cross study cv for spp\n",
      "estimating pic for spp Calyptrolithina multipora\n",
      "estimating cross study cv for spp\n",
      "estimating cross study cv for spp\n",
      "estimating pic based on resampling\n",
      "estimating poc for spp Calyptrolithina multipora\n",
      "estimating poc based on GLM\n",
      "finished estimating species #106 out of 139 species\n",
      "Zygosphaera marsilii\n",
      "resampling size for spp: Zygosphaera marsilii\n",
      "estimating cross study cv for spp\n",
      "estimating cross study cv for spp\n",
      "group sd unknown, using cross species sd instead (size)\n",
      "estimating pic for spp Zygosphaera marsilii\n",
      "estimating pic based on GLM\n",
      "estimating poc for spp Zygosphaera marsilii\n",
      "estimating poc based on GLM\n"
     ]
    },
    {
     "name": "stderr",
     "output_type": "stream",
     "text": [
      "/home/phyto-2/miniconda3/envs/abil-env/lib/python3.12/site-packages/statsmodels/genmod/generalized_linear_model.py:308: DomainWarning: The Identity link function does not respect the domain of the Gamma family.\n",
      "  warnings.warn((f\"The {type(family.link).__name__} link function \"\n",
      "/home/phyto-2/miniconda3/envs/abil-env/lib/python3.12/site-packages/statsmodels/genmod/generalized_linear_model.py:308: DomainWarning: The Identity link function does not respect the domain of the Gamma family.\n",
      "  warnings.warn((f\"The {type(family.link).__name__} link function \"\n"
     ]
    },
    {
     "name": "stdout",
     "output_type": "stream",
     "text": [
      "finished estimating species #107 out of 139 species\n",
      "Ceratolithus cristatus CER\n",
      "resampling size for spp: Ceratolithus cristatus CER\n",
      "estimating cross study cv for spp\n",
      "estimating cross study cv for spp\n",
      "group sd unknown, using cross species sd instead (size)\n",
      "estimating pic for spp Ceratolithus cristatus CER\n",
      "estimating pic based on GLM\n",
      "estimating poc for spp Ceratolithus cristatus CER\n",
      "estimating poc based on GLM\n"
     ]
    },
    {
     "name": "stderr",
     "output_type": "stream",
     "text": [
      "/home/phyto-2/miniconda3/envs/abil-env/lib/python3.12/site-packages/statsmodels/genmod/generalized_linear_model.py:308: DomainWarning: The Identity link function does not respect the domain of the Gamma family.\n",
      "  warnings.warn((f\"The {type(family.link).__name__} link function \"\n",
      "/home/phyto-2/miniconda3/envs/abil-env/lib/python3.12/site-packages/statsmodels/genmod/generalized_linear_model.py:308: DomainWarning: The Identity link function does not respect the domain of the Gamma family.\n",
      "  warnings.warn((f\"The {type(family.link).__name__} link function \"\n"
     ]
    },
    {
     "name": "stdout",
     "output_type": "stream",
     "text": [
      "finished estimating species #108 out of 139 species\n",
      "Calicasphaera blokii\n",
      "resampling size for spp: Calicasphaera blokii\n",
      "estimating cross study cv for spp\n",
      "estimating cross study cv for spp\n",
      "group sd unknown, using cross species sd instead (size)\n",
      "estimating pic for spp Calicasphaera blokii\n",
      "estimating pic based on GLM\n",
      "estimating poc for spp Calicasphaera blokii\n",
      "estimating poc based on GLM\n",
      "finished estimating species #109 out of 139 species\n",
      "Sphaerocalyptra adenensis\n",
      "resampling size for spp: Sphaerocalyptra adenensis\n",
      "estimating cross study cv for spp\n",
      "estimating cross study cv for spp\n"
     ]
    },
    {
     "name": "stderr",
     "output_type": "stream",
     "text": [
      "/home/phyto-2/miniconda3/envs/abil-env/lib/python3.12/site-packages/statsmodels/genmod/generalized_linear_model.py:308: DomainWarning: The Identity link function does not respect the domain of the Gamma family.\n",
      "  warnings.warn((f\"The {type(family.link).__name__} link function \"\n",
      "/home/phyto-2/miniconda3/envs/abil-env/lib/python3.12/site-packages/statsmodels/genmod/generalized_linear_model.py:308: DomainWarning: The Identity link function does not respect the domain of the Gamma family.\n",
      "  warnings.warn((f\"The {type(family.link).__name__} link function \"\n"
     ]
    },
    {
     "name": "stdout",
     "output_type": "stream",
     "text": [
      "group sd unknown, using cross species sd instead (size)\n",
      "estimating pic for spp Sphaerocalyptra adenensis\n",
      "estimating pic based on GLM\n"
     ]
    },
    {
     "name": "stderr",
     "output_type": "stream",
     "text": [
      "/home/phyto-2/miniconda3/envs/abil-env/lib/python3.12/site-packages/statsmodels/genmod/generalized_linear_model.py:308: DomainWarning: The Identity link function does not respect the domain of the Gamma family.\n",
      "  warnings.warn((f\"The {type(family.link).__name__} link function \"\n",
      "/home/phyto-2/miniconda3/envs/abil-env/lib/python3.12/site-packages/statsmodels/genmod/generalized_linear_model.py:308: DomainWarning: The Identity link function does not respect the domain of the Gamma family.\n",
      "  warnings.warn((f\"The {type(family.link).__name__} link function \"\n"
     ]
    },
    {
     "name": "stdout",
     "output_type": "stream",
     "text": [
      "estimating poc for spp Sphaerocalyptra adenensis\n",
      "estimating poc based on GLM\n",
      "finished estimating species #110 out of 139 species\n",
      "Wigwamma antarctica\n",
      "resampling size for spp: Wigwamma antarctica\n",
      "estimating cross study cv for spp\n",
      "estimating cross study cv for spp\n",
      "group sd unknown, using cross species sd instead (size)\n",
      "estimating pic for spp Wigwamma antarctica\n",
      "estimating pic based on GLM\n"
     ]
    },
    {
     "name": "stderr",
     "output_type": "stream",
     "text": [
      "/home/phyto-2/miniconda3/envs/abil-env/lib/python3.12/site-packages/statsmodels/genmod/generalized_linear_model.py:308: DomainWarning: The Identity link function does not respect the domain of the Gamma family.\n",
      "  warnings.warn((f\"The {type(family.link).__name__} link function \"\n",
      "/home/phyto-2/miniconda3/envs/abil-env/lib/python3.12/site-packages/statsmodels/genmod/generalized_linear_model.py:308: DomainWarning: The Identity link function does not respect the domain of the Gamma family.\n",
      "  warnings.warn((f\"The {type(family.link).__name__} link function \"\n"
     ]
    },
    {
     "name": "stdout",
     "output_type": "stream",
     "text": [
      "estimating poc for spp Wigwamma antarctica\n",
      "estimating poc based on GLM\n",
      "finished estimating species #111 out of 139 species\n",
      "Syracosphaera nana HOL\n",
      "resampling size for spp: Syracosphaera nana HOL\n",
      "estimating cross study cv for spp\n",
      "estimating cross study cv for spp\n",
      "group sd unknown, using cross species sd instead (size)\n",
      "estimating pic for spp Syracosphaera nana HOL\n",
      "estimating pic based on GLM\n",
      "estimating poc for spp Syracosphaera nana HOL\n",
      "estimating poc based on GLM\n",
      "finished estimating species #112 out of 139 species\n",
      "Syracosphaera mediterranea HOL marisrubri type\n",
      "resampling size for spp: Syracosphaera mediterranea HOL marisrubri type\n",
      "Syracosphaera mediterranea\n",
      "estimating cross study cv for spp\n"
     ]
    },
    {
     "name": "stderr",
     "output_type": "stream",
     "text": [
      "/home/phyto-2/miniconda3/envs/abil-env/lib/python3.12/site-packages/statsmodels/genmod/generalized_linear_model.py:308: DomainWarning: The Identity link function does not respect the domain of the Gamma family.\n",
      "  warnings.warn((f\"The {type(family.link).__name__} link function \"\n",
      "/home/phyto-2/miniconda3/envs/abil-env/lib/python3.12/site-packages/statsmodels/genmod/generalized_linear_model.py:308: DomainWarning: The Identity link function does not respect the domain of the Gamma family.\n",
      "  warnings.warn((f\"The {type(family.link).__name__} link function \"\n"
     ]
    },
    {
     "name": "stdout",
     "output_type": "stream",
     "text": [
      "estimating cross study cv for spp\n",
      "estimating pic for spp Syracosphaera mediterranea HOL marisrubri type\n",
      "estimating pic based on GLM\n",
      "estimating poc for spp Syracosphaera mediterranea HOL marisrubri type\n",
      "estimating poc based on GLM\n",
      "finished estimating species #113 out of 139 species\n",
      "Syracosphaera mediterranea HOL hellenica type\n",
      "resampling size for spp: Syracosphaera mediterranea HOL hellenica type\n",
      "estimating cross study cv for spp\n",
      "estimating cross study cv for spp\n"
     ]
    },
    {
     "name": "stderr",
     "output_type": "stream",
     "text": [
      "/home/phyto-2/miniconda3/envs/abil-env/lib/python3.12/site-packages/statsmodels/genmod/generalized_linear_model.py:308: DomainWarning: The Identity link function does not respect the domain of the Gamma family.\n",
      "  warnings.warn((f\"The {type(family.link).__name__} link function \"\n",
      "/home/phyto-2/miniconda3/envs/abil-env/lib/python3.12/site-packages/statsmodels/genmod/generalized_linear_model.py:308: DomainWarning: The Identity link function does not respect the domain of the Gamma family.\n",
      "  warnings.warn((f\"The {type(family.link).__name__} link function \"\n"
     ]
    },
    {
     "name": "stdout",
     "output_type": "stream",
     "text": [
      "group sd unknown, using cross species sd instead (size)\n",
      "estimating pic for spp Syracosphaera mediterranea HOL hellenica type\n",
      "estimating pic based on GLM\n",
      "estimating poc for spp Syracosphaera mediterranea HOL hellenica type\n",
      "estimating poc based on GLM\n",
      "finished estimating species #114 out of 139 species\n",
      "Alisphaera pinnigera\n",
      "resampling size for spp: Alisphaera pinnigera\n",
      "estimating cross study cv for spp\n",
      "estimating cross study cv for spp\n"
     ]
    },
    {
     "name": "stderr",
     "output_type": "stream",
     "text": [
      "/home/phyto-2/miniconda3/envs/abil-env/lib/python3.12/site-packages/statsmodels/genmod/generalized_linear_model.py:308: DomainWarning: The Identity link function does not respect the domain of the Gamma family.\n",
      "  warnings.warn((f\"The {type(family.link).__name__} link function \"\n",
      "/home/phyto-2/miniconda3/envs/abil-env/lib/python3.12/site-packages/statsmodels/genmod/generalized_linear_model.py:308: DomainWarning: The Identity link function does not respect the domain of the Gamma family.\n",
      "  warnings.warn((f\"The {type(family.link).__name__} link function \"\n"
     ]
    },
    {
     "name": "stdout",
     "output_type": "stream",
     "text": [
      "group sd unknown, using cross species sd instead (size)\n",
      "estimating pic for spp Alisphaera pinnigera\n",
      "estimating pic based on GLM\n",
      "estimating poc for spp Alisphaera pinnigera\n",
      "estimating poc based on GLM\n",
      "finished estimating species #115 out of 139 species\n",
      "Coccolithus pelagicus HOL\n",
      "resampling size for spp: Coccolithus pelagicus HOL\n",
      "estimating cross study cv for spp\n",
      "estimating cross study cv for spp\n"
     ]
    },
    {
     "name": "stderr",
     "output_type": "stream",
     "text": [
      "/home/phyto-2/miniconda3/envs/abil-env/lib/python3.12/site-packages/statsmodels/genmod/generalized_linear_model.py:308: DomainWarning: The Identity link function does not respect the domain of the Gamma family.\n",
      "  warnings.warn((f\"The {type(family.link).__name__} link function \"\n",
      "/home/phyto-2/miniconda3/envs/abil-env/lib/python3.12/site-packages/statsmodels/genmod/generalized_linear_model.py:308: DomainWarning: The Identity link function does not respect the domain of the Gamma family.\n",
      "  warnings.warn((f\"The {type(family.link).__name__} link function \"\n"
     ]
    },
    {
     "name": "stdout",
     "output_type": "stream",
     "text": [
      "group sd unknown, using cross species sd instead (size)\n",
      "estimating pic for spp Coccolithus pelagicus HOL\n",
      "estimating pic based on GLM\n",
      "estimating poc for spp Coccolithus pelagicus HOL\n",
      "estimating poc based on GLM\n"
     ]
    },
    {
     "name": "stderr",
     "output_type": "stream",
     "text": [
      "/home/phyto-2/miniconda3/envs/abil-env/lib/python3.12/site-packages/statsmodels/genmod/generalized_linear_model.py:308: DomainWarning: The Identity link function does not respect the domain of the Gamma family.\n",
      "  warnings.warn((f\"The {type(family.link).__name__} link function \"\n",
      "/home/phyto-2/miniconda3/envs/abil-env/lib/python3.12/site-packages/statsmodels/genmod/generalized_linear_model.py:308: DomainWarning: The Identity link function does not respect the domain of the Gamma family.\n",
      "  warnings.warn((f\"The {type(family.link).__name__} link function \"\n"
     ]
    },
    {
     "name": "stdout",
     "output_type": "stream",
     "text": [
      "finished estimating species #116 out of 139 species\n",
      "Syracosphaera reniformis\n",
      "resampling size for spp: Syracosphaera reniformis\n",
      "estimating cross study cv for spp\n",
      "estimating cross study cv for spp\n",
      "estimating pic for spp Syracosphaera reniformis\n",
      "estimating cross study cv for spp\n",
      "estimating cross study cv for spp\n",
      "estimating pic based on resampling\n",
      "estimating poc for spp Syracosphaera reniformis\n",
      "estimating poc based on GLM\n",
      "finished estimating species #117 out of 139 species\n",
      "Syracosphaera gaarderae HOL\n",
      "resampling size for spp: Syracosphaera gaarderae HOL\n",
      "estimating cross study cv for spp\n",
      "estimating cross study cv for spp\n",
      "group sd unknown, using cross species sd instead (size)\n",
      "estimating pic for spp Syracosphaera gaarderae HOL\n",
      "estimating pic based on GLM\n",
      "estimating poc for spp Syracosphaera gaarderae HOL\n",
      "estimating poc based on GLM\n",
      "finished estimating species #118 out of 139 species\n",
      "Syracosphaera pulchra HOL pirus type\n",
      "resampling size for spp: Syracosphaera pulchra HOL pirus type\n",
      "estimating cross study cv for spp\n"
     ]
    },
    {
     "name": "stderr",
     "output_type": "stream",
     "text": [
      "/home/phyto-2/miniconda3/envs/abil-env/lib/python3.12/site-packages/statsmodels/genmod/generalized_linear_model.py:308: DomainWarning: The Identity link function does not respect the domain of the Gamma family.\n",
      "  warnings.warn((f\"The {type(family.link).__name__} link function \"\n",
      "/home/phyto-2/miniconda3/envs/abil-env/lib/python3.12/site-packages/statsmodels/genmod/generalized_linear_model.py:308: DomainWarning: The Identity link function does not respect the domain of the Gamma family.\n",
      "  warnings.warn((f\"The {type(family.link).__name__} link function \"\n"
     ]
    },
    {
     "name": "stdout",
     "output_type": "stream",
     "text": [
      "estimating cross study cv for spp\n",
      "estimating pic for spp Syracosphaera pulchra HOL pirus type\n",
      "estimating cross study cv for spp\n",
      "estimating cross study cv for spp\n",
      "estimating pic based on resampling\n",
      "mean known for:Syracosphaera pulchra HOL pirus type\n",
      "group sd unknown, using cross species sd instead\n",
      "estimating poc for spp Syracosphaera pulchra HOL pirus type\n",
      "estimating poc based on GLM\n",
      "finished estimating species #119 out of 139 species\n",
      "Alisphaera capulata\n",
      "resampling size for spp: Alisphaera capulata\n",
      "estimating cross study cv for spp\n",
      "estimating cross study cv for spp\n",
      "group sd unknown, using cross species sd instead (size)\n",
      "group sd unknown, using cross species sd instead (size)\n",
      "group sd unknown, using cross species sd instead (size)\n",
      "estimating pic for spp Alisphaera capulata\n",
      "estimating cross study cv for spp\n",
      "estimating cross study cv for spp\n",
      "estimating pic based on resampling\n",
      "mean known for:Alisphaera capulata\n",
      "group sd unknown, using cross species sd instead\n",
      "estimating poc for spp Alisphaera capulata\n",
      "estimating poc based on GLM\n",
      "finished estimating species #120 out of 139 species\n",
      "Helicosphaera HOL ponticuliferus type\n",
      "resampling size for spp: Helicosphaera HOL ponticuliferus type\n",
      "estimating cross study cv for spp\n",
      "estimating cross study cv for spp\n",
      "group sd unknown, using cross species sd instead (size)\n",
      "estimating pic for spp Helicosphaera HOL ponticuliferus type\n",
      "estimating pic based on GLM\n",
      "estimating poc for spp Helicosphaera HOL ponticuliferus type\n",
      "estimating poc based on GLM\n"
     ]
    },
    {
     "name": "stderr",
     "output_type": "stream",
     "text": [
      "/home/phyto-2/miniconda3/envs/abil-env/lib/python3.12/site-packages/statsmodels/genmod/generalized_linear_model.py:308: DomainWarning: The Identity link function does not respect the domain of the Gamma family.\n",
      "  warnings.warn((f\"The {type(family.link).__name__} link function \"\n",
      "/home/phyto-2/miniconda3/envs/abil-env/lib/python3.12/site-packages/statsmodels/genmod/generalized_linear_model.py:308: DomainWarning: The Identity link function does not respect the domain of the Gamma family.\n",
      "  warnings.warn((f\"The {type(family.link).__name__} link function \"\n"
     ]
    },
    {
     "name": "stdout",
     "output_type": "stream",
     "text": [
      "finished estimating species #121 out of 139 species\n",
      "Alisphaera gaudii POL\n",
      "resampling size for spp: Alisphaera gaudii POL\n",
      "estimating cross study cv for spp\n",
      "estimating cross study cv for spp\n",
      "group sd unknown, using cross species sd instead (size)\n",
      "estimating pic for spp Alisphaera gaudii POL\n",
      "estimating pic based on GLM\n",
      "estimating poc for spp Alisphaera gaudii POL\n",
      "estimating poc based on GLM\n",
      "finished estimating species #122 out of 139 species\n",
      "Gliscolithus amitakareniae\n",
      "resampling size for spp: Gliscolithus amitakareniae\n",
      "estimating cross study cv for spp\n",
      "estimating cross study cv for spp\n"
     ]
    },
    {
     "name": "stderr",
     "output_type": "stream",
     "text": [
      "/home/phyto-2/miniconda3/envs/abil-env/lib/python3.12/site-packages/statsmodels/genmod/generalized_linear_model.py:308: DomainWarning: The Identity link function does not respect the domain of the Gamma family.\n",
      "  warnings.warn((f\"The {type(family.link).__name__} link function \"\n",
      "/home/phyto-2/miniconda3/envs/abil-env/lib/python3.12/site-packages/statsmodels/genmod/generalized_linear_model.py:308: DomainWarning: The Identity link function does not respect the domain of the Gamma family.\n",
      "  warnings.warn((f\"The {type(family.link).__name__} link function \"\n"
     ]
    },
    {
     "name": "stdout",
     "output_type": "stream",
     "text": [
      "group sd unknown, using cross species sd instead (size)\n",
      "estimating pic for spp Gliscolithus amitakareniae\n",
      "estimating pic based on GLM\n",
      "estimating poc for spp Gliscolithus amitakareniae\n",
      "estimating poc based on GLM\n",
      "finished estimating species #123 out of 139 species\n",
      "Pappomonas sp. type 5\n",
      "resampling size for spp: Pappomonas sp. type 5\n",
      "estimating cross study cv for spp\n",
      "estimating cross study cv for spp\n"
     ]
    },
    {
     "name": "stderr",
     "output_type": "stream",
     "text": [
      "/home/phyto-2/miniconda3/envs/abil-env/lib/python3.12/site-packages/statsmodels/genmod/generalized_linear_model.py:308: DomainWarning: The Identity link function does not respect the domain of the Gamma family.\n",
      "  warnings.warn((f\"The {type(family.link).__name__} link function \"\n",
      "/home/phyto-2/miniconda3/envs/abil-env/lib/python3.12/site-packages/statsmodels/genmod/generalized_linear_model.py:308: DomainWarning: The Identity link function does not respect the domain of the Gamma family.\n",
      "  warnings.warn((f\"The {type(family.link).__name__} link function \"\n"
     ]
    },
    {
     "name": "stdout",
     "output_type": "stream",
     "text": [
      "group sd unknown, using cross species sd instead (size)\n",
      "estimating pic for spp Pappomonas sp. type 5\n",
      "estimating pic based on GLM\n"
     ]
    },
    {
     "name": "stderr",
     "output_type": "stream",
     "text": [
      "/home/phyto-2/miniconda3/envs/abil-env/lib/python3.12/site-packages/statsmodels/genmod/generalized_linear_model.py:308: DomainWarning: The Identity link function does not respect the domain of the Gamma family.\n",
      "  warnings.warn((f\"The {type(family.link).__name__} link function \"\n",
      "/home/phyto-2/miniconda3/envs/abil-env/lib/python3.12/site-packages/statsmodels/genmod/generalized_linear_model.py:308: DomainWarning: The Identity link function does not respect the domain of the Gamma family.\n",
      "  warnings.warn((f\"The {type(family.link).__name__} link function \"\n"
     ]
    },
    {
     "name": "stdout",
     "output_type": "stream",
     "text": [
      "estimating poc for spp Pappomonas sp. type 5\n",
      "estimating poc based on GLM\n",
      "finished estimating species #124 out of 139 species\n",
      "Pappomonas sp. type 3\n",
      "resampling size for spp: Pappomonas sp. type 3\n",
      "estimating cross study cv for spp\n",
      "estimating cross study cv for spp\n",
      "group sd unknown, using cross species sd instead (size)\n",
      "estimating pic for spp Pappomonas sp. type 3\n",
      "estimating pic based on GLM\n"
     ]
    },
    {
     "name": "stderr",
     "output_type": "stream",
     "text": [
      "/home/phyto-2/miniconda3/envs/abil-env/lib/python3.12/site-packages/statsmodels/genmod/generalized_linear_model.py:308: DomainWarning: The Identity link function does not respect the domain of the Gamma family.\n",
      "  warnings.warn((f\"The {type(family.link).__name__} link function \"\n",
      "/home/phyto-2/miniconda3/envs/abil-env/lib/python3.12/site-packages/statsmodels/genmod/generalized_linear_model.py:308: DomainWarning: The Identity link function does not respect the domain of the Gamma family.\n",
      "  warnings.warn((f\"The {type(family.link).__name__} link function \"\n"
     ]
    },
    {
     "name": "stdout",
     "output_type": "stream",
     "text": [
      "estimating poc for spp Pappomonas sp. type 3\n",
      "estimating poc based on GLM\n",
      "finished estimating species #125 out of 139 species\n",
      "Calicasphaera concava\n",
      "resampling size for spp: Calicasphaera concava\n",
      "estimating cross study cv for spp\n",
      "estimating cross study cv for spp\n",
      "group sd unknown, using cross species sd instead (size)\n",
      "estimating pic for spp Calicasphaera concava\n",
      "estimating pic based on GLM\n"
     ]
    },
    {
     "name": "stderr",
     "output_type": "stream",
     "text": [
      "/home/phyto-2/miniconda3/envs/abil-env/lib/python3.12/site-packages/statsmodels/genmod/generalized_linear_model.py:308: DomainWarning: The Identity link function does not respect the domain of the Gamma family.\n",
      "  warnings.warn((f\"The {type(family.link).__name__} link function \"\n",
      "/home/phyto-2/miniconda3/envs/abil-env/lib/python3.12/site-packages/statsmodels/genmod/generalized_linear_model.py:308: DomainWarning: The Identity link function does not respect the domain of the Gamma family.\n",
      "  warnings.warn((f\"The {type(family.link).__name__} link function \"\n"
     ]
    },
    {
     "name": "stdout",
     "output_type": "stream",
     "text": [
      "estimating poc for spp Calicasphaera concava\n",
      "estimating poc based on GLM\n",
      "finished estimating species #126 out of 139 species\n",
      "Formonsella pyramidosa\n",
      "resampling size for spp: Formonsella pyramidosa\n",
      "estimating cross study cv for spp\n",
      "estimating cross study cv for spp\n",
      "group sd unknown, using cross species sd instead (size)\n",
      "estimating pic for spp Formonsella pyramidosa\n",
      "estimating pic based on GLM\n"
     ]
    },
    {
     "name": "stderr",
     "output_type": "stream",
     "text": [
      "/home/phyto-2/miniconda3/envs/abil-env/lib/python3.12/site-packages/statsmodels/genmod/generalized_linear_model.py:308: DomainWarning: The Identity link function does not respect the domain of the Gamma family.\n",
      "  warnings.warn((f\"The {type(family.link).__name__} link function \"\n",
      "/home/phyto-2/miniconda3/envs/abil-env/lib/python3.12/site-packages/statsmodels/genmod/generalized_linear_model.py:308: DomainWarning: The Identity link function does not respect the domain of the Gamma family.\n",
      "  warnings.warn((f\"The {type(family.link).__name__} link function \"\n"
     ]
    },
    {
     "name": "stdout",
     "output_type": "stream",
     "text": [
      "estimating poc for spp Formonsella pyramidosa\n",
      "estimating poc based on GLM\n",
      "finished estimating species #127 out of 139 species\n",
      "Hayaster perplexus\n",
      "resampling size for spp: Hayaster perplexus\n",
      "estimating cross study cv for spp\n",
      "estimating cross study cv for spp\n",
      "group sd unknown, using cross species sd instead (size)\n",
      "estimating pic for spp Hayaster perplexus\n",
      "estimating pic based on GLM\n"
     ]
    },
    {
     "name": "stderr",
     "output_type": "stream",
     "text": [
      "/home/phyto-2/miniconda3/envs/abil-env/lib/python3.12/site-packages/statsmodels/genmod/generalized_linear_model.py:308: DomainWarning: The Identity link function does not respect the domain of the Gamma family.\n",
      "  warnings.warn((f\"The {type(family.link).__name__} link function \"\n",
      "/home/phyto-2/miniconda3/envs/abil-env/lib/python3.12/site-packages/statsmodels/genmod/generalized_linear_model.py:308: DomainWarning: The Identity link function does not respect the domain of the Gamma family.\n",
      "  warnings.warn((f\"The {type(family.link).__name__} link function \"\n"
     ]
    },
    {
     "name": "stdout",
     "output_type": "stream",
     "text": [
      "estimating poc for spp Hayaster perplexus\n",
      "estimating poc based on GLM\n",
      "finished estimating species #128 out of 139 species\n",
      "Syracosphaera strigilis\n",
      "resampling size for spp: Syracosphaera strigilis\n",
      "estimating cross study cv for spp\n",
      "estimating cross study cv for spp\n",
      "group sd unknown, using cross species sd instead (size)\n",
      "estimating pic for spp Syracosphaera strigilis\n",
      "estimating pic based on GLM\n"
     ]
    },
    {
     "name": "stderr",
     "output_type": "stream",
     "text": [
      "/home/phyto-2/miniconda3/envs/abil-env/lib/python3.12/site-packages/statsmodels/genmod/generalized_linear_model.py:308: DomainWarning: The Identity link function does not respect the domain of the Gamma family.\n",
      "  warnings.warn((f\"The {type(family.link).__name__} link function \"\n",
      "/home/phyto-2/miniconda3/envs/abil-env/lib/python3.12/site-packages/statsmodels/genmod/generalized_linear_model.py:308: DomainWarning: The Identity link function does not respect the domain of the Gamma family.\n",
      "  warnings.warn((f\"The {type(family.link).__name__} link function \"\n"
     ]
    },
    {
     "name": "stdout",
     "output_type": "stream",
     "text": [
      "estimating poc for spp Syracosphaera strigilis\n",
      "estimating poc based on GLM\n",
      "finished estimating species #129 out of 139 species\n",
      "Helicosphaera HOL confusus type\n",
      "resampling size for spp: Helicosphaera HOL confusus type\n",
      "estimating cross study cv for spp\n",
      "estimating cross study cv for spp\n",
      "group sd unknown, using cross species sd instead (size)\n",
      "estimating pic for spp Helicosphaera HOL confusus type\n",
      "estimating pic based on GLM\n",
      "estimating poc for spp Helicosphaera HOL confusus type\n",
      "estimating poc based on GLM\n",
      "finished estimating species #130 out of 139 species\n",
      "Helladosphaera pienaarii\n",
      "resampling size for spp: Helladosphaera pienaarii\n",
      "estimating cross study cv for spp\n",
      "estimating cross study cv for spp\n"
     ]
    },
    {
     "name": "stderr",
     "output_type": "stream",
     "text": [
      "/home/phyto-2/miniconda3/envs/abil-env/lib/python3.12/site-packages/statsmodels/genmod/generalized_linear_model.py:308: DomainWarning: The Identity link function does not respect the domain of the Gamma family.\n",
      "  warnings.warn((f\"The {type(family.link).__name__} link function \"\n",
      "/home/phyto-2/miniconda3/envs/abil-env/lib/python3.12/site-packages/statsmodels/genmod/generalized_linear_model.py:308: DomainWarning: The Identity link function does not respect the domain of the Gamma family.\n",
      "  warnings.warn((f\"The {type(family.link).__name__} link function \"\n"
     ]
    },
    {
     "name": "stdout",
     "output_type": "stream",
     "text": [
      "group sd unknown, using cross species sd instead (size)\n",
      "group sd unknown, using cross species sd instead (size)\n",
      "estimating pic for spp Helladosphaera pienaarii\n",
      "estimating pic based on GLM\n"
     ]
    },
    {
     "name": "stderr",
     "output_type": "stream",
     "text": [
      "/home/phyto-2/miniconda3/envs/abil-env/lib/python3.12/site-packages/statsmodels/genmod/generalized_linear_model.py:308: DomainWarning: The Identity link function does not respect the domain of the Gamma family.\n",
      "  warnings.warn((f\"The {type(family.link).__name__} link function \"\n",
      "/home/phyto-2/miniconda3/envs/abil-env/lib/python3.12/site-packages/statsmodels/genmod/generalized_linear_model.py:308: DomainWarning: The Identity link function does not respect the domain of the Gamma family.\n",
      "  warnings.warn((f\"The {type(family.link).__name__} link function \"\n"
     ]
    },
    {
     "name": "stdout",
     "output_type": "stream",
     "text": [
      "estimating poc for spp Helladosphaera pienaarii\n",
      "estimating poc based on GLM\n",
      "finished estimating species #131 out of 139 species\n",
      "Syracosphaera lafourcadii HOL\n",
      "resampling size for spp: Syracosphaera lafourcadii HOL\n",
      "estimating cross study cv for spp\n",
      "estimating cross study cv for spp\n",
      "group sd unknown, using cross species sd instead (size)\n",
      "estimating pic for spp Syracosphaera lafourcadii HOL\n",
      "estimating pic based on GLM\n"
     ]
    },
    {
     "name": "stderr",
     "output_type": "stream",
     "text": [
      "/home/phyto-2/miniconda3/envs/abil-env/lib/python3.12/site-packages/statsmodels/genmod/generalized_linear_model.py:308: DomainWarning: The Identity link function does not respect the domain of the Gamma family.\n",
      "  warnings.warn((f\"The {type(family.link).__name__} link function \"\n",
      "/home/phyto-2/miniconda3/envs/abil-env/lib/python3.12/site-packages/statsmodels/genmod/generalized_linear_model.py:308: DomainWarning: The Identity link function does not respect the domain of the Gamma family.\n",
      "  warnings.warn((f\"The {type(family.link).__name__} link function \"\n"
     ]
    },
    {
     "name": "stdout",
     "output_type": "stream",
     "text": [
      "estimating poc for spp Syracosphaera lafourcadii HOL\n",
      "estimating poc based on GLM\n",
      "finished estimating species #132 out of 139 species\n",
      "Calicasphaera diconstricta\n",
      "resampling size for spp: Calicasphaera diconstricta\n",
      "estimating cross study cv for spp\n",
      "estimating cross study cv for spp\n",
      "group sd unknown, using cross species sd instead (size)\n",
      "estimating pic for spp Calicasphaera diconstricta\n",
      "estimating pic based on GLM\n",
      "estimating poc for spp Calicasphaera diconstricta\n",
      "estimating poc based on GLM\n"
     ]
    },
    {
     "name": "stderr",
     "output_type": "stream",
     "text": [
      "/home/phyto-2/miniconda3/envs/abil-env/lib/python3.12/site-packages/statsmodels/genmod/generalized_linear_model.py:308: DomainWarning: The Identity link function does not respect the domain of the Gamma family.\n",
      "  warnings.warn((f\"The {type(family.link).__name__} link function \"\n",
      "/home/phyto-2/miniconda3/envs/abil-env/lib/python3.12/site-packages/statsmodels/genmod/generalized_linear_model.py:308: DomainWarning: The Identity link function does not respect the domain of the Gamma family.\n",
      "  warnings.warn((f\"The {type(family.link).__name__} link function \"\n"
     ]
    },
    {
     "name": "stdout",
     "output_type": "stream",
     "text": [
      "finished estimating species #133 out of 139 species\n",
      "Turrilithus latericioides\n",
      "resampling size for spp: Turrilithus latericioides\n",
      "estimating cross study cv for spp\n",
      "estimating cross study cv for spp\n",
      "group sd unknown, using cross species sd instead (size)\n",
      "estimating pic for spp Turrilithus latericioides\n",
      "estimating pic based on GLM\n",
      "estimating poc for spp Turrilithus latericioides\n",
      "estimating poc based on GLM\n",
      "finished estimating species #134 out of 139 species\n",
      "Algirosphaera cucullata\n",
      "resampling size for spp: Algirosphaera cucullata\n",
      "estimating cross study cv for spp\n",
      "estimating cross study cv for spp\n"
     ]
    },
    {
     "name": "stderr",
     "output_type": "stream",
     "text": [
      "/home/phyto-2/miniconda3/envs/abil-env/lib/python3.12/site-packages/statsmodels/genmod/generalized_linear_model.py:308: DomainWarning: The Identity link function does not respect the domain of the Gamma family.\n",
      "  warnings.warn((f\"The {type(family.link).__name__} link function \"\n",
      "/home/phyto-2/miniconda3/envs/abil-env/lib/python3.12/site-packages/statsmodels/genmod/generalized_linear_model.py:308: DomainWarning: The Identity link function does not respect the domain of the Gamma family.\n",
      "  warnings.warn((f\"The {type(family.link).__name__} link function \"\n"
     ]
    },
    {
     "name": "stdout",
     "output_type": "stream",
     "text": [
      "group sd unknown, using cross species sd instead (size)\n",
      "estimating pic for spp Algirosphaera cucullata\n",
      "estimating pic based on GLM\n",
      "estimating poc for spp Algirosphaera cucullata\n",
      "estimating poc based on GLM\n"
     ]
    },
    {
     "name": "stderr",
     "output_type": "stream",
     "text": [
      "/home/phyto-2/miniconda3/envs/abil-env/lib/python3.12/site-packages/statsmodels/genmod/generalized_linear_model.py:308: DomainWarning: The Identity link function does not respect the domain of the Gamma family.\n",
      "  warnings.warn((f\"The {type(family.link).__name__} link function \"\n",
      "/home/phyto-2/miniconda3/envs/abil-env/lib/python3.12/site-packages/statsmodels/genmod/generalized_linear_model.py:308: DomainWarning: The Identity link function does not respect the domain of the Gamma family.\n",
      "  warnings.warn((f\"The {type(family.link).__name__} link function \"\n"
     ]
    },
    {
     "name": "stdout",
     "output_type": "stream",
     "text": [
      "finished estimating species #135 out of 139 species\n",
      "Sphaerocalyptra sp. 1\n",
      "resampling size for spp: Sphaerocalyptra sp. 1\n",
      "estimating cross study cv for spp\n",
      "estimating cross study cv for spp\n",
      "group sd unknown, using cross species sd instead (size)\n",
      "estimating pic for spp Sphaerocalyptra sp. 1\n",
      "estimating pic based on GLM\n",
      "estimating poc for spp Sphaerocalyptra sp. 1\n",
      "estimating poc based on GLM\n"
     ]
    },
    {
     "name": "stderr",
     "output_type": "stream",
     "text": [
      "/home/phyto-2/miniconda3/envs/abil-env/lib/python3.12/site-packages/statsmodels/genmod/generalized_linear_model.py:308: DomainWarning: The Identity link function does not respect the domain of the Gamma family.\n",
      "  warnings.warn((f\"The {type(family.link).__name__} link function \"\n",
      "/home/phyto-2/miniconda3/envs/abil-env/lib/python3.12/site-packages/statsmodels/genmod/generalized_linear_model.py:308: DomainWarning: The Identity link function does not respect the domain of the Gamma family.\n",
      "  warnings.warn((f\"The {type(family.link).__name__} link function \"\n"
     ]
    },
    {
     "name": "stdout",
     "output_type": "stream",
     "text": [
      "finished estimating species #136 out of 139 species\n",
      "Poritectolithus maximus\n",
      "resampling size for spp: Poritectolithus maximus\n",
      "estimating cross study cv for spp\n",
      "estimating cross study cv for spp\n",
      "group sd unknown, using cross species sd instead (size)\n",
      "estimating pic for spp Poritectolithus maximus\n",
      "estimating pic based on GLM\n",
      "estimating poc for spp Poritectolithus maximus\n",
      "estimating poc based on GLM\n"
     ]
    },
    {
     "name": "stderr",
     "output_type": "stream",
     "text": [
      "/home/phyto-2/miniconda3/envs/abil-env/lib/python3.12/site-packages/statsmodels/genmod/generalized_linear_model.py:308: DomainWarning: The Identity link function does not respect the domain of the Gamma family.\n",
      "  warnings.warn((f\"The {type(family.link).__name__} link function \"\n",
      "/home/phyto-2/miniconda3/envs/abil-env/lib/python3.12/site-packages/statsmodels/genmod/generalized_linear_model.py:308: DomainWarning: The Identity link function does not respect the domain of the Gamma family.\n",
      "  warnings.warn((f\"The {type(family.link).__name__} link function \"\n"
     ]
    },
    {
     "name": "stdout",
     "output_type": "stream",
     "text": [
      "finished estimating species #137 out of 139 species\n",
      "Holococcolithophora dentata\n",
      "resampling size for spp: Holococcolithophora dentata\n",
      "estimating cross study cv for spp\n",
      "estimating cross study cv for spp\n",
      "group sd unknown, using cross species sd instead (size)\n",
      "estimating pic for spp Holococcolithophora dentata\n",
      "estimating pic based on GLM\n"
     ]
    },
    {
     "name": "stderr",
     "output_type": "stream",
     "text": [
      "/home/phyto-2/miniconda3/envs/abil-env/lib/python3.12/site-packages/statsmodels/genmod/generalized_linear_model.py:308: DomainWarning: The Identity link function does not respect the domain of the Gamma family.\n",
      "  warnings.warn((f\"The {type(family.link).__name__} link function \"\n",
      "/home/phyto-2/miniconda3/envs/abil-env/lib/python3.12/site-packages/statsmodels/genmod/generalized_linear_model.py:308: DomainWarning: The Identity link function does not respect the domain of the Gamma family.\n",
      "  warnings.warn((f\"The {type(family.link).__name__} link function \"\n"
     ]
    },
    {
     "name": "stdout",
     "output_type": "stream",
     "text": [
      "estimating poc for spp Holococcolithophora dentata\n",
      "estimating poc based on GLM\n",
      "finished estimating species #138 out of 139 species\n",
      "Syracolithus sp. type A\n",
      "resampling size for spp: Syracolithus sp. type A\n",
      "estimating cross study cv for spp\n",
      "estimating cross study cv for spp\n",
      "group sd unknown, using cross species sd instead (size)\n",
      "estimating pic for spp Syracolithus sp. type A\n",
      "estimating pic based on GLM\n",
      "estimating poc for spp Syracolithus sp. type A\n",
      "estimating poc based on GLM\n",
      "finished estimating species #139 out of 139 species\n"
     ]
    },
    {
     "name": "stderr",
     "output_type": "stream",
     "text": [
      "/home/phyto-2/miniconda3/envs/abil-env/lib/python3.12/site-packages/statsmodels/genmod/generalized_linear_model.py:308: DomainWarning: The Identity link function does not respect the domain of the Gamma family.\n",
      "  warnings.warn((f\"The {type(family.link).__name__} link function \"\n",
      "/home/phyto-2/miniconda3/envs/abil-env/lib/python3.12/site-packages/statsmodels/genmod/generalized_linear_model.py:308: DomainWarning: The Identity link function does not respect the domain of the Gamma family.\n",
      "  warnings.warn((f\"The {type(family.link).__name__} link function \"\n"
     ]
    }
   ],
   "source": [
    "'''\n",
    "Merging size, POC and PIC estimates:\n",
    "\n",
    "'''\n",
    "m = pipeline(root= '/home/phyto-2/CASCADE/data/')\n",
    "m.export_all(\"/home/phyto-2/CASCADE/data/output/cellular_dataset.csv\",\n",
    "              loop_range = range(0, 139)\n",
    ")"
   ]
  }
 ],
 "metadata": {
  "kernelspec": {
   "display_name": "my-geopandas-env-2",
   "language": "python",
   "name": "python3"
  },
  "language_info": {
   "codemirror_mode": {
    "name": "ipython",
    "version": 3
   },
   "file_extension": ".py",
   "mimetype": "text/x-python",
   "name": "python",
   "nbconvert_exporter": "python",
   "pygments_lexer": "ipython3",
   "version": "3.11.4"
  }
 },
 "nbformat": 4,
 "nbformat_minor": 2
}
