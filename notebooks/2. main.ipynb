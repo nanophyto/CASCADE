{
 "cells": [
  {
   "cell_type": "code",
   "execution_count": 1,
   "metadata": {},
   "outputs": [],
   "source": [
    "from math import log10, floor\n",
    "import numpy as np\n",
    "import pandas as pd\n",
    "import sys, glob, os"
   ]
  },
  {
   "cell_type": "code",
   "execution_count": 2,
   "metadata": {},
   "outputs": [],
   "source": [
    "sys.path.insert(0, '/home/phyto/CASCADE/cascade/')\n",
    "from pre import  pre_abundances\n",
    "from main import merge_abundances, pipeline\n",
    "from functions import abundance_refs_table, rename_synonyms"
   ]
  },
  {
   "cell_type": "code",
   "execution_count": 3,
   "metadata": {},
   "outputs": [
    {
     "name": "stdout",
     "output_type": "stream",
     "text": [
      "all species are defined\n",
      "ungridded abundances exported to: /home/phyto/CASCADE/data/output/ungridded_observations.csv\n",
      "gridded abundances exported to: /home/phyto/CASCADE/data/output/gridded_observations.csv\n"
     ]
    }
   ],
   "source": [
    "'''\n",
    "Merging abundances:\n",
    "\n",
    "Note that this assumes you have already pre-processed you data such that the dimensions are:\n",
    "Latitude, Longitude, Month, Day, Year, Reference, and Method\n",
    "All species should furthermore be defined in: ../data/classification/synonyms.yml\n",
    "'''\n",
    "\n",
    "m = merge_abundances(import_path=\"/home/phyto/CASCADE/data/abundances\", \n",
    "                     export_path=\"/home/phyto/CASCADE/data/output/\")\n",
    "\n",
    "m.export_obs_counts()\n",
    "m.export_ungridded_abundances()\n",
    "m.export_gridded_abundances()"
   ]
  },
  {
   "cell_type": "code",
   "execution_count": 4,
   "metadata": {},
   "outputs": [
    {
     "name": "stdout",
     "output_type": "stream",
     "text": [
      "concatenated abundances: 4261\n",
      "concatenated observations: 30318\n",
      "gridded abundances: 3170\n",
      "gridded observations: 37505\n"
     ]
    }
   ],
   "source": [
    "m.print_stats()"
   ]
  },
  {
   "cell_type": "code",
   "execution_count": 19,
   "metadata": {},
   "outputs": [
    {
     "name": "stdout",
     "output_type": "stream",
     "text": [
      "exported yml to: /home/phyto/CASCADE/data//output/library.yml\n",
      "Formonsella pyramidosa\n",
      "resampling size for spp: Formonsella pyramidosa\n",
      "estimating cross study cv for spp\n",
      "estimating cross study cv for spp\n",
      "group sd unknown, using cross species sd instead (size)\n",
      "estimating pic for spp Formonsella pyramidosa\n",
      "estimating pic based on GLM\n"
     ]
    },
    {
     "name": "stderr",
     "output_type": "stream",
     "text": [
      "/home/phyto/anaconda3/envs/my-geopandas-env-2/lib/python3.11/site-packages/statsmodels/genmod/generalized_linear_model.py:307: DomainWarning: The Identity link function does not respect the domain of the Gamma family.\n",
      "  warnings.warn((f\"The {type(family.link).__name__} link function \"\n",
      "/home/phyto/anaconda3/envs/my-geopandas-env-2/lib/python3.11/site-packages/statsmodels/genmod/generalized_linear_model.py:307: DomainWarning: The Identity link function does not respect the domain of the Gamma family.\n",
      "  warnings.warn((f\"The {type(family.link).__name__} link function \"\n"
     ]
    },
    {
     "name": "stdout",
     "output_type": "stream",
     "text": [
      "estimating poc for spp Formonsella pyramidosa\n",
      "estimating poc based on GLM\n",
      "finished estimating species #119 out of 132 species\n",
      "Hayaster perplexus\n",
      "resampling size for spp: Hayaster perplexus\n",
      "estimating cross study cv for spp\n",
      "estimating cross study cv for spp\n",
      "group sd unknown, using cross species sd instead (size)\n",
      "estimating pic for spp Hayaster perplexus\n",
      "estimating pic based on GLM\n"
     ]
    },
    {
     "name": "stderr",
     "output_type": "stream",
     "text": [
      "/home/phyto/anaconda3/envs/my-geopandas-env-2/lib/python3.11/site-packages/statsmodels/genmod/generalized_linear_model.py:307: DomainWarning: The Identity link function does not respect the domain of the Gamma family.\n",
      "  warnings.warn((f\"The {type(family.link).__name__} link function \"\n",
      "/home/phyto/anaconda3/envs/my-geopandas-env-2/lib/python3.11/site-packages/statsmodels/genmod/generalized_linear_model.py:307: DomainWarning: The Identity link function does not respect the domain of the Gamma family.\n",
      "  warnings.warn((f\"The {type(family.link).__name__} link function \"\n"
     ]
    },
    {
     "name": "stdout",
     "output_type": "stream",
     "text": [
      "estimating poc for spp Hayaster perplexus\n",
      "estimating poc based on GLM\n",
      "finished estimating species #120 out of 132 species\n",
      "Helicosphaera HOL confusus type\n",
      "resampling size for spp: Helicosphaera HOL confusus type\n",
      "estimating cross study cv for spp\n",
      "estimating cross study cv for spp\n",
      "group sd unknown, using cross species sd instead (size)\n",
      "estimating pic for spp Helicosphaera HOL confusus type\n",
      "estimating pic based on GLM\n"
     ]
    },
    {
     "name": "stderr",
     "output_type": "stream",
     "text": [
      "/home/phyto/anaconda3/envs/my-geopandas-env-2/lib/python3.11/site-packages/statsmodels/genmod/generalized_linear_model.py:307: DomainWarning: The Identity link function does not respect the domain of the Gamma family.\n",
      "  warnings.warn((f\"The {type(family.link).__name__} link function \"\n",
      "/home/phyto/anaconda3/envs/my-geopandas-env-2/lib/python3.11/site-packages/statsmodels/genmod/generalized_linear_model.py:307: DomainWarning: The Identity link function does not respect the domain of the Gamma family.\n",
      "  warnings.warn((f\"The {type(family.link).__name__} link function \"\n"
     ]
    },
    {
     "name": "stdout",
     "output_type": "stream",
     "text": [
      "estimating poc for spp Helicosphaera HOL confusus type\n",
      "estimating poc based on GLM\n",
      "finished estimating species #121 out of 132 species\n",
      "Calicasphaera concava\n",
      "resampling size for spp: Calicasphaera concava\n",
      "estimating cross study cv for spp\n",
      "estimating cross study cv for spp\n",
      "group sd unknown, using cross species sd instead (size)\n",
      "estimating pic for spp Calicasphaera concava\n",
      "estimating pic based on GLM\n"
     ]
    },
    {
     "name": "stderr",
     "output_type": "stream",
     "text": [
      "/home/phyto/anaconda3/envs/my-geopandas-env-2/lib/python3.11/site-packages/statsmodels/genmod/generalized_linear_model.py:307: DomainWarning: The Identity link function does not respect the domain of the Gamma family.\n",
      "  warnings.warn((f\"The {type(family.link).__name__} link function \"\n",
      "/home/phyto/anaconda3/envs/my-geopandas-env-2/lib/python3.11/site-packages/statsmodels/genmod/generalized_linear_model.py:307: DomainWarning: The Identity link function does not respect the domain of the Gamma family.\n",
      "  warnings.warn((f\"The {type(family.link).__name__} link function \"\n"
     ]
    },
    {
     "name": "stdout",
     "output_type": "stream",
     "text": [
      "estimating poc for spp Calicasphaera concava\n",
      "estimating poc based on GLM\n",
      "finished estimating species #122 out of 132 species\n",
      "Gliscolithus amitakareniae\n",
      "resampling size for spp: Gliscolithus amitakareniae\n",
      "estimating cross study cv for spp\n",
      "estimating cross study cv for spp\n",
      "group sd unknown, using cross species sd instead (size)\n",
      "estimating pic for spp Gliscolithus amitakareniae\n",
      "estimating pic based on GLM\n"
     ]
    },
    {
     "name": "stderr",
     "output_type": "stream",
     "text": [
      "/home/phyto/anaconda3/envs/my-geopandas-env-2/lib/python3.11/site-packages/statsmodels/genmod/generalized_linear_model.py:307: DomainWarning: The Identity link function does not respect the domain of the Gamma family.\n",
      "  warnings.warn((f\"The {type(family.link).__name__} link function \"\n",
      "/home/phyto/anaconda3/envs/my-geopandas-env-2/lib/python3.11/site-packages/statsmodels/genmod/generalized_linear_model.py:307: DomainWarning: The Identity link function does not respect the domain of the Gamma family.\n",
      "  warnings.warn((f\"The {type(family.link).__name__} link function \"\n"
     ]
    },
    {
     "name": "stdout",
     "output_type": "stream",
     "text": [
      "estimating poc for spp Gliscolithus amitakareniae\n",
      "estimating poc based on GLM\n",
      "finished estimating species #123 out of 132 species\n",
      "Alisphaera gaudii POL\n",
      "resampling size for spp: Alisphaera gaudii POL\n",
      "estimating cross study cv for spp\n",
      "estimating cross study cv for spp\n",
      "group sd unknown, using cross species sd instead (size)\n",
      "estimating pic for spp Alisphaera gaudii POL\n",
      "estimating pic based on GLM\n"
     ]
    },
    {
     "name": "stderr",
     "output_type": "stream",
     "text": [
      "/home/phyto/anaconda3/envs/my-geopandas-env-2/lib/python3.11/site-packages/statsmodels/genmod/generalized_linear_model.py:307: DomainWarning: The Identity link function does not respect the domain of the Gamma family.\n",
      "  warnings.warn((f\"The {type(family.link).__name__} link function \"\n",
      "/home/phyto/anaconda3/envs/my-geopandas-env-2/lib/python3.11/site-packages/statsmodels/genmod/generalized_linear_model.py:307: DomainWarning: The Identity link function does not respect the domain of the Gamma family.\n",
      "  warnings.warn((f\"The {type(family.link).__name__} link function \"\n"
     ]
    },
    {
     "name": "stdout",
     "output_type": "stream",
     "text": [
      "estimating poc for spp Alisphaera gaudii POL\n",
      "estimating poc based on GLM\n",
      "finished estimating species #124 out of 132 species\n",
      "Calicasphaera diconstricta\n",
      "resampling size for spp: Calicasphaera diconstricta\n",
      "estimating cross study cv for spp\n",
      "estimating cross study cv for spp\n",
      "group sd unknown, using cross species sd instead (size)\n",
      "estimating pic for spp Calicasphaera diconstricta\n",
      "estimating pic based on GLM\n"
     ]
    },
    {
     "name": "stderr",
     "output_type": "stream",
     "text": [
      "/home/phyto/anaconda3/envs/my-geopandas-env-2/lib/python3.11/site-packages/statsmodels/genmod/generalized_linear_model.py:307: DomainWarning: The Identity link function does not respect the domain of the Gamma family.\n",
      "  warnings.warn((f\"The {type(family.link).__name__} link function \"\n",
      "/home/phyto/anaconda3/envs/my-geopandas-env-2/lib/python3.11/site-packages/statsmodels/genmod/generalized_linear_model.py:307: DomainWarning: The Identity link function does not respect the domain of the Gamma family.\n",
      "  warnings.warn((f\"The {type(family.link).__name__} link function \"\n"
     ]
    },
    {
     "name": "stdout",
     "output_type": "stream",
     "text": [
      "estimating poc for spp Calicasphaera diconstricta\n",
      "estimating poc based on GLM\n",
      "finished estimating species #125 out of 132 species\n",
      "Alisphaera capulata\n",
      "resampling size for spp: Alisphaera capulata\n",
      "estimating cross study cv for spp\n",
      "estimating cross study cv for spp\n",
      "group sd unknown, using cross species sd instead (size)\n",
      "group sd unknown, using cross species sd instead (size)\n",
      "group sd unknown, using cross species sd instead (size)\n",
      "estimating pic for spp Alisphaera capulata\n",
      "estimating cross study cv for spp\n",
      "estimating cross study cv for spp\n",
      "estimating pic based on resampling\n",
      "mean known for:Alisphaera capulata\n",
      "group sd unknown, using cross species sd instead\n",
      "estimating poc for spp Alisphaera capulata\n",
      "estimating poc based on GLM\n",
      "finished estimating species #126 out of 132 species\n",
      "Helladosphaera pienaarii\n",
      "resampling size for spp: Helladosphaera pienaarii\n",
      "estimating cross study cv for spp\n",
      "estimating cross study cv for spp\n",
      "group sd unknown, using cross species sd instead (size)\n",
      "group sd unknown, using cross species sd instead (size)\n",
      "estimating pic for spp Helladosphaera pienaarii\n",
      "estimating pic based on GLM\n"
     ]
    },
    {
     "name": "stderr",
     "output_type": "stream",
     "text": [
      "/home/phyto/anaconda3/envs/my-geopandas-env-2/lib/python3.11/site-packages/statsmodels/genmod/generalized_linear_model.py:307: DomainWarning: The Identity link function does not respect the domain of the Gamma family.\n",
      "  warnings.warn((f\"The {type(family.link).__name__} link function \"\n",
      "/home/phyto/anaconda3/envs/my-geopandas-env-2/lib/python3.11/site-packages/statsmodels/genmod/generalized_linear_model.py:307: DomainWarning: The Identity link function does not respect the domain of the Gamma family.\n",
      "  warnings.warn((f\"The {type(family.link).__name__} link function \"\n"
     ]
    },
    {
     "name": "stdout",
     "output_type": "stream",
     "text": [
      "estimating poc for spp Helladosphaera pienaarii\n",
      "estimating poc based on GLM\n",
      "finished estimating species #127 out of 132 species\n",
      "Coccolithus pelagicus HOL\n",
      "resampling size for spp: Coccolithus pelagicus HOL\n",
      "estimating cross study cv for spp\n",
      "estimating cross study cv for spp\n",
      "group sd unknown, using cross species sd instead (size)\n",
      "estimating pic for spp Coccolithus pelagicus HOL\n",
      "estimating pic based on GLM\n",
      "estimating poc for spp Coccolithus pelagicus HOL\n",
      "estimating poc based on GLM\n",
      "finished estimating species #128 out of 132 species\n",
      "Turrilithus latericioides\n",
      "resampling size for spp: Turrilithus latericioides\n",
      "estimating cross study cv for spp\n",
      "estimating cross study cv for spp\n"
     ]
    },
    {
     "name": "stderr",
     "output_type": "stream",
     "text": [
      "/home/phyto/anaconda3/envs/my-geopandas-env-2/lib/python3.11/site-packages/statsmodels/genmod/generalized_linear_model.py:307: DomainWarning: The Identity link function does not respect the domain of the Gamma family.\n",
      "  warnings.warn((f\"The {type(family.link).__name__} link function \"\n",
      "/home/phyto/anaconda3/envs/my-geopandas-env-2/lib/python3.11/site-packages/statsmodels/genmod/generalized_linear_model.py:307: DomainWarning: The Identity link function does not respect the domain of the Gamma family.\n",
      "  warnings.warn((f\"The {type(family.link).__name__} link function \"\n"
     ]
    },
    {
     "name": "stdout",
     "output_type": "stream",
     "text": [
      "group sd unknown, using cross species sd instead (size)\n",
      "estimating pic for spp Turrilithus latericioides\n",
      "estimating pic based on GLM\n"
     ]
    },
    {
     "ename": "TypeError",
     "evalue": "can only concatenate str (not \"NoneType\") to str",
     "output_type": "error",
     "traceback": [
      "\u001b[0;31m---------------------------------------------------------------------------\u001b[0m",
      "\u001b[0;31mTypeError\u001b[0m                                 Traceback (most recent call last)",
      "Cell \u001b[0;32mIn[19], line 6\u001b[0m\n\u001b[1;32m      1\u001b[0m \u001b[38;5;124;03m'''\u001b[39;00m\n\u001b[1;32m      2\u001b[0m \u001b[38;5;124;03mMerging size, POC and PIC estimates:\u001b[39;00m\n\u001b[1;32m      3\u001b[0m \n\u001b[1;32m      4\u001b[0m \u001b[38;5;124;03m'''\u001b[39;00m\n\u001b[1;32m      5\u001b[0m m \u001b[38;5;241m=\u001b[39m pipeline(root\u001b[38;5;241m=\u001b[39m \u001b[38;5;124m'\u001b[39m\u001b[38;5;124m/home/phyto/CASCADE/data/\u001b[39m\u001b[38;5;124m'\u001b[39m)\n\u001b[0;32m----> 6\u001b[0m \u001b[43mm\u001b[49m\u001b[38;5;241;43m.\u001b[39;49m\u001b[43mexport_all\u001b[49m\u001b[43m(\u001b[49m\u001b[38;5;124;43m\"\u001b[39;49m\u001b[38;5;124;43m/home/phyto/CASCADE/data/output/cellular_dataset.csv\u001b[39;49m\u001b[38;5;124;43m\"\u001b[39;49m\u001b[43m,\u001b[49m\n\u001b[1;32m      7\u001b[0m \u001b[43m              \u001b[49m\u001b[43mloop_range\u001b[49m\u001b[43m \u001b[49m\u001b[38;5;241;43m=\u001b[39;49m\u001b[43m \u001b[49m\u001b[38;5;28;43mrange\u001b[39;49m\u001b[43m(\u001b[49m\u001b[38;5;241;43m118\u001b[39;49m\u001b[43m,\u001b[49m\u001b[43m \u001b[49m\u001b[38;5;241;43m132\u001b[39;49m\u001b[43m)\u001b[49m\n\u001b[1;32m      8\u001b[0m \u001b[43m)\u001b[49m\n",
      "File \u001b[0;32m~/CASCADE/cascade/main.py:878\u001b[0m, in \u001b[0;36mpipeline.export_all\u001b[0;34m(self, export_path, species, loop_range)\u001b[0m\n\u001b[1;32m    876\u001b[0m \u001b[38;5;28;01mfor\u001b[39;00m i \u001b[38;5;129;01min\u001b[39;00m loop_range: \u001b[38;5;66;03m#\u001b[39;00m\n\u001b[1;32m    877\u001b[0m     \u001b[38;5;28mprint\u001b[39m(species_list[i])\n\u001b[0;32m--> 878\u001b[0m     estimates\u001b[38;5;241m.\u001b[39mappend(\u001b[38;5;28;43mself\u001b[39;49m\u001b[38;5;241;43m.\u001b[39;49m\u001b[43mresample_measurements\u001b[49m\u001b[43m(\u001b[49m\u001b[43mspecies_list\u001b[49m\u001b[43m[\u001b[49m\u001b[43mi\u001b[49m\u001b[43m]\u001b[49m\u001b[43m)\u001b[49m)\n\u001b[1;32m    879\u001b[0m     \u001b[38;5;28mprint\u001b[39m(\u001b[38;5;124m\"\u001b[39m\u001b[38;5;124mfinished estimating species #\u001b[39m\u001b[38;5;124m\"\u001b[39m \u001b[38;5;241m+\u001b[39m \u001b[38;5;28mstr\u001b[39m(i\u001b[38;5;241m+\u001b[39m\u001b[38;5;241m1\u001b[39m) \u001b[38;5;241m+\u001b[39m \u001b[38;5;124m\"\u001b[39m\u001b[38;5;124m out of \u001b[39m\u001b[38;5;124m\"\u001b[39m \u001b[38;5;241m+\u001b[39m \u001b[38;5;28mstr\u001b[39m(\u001b[38;5;28mlen\u001b[39m(species_list)) \u001b[38;5;241m+\u001b[39m \u001b[38;5;124m\"\u001b[39m\u001b[38;5;124m species\u001b[39m\u001b[38;5;124m\"\u001b[39m)\n\u001b[1;32m    880\u001b[0m estimates \u001b[38;5;241m=\u001b[39m pd\u001b[38;5;241m.\u001b[39mconcat(estimates)\n",
      "File \u001b[0;32m~/CASCADE/cascade/main.py:854\u001b[0m, in \u001b[0;36mpipeline.resample_measurements\u001b[0;34m(self, species_name)\u001b[0m\n\u001b[1;32m    851\u001b[0m size_simulation \u001b[38;5;241m=\u001b[39m \u001b[38;5;28mself\u001b[39m\u001b[38;5;241m.\u001b[39mresample_size(species_name) \n\u001b[1;32m    852\u001b[0m diameter_simulation \u001b[38;5;241m=\u001b[39m (\u001b[38;5;241m6\u001b[39m\u001b[38;5;241m*\u001b[39mnp\u001b[38;5;241m.\u001b[39masarray(size_simulation)\u001b[38;5;241m/\u001b[39mnp\u001b[38;5;241m.\u001b[39mpi)\u001b[38;5;241m*\u001b[39m\u001b[38;5;241m*\u001b[39m(\u001b[38;5;241m1\u001b[39m\u001b[38;5;241m/\u001b[39m\u001b[38;5;241m3\u001b[39m)\n\u001b[0;32m--> 854\u001b[0m pic_simulation \u001b[38;5;241m=\u001b[39m \u001b[38;5;28;43mself\u001b[39;49m\u001b[38;5;241;43m.\u001b[39;49m\u001b[43mresample_carbon_species\u001b[49m\u001b[43m(\u001b[49m\u001b[43mspecies_name\u001b[49m\u001b[43m,\u001b[49m\u001b[43m \u001b[49m\u001b[43msize_simulation\u001b[49m\u001b[43m,\u001b[49m\u001b[43m \u001b[49m\u001b[38;5;124;43m\"\u001b[39;49m\u001b[38;5;124;43mpic\u001b[39;49m\u001b[38;5;124;43m\"\u001b[39;49m\u001b[43m)\u001b[49m\n\u001b[1;32m    855\u001b[0m poc_simulation \u001b[38;5;241m=\u001b[39m \u001b[38;5;28mself\u001b[39m\u001b[38;5;241m.\u001b[39mresample_carbon_species(species_name, size_simulation, \u001b[38;5;124m\"\u001b[39m\u001b[38;5;124mpoc\u001b[39m\u001b[38;5;124m\"\u001b[39m)\n\u001b[1;32m    857\u001b[0m d_vol \u001b[38;5;241m=\u001b[39m pd\u001b[38;5;241m.\u001b[39mDataFrame({\u001b[38;5;124m'\u001b[39m\u001b[38;5;124mspecies\u001b[39m\u001b[38;5;124m'\u001b[39m: species_name, \u001b[38;5;124m'\u001b[39m\u001b[38;5;124mvalue\u001b[39m\u001b[38;5;124m'\u001b[39m: size_simulation, \u001b[38;5;124m'\u001b[39m\u001b[38;5;124mvariable\u001b[39m\u001b[38;5;124m'\u001b[39m:\u001b[38;5;124m'\u001b[39m\u001b[38;5;124mvolume\u001b[39m\u001b[38;5;124m'\u001b[39m})\n",
      "File \u001b[0;32m~/CASCADE/cascade/main.py:842\u001b[0m, in \u001b[0;36mpipeline.resample_carbon_species\u001b[0;34m(self, spp_name, size_simulation, measurement)\u001b[0m\n\u001b[1;32m    839\u001b[0m \u001b[38;5;28;01melse\u001b[39;00m:\n\u001b[1;32m    840\u001b[0m \u001b[38;5;66;03m#otherwise estimate carbon based on size:\u001b[39;00m\n\u001b[1;32m    841\u001b[0m     \u001b[38;5;28mprint\u001b[39m(\u001b[38;5;124m\"\u001b[39m\u001b[38;5;124mestimating \u001b[39m\u001b[38;5;124m\"\u001b[39m\u001b[38;5;241m+\u001b[39m measurement \u001b[38;5;241m+\u001b[39m \u001b[38;5;124m\"\u001b[39m\u001b[38;5;124m based on GLM\u001b[39m\u001b[38;5;124m\"\u001b[39m)\n\u001b[0;32m--> 842\u001b[0m     estimate\u001b[38;5;241m.\u001b[39mextend(\u001b[38;5;28;43mself\u001b[39;49m\u001b[38;5;241;43m.\u001b[39;49m\u001b[43mc_regression\u001b[49m\u001b[43m(\u001b[49m\u001b[43mspp_name\u001b[49m\u001b[43m,\u001b[49m\u001b[43m \u001b[49m\u001b[43mmeasurement\u001b[49m\u001b[43m,\u001b[49m\u001b[43m \u001b[49m\u001b[43msize_simulation\u001b[49m\u001b[43m)\u001b[49m)    \n\u001b[1;32m    845\u001b[0m \u001b[38;5;28;01mreturn\u001b[39;00m(estimate)\n",
      "File \u001b[0;32m~/CASCADE/cascade/main.py:755\u001b[0m, in \u001b[0;36mpipeline.c_regression\u001b[0;34m(self, name, measurement, X_predict)\u001b[0m\n\u001b[1;32m    747\u001b[0m     X_predict_oh \u001b[38;5;241m=\u001b[39m pd\u001b[38;5;241m.\u001b[39mDataFrame(\n\u001b[1;32m    748\u001b[0m         {\n\u001b[1;32m    749\u001b[0m             \u001b[38;5;124m\"\u001b[39m\u001b[38;5;124mvolume\u001b[39m\u001b[38;5;124m\"\u001b[39m: X_predict,\n\u001b[0;32m   (...)\u001b[0m\n\u001b[1;32m    752\u001b[0m         }\n\u001b[1;32m    753\u001b[0m     )\n\u001b[1;32m    754\u001b[0m \u001b[38;5;28;01melse\u001b[39;00m:\n\u001b[0;32m--> 755\u001b[0m     \u001b[38;5;28;01mraise\u001b[39;00m \u001b[38;5;167;01mValueError\u001b[39;00m(\u001b[38;5;124;43m\"\u001b[39;49m\u001b[38;5;124;43mphase not defined: \u001b[39;49m\u001b[38;5;124;43m\"\u001b[39;49m\u001b[43m \u001b[49m\u001b[38;5;241;43m+\u001b[39;49m\u001b[43m \u001b[49m\u001b[43mphase\u001b[49m)         \n\u001b[1;32m    757\u001b[0m r \u001b[38;5;241m=\u001b[39m regression_simulation(X_train, Y_train\u001b[38;5;241m=\u001b[39mY_train, link\u001b[38;5;241m=\u001b[39m sm\u001b[38;5;241m.\u001b[39mfamilies\u001b[38;5;241m.\u001b[39mlinks\u001b[38;5;241m.\u001b[39mIdentity())\n\u001b[1;32m    758\u001b[0m c_simulation \u001b[38;5;241m=\u001b[39m r\u001b[38;5;241m.\u001b[39msimulate_predictions(X_predict_oh, boot\u001b[38;5;241m=\u001b[39m\u001b[38;5;28;01mTrue\u001b[39;00m, n_replicates\u001b[38;5;241m=\u001b[39m\u001b[38;5;241m1\u001b[39m)\n",
      "\u001b[0;31mTypeError\u001b[0m: can only concatenate str (not \"NoneType\") to str"
     ]
    }
   ],
   "source": [
    "'''\n",
    "Merging size, POC and PIC estimates:\n",
    "\n",
    "'''\n",
    "m = pipeline(root= '/home/phyto/CASCADE/data/')\n",
    "m.export_all(\"/home/phyto/CASCADE/data/output/cellular_dataset.csv\",\n",
    "              loop_range = range(126, 132)\n",
    ")\n"
   ]
  },
  {
   "cell_type": "markdown",
   "metadata": {},
   "source": []
  }
 ],
 "metadata": {
  "kernelspec": {
   "display_name": "my-geopandas-env-2",
   "language": "python",
   "name": "python3"
  },
  "language_info": {
   "codemirror_mode": {
    "name": "ipython",
    "version": 3
   },
   "file_extension": ".py",
   "mimetype": "text/x-python",
   "name": "python",
   "nbconvert_exporter": "python",
   "pygments_lexer": "ipython3",
   "version": "3.11.4"
  }
 },
 "nbformat": 4,
 "nbformat_minor": 2
}
