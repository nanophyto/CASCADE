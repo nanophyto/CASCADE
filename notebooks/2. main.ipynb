{
 "cells": [
  {
   "cell_type": "code",
   "execution_count": 1,
   "metadata": {},
   "outputs": [],
   "source": [
    "#Load required dependencies:\n",
    "import os, sys\n",
    "os.chdir('/home/phyto-2/CASCADE/')  # Provide your path here\n",
    "\n",
    "sys.path.insert(0, './cascade/')\n",
    "from main import merge_abundances, pipeline"
   ]
  },
  {
   "cell_type": "code",
   "execution_count": 2,
   "metadata": {},
   "outputs": [
    {
     "name": "stderr",
     "output_type": "stream",
     "text": [
      "/home/phyto-2/CASCADE/cascade/main.py:949: PerformanceWarning: DataFrame is highly fragmented.  This is usually the result of calling `frame.insert` many times, which has poor performance.  Consider joining all columns at once using pd.concat(axis=1) instead. To get a de-fragmented frame, use `newframe = frame.copy()`\n",
      "  d.reset_index(drop=False, inplace=True)\n",
      "/home/phyto-2/CASCADE/cascade/main.py:979: FutureWarning: DataFrame.groupby with axis=1 is deprecated. Do `frame.T.groupby(...)` without axis instead.\n",
      "  .groupby(level=0, axis=1, dropna=False)).sum( min_count=1).reset_index()\n"
     ]
    },
    {
     "name": "stdout",
     "output_type": "stream",
     "text": [
      "groupby\n",
      "drop index\n",
      "all species are defined\n",
      "dropped columns that contained undefined\n"
     ]
    },
    {
     "name": "stderr",
     "output_type": "stream",
     "text": [
      "/home/phyto-2/CASCADE/cascade/main.py:1020: FutureWarning: Downcasting object dtype arrays on .fillna, .ffill, .bfill is deprecated and will change in a future version. Call result.infer_objects(copy=False) instead. To opt-in to the future behavior, set `pd.set_option('future.no_silent_downcasting', True)`\n",
      "  counts =pd.DataFrame({'count': np.count_nonzero(d.fillna(0), axis=0), 'species': d.columns})\n"
     ]
    },
    {
     "name": "stdout",
     "output_type": "stream",
     "text": [
      "ungridded abundances exported to: ./data/output/ungridded_abundances.csv\n",
      "gridded abundances exported to: ./data/output/gridded_abundances.csv\n"
     ]
    }
   ],
   "source": [
    "'''\n",
    "Merging abundances:\n",
    "\n",
    "Note that this assumes you have already pre-processed you data such that the dimensions are:\n",
    "Latitude, Longitude, Month, Day, Year, Reference, and Method\n",
    "All species should furthermore be defined in: ../data/classification/synonyms.yml\n",
    "'''\n",
    "\n",
    "m = merge_abundances(import_path=\"./data/abundances\", \n",
    "                     export_path=\"./data/output/\",\n",
    "                     synonym_path='./data/classification/synonyms.yml')\n",
    "\n",
    "m.export_obs_counts()\n",
    "m.export_ungridded_abundances()\n",
    "m.export_gridded_abundances()"
   ]
  },
  {
   "cell_type": "code",
   "execution_count": 3,
   "metadata": {},
   "outputs": [
    {
     "name": "stdout",
     "output_type": "stream",
     "text": [
      "concatenated abundances: 11342\n",
      "concatenated observations: 41713\n",
      "gridded abundances: 6613\n",
      "gridded observations: 59683\n"
     ]
    }
   ],
   "source": [
    "m.print_stats()"
   ]
  },
  {
   "cell_type": "code",
   "execution_count": 4,
   "metadata": {},
   "outputs": [
    {
     "name": "stdout",
     "output_type": "stream",
     "text": [
      "exported yml to: ./data//output/library.yml\n",
      "resampling size for spp: Emiliania huxleyi HET\n",
      "estimating cross study cv for spp\n",
      "estimating cross study cv for spp\n",
      "estimating pic for spp Emiliania huxleyi HET\n",
      "estimating cross study cv for spp\n",
      "estimating cross study cv for spp\n",
      "estimating pic based on resampling\n",
      "estimating poc for spp Emiliania huxleyi HET\n",
      "estimating cross study cv for spp\n",
      "estimating cross study cv for spp\n",
      "estimating poc based on resampling\n",
      "mean known for:Emiliania huxleyi HET\n",
      "resampling size for spp: Syracosphaera pulchra HET\n",
      "estimating cross study cv for spp\n",
      "estimating cross study cv for spp\n",
      "estimating pic for spp Syracosphaera pulchra HET\n",
      "estimating cross study cv for spp\n",
      "estimating cross study cv for spp\n",
      "estimating pic based on resampling\n",
      "estimating poc for spp Syracosphaera pulchra HET\n",
      "estimating cross study cv for spp\n",
      "estimating cross study cv for spp\n",
      "estimating poc based on resampling\n",
      "resampling size for spp: Rhabdosphaera clavigera HET\n",
      "estimating cross study cv for spp\n",
      "estimating cross study cv for spp\n",
      "estimating pic for spp Rhabdosphaera clavigera HET\n",
      "estimating cross study cv for spp\n",
      "estimating cross study cv for spp\n",
      "estimating pic based on resampling\n",
      "estimating poc for spp Rhabdosphaera clavigera HET\n",
      "estimating poc based on GLM\n",
      "resampling size for spp: Umbellosphaera tenuis HET\n",
      "estimating cross study cv for spp\n",
      "estimating cross study cv for spp\n"
     ]
    },
    {
     "name": "stderr",
     "output_type": "stream",
     "text": [
      "/home/phyto-2/miniconda3/envs/cascade-env/lib/python3.12/site-packages/statsmodels/genmod/generalized_linear_model.py:308: DomainWarning: The Identity link function does not respect the domain of the Gamma family.\n",
      "  warnings.warn((f\"The {type(family.link).__name__} link function \"\n",
      "/home/phyto-2/miniconda3/envs/cascade-env/lib/python3.12/site-packages/statsmodels/genmod/generalized_linear_model.py:308: DomainWarning: The Identity link function does not respect the domain of the Gamma family.\n",
      "  warnings.warn((f\"The {type(family.link).__name__} link function \"\n"
     ]
    },
    {
     "name": "stdout",
     "output_type": "stream",
     "text": [
      "estimating pic for spp Umbellosphaera tenuis HET\n",
      "estimating cross study cv for spp\n",
      "estimating cross study cv for spp\n",
      "estimating pic based on resampling\n",
      "estimating poc for spp Umbellosphaera tenuis HET\n",
      "estimating poc based on GLM\n",
      "resampling size for spp: Umbellosphaera irregularis HET\n",
      "estimating cross study cv for spp\n",
      "estimating cross study cv for spp\n"
     ]
    },
    {
     "name": "stderr",
     "output_type": "stream",
     "text": [
      "/home/phyto-2/miniconda3/envs/cascade-env/lib/python3.12/site-packages/statsmodels/genmod/generalized_linear_model.py:308: DomainWarning: The Identity link function does not respect the domain of the Gamma family.\n",
      "  warnings.warn((f\"The {type(family.link).__name__} link function \"\n",
      "/home/phyto-2/miniconda3/envs/cascade-env/lib/python3.12/site-packages/statsmodels/genmod/generalized_linear_model.py:308: DomainWarning: The Identity link function does not respect the domain of the Gamma family.\n",
      "  warnings.warn((f\"The {type(family.link).__name__} link function \"\n"
     ]
    },
    {
     "name": "stdout",
     "output_type": "stream",
     "text": [
      "estimating pic for spp Umbellosphaera irregularis HET\n",
      "estimating cross study cv for spp\n",
      "estimating cross study cv for spp\n",
      "estimating pic based on resampling\n",
      "estimating poc for spp Umbellosphaera irregularis HET\n",
      "estimating poc based on GLM\n",
      "resampling size for spp: Discosphaera tubifera HET\n",
      "estimating cross study cv for spp\n",
      "estimating cross study cv for spp\n"
     ]
    },
    {
     "name": "stderr",
     "output_type": "stream",
     "text": [
      "/home/phyto-2/miniconda3/envs/cascade-env/lib/python3.12/site-packages/statsmodels/genmod/generalized_linear_model.py:308: DomainWarning: The Identity link function does not respect the domain of the Gamma family.\n",
      "  warnings.warn((f\"The {type(family.link).__name__} link function \"\n",
      "/home/phyto-2/miniconda3/envs/cascade-env/lib/python3.12/site-packages/statsmodels/genmod/generalized_linear_model.py:308: DomainWarning: The Identity link function does not respect the domain of the Gamma family.\n",
      "  warnings.warn((f\"The {type(family.link).__name__} link function \"\n"
     ]
    },
    {
     "name": "stdout",
     "output_type": "stream",
     "text": [
      "estimating pic for spp Discosphaera tubifera HET\n",
      "estimating cross study cv for spp\n",
      "estimating cross study cv for spp\n",
      "estimating pic based on resampling\n",
      "estimating poc for spp Discosphaera tubifera HET\n",
      "estimating poc based on GLM\n",
      "resampling size for spp: Algirosphaera robusta HET\n",
      "estimating cross study cv for spp\n",
      "estimating cross study cv for spp\n"
     ]
    },
    {
     "name": "stderr",
     "output_type": "stream",
     "text": [
      "/home/phyto-2/miniconda3/envs/cascade-env/lib/python3.12/site-packages/statsmodels/genmod/generalized_linear_model.py:308: DomainWarning: The Identity link function does not respect the domain of the Gamma family.\n",
      "  warnings.warn((f\"The {type(family.link).__name__} link function \"\n",
      "/home/phyto-2/miniconda3/envs/cascade-env/lib/python3.12/site-packages/statsmodels/genmod/generalized_linear_model.py:308: DomainWarning: The Identity link function does not respect the domain of the Gamma family.\n",
      "  warnings.warn((f\"The {type(family.link).__name__} link function \"\n"
     ]
    },
    {
     "name": "stdout",
     "output_type": "stream",
     "text": [
      "estimating pic for spp Algirosphaera robusta HET\n",
      "estimating cross study cv for spp\n",
      "estimating cross study cv for spp\n",
      "estimating pic based on resampling\n",
      "estimating poc for spp Algirosphaera robusta HET\n",
      "estimating poc based on GLM\n",
      "resampling size for spp: Gephyrocapsa oceanica HET\n",
      "estimating cross study cv for spp\n",
      "estimating cross study cv for spp\n"
     ]
    },
    {
     "name": "stderr",
     "output_type": "stream",
     "text": [
      "/home/phyto-2/miniconda3/envs/cascade-env/lib/python3.12/site-packages/statsmodels/genmod/generalized_linear_model.py:308: DomainWarning: The Identity link function does not respect the domain of the Gamma family.\n",
      "  warnings.warn((f\"The {type(family.link).__name__} link function \"\n",
      "/home/phyto-2/miniconda3/envs/cascade-env/lib/python3.12/site-packages/statsmodels/genmod/generalized_linear_model.py:308: DomainWarning: The Identity link function does not respect the domain of the Gamma family.\n",
      "  warnings.warn((f\"The {type(family.link).__name__} link function \"\n"
     ]
    },
    {
     "name": "stdout",
     "output_type": "stream",
     "text": [
      "estimating pic for spp Gephyrocapsa oceanica HET\n",
      "estimating pic based on GLM\n",
      "estimating poc for spp Gephyrocapsa oceanica HET\n",
      "estimating cross study cv for spp\n"
     ]
    },
    {
     "name": "stderr",
     "output_type": "stream",
     "text": [
      "/home/phyto-2/miniconda3/envs/cascade-env/lib/python3.12/site-packages/statsmodels/genmod/generalized_linear_model.py:308: DomainWarning: The Identity link function does not respect the domain of the Gamma family.\n",
      "  warnings.warn((f\"The {type(family.link).__name__} link function \"\n",
      "/home/phyto-2/miniconda3/envs/cascade-env/lib/python3.12/site-packages/statsmodels/genmod/generalized_linear_model.py:308: DomainWarning: The Identity link function does not respect the domain of the Gamma family.\n",
      "  warnings.warn((f\"The {type(family.link).__name__} link function \"\n"
     ]
    },
    {
     "name": "stdout",
     "output_type": "stream",
     "text": [
      "estimating cross study cv for spp\n",
      "estimating poc based on resampling\n",
      "resampling size for spp: Gephyrocapsa ericsonii HET\n",
      "estimating cross study cv for spp\n",
      "estimating cross study cv for spp\n",
      "estimating pic for spp Gephyrocapsa ericsonii HET\n",
      "estimating cross study cv for spp\n",
      "estimating cross study cv for spp\n",
      "estimating pic based on resampling\n",
      "estimating poc for spp Gephyrocapsa ericsonii HET\n",
      "estimating poc based on GLM\n",
      "resampling size for spp: Helicosphaera carteri HET\n",
      "estimating cross study cv for spp\n",
      "estimating cross study cv for spp\n"
     ]
    },
    {
     "name": "stderr",
     "output_type": "stream",
     "text": [
      "/home/phyto-2/miniconda3/envs/cascade-env/lib/python3.12/site-packages/statsmodels/genmod/generalized_linear_model.py:308: DomainWarning: The Identity link function does not respect the domain of the Gamma family.\n",
      "  warnings.warn((f\"The {type(family.link).__name__} link function \"\n",
      "/home/phyto-2/miniconda3/envs/cascade-env/lib/python3.12/site-packages/statsmodels/genmod/generalized_linear_model.py:308: DomainWarning: The Identity link function does not respect the domain of the Gamma family.\n",
      "  warnings.warn((f\"The {type(family.link).__name__} link function \"\n"
     ]
    },
    {
     "name": "stdout",
     "output_type": "stream",
     "text": [
      "estimating pic for spp Helicosphaera carteri HET\n",
      "estimating cross study cv for spp\n",
      "estimating cross study cv for spp\n",
      "estimating pic based on resampling\n",
      "mean known for:Helicosphaera carteri HET\n",
      "estimating poc for spp Helicosphaera carteri HET\n",
      "estimating poc based on GLM\n",
      "resampling size for spp: Syracosphaera molischii HET\n",
      "estimating cross study cv for spp\n",
      "estimating cross study cv for spp\n"
     ]
    },
    {
     "name": "stderr",
     "output_type": "stream",
     "text": [
      "/home/phyto-2/miniconda3/envs/cascade-env/lib/python3.12/site-packages/statsmodels/genmod/generalized_linear_model.py:308: DomainWarning: The Identity link function does not respect the domain of the Gamma family.\n",
      "  warnings.warn((f\"The {type(family.link).__name__} link function \"\n",
      "/home/phyto-2/miniconda3/envs/cascade-env/lib/python3.12/site-packages/statsmodels/genmod/generalized_linear_model.py:308: DomainWarning: The Identity link function does not respect the domain of the Gamma family.\n",
      "  warnings.warn((f\"The {type(family.link).__name__} link function \"\n"
     ]
    },
    {
     "name": "stdout",
     "output_type": "stream",
     "text": [
      "estimating pic for spp Syracosphaera molischii HET\n",
      "estimating cross study cv for spp\n",
      "estimating cross study cv for spp\n",
      "estimating pic based on resampling\n",
      "estimating poc for spp Syracosphaera molischii HET\n",
      "estimating poc based on GLM\n",
      "resampling size for spp: Acanthoica quattrospina HET\n",
      "estimating cross study cv for spp\n",
      "estimating cross study cv for spp\n"
     ]
    },
    {
     "name": "stderr",
     "output_type": "stream",
     "text": [
      "/home/phyto-2/miniconda3/envs/cascade-env/lib/python3.12/site-packages/statsmodels/genmod/generalized_linear_model.py:308: DomainWarning: The Identity link function does not respect the domain of the Gamma family.\n",
      "  warnings.warn((f\"The {type(family.link).__name__} link function \"\n",
      "/home/phyto-2/miniconda3/envs/cascade-env/lib/python3.12/site-packages/statsmodels/genmod/generalized_linear_model.py:308: DomainWarning: The Identity link function does not respect the domain of the Gamma family.\n",
      "  warnings.warn((f\"The {type(family.link).__name__} link function \"\n"
     ]
    },
    {
     "name": "stdout",
     "output_type": "stream",
     "text": [
      "estimating pic for spp Acanthoica quattrospina HET\n",
      "estimating cross study cv for spp\n",
      "estimating cross study cv for spp\n",
      "estimating pic based on resampling\n",
      "estimating poc for spp Acanthoica quattrospina HET\n",
      "estimating poc based on GLM\n",
      "resampling size for spp: Calcidiscus leptoporus HET\n",
      "estimating cross study cv for spp\n",
      "estimating cross study cv for spp\n"
     ]
    },
    {
     "name": "stderr",
     "output_type": "stream",
     "text": [
      "/home/phyto-2/miniconda3/envs/cascade-env/lib/python3.12/site-packages/statsmodels/genmod/generalized_linear_model.py:308: DomainWarning: The Identity link function does not respect the domain of the Gamma family.\n",
      "  warnings.warn((f\"The {type(family.link).__name__} link function \"\n",
      "/home/phyto-2/miniconda3/envs/cascade-env/lib/python3.12/site-packages/statsmodels/genmod/generalized_linear_model.py:308: DomainWarning: The Identity link function does not respect the domain of the Gamma family.\n",
      "  warnings.warn((f\"The {type(family.link).__name__} link function \"\n"
     ]
    },
    {
     "name": "stdout",
     "output_type": "stream",
     "text": [
      "estimating pic for spp Calcidiscus leptoporus HET\n",
      "estimating cross study cv for spp\n",
      "estimating cross study cv for spp\n",
      "estimating pic based on resampling\n",
      "estimating poc for spp Calcidiscus leptoporus HET\n",
      "estimating poc based on GLM\n",
      "resampling size for spp: Florisphaera profunda NANO\n",
      "estimating cross study cv for spp\n",
      "estimating cross study cv for spp\n"
     ]
    },
    {
     "name": "stderr",
     "output_type": "stream",
     "text": [
      "/home/phyto-2/miniconda3/envs/cascade-env/lib/python3.12/site-packages/statsmodels/genmod/generalized_linear_model.py:308: DomainWarning: The Identity link function does not respect the domain of the Gamma family.\n",
      "  warnings.warn((f\"The {type(family.link).__name__} link function \"\n",
      "/home/phyto-2/miniconda3/envs/cascade-env/lib/python3.12/site-packages/statsmodels/genmod/generalized_linear_model.py:308: DomainWarning: The Identity link function does not respect the domain of the Gamma family.\n",
      "  warnings.warn((f\"The {type(family.link).__name__} link function \"\n"
     ]
    },
    {
     "name": "stdout",
     "output_type": "stream",
     "text": [
      "estimating pic for spp Florisphaera profunda NANO\n",
      "estimating cross study cv for spp\n",
      "estimating cross study cv for spp\n",
      "estimating pic based on resampling\n",
      "estimating poc for spp Florisphaera profunda NANO\n",
      "estimating poc based on GLM\n",
      "resampling size for spp: Umbilicosphaera sibogae HET\n",
      "estimating cross study cv for spp\n",
      "estimating cross study cv for spp\n"
     ]
    },
    {
     "name": "stderr",
     "output_type": "stream",
     "text": [
      "/home/phyto-2/miniconda3/envs/cascade-env/lib/python3.12/site-packages/statsmodels/genmod/generalized_linear_model.py:308: DomainWarning: The Identity link function does not respect the domain of the Gamma family.\n",
      "  warnings.warn((f\"The {type(family.link).__name__} link function \"\n",
      "/home/phyto-2/miniconda3/envs/cascade-env/lib/python3.12/site-packages/statsmodels/genmod/generalized_linear_model.py:308: DomainWarning: The Identity link function does not respect the domain of the Gamma family.\n",
      "  warnings.warn((f\"The {type(family.link).__name__} link function \"\n"
     ]
    },
    {
     "name": "stdout",
     "output_type": "stream",
     "text": [
      "estimating pic for spp Umbilicosphaera sibogae HET\n",
      "estimating cross study cv for spp\n",
      "estimating cross study cv for spp\n",
      "estimating pic based on resampling\n",
      "estimating poc for spp Umbilicosphaera sibogae HET\n",
      "estimating poc based on GLM\n",
      "resampling size for spp: Calciosolenia brasiliensis HET\n",
      "estimating cross study cv for spp\n",
      "estimating cross study cv for spp\n",
      "group sd unknown, using cross species sd instead (size)\n"
     ]
    },
    {
     "name": "stderr",
     "output_type": "stream",
     "text": [
      "/home/phyto-2/miniconda3/envs/cascade-env/lib/python3.12/site-packages/statsmodels/genmod/generalized_linear_model.py:308: DomainWarning: The Identity link function does not respect the domain of the Gamma family.\n",
      "  warnings.warn((f\"The {type(family.link).__name__} link function \"\n",
      "/home/phyto-2/miniconda3/envs/cascade-env/lib/python3.12/site-packages/statsmodels/genmod/generalized_linear_model.py:308: DomainWarning: The Identity link function does not respect the domain of the Gamma family.\n",
      "  warnings.warn((f\"The {type(family.link).__name__} link function \"\n"
     ]
    },
    {
     "name": "stdout",
     "output_type": "stream",
     "text": [
      "estimating pic for spp Calciosolenia brasiliensis HET\n",
      "estimating pic based on GLM\n",
      "estimating poc for spp Calciosolenia brasiliensis HET\n",
      "estimating poc based on GLM\n",
      "resampling size for spp: Syracosphaera mediterranea HET\n",
      "estimating cross study cv for spp\n",
      "estimating cross study cv for spp\n"
     ]
    },
    {
     "name": "stderr",
     "output_type": "stream",
     "text": [
      "/home/phyto-2/miniconda3/envs/cascade-env/lib/python3.12/site-packages/statsmodels/genmod/generalized_linear_model.py:308: DomainWarning: The Identity link function does not respect the domain of the Gamma family.\n",
      "  warnings.warn((f\"The {type(family.link).__name__} link function \"\n",
      "/home/phyto-2/miniconda3/envs/cascade-env/lib/python3.12/site-packages/statsmodels/genmod/generalized_linear_model.py:308: DomainWarning: The Identity link function does not respect the domain of the Gamma family.\n",
      "  warnings.warn((f\"The {type(family.link).__name__} link function \"\n",
      "/home/phyto-2/miniconda3/envs/cascade-env/lib/python3.12/site-packages/statsmodels/genmod/generalized_linear_model.py:308: DomainWarning: The Identity link function does not respect the domain of the Gamma family.\n",
      "  warnings.warn((f\"The {type(family.link).__name__} link function \"\n",
      "/home/phyto-2/miniconda3/envs/cascade-env/lib/python3.12/site-packages/statsmodels/genmod/generalized_linear_model.py:308: DomainWarning: The Identity link function does not respect the domain of the Gamma family.\n",
      "  warnings.warn((f\"The {type(family.link).__name__} link function \"\n"
     ]
    },
    {
     "name": "stdout",
     "output_type": "stream",
     "text": [
      "estimating pic for spp Syracosphaera mediterranea HET\n",
      "estimating cross study cv for spp\n",
      "estimating cross study cv for spp\n",
      "estimating pic based on resampling\n",
      "mean known for:Syracosphaera mediterranea HET\n",
      "group sd unknown, using cross species sd instead\n",
      "estimating poc for spp Syracosphaera mediterranea HET\n",
      "estimating poc based on GLM\n",
      "resampling size for spp: Syracosphaera histrica HET\n",
      "estimating cross study cv for spp\n",
      "estimating cross study cv for spp\n",
      "group sd unknown, using cross species sd instead (size)\n",
      "group sd unknown, using cross species sd instead (size)\n"
     ]
    },
    {
     "name": "stderr",
     "output_type": "stream",
     "text": [
      "/home/phyto-2/miniconda3/envs/cascade-env/lib/python3.12/site-packages/statsmodels/genmod/generalized_linear_model.py:308: DomainWarning: The Identity link function does not respect the domain of the Gamma family.\n",
      "  warnings.warn((f\"The {type(family.link).__name__} link function \"\n",
      "/home/phyto-2/miniconda3/envs/cascade-env/lib/python3.12/site-packages/statsmodels/genmod/generalized_linear_model.py:308: DomainWarning: The Identity link function does not respect the domain of the Gamma family.\n",
      "  warnings.warn((f\"The {type(family.link).__name__} link function \"\n"
     ]
    },
    {
     "name": "stdout",
     "output_type": "stream",
     "text": [
      "estimating pic for spp Syracosphaera histrica HET\n",
      "estimating cross study cv for spp\n",
      "estimating cross study cv for spp\n",
      "estimating pic based on resampling\n",
      "mean known for:Syracosphaera histrica HET\n",
      "group sd unknown, using cross species sd instead\n",
      "estimating poc for spp Syracosphaera histrica HET\n",
      "estimating poc based on GLM\n",
      "resampling size for spp: Rhabdosphaera xiphos HET\n",
      "estimating cross study cv for spp\n",
      "estimating cross study cv for spp\n"
     ]
    },
    {
     "name": "stderr",
     "output_type": "stream",
     "text": [
      "/home/phyto-2/miniconda3/envs/cascade-env/lib/python3.12/site-packages/statsmodels/genmod/generalized_linear_model.py:308: DomainWarning: The Identity link function does not respect the domain of the Gamma family.\n",
      "  warnings.warn((f\"The {type(family.link).__name__} link function \"\n",
      "/home/phyto-2/miniconda3/envs/cascade-env/lib/python3.12/site-packages/statsmodels/genmod/generalized_linear_model.py:308: DomainWarning: The Identity link function does not respect the domain of the Gamma family.\n",
      "  warnings.warn((f\"The {type(family.link).__name__} link function \"\n"
     ]
    },
    {
     "name": "stdout",
     "output_type": "stream",
     "text": [
      "estimating pic for spp Rhabdosphaera xiphos HET\n",
      "estimating pic based on GLM\n",
      "estimating poc for spp Rhabdosphaera xiphos HET\n",
      "estimating poc based on GLM\n",
      "resampling size for spp: Syracosphaera ossa HET\n",
      "estimating cross study cv for spp\n",
      "estimating cross study cv for spp\n"
     ]
    },
    {
     "name": "stderr",
     "output_type": "stream",
     "text": [
      "/home/phyto-2/miniconda3/envs/cascade-env/lib/python3.12/site-packages/statsmodels/genmod/generalized_linear_model.py:308: DomainWarning: The Identity link function does not respect the domain of the Gamma family.\n",
      "  warnings.warn((f\"The {type(family.link).__name__} link function \"\n",
      "/home/phyto-2/miniconda3/envs/cascade-env/lib/python3.12/site-packages/statsmodels/genmod/generalized_linear_model.py:308: DomainWarning: The Identity link function does not respect the domain of the Gamma family.\n",
      "  warnings.warn((f\"The {type(family.link).__name__} link function \"\n",
      "/home/phyto-2/miniconda3/envs/cascade-env/lib/python3.12/site-packages/statsmodels/genmod/generalized_linear_model.py:308: DomainWarning: The Identity link function does not respect the domain of the Gamma family.\n",
      "  warnings.warn((f\"The {type(family.link).__name__} link function \"\n",
      "/home/phyto-2/miniconda3/envs/cascade-env/lib/python3.12/site-packages/statsmodels/genmod/generalized_linear_model.py:308: DomainWarning: The Identity link function does not respect the domain of the Gamma family.\n",
      "  warnings.warn((f\"The {type(family.link).__name__} link function \"\n"
     ]
    },
    {
     "name": "stdout",
     "output_type": "stream",
     "text": [
      "estimating pic for spp Syracosphaera ossa HET\n",
      "estimating cross study cv for spp\n",
      "estimating cross study cv for spp\n",
      "estimating pic based on resampling\n",
      "estimating poc for spp Syracosphaera ossa HET\n",
      "estimating poc based on GLM\n",
      "resampling size for spp: Calciosolenia murrayi HET\n",
      "estimating cross study cv for spp\n",
      "estimating cross study cv for spp\n"
     ]
    },
    {
     "name": "stderr",
     "output_type": "stream",
     "text": [
      "/home/phyto-2/miniconda3/envs/cascade-env/lib/python3.12/site-packages/statsmodels/genmod/generalized_linear_model.py:308: DomainWarning: The Identity link function does not respect the domain of the Gamma family.\n",
      "  warnings.warn((f\"The {type(family.link).__name__} link function \"\n",
      "/home/phyto-2/miniconda3/envs/cascade-env/lib/python3.12/site-packages/statsmodels/genmod/generalized_linear_model.py:308: DomainWarning: The Identity link function does not respect the domain of the Gamma family.\n",
      "  warnings.warn((f\"The {type(family.link).__name__} link function \"\n"
     ]
    },
    {
     "name": "stdout",
     "output_type": "stream",
     "text": [
      "estimating pic for spp Calciosolenia murrayi HET\n",
      "estimating cross study cv for spp\n",
      "estimating cross study cv for spp\n",
      "estimating pic based on resampling\n",
      "estimating poc for spp Calciosolenia murrayi HET\n",
      "estimating poc based on GLM\n",
      "resampling size for spp: Ophiaster hydroideus HET\n",
      "estimating cross study cv for spp\n",
      "estimating cross study cv for spp\n",
      "group sd unknown, using cross species sd instead (size)\n"
     ]
    },
    {
     "name": "stderr",
     "output_type": "stream",
     "text": [
      "/home/phyto-2/miniconda3/envs/cascade-env/lib/python3.12/site-packages/statsmodels/genmod/generalized_linear_model.py:308: DomainWarning: The Identity link function does not respect the domain of the Gamma family.\n",
      "  warnings.warn((f\"The {type(family.link).__name__} link function \"\n",
      "/home/phyto-2/miniconda3/envs/cascade-env/lib/python3.12/site-packages/statsmodels/genmod/generalized_linear_model.py:308: DomainWarning: The Identity link function does not respect the domain of the Gamma family.\n",
      "  warnings.warn((f\"The {type(family.link).__name__} link function \"\n"
     ]
    },
    {
     "name": "stdout",
     "output_type": "stream",
     "text": [
      "estimating pic for spp Ophiaster hydroideus HET\n",
      "estimating pic based on GLM\n",
      "estimating poc for spp Ophiaster hydroideus HET\n",
      "estimating poc based on GLM\n",
      "resampling size for spp: Palusphaera vandelii HET\n",
      "estimating cross study cv for spp\n",
      "estimating cross study cv for spp\n",
      "group sd unknown, using cross species sd instead (size)\n"
     ]
    },
    {
     "name": "stderr",
     "output_type": "stream",
     "text": [
      "/home/phyto-2/miniconda3/envs/cascade-env/lib/python3.12/site-packages/statsmodels/genmod/generalized_linear_model.py:308: DomainWarning: The Identity link function does not respect the domain of the Gamma family.\n",
      "  warnings.warn((f\"The {type(family.link).__name__} link function \"\n",
      "/home/phyto-2/miniconda3/envs/cascade-env/lib/python3.12/site-packages/statsmodels/genmod/generalized_linear_model.py:308: DomainWarning: The Identity link function does not respect the domain of the Gamma family.\n",
      "  warnings.warn((f\"The {type(family.link).__name__} link function \"\n",
      "/home/phyto-2/miniconda3/envs/cascade-env/lib/python3.12/site-packages/statsmodels/genmod/generalized_linear_model.py:308: DomainWarning: The Identity link function does not respect the domain of the Gamma family.\n",
      "  warnings.warn((f\"The {type(family.link).__name__} link function \"\n",
      "/home/phyto-2/miniconda3/envs/cascade-env/lib/python3.12/site-packages/statsmodels/genmod/generalized_linear_model.py:308: DomainWarning: The Identity link function does not respect the domain of the Gamma family.\n",
      "  warnings.warn((f\"The {type(family.link).__name__} link function \"\n"
     ]
    },
    {
     "name": "stdout",
     "output_type": "stream",
     "text": [
      "estimating pic for spp Palusphaera vandelii HET\n",
      "estimating pic based on GLM\n",
      "estimating poc for spp Palusphaera vandelii HET\n",
      "estimating poc based on GLM\n",
      "resampling size for spp: Syracosphaera anthos HET\n",
      "estimating cross study cv for spp\n"
     ]
    },
    {
     "name": "stderr",
     "output_type": "stream",
     "text": [
      "/home/phyto-2/miniconda3/envs/cascade-env/lib/python3.12/site-packages/statsmodels/genmod/generalized_linear_model.py:308: DomainWarning: The Identity link function does not respect the domain of the Gamma family.\n",
      "  warnings.warn((f\"The {type(family.link).__name__} link function \"\n",
      "/home/phyto-2/miniconda3/envs/cascade-env/lib/python3.12/site-packages/statsmodels/genmod/generalized_linear_model.py:308: DomainWarning: The Identity link function does not respect the domain of the Gamma family.\n",
      "  warnings.warn((f\"The {type(family.link).__name__} link function \"\n",
      "/home/phyto-2/miniconda3/envs/cascade-env/lib/python3.12/site-packages/statsmodels/genmod/generalized_linear_model.py:308: DomainWarning: The Identity link function does not respect the domain of the Gamma family.\n",
      "  warnings.warn((f\"The {type(family.link).__name__} link function \"\n",
      "/home/phyto-2/miniconda3/envs/cascade-env/lib/python3.12/site-packages/statsmodels/genmod/generalized_linear_model.py:308: DomainWarning: The Identity link function does not respect the domain of the Gamma family.\n",
      "  warnings.warn((f\"The {type(family.link).__name__} link function \"\n"
     ]
    },
    {
     "name": "stdout",
     "output_type": "stream",
     "text": [
      "estimating cross study cv for spp\n",
      "estimating pic for spp Syracosphaera anthos HET\n",
      "estimating cross study cv for spp\n",
      "estimating cross study cv for spp\n",
      "estimating pic based on resampling\n",
      "estimating poc for spp Syracosphaera anthos HET\n",
      "estimating poc based on GLM\n",
      "resampling size for spp: Gephyrocapsa muellerae HET\n",
      "estimating cross study cv for spp\n",
      "estimating cross study cv for spp\n"
     ]
    },
    {
     "name": "stderr",
     "output_type": "stream",
     "text": [
      "/home/phyto-2/miniconda3/envs/cascade-env/lib/python3.12/site-packages/statsmodels/genmod/generalized_linear_model.py:308: DomainWarning: The Identity link function does not respect the domain of the Gamma family.\n",
      "  warnings.warn((f\"The {type(family.link).__name__} link function \"\n",
      "/home/phyto-2/miniconda3/envs/cascade-env/lib/python3.12/site-packages/statsmodels/genmod/generalized_linear_model.py:308: DomainWarning: The Identity link function does not respect the domain of the Gamma family.\n",
      "  warnings.warn((f\"The {type(family.link).__name__} link function \"\n"
     ]
    },
    {
     "name": "stdout",
     "output_type": "stream",
     "text": [
      "estimating pic for spp Gephyrocapsa muellerae HET\n",
      "estimating cross study cv for spp\n",
      "estimating cross study cv for spp\n",
      "estimating pic based on resampling\n",
      "estimating poc for spp Gephyrocapsa muellerae HET\n",
      "estimating cross study cv for spp\n",
      "estimating cross study cv for spp\n",
      "estimating poc based on resampling\n",
      "resampling size for spp: Umbilicosphaera hulburtiana HET\n",
      "estimating cross study cv for spp\n",
      "estimating cross study cv for spp\n",
      "estimating pic for spp Umbilicosphaera hulburtiana HET\n",
      "estimating cross study cv for spp\n",
      "estimating cross study cv for spp\n",
      "estimating pic based on resampling\n",
      "estimating poc for spp Umbilicosphaera hulburtiana HET\n",
      "estimating poc based on GLM\n",
      "resampling size for spp: Helladosphaera cornifera HOL\n",
      "estimating cross study cv for spp\n",
      "estimating cross study cv for spp\n"
     ]
    },
    {
     "name": "stderr",
     "output_type": "stream",
     "text": [
      "/home/phyto-2/miniconda3/envs/cascade-env/lib/python3.12/site-packages/statsmodels/genmod/generalized_linear_model.py:308: DomainWarning: The Identity link function does not respect the domain of the Gamma family.\n",
      "  warnings.warn((f\"The {type(family.link).__name__} link function \"\n",
      "/home/phyto-2/miniconda3/envs/cascade-env/lib/python3.12/site-packages/statsmodels/genmod/generalized_linear_model.py:308: DomainWarning: The Identity link function does not respect the domain of the Gamma family.\n",
      "  warnings.warn((f\"The {type(family.link).__name__} link function \"\n"
     ]
    },
    {
     "name": "stdout",
     "output_type": "stream",
     "text": [
      "estimating pic for spp Helladosphaera cornifera HOL\n",
      "estimating cross study cv for spp\n",
      "estimating cross study cv for spp\n",
      "estimating pic based on resampling\n",
      "estimating poc for spp Helladosphaera cornifera HOL\n",
      "estimating poc based on GLM\n",
      "resampling size for spp: Syracosphaera nodosa HET\n",
      "estimating cross study cv for spp\n",
      "estimating cross study cv for spp\n"
     ]
    },
    {
     "name": "stderr",
     "output_type": "stream",
     "text": [
      "/home/phyto-2/miniconda3/envs/cascade-env/lib/python3.12/site-packages/statsmodels/genmod/generalized_linear_model.py:308: DomainWarning: The Identity link function does not respect the domain of the Gamma family.\n",
      "  warnings.warn((f\"The {type(family.link).__name__} link function \"\n",
      "/home/phyto-2/miniconda3/envs/cascade-env/lib/python3.12/site-packages/statsmodels/genmod/generalized_linear_model.py:308: DomainWarning: The Identity link function does not respect the domain of the Gamma family.\n",
      "  warnings.warn((f\"The {type(family.link).__name__} link function \"\n"
     ]
    },
    {
     "name": "stdout",
     "output_type": "stream",
     "text": [
      "estimating pic for spp Syracosphaera nodosa HET\n",
      "estimating cross study cv for spp\n",
      "estimating cross study cv for spp\n",
      "estimating pic based on resampling\n",
      "estimating poc for spp Syracosphaera nodosa HET\n",
      "estimating poc based on GLM\n",
      "resampling size for spp: Syracosphaera prolongata HET\n",
      "estimating cross study cv for spp\n",
      "estimating cross study cv for spp\n"
     ]
    },
    {
     "name": "stderr",
     "output_type": "stream",
     "text": [
      "/home/phyto-2/miniconda3/envs/cascade-env/lib/python3.12/site-packages/statsmodels/genmod/generalized_linear_model.py:308: DomainWarning: The Identity link function does not respect the domain of the Gamma family.\n",
      "  warnings.warn((f\"The {type(family.link).__name__} link function \"\n",
      "/home/phyto-2/miniconda3/envs/cascade-env/lib/python3.12/site-packages/statsmodels/genmod/generalized_linear_model.py:308: DomainWarning: The Identity link function does not respect the domain of the Gamma family.\n",
      "  warnings.warn((f\"The {type(family.link).__name__} link function \"\n"
     ]
    },
    {
     "name": "stdout",
     "output_type": "stream",
     "text": [
      "estimating pic for spp Syracosphaera prolongata HET\n",
      "estimating cross study cv for spp\n",
      "estimating cross study cv for spp\n",
      "estimating pic based on resampling\n",
      "estimating poc for spp Syracosphaera prolongata HET\n",
      "estimating poc based on GLM\n",
      "resampling size for spp: Michaelsarsia elegans HET\n",
      "estimating cross study cv for spp\n",
      "estimating cross study cv for spp\n"
     ]
    },
    {
     "name": "stderr",
     "output_type": "stream",
     "text": [
      "/home/phyto-2/miniconda3/envs/cascade-env/lib/python3.12/site-packages/statsmodels/genmod/generalized_linear_model.py:308: DomainWarning: The Identity link function does not respect the domain of the Gamma family.\n",
      "  warnings.warn((f\"The {type(family.link).__name__} link function \"\n",
      "/home/phyto-2/miniconda3/envs/cascade-env/lib/python3.12/site-packages/statsmodels/genmod/generalized_linear_model.py:308: DomainWarning: The Identity link function does not respect the domain of the Gamma family.\n",
      "  warnings.warn((f\"The {type(family.link).__name__} link function \"\n"
     ]
    },
    {
     "name": "stdout",
     "output_type": "stream",
     "text": [
      "estimating pic for spp Michaelsarsia elegans HET\n",
      "estimating cross study cv for spp\n",
      "estimating cross study cv for spp\n",
      "estimating pic based on resampling\n",
      "estimating poc for spp Michaelsarsia elegans HET\n",
      "estimating poc based on GLM\n",
      "resampling size for spp: Oolithotus antillarum HET\n",
      "estimating cross study cv for spp\n",
      "estimating cross study cv for spp\n"
     ]
    },
    {
     "name": "stderr",
     "output_type": "stream",
     "text": [
      "/home/phyto-2/miniconda3/envs/cascade-env/lib/python3.12/site-packages/statsmodels/genmod/generalized_linear_model.py:308: DomainWarning: The Identity link function does not respect the domain of the Gamma family.\n",
      "  warnings.warn((f\"The {type(family.link).__name__} link function \"\n",
      "/home/phyto-2/miniconda3/envs/cascade-env/lib/python3.12/site-packages/statsmodels/genmod/generalized_linear_model.py:308: DomainWarning: The Identity link function does not respect the domain of the Gamma family.\n",
      "  warnings.warn((f\"The {type(family.link).__name__} link function \"\n"
     ]
    },
    {
     "name": "stdout",
     "output_type": "stream",
     "text": [
      "estimating pic for spp Oolithotus antillarum HET\n",
      "estimating cross study cv for spp\n",
      "estimating cross study cv for spp\n",
      "estimating pic based on resampling\n",
      "estimating poc for spp Oolithotus antillarum HET\n",
      "estimating poc based on GLM\n",
      "resampling size for spp: Gladiolithus flabellatus HET\n",
      "estimating cross study cv for spp\n",
      "estimating cross study cv for spp\n"
     ]
    },
    {
     "name": "stderr",
     "output_type": "stream",
     "text": [
      "/home/phyto-2/miniconda3/envs/cascade-env/lib/python3.12/site-packages/statsmodels/genmod/generalized_linear_model.py:308: DomainWarning: The Identity link function does not respect the domain of the Gamma family.\n",
      "  warnings.warn((f\"The {type(family.link).__name__} link function \"\n",
      "/home/phyto-2/miniconda3/envs/cascade-env/lib/python3.12/site-packages/statsmodels/genmod/generalized_linear_model.py:308: DomainWarning: The Identity link function does not respect the domain of the Gamma family.\n",
      "  warnings.warn((f\"The {type(family.link).__name__} link function \"\n"
     ]
    },
    {
     "name": "stdout",
     "output_type": "stream",
     "text": [
      "estimating pic for spp Gladiolithus flabellatus HET\n",
      "estimating pic based on GLM\n",
      "estimating poc for spp Gladiolithus flabellatus HET\n",
      "estimating poc based on GLM\n",
      "resampling size for spp: Michaelsarsia adriaticus HET\n",
      "estimating cross study cv for spp\n",
      "estimating cross study cv for spp\n",
      "group sd unknown, using cross species sd instead (size)\n",
      "group sd unknown, using cross species sd instead (size)\n"
     ]
    },
    {
     "name": "stderr",
     "output_type": "stream",
     "text": [
      "/home/phyto-2/miniconda3/envs/cascade-env/lib/python3.12/site-packages/statsmodels/genmod/generalized_linear_model.py:308: DomainWarning: The Identity link function does not respect the domain of the Gamma family.\n",
      "  warnings.warn((f\"The {type(family.link).__name__} link function \"\n",
      "/home/phyto-2/miniconda3/envs/cascade-env/lib/python3.12/site-packages/statsmodels/genmod/generalized_linear_model.py:308: DomainWarning: The Identity link function does not respect the domain of the Gamma family.\n",
      "  warnings.warn((f\"The {type(family.link).__name__} link function \"\n",
      "/home/phyto-2/miniconda3/envs/cascade-env/lib/python3.12/site-packages/statsmodels/genmod/generalized_linear_model.py:308: DomainWarning: The Identity link function does not respect the domain of the Gamma family.\n",
      "  warnings.warn((f\"The {type(family.link).__name__} link function \"\n",
      "/home/phyto-2/miniconda3/envs/cascade-env/lib/python3.12/site-packages/statsmodels/genmod/generalized_linear_model.py:308: DomainWarning: The Identity link function does not respect the domain of the Gamma family.\n",
      "  warnings.warn((f\"The {type(family.link).__name__} link function \"\n"
     ]
    },
    {
     "name": "stdout",
     "output_type": "stream",
     "text": [
      "estimating pic for spp Michaelsarsia adriaticus HET\n",
      "estimating pic based on GLM\n",
      "estimating poc for spp Michaelsarsia adriaticus HET\n",
      "estimating poc based on GLM\n",
      "resampling size for spp: Syracosphaera arethusae HOL\n",
      "estimating cross study cv for spp\n",
      "estimating cross study cv for spp\n"
     ]
    },
    {
     "name": "stderr",
     "output_type": "stream",
     "text": [
      "/home/phyto-2/miniconda3/envs/cascade-env/lib/python3.12/site-packages/statsmodels/genmod/generalized_linear_model.py:308: DomainWarning: The Identity link function does not respect the domain of the Gamma family.\n",
      "  warnings.warn((f\"The {type(family.link).__name__} link function \"\n",
      "/home/phyto-2/miniconda3/envs/cascade-env/lib/python3.12/site-packages/statsmodels/genmod/generalized_linear_model.py:308: DomainWarning: The Identity link function does not respect the domain of the Gamma family.\n",
      "  warnings.warn((f\"The {type(family.link).__name__} link function \"\n",
      "/home/phyto-2/miniconda3/envs/cascade-env/lib/python3.12/site-packages/statsmodels/genmod/generalized_linear_model.py:308: DomainWarning: The Identity link function does not respect the domain of the Gamma family.\n",
      "  warnings.warn((f\"The {type(family.link).__name__} link function \"\n",
      "/home/phyto-2/miniconda3/envs/cascade-env/lib/python3.12/site-packages/statsmodels/genmod/generalized_linear_model.py:308: DomainWarning: The Identity link function does not respect the domain of the Gamma family.\n",
      "  warnings.warn((f\"The {type(family.link).__name__} link function \"\n"
     ]
    },
    {
     "name": "stdout",
     "output_type": "stream",
     "text": [
      "group sd unknown, using cross species sd instead (size)\n",
      "group sd unknown, using cross species sd instead (size)\n",
      "estimating pic for spp Syracosphaera arethusae HOL\n",
      "estimating pic based on GLM\n",
      "estimating poc for spp Syracosphaera arethusae HOL\n",
      "estimating poc based on GLM\n",
      "resampling size for spp: Syracosphaera corolla HET\n",
      "estimating cross study cv for spp\n",
      "estimating cross study cv for spp\n"
     ]
    },
    {
     "name": "stderr",
     "output_type": "stream",
     "text": [
      "/home/phyto-2/miniconda3/envs/cascade-env/lib/python3.12/site-packages/statsmodels/genmod/generalized_linear_model.py:308: DomainWarning: The Identity link function does not respect the domain of the Gamma family.\n",
      "  warnings.warn((f\"The {type(family.link).__name__} link function \"\n",
      "/home/phyto-2/miniconda3/envs/cascade-env/lib/python3.12/site-packages/statsmodels/genmod/generalized_linear_model.py:308: DomainWarning: The Identity link function does not respect the domain of the Gamma family.\n",
      "  warnings.warn((f\"The {type(family.link).__name__} link function \"\n",
      "/home/phyto-2/miniconda3/envs/cascade-env/lib/python3.12/site-packages/statsmodels/genmod/generalized_linear_model.py:308: DomainWarning: The Identity link function does not respect the domain of the Gamma family.\n",
      "  warnings.warn((f\"The {type(family.link).__name__} link function \"\n",
      "/home/phyto-2/miniconda3/envs/cascade-env/lib/python3.12/site-packages/statsmodels/genmod/generalized_linear_model.py:308: DomainWarning: The Identity link function does not respect the domain of the Gamma family.\n",
      "  warnings.warn((f\"The {type(family.link).__name__} link function \"\n"
     ]
    },
    {
     "name": "stdout",
     "output_type": "stream",
     "text": [
      "group sd unknown, using cross species sd instead (size)\n",
      "estimating pic for spp Syracosphaera corolla HET\n",
      "estimating pic based on GLM\n",
      "estimating poc for spp Syracosphaera corolla HET\n",
      "estimating poc based on GLM\n",
      "resampling size for spp: Syracosphaera histrica HOL\n",
      "estimating cross study cv for spp\n",
      "estimating cross study cv for spp\n"
     ]
    },
    {
     "name": "stderr",
     "output_type": "stream",
     "text": [
      "/home/phyto-2/miniconda3/envs/cascade-env/lib/python3.12/site-packages/statsmodels/genmod/generalized_linear_model.py:308: DomainWarning: The Identity link function does not respect the domain of the Gamma family.\n",
      "  warnings.warn((f\"The {type(family.link).__name__} link function \"\n",
      "/home/phyto-2/miniconda3/envs/cascade-env/lib/python3.12/site-packages/statsmodels/genmod/generalized_linear_model.py:308: DomainWarning: The Identity link function does not respect the domain of the Gamma family.\n",
      "  warnings.warn((f\"The {type(family.link).__name__} link function \"\n",
      "/home/phyto-2/miniconda3/envs/cascade-env/lib/python3.12/site-packages/statsmodels/genmod/generalized_linear_model.py:308: DomainWarning: The Identity link function does not respect the domain of the Gamma family.\n",
      "  warnings.warn((f\"The {type(family.link).__name__} link function \"\n",
      "/home/phyto-2/miniconda3/envs/cascade-env/lib/python3.12/site-packages/statsmodels/genmod/generalized_linear_model.py:308: DomainWarning: The Identity link function does not respect the domain of the Gamma family.\n",
      "  warnings.warn((f\"The {type(family.link).__name__} link function \"\n"
     ]
    },
    {
     "name": "stdout",
     "output_type": "stream",
     "text": [
      "group sd unknown, using cross species sd instead (size)\n",
      "group sd unknown, using cross species sd instead (size)\n",
      "estimating pic for spp Syracosphaera histrica HOL\n",
      "estimating cross study cv for spp\n",
      "estimating cross study cv for spp\n",
      "estimating pic based on resampling\n",
      "mean known for:Syracosphaera histrica HOL\n",
      "group sd unknown, using cross species sd instead\n",
      "estimating poc for spp Syracosphaera histrica HOL\n",
      "estimating poc based on GLM\n",
      "resampling size for spp: Corisphaera gracilis HOL\n",
      "estimating cross study cv for spp\n",
      "estimating cross study cv for spp\n"
     ]
    },
    {
     "name": "stderr",
     "output_type": "stream",
     "text": [
      "/home/phyto-2/miniconda3/envs/cascade-env/lib/python3.12/site-packages/statsmodels/genmod/generalized_linear_model.py:308: DomainWarning: The Identity link function does not respect the domain of the Gamma family.\n",
      "  warnings.warn((f\"The {type(family.link).__name__} link function \"\n",
      "/home/phyto-2/miniconda3/envs/cascade-env/lib/python3.12/site-packages/statsmodels/genmod/generalized_linear_model.py:308: DomainWarning: The Identity link function does not respect the domain of the Gamma family.\n",
      "  warnings.warn((f\"The {type(family.link).__name__} link function \"\n"
     ]
    },
    {
     "name": "stdout",
     "output_type": "stream",
     "text": [
      "estimating pic for spp Corisphaera gracilis HOL\n",
      "estimating cross study cv for spp\n",
      "estimating cross study cv for spp\n",
      "estimating pic based on resampling\n",
      "estimating poc for spp Corisphaera gracilis HOL\n",
      "estimating poc based on GLM\n",
      "resampling size for spp: Ceratolithus cristatus HET\n",
      "estimating cross study cv for spp\n",
      "estimating cross study cv for spp\n",
      "group sd unknown, using cross species sd instead (size)\n",
      "group sd unknown, using cross species sd instead (size)\n"
     ]
    },
    {
     "name": "stderr",
     "output_type": "stream",
     "text": [
      "/home/phyto-2/miniconda3/envs/cascade-env/lib/python3.12/site-packages/statsmodels/genmod/generalized_linear_model.py:308: DomainWarning: The Identity link function does not respect the domain of the Gamma family.\n",
      "  warnings.warn((f\"The {type(family.link).__name__} link function \"\n",
      "/home/phyto-2/miniconda3/envs/cascade-env/lib/python3.12/site-packages/statsmodels/genmod/generalized_linear_model.py:308: DomainWarning: The Identity link function does not respect the domain of the Gamma family.\n",
      "  warnings.warn((f\"The {type(family.link).__name__} link function \"\n"
     ]
    },
    {
     "name": "stdout",
     "output_type": "stream",
     "text": [
      "estimating pic for spp Ceratolithus cristatus HET\n",
      "estimating pic based on GLM\n",
      "estimating poc for spp Ceratolithus cristatus HET\n",
      "estimating poc based on GLM\n",
      "resampling size for spp: Syracosphaera halldalii HET\n",
      "estimating cross study cv for spp\n",
      "estimating cross study cv for spp\n"
     ]
    },
    {
     "name": "stderr",
     "output_type": "stream",
     "text": [
      "/home/phyto-2/miniconda3/envs/cascade-env/lib/python3.12/site-packages/statsmodels/genmod/generalized_linear_model.py:308: DomainWarning: The Identity link function does not respect the domain of the Gamma family.\n",
      "  warnings.warn((f\"The {type(family.link).__name__} link function \"\n",
      "/home/phyto-2/miniconda3/envs/cascade-env/lib/python3.12/site-packages/statsmodels/genmod/generalized_linear_model.py:308: DomainWarning: The Identity link function does not respect the domain of the Gamma family.\n",
      "  warnings.warn((f\"The {type(family.link).__name__} link function \"\n",
      "/home/phyto-2/miniconda3/envs/cascade-env/lib/python3.12/site-packages/statsmodels/genmod/generalized_linear_model.py:308: DomainWarning: The Identity link function does not respect the domain of the Gamma family.\n",
      "  warnings.warn((f\"The {type(family.link).__name__} link function \"\n",
      "/home/phyto-2/miniconda3/envs/cascade-env/lib/python3.12/site-packages/statsmodels/genmod/generalized_linear_model.py:308: DomainWarning: The Identity link function does not respect the domain of the Gamma family.\n",
      "  warnings.warn((f\"The {type(family.link).__name__} link function \"\n"
     ]
    },
    {
     "name": "stdout",
     "output_type": "stream",
     "text": [
      "estimating pic for spp Syracosphaera halldalii HET\n",
      "estimating cross study cv for spp\n",
      "estimating cross study cv for spp\n",
      "estimating pic based on resampling\n",
      "estimating poc for spp Syracosphaera halldalii HET\n",
      "estimating poc based on GLM\n",
      "resampling size for spp: Coccolithus pelagicus HET\n",
      "estimating cross study cv for spp\n",
      "estimating cross study cv for spp\n"
     ]
    },
    {
     "name": "stderr",
     "output_type": "stream",
     "text": [
      "/home/phyto-2/miniconda3/envs/cascade-env/lib/python3.12/site-packages/statsmodels/genmod/generalized_linear_model.py:308: DomainWarning: The Identity link function does not respect the domain of the Gamma family.\n",
      "  warnings.warn((f\"The {type(family.link).__name__} link function \"\n",
      "/home/phyto-2/miniconda3/envs/cascade-env/lib/python3.12/site-packages/statsmodels/genmod/generalized_linear_model.py:308: DomainWarning: The Identity link function does not respect the domain of the Gamma family.\n",
      "  warnings.warn((f\"The {type(family.link).__name__} link function \"\n"
     ]
    },
    {
     "name": "stdout",
     "output_type": "stream",
     "text": [
      "estimating pic for spp Coccolithus pelagicus HET\n",
      "estimating cross study cv for spp\n",
      "estimating cross study cv for spp\n",
      "estimating pic based on resampling\n",
      "estimating poc for spp Coccolithus pelagicus HET\n",
      "estimating cross study cv for spp\n",
      "estimating cross study cv for spp\n",
      "estimating poc based on resampling\n",
      "mean known for:Coccolithus pelagicus HET\n",
      "resampling size for spp: Calcidiscus leptoporus HOL\n",
      "estimating cross study cv for spp\n",
      "estimating cross study cv for spp\n",
      "group sd unknown, using cross species sd instead (size)\n",
      "estimating pic for spp Calcidiscus leptoporus HOL\n",
      "estimating pic based on GLM\n",
      "estimating poc for spp Calcidiscus leptoporus HOL\n",
      "estimating poc based on GLM\n",
      "resampling size for spp: Syracosphaera mediterranea HOL wettsteinii type\n",
      "estimating cross study cv for spp\n"
     ]
    },
    {
     "name": "stderr",
     "output_type": "stream",
     "text": [
      "/home/phyto-2/miniconda3/envs/cascade-env/lib/python3.12/site-packages/statsmodels/genmod/generalized_linear_model.py:308: DomainWarning: The Identity link function does not respect the domain of the Gamma family.\n",
      "  warnings.warn((f\"The {type(family.link).__name__} link function \"\n",
      "/home/phyto-2/miniconda3/envs/cascade-env/lib/python3.12/site-packages/statsmodels/genmod/generalized_linear_model.py:308: DomainWarning: The Identity link function does not respect the domain of the Gamma family.\n",
      "  warnings.warn((f\"The {type(family.link).__name__} link function \"\n",
      "/home/phyto-2/miniconda3/envs/cascade-env/lib/python3.12/site-packages/statsmodels/genmod/generalized_linear_model.py:308: DomainWarning: The Identity link function does not respect the domain of the Gamma family.\n",
      "  warnings.warn((f\"The {type(family.link).__name__} link function \"\n",
      "/home/phyto-2/miniconda3/envs/cascade-env/lib/python3.12/site-packages/statsmodels/genmod/generalized_linear_model.py:308: DomainWarning: The Identity link function does not respect the domain of the Gamma family.\n",
      "  warnings.warn((f\"The {type(family.link).__name__} link function \"\n"
     ]
    },
    {
     "name": "stdout",
     "output_type": "stream",
     "text": [
      "estimating cross study cv for spp\n",
      "estimating pic for spp Syracosphaera mediterranea HOL wettsteinii type\n",
      "estimating cross study cv for spp\n",
      "estimating cross study cv for spp\n",
      "estimating pic based on resampling\n",
      "mean known for:Syracosphaera mediterranea HOL wettsteinii type\n",
      "group sd unknown, using cross species sd instead\n",
      "estimating poc for spp Syracosphaera mediterranea HOL wettsteinii type\n",
      "estimating poc based on GLM\n",
      "resampling size for spp: Calciopappus caudatus HET\n",
      "estimating cross study cv for spp\n",
      "estimating cross study cv for spp\n",
      "group sd unknown, using cross species sd instead (size)\n"
     ]
    },
    {
     "name": "stderr",
     "output_type": "stream",
     "text": [
      "/home/phyto-2/miniconda3/envs/cascade-env/lib/python3.12/site-packages/statsmodels/genmod/generalized_linear_model.py:308: DomainWarning: The Identity link function does not respect the domain of the Gamma family.\n",
      "  warnings.warn((f\"The {type(family.link).__name__} link function \"\n",
      "/home/phyto-2/miniconda3/envs/cascade-env/lib/python3.12/site-packages/statsmodels/genmod/generalized_linear_model.py:308: DomainWarning: The Identity link function does not respect the domain of the Gamma family.\n",
      "  warnings.warn((f\"The {type(family.link).__name__} link function \"\n"
     ]
    },
    {
     "name": "stdout",
     "output_type": "stream",
     "text": [
      "estimating pic for spp Calciopappus caudatus HET\n",
      "estimating pic based on GLM\n",
      "estimating poc for spp Calciopappus caudatus HET\n",
      "estimating poc based on GLM\n",
      "resampling size for spp: Syracosphaera anthos HOL\n",
      "estimating cross study cv for spp\n"
     ]
    },
    {
     "name": "stderr",
     "output_type": "stream",
     "text": [
      "/home/phyto-2/miniconda3/envs/cascade-env/lib/python3.12/site-packages/statsmodels/genmod/generalized_linear_model.py:308: DomainWarning: The Identity link function does not respect the domain of the Gamma family.\n",
      "  warnings.warn((f\"The {type(family.link).__name__} link function \"\n",
      "/home/phyto-2/miniconda3/envs/cascade-env/lib/python3.12/site-packages/statsmodels/genmod/generalized_linear_model.py:308: DomainWarning: The Identity link function does not respect the domain of the Gamma family.\n",
      "  warnings.warn((f\"The {type(family.link).__name__} link function \"\n",
      "/home/phyto-2/miniconda3/envs/cascade-env/lib/python3.12/site-packages/statsmodels/genmod/generalized_linear_model.py:308: DomainWarning: The Identity link function does not respect the domain of the Gamma family.\n",
      "  warnings.warn((f\"The {type(family.link).__name__} link function \"\n",
      "/home/phyto-2/miniconda3/envs/cascade-env/lib/python3.12/site-packages/statsmodels/genmod/generalized_linear_model.py:308: DomainWarning: The Identity link function does not respect the domain of the Gamma family.\n",
      "  warnings.warn((f\"The {type(family.link).__name__} link function \"\n"
     ]
    },
    {
     "name": "stdout",
     "output_type": "stream",
     "text": [
      "estimating cross study cv for spp\n",
      "estimating pic for spp Syracosphaera anthos HOL\n",
      "estimating cross study cv for spp\n",
      "estimating cross study cv for spp\n",
      "estimating pic based on resampling\n",
      "mean known for:Syracosphaera anthos HOL\n",
      "group sd unknown, using cross species sd instead\n",
      "estimating poc for spp Syracosphaera anthos HOL\n",
      "estimating poc based on GLM\n",
      "resampling size for spp: Syracosphaera molischii HOL\n",
      "estimating cross study cv for spp\n",
      "estimating cross study cv for spp\n",
      "group sd unknown, using cross species sd instead (size)\n",
      "group sd unknown, using cross species sd instead (size)\n"
     ]
    },
    {
     "name": "stderr",
     "output_type": "stream",
     "text": [
      "/home/phyto-2/miniconda3/envs/cascade-env/lib/python3.12/site-packages/statsmodels/genmod/generalized_linear_model.py:308: DomainWarning: The Identity link function does not respect the domain of the Gamma family.\n",
      "  warnings.warn((f\"The {type(family.link).__name__} link function \"\n",
      "/home/phyto-2/miniconda3/envs/cascade-env/lib/python3.12/site-packages/statsmodels/genmod/generalized_linear_model.py:308: DomainWarning: The Identity link function does not respect the domain of the Gamma family.\n",
      "  warnings.warn((f\"The {type(family.link).__name__} link function \"\n"
     ]
    },
    {
     "name": "stdout",
     "output_type": "stream",
     "text": [
      "estimating pic for spp Syracosphaera molischii HOL\n",
      "estimating pic based on GLM\n",
      "estimating poc for spp Syracosphaera molischii HOL\n",
      "estimating poc based on GLM\n",
      "resampling size for spp: Ophiaster formosus HET\n",
      "estimating cross study cv for spp\n",
      "estimating cross study cv for spp\n"
     ]
    },
    {
     "name": "stderr",
     "output_type": "stream",
     "text": [
      "/home/phyto-2/miniconda3/envs/cascade-env/lib/python3.12/site-packages/statsmodels/genmod/generalized_linear_model.py:308: DomainWarning: The Identity link function does not respect the domain of the Gamma family.\n",
      "  warnings.warn((f\"The {type(family.link).__name__} link function \"\n",
      "/home/phyto-2/miniconda3/envs/cascade-env/lib/python3.12/site-packages/statsmodels/genmod/generalized_linear_model.py:308: DomainWarning: The Identity link function does not respect the domain of the Gamma family.\n",
      "  warnings.warn((f\"The {type(family.link).__name__} link function \"\n",
      "/home/phyto-2/miniconda3/envs/cascade-env/lib/python3.12/site-packages/statsmodels/genmod/generalized_linear_model.py:308: DomainWarning: The Identity link function does not respect the domain of the Gamma family.\n",
      "  warnings.warn((f\"The {type(family.link).__name__} link function \"\n",
      "/home/phyto-2/miniconda3/envs/cascade-env/lib/python3.12/site-packages/statsmodels/genmod/generalized_linear_model.py:308: DomainWarning: The Identity link function does not respect the domain of the Gamma family.\n",
      "  warnings.warn((f\"The {type(family.link).__name__} link function \"\n"
     ]
    },
    {
     "name": "stdout",
     "output_type": "stream",
     "text": [
      "group sd unknown, using cross species sd instead (size)\n",
      "estimating pic for spp Ophiaster formosus HET\n",
      "estimating pic based on GLM\n",
      "estimating poc for spp Ophiaster formosus HET\n",
      "estimating poc based on GLM\n",
      "resampling size for spp: Alisphaera unicornis HET\n",
      "estimating cross study cv for spp\n",
      "estimating cross study cv for spp\n"
     ]
    },
    {
     "name": "stderr",
     "output_type": "stream",
     "text": [
      "/home/phyto-2/miniconda3/envs/cascade-env/lib/python3.12/site-packages/statsmodels/genmod/generalized_linear_model.py:308: DomainWarning: The Identity link function does not respect the domain of the Gamma family.\n",
      "  warnings.warn((f\"The {type(family.link).__name__} link function \"\n",
      "/home/phyto-2/miniconda3/envs/cascade-env/lib/python3.12/site-packages/statsmodels/genmod/generalized_linear_model.py:308: DomainWarning: The Identity link function does not respect the domain of the Gamma family.\n",
      "  warnings.warn((f\"The {type(family.link).__name__} link function \"\n",
      "/home/phyto-2/miniconda3/envs/cascade-env/lib/python3.12/site-packages/statsmodels/genmod/generalized_linear_model.py:308: DomainWarning: The Identity link function does not respect the domain of the Gamma family.\n",
      "  warnings.warn((f\"The {type(family.link).__name__} link function \"\n",
      "/home/phyto-2/miniconda3/envs/cascade-env/lib/python3.12/site-packages/statsmodels/genmod/generalized_linear_model.py:308: DomainWarning: The Identity link function does not respect the domain of the Gamma family.\n",
      "  warnings.warn((f\"The {type(family.link).__name__} link function \"\n"
     ]
    },
    {
     "name": "stdout",
     "output_type": "stream",
     "text": [
      "group sd unknown, using cross species sd instead (size)\n",
      "estimating pic for spp Alisphaera unicornis HET\n",
      "estimating pic based on GLM\n",
      "estimating poc for spp Alisphaera unicornis HET\n",
      "estimating poc based on GLM\n",
      "resampling size for spp: Acanthoica acanthifera HET\n",
      "estimating cross study cv for spp\n",
      "estimating cross study cv for spp\n"
     ]
    },
    {
     "name": "stderr",
     "output_type": "stream",
     "text": [
      "/home/phyto-2/miniconda3/envs/cascade-env/lib/python3.12/site-packages/statsmodels/genmod/generalized_linear_model.py:308: DomainWarning: The Identity link function does not respect the domain of the Gamma family.\n",
      "  warnings.warn((f\"The {type(family.link).__name__} link function \"\n",
      "/home/phyto-2/miniconda3/envs/cascade-env/lib/python3.12/site-packages/statsmodels/genmod/generalized_linear_model.py:308: DomainWarning: The Identity link function does not respect the domain of the Gamma family.\n",
      "  warnings.warn((f\"The {type(family.link).__name__} link function \"\n",
      "/home/phyto-2/miniconda3/envs/cascade-env/lib/python3.12/site-packages/statsmodels/genmod/generalized_linear_model.py:308: DomainWarning: The Identity link function does not respect the domain of the Gamma family.\n",
      "  warnings.warn((f\"The {type(family.link).__name__} link function \"\n",
      "/home/phyto-2/miniconda3/envs/cascade-env/lib/python3.12/site-packages/statsmodels/genmod/generalized_linear_model.py:308: DomainWarning: The Identity link function does not respect the domain of the Gamma family.\n",
      "  warnings.warn((f\"The {type(family.link).__name__} link function \"\n"
     ]
    },
    {
     "name": "stdout",
     "output_type": "stream",
     "text": [
      "group sd unknown, using cross species sd instead (size)\n",
      "group sd unknown, using cross species sd instead (size)\n",
      "estimating pic for spp Acanthoica acanthifera HET\n",
      "estimating cross study cv for spp\n",
      "estimating cross study cv for spp\n",
      "estimating pic based on resampling\n",
      "mean known for:Acanthoica acanthifera HET\n",
      "group sd unknown, using cross species sd instead\n",
      "estimating poc for spp Acanthoica acanthifera HET\n",
      "estimating poc based on GLM\n",
      "resampling size for spp: Umbilicosphaera foliosa HET\n",
      "estimating cross study cv for spp\n",
      "estimating cross study cv for spp\n"
     ]
    },
    {
     "name": "stderr",
     "output_type": "stream",
     "text": [
      "/home/phyto-2/miniconda3/envs/cascade-env/lib/python3.12/site-packages/statsmodels/genmod/generalized_linear_model.py:308: DomainWarning: The Identity link function does not respect the domain of the Gamma family.\n",
      "  warnings.warn((f\"The {type(family.link).__name__} link function \"\n",
      "/home/phyto-2/miniconda3/envs/cascade-env/lib/python3.12/site-packages/statsmodels/genmod/generalized_linear_model.py:308: DomainWarning: The Identity link function does not respect the domain of the Gamma family.\n",
      "  warnings.warn((f\"The {type(family.link).__name__} link function \"\n"
     ]
    },
    {
     "name": "stdout",
     "output_type": "stream",
     "text": [
      "estimating pic for spp Umbilicosphaera foliosa HET\n",
      "estimating pic based on GLM\n",
      "estimating poc for spp Umbilicosphaera foliosa HET\n",
      "estimating poc based on GLM\n",
      "resampling size for spp: Syracosphaera protrudens HET\n",
      "estimating cross study cv for spp\n",
      "estimating cross study cv for spp\n"
     ]
    },
    {
     "name": "stderr",
     "output_type": "stream",
     "text": [
      "/home/phyto-2/miniconda3/envs/cascade-env/lib/python3.12/site-packages/statsmodels/genmod/generalized_linear_model.py:308: DomainWarning: The Identity link function does not respect the domain of the Gamma family.\n",
      "  warnings.warn((f\"The {type(family.link).__name__} link function \"\n",
      "/home/phyto-2/miniconda3/envs/cascade-env/lib/python3.12/site-packages/statsmodels/genmod/generalized_linear_model.py:308: DomainWarning: The Identity link function does not respect the domain of the Gamma family.\n",
      "  warnings.warn((f\"The {type(family.link).__name__} link function \"\n",
      "/home/phyto-2/miniconda3/envs/cascade-env/lib/python3.12/site-packages/statsmodels/genmod/generalized_linear_model.py:308: DomainWarning: The Identity link function does not respect the domain of the Gamma family.\n",
      "  warnings.warn((f\"The {type(family.link).__name__} link function \"\n",
      "/home/phyto-2/miniconda3/envs/cascade-env/lib/python3.12/site-packages/statsmodels/genmod/generalized_linear_model.py:308: DomainWarning: The Identity link function does not respect the domain of the Gamma family.\n",
      "  warnings.warn((f\"The {type(family.link).__name__} link function \"\n"
     ]
    },
    {
     "name": "stdout",
     "output_type": "stream",
     "text": [
      "group sd unknown, using cross species sd instead (size)\n",
      "estimating pic for spp Syracosphaera protrudens HET\n",
      "estimating pic based on GLM\n",
      "estimating poc for spp Syracosphaera protrudens HET\n",
      "estimating poc based on GLM\n",
      "resampling size for spp: Syracosphaera marginiporata HET\n",
      "estimating cross study cv for spp\n",
      "estimating cross study cv for spp\n",
      "group sd unknown, using cross species sd instead (size)\n",
      "group sd unknown, using cross species sd instead (size)\n"
     ]
    },
    {
     "name": "stderr",
     "output_type": "stream",
     "text": [
      "/home/phyto-2/miniconda3/envs/cascade-env/lib/python3.12/site-packages/statsmodels/genmod/generalized_linear_model.py:308: DomainWarning: The Identity link function does not respect the domain of the Gamma family.\n",
      "  warnings.warn((f\"The {type(family.link).__name__} link function \"\n",
      "/home/phyto-2/miniconda3/envs/cascade-env/lib/python3.12/site-packages/statsmodels/genmod/generalized_linear_model.py:308: DomainWarning: The Identity link function does not respect the domain of the Gamma family.\n",
      "  warnings.warn((f\"The {type(family.link).__name__} link function \"\n",
      "/home/phyto-2/miniconda3/envs/cascade-env/lib/python3.12/site-packages/statsmodels/genmod/generalized_linear_model.py:308: DomainWarning: The Identity link function does not respect the domain of the Gamma family.\n",
      "  warnings.warn((f\"The {type(family.link).__name__} link function \"\n",
      "/home/phyto-2/miniconda3/envs/cascade-env/lib/python3.12/site-packages/statsmodels/genmod/generalized_linear_model.py:308: DomainWarning: The Identity link function does not respect the domain of the Gamma family.\n",
      "  warnings.warn((f\"The {type(family.link).__name__} link function \"\n"
     ]
    },
    {
     "name": "stdout",
     "output_type": "stream",
     "text": [
      "estimating pic for spp Syracosphaera marginiporata HET\n",
      "estimating pic based on GLM\n",
      "estimating poc for spp Syracosphaera marginiporata HET\n",
      "estimating poc based on GLM\n",
      "resampling size for spp: Cyrtosphaera aculeata HET\n",
      "estimating cross study cv for spp\n",
      "estimating cross study cv for spp\n"
     ]
    },
    {
     "name": "stderr",
     "output_type": "stream",
     "text": [
      "/home/phyto-2/miniconda3/envs/cascade-env/lib/python3.12/site-packages/statsmodels/genmod/generalized_linear_model.py:308: DomainWarning: The Identity link function does not respect the domain of the Gamma family.\n",
      "  warnings.warn((f\"The {type(family.link).__name__} link function \"\n",
      "/home/phyto-2/miniconda3/envs/cascade-env/lib/python3.12/site-packages/statsmodels/genmod/generalized_linear_model.py:308: DomainWarning: The Identity link function does not respect the domain of the Gamma family.\n",
      "  warnings.warn((f\"The {type(family.link).__name__} link function \"\n",
      "/home/phyto-2/miniconda3/envs/cascade-env/lib/python3.12/site-packages/statsmodels/genmod/generalized_linear_model.py:308: DomainWarning: The Identity link function does not respect the domain of the Gamma family.\n",
      "  warnings.warn((f\"The {type(family.link).__name__} link function \"\n",
      "/home/phyto-2/miniconda3/envs/cascade-env/lib/python3.12/site-packages/statsmodels/genmod/generalized_linear_model.py:308: DomainWarning: The Identity link function does not respect the domain of the Gamma family.\n",
      "  warnings.warn((f\"The {type(family.link).__name__} link function \"\n"
     ]
    },
    {
     "name": "stdout",
     "output_type": "stream",
     "text": [
      "group sd unknown, using cross species sd instead (size)\n",
      "group sd unknown, using cross species sd instead (size)\n",
      "estimating pic for spp Cyrtosphaera aculeata HET\n",
      "estimating pic based on GLM\n",
      "estimating poc for spp Cyrtosphaera aculeata HET\n",
      "estimating poc based on GLM\n",
      "resampling size for spp: Alisphaera unicornis POL\n",
      "estimating cross study cv for spp\n",
      "estimating cross study cv for spp\n"
     ]
    },
    {
     "name": "stderr",
     "output_type": "stream",
     "text": [
      "/home/phyto-2/miniconda3/envs/cascade-env/lib/python3.12/site-packages/statsmodels/genmod/generalized_linear_model.py:308: DomainWarning: The Identity link function does not respect the domain of the Gamma family.\n",
      "  warnings.warn((f\"The {type(family.link).__name__} link function \"\n",
      "/home/phyto-2/miniconda3/envs/cascade-env/lib/python3.12/site-packages/statsmodels/genmod/generalized_linear_model.py:308: DomainWarning: The Identity link function does not respect the domain of the Gamma family.\n",
      "  warnings.warn((f\"The {type(family.link).__name__} link function \"\n",
      "/home/phyto-2/miniconda3/envs/cascade-env/lib/python3.12/site-packages/statsmodels/genmod/generalized_linear_model.py:308: DomainWarning: The Identity link function does not respect the domain of the Gamma family.\n",
      "  warnings.warn((f\"The {type(family.link).__name__} link function \"\n",
      "/home/phyto-2/miniconda3/envs/cascade-env/lib/python3.12/site-packages/statsmodels/genmod/generalized_linear_model.py:308: DomainWarning: The Identity link function does not respect the domain of the Gamma family.\n",
      "  warnings.warn((f\"The {type(family.link).__name__} link function \"\n"
     ]
    },
    {
     "name": "stdout",
     "output_type": "stream",
     "text": [
      "group sd unknown, using cross species sd instead (size)\n",
      "estimating pic for spp Alisphaera unicornis POL\n",
      "estimating pic based on GLM\n",
      "estimating poc for spp Alisphaera unicornis POL\n",
      "estimating poc based on GLM\n",
      "resampling size for spp: Oolithotus fragilis HET\n",
      "estimating cross study cv for spp\n"
     ]
    },
    {
     "name": "stderr",
     "output_type": "stream",
     "text": [
      "/home/phyto-2/miniconda3/envs/cascade-env/lib/python3.12/site-packages/statsmodels/genmod/generalized_linear_model.py:308: DomainWarning: The Identity link function does not respect the domain of the Gamma family.\n",
      "  warnings.warn((f\"The {type(family.link).__name__} link function \"\n",
      "/home/phyto-2/miniconda3/envs/cascade-env/lib/python3.12/site-packages/statsmodels/genmod/generalized_linear_model.py:308: DomainWarning: The Identity link function does not respect the domain of the Gamma family.\n",
      "  warnings.warn((f\"The {type(family.link).__name__} link function \"\n",
      "/home/phyto-2/miniconda3/envs/cascade-env/lib/python3.12/site-packages/statsmodels/genmod/generalized_linear_model.py:308: DomainWarning: The Identity link function does not respect the domain of the Gamma family.\n",
      "  warnings.warn((f\"The {type(family.link).__name__} link function \"\n",
      "/home/phyto-2/miniconda3/envs/cascade-env/lib/python3.12/site-packages/statsmodels/genmod/generalized_linear_model.py:308: DomainWarning: The Identity link function does not respect the domain of the Gamma family.\n",
      "  warnings.warn((f\"The {type(family.link).__name__} link function \"\n"
     ]
    },
    {
     "name": "stdout",
     "output_type": "stream",
     "text": [
      "estimating cross study cv for spp\n",
      "estimating pic for spp Oolithotus fragilis HET\n",
      "estimating cross study cv for spp\n",
      "estimating cross study cv for spp\n",
      "estimating pic based on resampling\n",
      "estimating poc for spp Oolithotus fragilis HET\n",
      "estimating poc based on GLM\n",
      "resampling size for spp: Calyptrolithina divergens HOL\n",
      "estimating cross study cv for spp\n",
      "estimating cross study cv for spp\n",
      "group sd unknown, using cross species sd instead (size)\n"
     ]
    },
    {
     "name": "stderr",
     "output_type": "stream",
     "text": [
      "/home/phyto-2/miniconda3/envs/cascade-env/lib/python3.12/site-packages/statsmodels/genmod/generalized_linear_model.py:308: DomainWarning: The Identity link function does not respect the domain of the Gamma family.\n",
      "  warnings.warn((f\"The {type(family.link).__name__} link function \"\n",
      "/home/phyto-2/miniconda3/envs/cascade-env/lib/python3.12/site-packages/statsmodels/genmod/generalized_linear_model.py:308: DomainWarning: The Identity link function does not respect the domain of the Gamma family.\n",
      "  warnings.warn((f\"The {type(family.link).__name__} link function \"\n"
     ]
    },
    {
     "name": "stdout",
     "output_type": "stream",
     "text": [
      "estimating pic for spp Calyptrolithina divergens HOL\n",
      "estimating pic based on GLM\n",
      "estimating poc for spp Calyptrolithina divergens HOL\n",
      "estimating poc based on GLM\n",
      "resampling size for spp: Sphaerocalyptra quadridentata HOL\n",
      "estimating cross study cv for spp\n",
      "estimating cross study cv for spp\n",
      "group sd unknown, using cross species sd instead (size)\n"
     ]
    },
    {
     "name": "stderr",
     "output_type": "stream",
     "text": [
      "/home/phyto-2/miniconda3/envs/cascade-env/lib/python3.12/site-packages/statsmodels/genmod/generalized_linear_model.py:308: DomainWarning: The Identity link function does not respect the domain of the Gamma family.\n",
      "  warnings.warn((f\"The {type(family.link).__name__} link function \"\n",
      "/home/phyto-2/miniconda3/envs/cascade-env/lib/python3.12/site-packages/statsmodels/genmod/generalized_linear_model.py:308: DomainWarning: The Identity link function does not respect the domain of the Gamma family.\n",
      "  warnings.warn((f\"The {type(family.link).__name__} link function \"\n",
      "/home/phyto-2/miniconda3/envs/cascade-env/lib/python3.12/site-packages/statsmodels/genmod/generalized_linear_model.py:308: DomainWarning: The Identity link function does not respect the domain of the Gamma family.\n",
      "  warnings.warn((f\"The {type(family.link).__name__} link function \"\n",
      "/home/phyto-2/miniconda3/envs/cascade-env/lib/python3.12/site-packages/statsmodels/genmod/generalized_linear_model.py:308: DomainWarning: The Identity link function does not respect the domain of the Gamma family.\n",
      "  warnings.warn((f\"The {type(family.link).__name__} link function \"\n"
     ]
    },
    {
     "name": "stdout",
     "output_type": "stream",
     "text": [
      "estimating pic for spp Sphaerocalyptra quadridentata HOL\n",
      "estimating pic based on GLM\n",
      "estimating poc for spp Sphaerocalyptra quadridentata HOL\n",
      "estimating poc based on GLM\n",
      "resampling size for spp: Syracosphaera pulchra HOL oblonga type\n",
      "estimating cross study cv for spp\n",
      "estimating cross study cv for spp\n"
     ]
    },
    {
     "name": "stderr",
     "output_type": "stream",
     "text": [
      "/home/phyto-2/miniconda3/envs/cascade-env/lib/python3.12/site-packages/statsmodels/genmod/generalized_linear_model.py:308: DomainWarning: The Identity link function does not respect the domain of the Gamma family.\n",
      "  warnings.warn((f\"The {type(family.link).__name__} link function \"\n",
      "/home/phyto-2/miniconda3/envs/cascade-env/lib/python3.12/site-packages/statsmodels/genmod/generalized_linear_model.py:308: DomainWarning: The Identity link function does not respect the domain of the Gamma family.\n",
      "  warnings.warn((f\"The {type(family.link).__name__} link function \"\n",
      "/home/phyto-2/miniconda3/envs/cascade-env/lib/python3.12/site-packages/statsmodels/genmod/generalized_linear_model.py:308: DomainWarning: The Identity link function does not respect the domain of the Gamma family.\n",
      "  warnings.warn((f\"The {type(family.link).__name__} link function \"\n",
      "/home/phyto-2/miniconda3/envs/cascade-env/lib/python3.12/site-packages/statsmodels/genmod/generalized_linear_model.py:308: DomainWarning: The Identity link function does not respect the domain of the Gamma family.\n",
      "  warnings.warn((f\"The {type(family.link).__name__} link function \"\n"
     ]
    },
    {
     "name": "stdout",
     "output_type": "stream",
     "text": [
      "estimating pic for spp Syracosphaera pulchra HOL oblonga type\n",
      "estimating cross study cv for spp\n",
      "estimating cross study cv for spp\n",
      "estimating pic based on resampling\n",
      "mean known for:Syracosphaera pulchra HOL oblonga type\n",
      "group sd unknown, using cross species sd instead\n",
      "estimating poc for spp Syracosphaera pulchra HOL oblonga type\n",
      "estimating poc based on GLM\n",
      "resampling size for spp: Syracosphaera neapolitana HET\n",
      "estimating cross study cv for spp\n",
      "estimating cross study cv for spp\n"
     ]
    },
    {
     "name": "stderr",
     "output_type": "stream",
     "text": [
      "/home/phyto-2/miniconda3/envs/cascade-env/lib/python3.12/site-packages/statsmodels/genmod/generalized_linear_model.py:308: DomainWarning: The Identity link function does not respect the domain of the Gamma family.\n",
      "  warnings.warn((f\"The {type(family.link).__name__} link function \"\n",
      "/home/phyto-2/miniconda3/envs/cascade-env/lib/python3.12/site-packages/statsmodels/genmod/generalized_linear_model.py:308: DomainWarning: The Identity link function does not respect the domain of the Gamma family.\n",
      "  warnings.warn((f\"The {type(family.link).__name__} link function \"\n"
     ]
    },
    {
     "name": "stdout",
     "output_type": "stream",
     "text": [
      "estimating pic for spp Syracosphaera neapolitana HET\n",
      "estimating pic based on GLM\n",
      "estimating poc for spp Syracosphaera neapolitana HET\n",
      "estimating poc based on GLM\n",
      "resampling size for spp: Calciopappus rigidus HET\n",
      "estimating cross study cv for spp\n",
      "estimating cross study cv for spp\n",
      "group sd unknown, using cross species sd instead (size)\n"
     ]
    },
    {
     "name": "stderr",
     "output_type": "stream",
     "text": [
      "/home/phyto-2/miniconda3/envs/cascade-env/lib/python3.12/site-packages/statsmodels/genmod/generalized_linear_model.py:308: DomainWarning: The Identity link function does not respect the domain of the Gamma family.\n",
      "  warnings.warn((f\"The {type(family.link).__name__} link function \"\n",
      "/home/phyto-2/miniconda3/envs/cascade-env/lib/python3.12/site-packages/statsmodels/genmod/generalized_linear_model.py:308: DomainWarning: The Identity link function does not respect the domain of the Gamma family.\n",
      "  warnings.warn((f\"The {type(family.link).__name__} link function \"\n",
      "/home/phyto-2/miniconda3/envs/cascade-env/lib/python3.12/site-packages/statsmodels/genmod/generalized_linear_model.py:308: DomainWarning: The Identity link function does not respect the domain of the Gamma family.\n",
      "  warnings.warn((f\"The {type(family.link).__name__} link function \"\n",
      "/home/phyto-2/miniconda3/envs/cascade-env/lib/python3.12/site-packages/statsmodels/genmod/generalized_linear_model.py:308: DomainWarning: The Identity link function does not respect the domain of the Gamma family.\n",
      "  warnings.warn((f\"The {type(family.link).__name__} link function \"\n"
     ]
    },
    {
     "name": "stdout",
     "output_type": "stream",
     "text": [
      "estimating pic for spp Calciopappus rigidus HET\n",
      "estimating pic based on GLM\n",
      "estimating poc for spp Calciopappus rigidus HET\n",
      "estimating poc based on GLM\n",
      "resampling size for spp: Syracosphaera dilatata HET\n",
      "estimating cross study cv for spp\n",
      "estimating cross study cv for spp\n"
     ]
    },
    {
     "name": "stderr",
     "output_type": "stream",
     "text": [
      "/home/phyto-2/miniconda3/envs/cascade-env/lib/python3.12/site-packages/statsmodels/genmod/generalized_linear_model.py:308: DomainWarning: The Identity link function does not respect the domain of the Gamma family.\n",
      "  warnings.warn((f\"The {type(family.link).__name__} link function \"\n",
      "/home/phyto-2/miniconda3/envs/cascade-env/lib/python3.12/site-packages/statsmodels/genmod/generalized_linear_model.py:308: DomainWarning: The Identity link function does not respect the domain of the Gamma family.\n",
      "  warnings.warn((f\"The {type(family.link).__name__} link function \"\n",
      "/home/phyto-2/miniconda3/envs/cascade-env/lib/python3.12/site-packages/statsmodels/genmod/generalized_linear_model.py:308: DomainWarning: The Identity link function does not respect the domain of the Gamma family.\n",
      "  warnings.warn((f\"The {type(family.link).__name__} link function \"\n",
      "/home/phyto-2/miniconda3/envs/cascade-env/lib/python3.12/site-packages/statsmodels/genmod/generalized_linear_model.py:308: DomainWarning: The Identity link function does not respect the domain of the Gamma family.\n",
      "  warnings.warn((f\"The {type(family.link).__name__} link function \"\n"
     ]
    },
    {
     "name": "stdout",
     "output_type": "stream",
     "text": [
      "group sd unknown, using cross species sd instead (size)\n",
      "estimating pic for spp Syracosphaera dilatata HET\n",
      "estimating pic based on GLM\n",
      "estimating poc for spp Syracosphaera dilatata HET\n",
      "estimating poc based on GLM\n",
      "resampling size for spp: Syracosphaera bannockii HOL\n",
      "estimating cross study cv for spp\n",
      "estimating cross study cv for spp\n"
     ]
    },
    {
     "name": "stderr",
     "output_type": "stream",
     "text": [
      "/home/phyto-2/miniconda3/envs/cascade-env/lib/python3.12/site-packages/statsmodels/genmod/generalized_linear_model.py:308: DomainWarning: The Identity link function does not respect the domain of the Gamma family.\n",
      "  warnings.warn((f\"The {type(family.link).__name__} link function \"\n",
      "/home/phyto-2/miniconda3/envs/cascade-env/lib/python3.12/site-packages/statsmodels/genmod/generalized_linear_model.py:308: DomainWarning: The Identity link function does not respect the domain of the Gamma family.\n",
      "  warnings.warn((f\"The {type(family.link).__name__} link function \"\n",
      "/home/phyto-2/miniconda3/envs/cascade-env/lib/python3.12/site-packages/statsmodels/genmod/generalized_linear_model.py:308: DomainWarning: The Identity link function does not respect the domain of the Gamma family.\n",
      "  warnings.warn((f\"The {type(family.link).__name__} link function \"\n",
      "/home/phyto-2/miniconda3/envs/cascade-env/lib/python3.12/site-packages/statsmodels/genmod/generalized_linear_model.py:308: DomainWarning: The Identity link function does not respect the domain of the Gamma family.\n",
      "  warnings.warn((f\"The {type(family.link).__name__} link function \"\n"
     ]
    },
    {
     "name": "stdout",
     "output_type": "stream",
     "text": [
      "estimating pic for spp Syracosphaera bannockii HOL\n",
      "estimating cross study cv for spp\n",
      "estimating cross study cv for spp\n",
      "estimating pic based on resampling\n",
      "estimating poc for spp Syracosphaera bannockii HOL\n",
      "estimating poc based on GLM\n",
      "resampling size for spp: Syracosphaera aurisinae HET\n",
      "estimating cross study cv for spp\n",
      "estimating cross study cv for spp\n",
      "group sd unknown, using cross species sd instead (size)\n",
      "group sd unknown, using cross species sd instead (size)\n",
      "group sd unknown, using cross species sd instead (size)\n",
      "group sd unknown, using cross species sd instead (size)\n"
     ]
    },
    {
     "name": "stderr",
     "output_type": "stream",
     "text": [
      "/home/phyto-2/miniconda3/envs/cascade-env/lib/python3.12/site-packages/statsmodels/genmod/generalized_linear_model.py:308: DomainWarning: The Identity link function does not respect the domain of the Gamma family.\n",
      "  warnings.warn((f\"The {type(family.link).__name__} link function \"\n",
      "/home/phyto-2/miniconda3/envs/cascade-env/lib/python3.12/site-packages/statsmodels/genmod/generalized_linear_model.py:308: DomainWarning: The Identity link function does not respect the domain of the Gamma family.\n",
      "  warnings.warn((f\"The {type(family.link).__name__} link function \"\n"
     ]
    },
    {
     "name": "stdout",
     "output_type": "stream",
     "text": [
      "estimating pic for spp Syracosphaera aurisinae HET\n",
      "estimating pic based on GLM\n",
      "estimating poc for spp Syracosphaera aurisinae HET\n",
      "estimating poc based on GLM\n",
      "resampling size for spp: Helicosphaera HOL catilliferus type\n",
      "estimating cross study cv for spp\n"
     ]
    },
    {
     "name": "stderr",
     "output_type": "stream",
     "text": [
      "/home/phyto-2/miniconda3/envs/cascade-env/lib/python3.12/site-packages/statsmodels/genmod/generalized_linear_model.py:308: DomainWarning: The Identity link function does not respect the domain of the Gamma family.\n",
      "  warnings.warn((f\"The {type(family.link).__name__} link function \"\n",
      "/home/phyto-2/miniconda3/envs/cascade-env/lib/python3.12/site-packages/statsmodels/genmod/generalized_linear_model.py:308: DomainWarning: The Identity link function does not respect the domain of the Gamma family.\n",
      "  warnings.warn((f\"The {type(family.link).__name__} link function \"\n",
      "/home/phyto-2/miniconda3/envs/cascade-env/lib/python3.12/site-packages/statsmodels/genmod/generalized_linear_model.py:308: DomainWarning: The Identity link function does not respect the domain of the Gamma family.\n",
      "  warnings.warn((f\"The {type(family.link).__name__} link function \"\n",
      "/home/phyto-2/miniconda3/envs/cascade-env/lib/python3.12/site-packages/statsmodels/genmod/generalized_linear_model.py:308: DomainWarning: The Identity link function does not respect the domain of the Gamma family.\n",
      "  warnings.warn((f\"The {type(family.link).__name__} link function \"\n"
     ]
    },
    {
     "name": "stdout",
     "output_type": "stream",
     "text": [
      "estimating cross study cv for spp\n",
      "estimating pic for spp Helicosphaera HOL catilliferus type\n",
      "estimating pic based on GLM\n",
      "estimating poc for spp Helicosphaera HOL catilliferus type\n",
      "estimating poc based on GLM\n",
      "resampling size for spp: Syracosphaera rotula HET\n",
      "estimating cross study cv for spp\n",
      "estimating cross study cv for spp\n"
     ]
    },
    {
     "name": "stderr",
     "output_type": "stream",
     "text": [
      "/home/phyto-2/miniconda3/envs/cascade-env/lib/python3.12/site-packages/statsmodels/genmod/generalized_linear_model.py:308: DomainWarning: The Identity link function does not respect the domain of the Gamma family.\n",
      "  warnings.warn((f\"The {type(family.link).__name__} link function \"\n",
      "/home/phyto-2/miniconda3/envs/cascade-env/lib/python3.12/site-packages/statsmodels/genmod/generalized_linear_model.py:308: DomainWarning: The Identity link function does not respect the domain of the Gamma family.\n",
      "  warnings.warn((f\"The {type(family.link).__name__} link function \"\n",
      "/home/phyto-2/miniconda3/envs/cascade-env/lib/python3.12/site-packages/statsmodels/genmod/generalized_linear_model.py:308: DomainWarning: The Identity link function does not respect the domain of the Gamma family.\n",
      "  warnings.warn((f\"The {type(family.link).__name__} link function \"\n",
      "/home/phyto-2/miniconda3/envs/cascade-env/lib/python3.12/site-packages/statsmodels/genmod/generalized_linear_model.py:308: DomainWarning: The Identity link function does not respect the domain of the Gamma family.\n",
      "  warnings.warn((f\"The {type(family.link).__name__} link function \"\n"
     ]
    },
    {
     "name": "stdout",
     "output_type": "stream",
     "text": [
      "group sd unknown, using cross species sd instead (size)\n",
      "group sd unknown, using cross species sd instead (size)\n",
      "estimating pic for spp Syracosphaera rotula HET\n",
      "estimating pic based on GLM\n",
      "estimating poc for spp Syracosphaera rotula HET\n",
      "estimating poc based on GLM\n",
      "resampling size for spp: Papposphaera lepida HET\n",
      "estimating cross study cv for spp\n",
      "estimating cross study cv for spp\n",
      "group sd unknown, using cross species sd instead (size)\n"
     ]
    },
    {
     "name": "stderr",
     "output_type": "stream",
     "text": [
      "/home/phyto-2/miniconda3/envs/cascade-env/lib/python3.12/site-packages/statsmodels/genmod/generalized_linear_model.py:308: DomainWarning: The Identity link function does not respect the domain of the Gamma family.\n",
      "  warnings.warn((f\"The {type(family.link).__name__} link function \"\n",
      "/home/phyto-2/miniconda3/envs/cascade-env/lib/python3.12/site-packages/statsmodels/genmod/generalized_linear_model.py:308: DomainWarning: The Identity link function does not respect the domain of the Gamma family.\n",
      "  warnings.warn((f\"The {type(family.link).__name__} link function \"\n",
      "/home/phyto-2/miniconda3/envs/cascade-env/lib/python3.12/site-packages/statsmodels/genmod/generalized_linear_model.py:308: DomainWarning: The Identity link function does not respect the domain of the Gamma family.\n",
      "  warnings.warn((f\"The {type(family.link).__name__} link function \"\n",
      "/home/phyto-2/miniconda3/envs/cascade-env/lib/python3.12/site-packages/statsmodels/genmod/generalized_linear_model.py:308: DomainWarning: The Identity link function does not respect the domain of the Gamma family.\n",
      "  warnings.warn((f\"The {type(family.link).__name__} link function \"\n"
     ]
    },
    {
     "name": "stdout",
     "output_type": "stream",
     "text": [
      "estimating pic for spp Papposphaera lepida HET\n",
      "estimating pic based on GLM\n",
      "estimating poc for spp Papposphaera lepida HET\n",
      "estimating poc based on GLM\n",
      "resampling size for spp: Zygosphaera amoena HOL\n",
      "estimating cross study cv for spp\n",
      "estimating cross study cv for spp\n"
     ]
    },
    {
     "name": "stderr",
     "output_type": "stream",
     "text": [
      "/home/phyto-2/miniconda3/envs/cascade-env/lib/python3.12/site-packages/statsmodels/genmod/generalized_linear_model.py:308: DomainWarning: The Identity link function does not respect the domain of the Gamma family.\n",
      "  warnings.warn((f\"The {type(family.link).__name__} link function \"\n",
      "/home/phyto-2/miniconda3/envs/cascade-env/lib/python3.12/site-packages/statsmodels/genmod/generalized_linear_model.py:308: DomainWarning: The Identity link function does not respect the domain of the Gamma family.\n",
      "  warnings.warn((f\"The {type(family.link).__name__} link function \"\n",
      "/home/phyto-2/miniconda3/envs/cascade-env/lib/python3.12/site-packages/statsmodels/genmod/generalized_linear_model.py:308: DomainWarning: The Identity link function does not respect the domain of the Gamma family.\n",
      "  warnings.warn((f\"The {type(family.link).__name__} link function \"\n",
      "/home/phyto-2/miniconda3/envs/cascade-env/lib/python3.12/site-packages/statsmodels/genmod/generalized_linear_model.py:308: DomainWarning: The Identity link function does not respect the domain of the Gamma family.\n",
      "  warnings.warn((f\"The {type(family.link).__name__} link function \"\n"
     ]
    },
    {
     "name": "stdout",
     "output_type": "stream",
     "text": [
      "group sd unknown, using cross species sd instead (size)\n",
      "group sd unknown, using cross species sd instead (size)\n",
      "estimating pic for spp Zygosphaera amoena HOL\n",
      "estimating pic based on GLM\n",
      "estimating poc for spp Zygosphaera amoena HOL\n",
      "estimating poc based on GLM\n",
      "resampling size for spp: Calyptrosphaera heimdaliae HOL\n",
      "estimating cross study cv for spp\n",
      "estimating cross study cv for spp\n"
     ]
    },
    {
     "name": "stderr",
     "output_type": "stream",
     "text": [
      "/home/phyto-2/miniconda3/envs/cascade-env/lib/python3.12/site-packages/statsmodels/genmod/generalized_linear_model.py:308: DomainWarning: The Identity link function does not respect the domain of the Gamma family.\n",
      "  warnings.warn((f\"The {type(family.link).__name__} link function \"\n",
      "/home/phyto-2/miniconda3/envs/cascade-env/lib/python3.12/site-packages/statsmodels/genmod/generalized_linear_model.py:308: DomainWarning: The Identity link function does not respect the domain of the Gamma family.\n",
      "  warnings.warn((f\"The {type(family.link).__name__} link function \"\n",
      "/home/phyto-2/miniconda3/envs/cascade-env/lib/python3.12/site-packages/statsmodels/genmod/generalized_linear_model.py:308: DomainWarning: The Identity link function does not respect the domain of the Gamma family.\n",
      "  warnings.warn((f\"The {type(family.link).__name__} link function \"\n",
      "/home/phyto-2/miniconda3/envs/cascade-env/lib/python3.12/site-packages/statsmodels/genmod/generalized_linear_model.py:308: DomainWarning: The Identity link function does not respect the domain of the Gamma family.\n",
      "  warnings.warn((f\"The {type(family.link).__name__} link function \"\n"
     ]
    },
    {
     "name": "stdout",
     "output_type": "stream",
     "text": [
      "group sd unknown, using cross species sd instead (size)\n",
      "estimating pic for spp Calyptrosphaera heimdaliae HOL\n",
      "estimating pic based on GLM\n",
      "estimating poc for spp Calyptrosphaera heimdaliae HOL\n",
      "estimating poc based on GLM\n",
      "resampling size for spp: Homozygosphaera spinosa HOL\n",
      "estimating cross study cv for spp\n",
      "estimating cross study cv for spp\n"
     ]
    },
    {
     "name": "stderr",
     "output_type": "stream",
     "text": [
      "/home/phyto-2/miniconda3/envs/cascade-env/lib/python3.12/site-packages/statsmodels/genmod/generalized_linear_model.py:308: DomainWarning: The Identity link function does not respect the domain of the Gamma family.\n",
      "  warnings.warn((f\"The {type(family.link).__name__} link function \"\n",
      "/home/phyto-2/miniconda3/envs/cascade-env/lib/python3.12/site-packages/statsmodels/genmod/generalized_linear_model.py:308: DomainWarning: The Identity link function does not respect the domain of the Gamma family.\n",
      "  warnings.warn((f\"The {type(family.link).__name__} link function \"\n",
      "/home/phyto-2/miniconda3/envs/cascade-env/lib/python3.12/site-packages/statsmodels/genmod/generalized_linear_model.py:308: DomainWarning: The Identity link function does not respect the domain of the Gamma family.\n",
      "  warnings.warn((f\"The {type(family.link).__name__} link function \"\n",
      "/home/phyto-2/miniconda3/envs/cascade-env/lib/python3.12/site-packages/statsmodels/genmod/generalized_linear_model.py:308: DomainWarning: The Identity link function does not respect the domain of the Gamma family.\n",
      "  warnings.warn((f\"The {type(family.link).__name__} link function \"\n"
     ]
    },
    {
     "name": "stdout",
     "output_type": "stream",
     "text": [
      "estimating pic for spp Homozygosphaera spinosa HOL\n",
      "estimating cross study cv for spp\n",
      "estimating cross study cv for spp\n",
      "estimating pic based on resampling\n",
      "estimating poc for spp Homozygosphaera spinosa HOL\n",
      "estimating poc based on GLM\n",
      "resampling size for spp: Syracosphaera strigilis HOL\n",
      "estimating cross study cv for spp\n",
      "estimating cross study cv for spp\n",
      "group sd unknown, using cross species sd instead (size)\n",
      "group sd unknown, using cross species sd instead (size)\n",
      "group sd unknown, using cross species sd instead (size)\n"
     ]
    },
    {
     "name": "stderr",
     "output_type": "stream",
     "text": [
      "/home/phyto-2/miniconda3/envs/cascade-env/lib/python3.12/site-packages/statsmodels/genmod/generalized_linear_model.py:308: DomainWarning: The Identity link function does not respect the domain of the Gamma family.\n",
      "  warnings.warn((f\"The {type(family.link).__name__} link function \"\n",
      "/home/phyto-2/miniconda3/envs/cascade-env/lib/python3.12/site-packages/statsmodels/genmod/generalized_linear_model.py:308: DomainWarning: The Identity link function does not respect the domain of the Gamma family.\n",
      "  warnings.warn((f\"The {type(family.link).__name__} link function \"\n"
     ]
    },
    {
     "name": "stdout",
     "output_type": "stream",
     "text": [
      "estimating pic for spp Syracosphaera strigilis HOL\n",
      "estimating cross study cv for spp\n",
      "estimating cross study cv for spp\n",
      "estimating pic based on resampling\n",
      "mean known for:Syracosphaera strigilis HOL\n",
      "group sd unknown, using cross species sd instead\n",
      "estimating poc for spp Syracosphaera strigilis HOL\n",
      "estimating poc based on GLM\n",
      "resampling size for spp: Scyphosphaera apsteinii HET\n",
      "estimating cross study cv for spp\n",
      "estimating cross study cv for spp\n"
     ]
    },
    {
     "name": "stderr",
     "output_type": "stream",
     "text": [
      "/home/phyto-2/miniconda3/envs/cascade-env/lib/python3.12/site-packages/statsmodels/genmod/generalized_linear_model.py:308: DomainWarning: The Identity link function does not respect the domain of the Gamma family.\n",
      "  warnings.warn((f\"The {type(family.link).__name__} link function \"\n",
      "/home/phyto-2/miniconda3/envs/cascade-env/lib/python3.12/site-packages/statsmodels/genmod/generalized_linear_model.py:308: DomainWarning: The Identity link function does not respect the domain of the Gamma family.\n",
      "  warnings.warn((f\"The {type(family.link).__name__} link function \"\n"
     ]
    },
    {
     "name": "stdout",
     "output_type": "stream",
     "text": [
      "estimating pic for spp Scyphosphaera apsteinii HET\n",
      "estimating pic based on GLM\n",
      "estimating poc for spp Scyphosphaera apsteinii HET\n",
      "estimating poc based on GLM\n",
      "resampling size for spp: Syracosphaera periperforata HOL\n",
      "estimating cross study cv for spp\n",
      "estimating cross study cv for spp\n"
     ]
    },
    {
     "name": "stderr",
     "output_type": "stream",
     "text": [
      "/home/phyto-2/miniconda3/envs/cascade-env/lib/python3.12/site-packages/statsmodels/genmod/generalized_linear_model.py:308: DomainWarning: The Identity link function does not respect the domain of the Gamma family.\n",
      "  warnings.warn((f\"The {type(family.link).__name__} link function \"\n",
      "/home/phyto-2/miniconda3/envs/cascade-env/lib/python3.12/site-packages/statsmodels/genmod/generalized_linear_model.py:308: DomainWarning: The Identity link function does not respect the domain of the Gamma family.\n",
      "  warnings.warn((f\"The {type(family.link).__name__} link function \"\n",
      "/home/phyto-2/miniconda3/envs/cascade-env/lib/python3.12/site-packages/statsmodels/genmod/generalized_linear_model.py:308: DomainWarning: The Identity link function does not respect the domain of the Gamma family.\n",
      "  warnings.warn((f\"The {type(family.link).__name__} link function \"\n",
      "/home/phyto-2/miniconda3/envs/cascade-env/lib/python3.12/site-packages/statsmodels/genmod/generalized_linear_model.py:308: DomainWarning: The Identity link function does not respect the domain of the Gamma family.\n",
      "  warnings.warn((f\"The {type(family.link).__name__} link function \"\n"
     ]
    },
    {
     "name": "stdout",
     "output_type": "stream",
     "text": [
      "group sd unknown, using cross species sd instead (size)\n",
      "estimating pic for spp Syracosphaera periperforata HOL\n",
      "estimating pic based on GLM\n",
      "estimating poc for spp Syracosphaera periperforata HOL\n",
      "estimating poc based on GLM\n",
      "resampling size for spp: Syracosphaera hastata HET\n",
      "estimating cross study cv for spp\n",
      "estimating cross study cv for spp\n"
     ]
    },
    {
     "name": "stderr",
     "output_type": "stream",
     "text": [
      "/home/phyto-2/miniconda3/envs/cascade-env/lib/python3.12/site-packages/statsmodels/genmod/generalized_linear_model.py:308: DomainWarning: The Identity link function does not respect the domain of the Gamma family.\n",
      "  warnings.warn((f\"The {type(family.link).__name__} link function \"\n",
      "/home/phyto-2/miniconda3/envs/cascade-env/lib/python3.12/site-packages/statsmodels/genmod/generalized_linear_model.py:308: DomainWarning: The Identity link function does not respect the domain of the Gamma family.\n",
      "  warnings.warn((f\"The {type(family.link).__name__} link function \"\n",
      "/home/phyto-2/miniconda3/envs/cascade-env/lib/python3.12/site-packages/statsmodels/genmod/generalized_linear_model.py:308: DomainWarning: The Identity link function does not respect the domain of the Gamma family.\n",
      "  warnings.warn((f\"The {type(family.link).__name__} link function \"\n",
      "/home/phyto-2/miniconda3/envs/cascade-env/lib/python3.12/site-packages/statsmodels/genmod/generalized_linear_model.py:308: DomainWarning: The Identity link function does not respect the domain of the Gamma family.\n",
      "  warnings.warn((f\"The {type(family.link).__name__} link function \"\n"
     ]
    },
    {
     "name": "stdout",
     "output_type": "stream",
     "text": [
      "estimating pic for spp Syracosphaera hastata HET\n",
      "estimating cross study cv for spp\n",
      "estimating cross study cv for spp\n",
      "estimating pic based on resampling\n",
      "mean known for:Syracosphaera hastata HET\n",
      "group sd unknown, using cross species sd instead\n",
      "estimating poc for spp Syracosphaera hastata HET\n",
      "estimating poc based on GLM\n",
      "resampling size for spp: Helicosphaera pavimentum HOL\n",
      "Helicosphaera pavimentum HET\n",
      "estimating cross study cv for spp\n",
      "estimating cross study cv for spp\n"
     ]
    },
    {
     "name": "stderr",
     "output_type": "stream",
     "text": [
      "/home/phyto-2/miniconda3/envs/cascade-env/lib/python3.12/site-packages/statsmodels/genmod/generalized_linear_model.py:308: DomainWarning: The Identity link function does not respect the domain of the Gamma family.\n",
      "  warnings.warn((f\"The {type(family.link).__name__} link function \"\n",
      "/home/phyto-2/miniconda3/envs/cascade-env/lib/python3.12/site-packages/statsmodels/genmod/generalized_linear_model.py:308: DomainWarning: The Identity link function does not respect the domain of the Gamma family.\n",
      "  warnings.warn((f\"The {type(family.link).__name__} link function \"\n"
     ]
    },
    {
     "name": "stdout",
     "output_type": "stream",
     "text": [
      "estimating pic for spp Helicosphaera pavimentum HOL\n",
      "estimating pic based on GLM\n",
      "estimating poc for spp Helicosphaera pavimentum HOL\n",
      "estimating poc based on GLM\n",
      "resampling size for spp: Calyptrosphaera sphaeroidea HOL\n",
      "estimating cross study cv for spp\n",
      "estimating cross study cv for spp\n"
     ]
    },
    {
     "name": "stderr",
     "output_type": "stream",
     "text": [
      "/home/phyto-2/miniconda3/envs/cascade-env/lib/python3.12/site-packages/statsmodels/genmod/generalized_linear_model.py:308: DomainWarning: The Identity link function does not respect the domain of the Gamma family.\n",
      "  warnings.warn((f\"The {type(family.link).__name__} link function \"\n",
      "/home/phyto-2/miniconda3/envs/cascade-env/lib/python3.12/site-packages/statsmodels/genmod/generalized_linear_model.py:308: DomainWarning: The Identity link function does not respect the domain of the Gamma family.\n",
      "  warnings.warn((f\"The {type(family.link).__name__} link function \"\n",
      "/home/phyto-2/miniconda3/envs/cascade-env/lib/python3.12/site-packages/statsmodels/genmod/generalized_linear_model.py:308: DomainWarning: The Identity link function does not respect the domain of the Gamma family.\n",
      "  warnings.warn((f\"The {type(family.link).__name__} link function \"\n",
      "/home/phyto-2/miniconda3/envs/cascade-env/lib/python3.12/site-packages/statsmodels/genmod/generalized_linear_model.py:308: DomainWarning: The Identity link function does not respect the domain of the Gamma family.\n",
      "  warnings.warn((f\"The {type(family.link).__name__} link function \"\n"
     ]
    },
    {
     "name": "stdout",
     "output_type": "stream",
     "text": [
      "group sd unknown, using cross species sd instead (size)\n",
      "estimating pic for spp Calyptrosphaera sphaeroidea HOL\n",
      "estimating pic based on GLM\n",
      "estimating poc for spp Calyptrosphaera sphaeroidea HOL\n",
      "estimating poc based on GLM\n",
      "resampling size for spp: Gephyrocapsa ornata HET\n",
      "estimating cross study cv for spp\n"
     ]
    },
    {
     "name": "stderr",
     "output_type": "stream",
     "text": [
      "/home/phyto-2/miniconda3/envs/cascade-env/lib/python3.12/site-packages/statsmodels/genmod/generalized_linear_model.py:308: DomainWarning: The Identity link function does not respect the domain of the Gamma family.\n",
      "  warnings.warn((f\"The {type(family.link).__name__} link function \"\n",
      "/home/phyto-2/miniconda3/envs/cascade-env/lib/python3.12/site-packages/statsmodels/genmod/generalized_linear_model.py:308: DomainWarning: The Identity link function does not respect the domain of the Gamma family.\n",
      "  warnings.warn((f\"The {type(family.link).__name__} link function \"\n",
      "/home/phyto-2/miniconda3/envs/cascade-env/lib/python3.12/site-packages/statsmodels/genmod/generalized_linear_model.py:308: DomainWarning: The Identity link function does not respect the domain of the Gamma family.\n",
      "  warnings.warn((f\"The {type(family.link).__name__} link function \"\n",
      "/home/phyto-2/miniconda3/envs/cascade-env/lib/python3.12/site-packages/statsmodels/genmod/generalized_linear_model.py:308: DomainWarning: The Identity link function does not respect the domain of the Gamma family.\n",
      "  warnings.warn((f\"The {type(family.link).__name__} link function \"\n"
     ]
    },
    {
     "name": "stdout",
     "output_type": "stream",
     "text": [
      "estimating cross study cv for spp\n",
      "estimating pic for spp Gephyrocapsa ornata HET\n",
      "estimating cross study cv for spp\n",
      "estimating cross study cv for spp\n",
      "estimating pic based on resampling\n",
      "estimating poc for spp Gephyrocapsa ornata HET\n",
      "estimating poc based on GLM\n",
      "resampling size for spp: Syracosphaera orbiculus HET\n",
      "estimating cross study cv for spp\n",
      "estimating cross study cv for spp\n"
     ]
    },
    {
     "name": "stderr",
     "output_type": "stream",
     "text": [
      "/home/phyto-2/miniconda3/envs/cascade-env/lib/python3.12/site-packages/statsmodels/genmod/generalized_linear_model.py:308: DomainWarning: The Identity link function does not respect the domain of the Gamma family.\n",
      "  warnings.warn((f\"The {type(family.link).__name__} link function \"\n",
      "/home/phyto-2/miniconda3/envs/cascade-env/lib/python3.12/site-packages/statsmodels/genmod/generalized_linear_model.py:308: DomainWarning: The Identity link function does not respect the domain of the Gamma family.\n",
      "  warnings.warn((f\"The {type(family.link).__name__} link function \"\n"
     ]
    },
    {
     "name": "stdout",
     "output_type": "stream",
     "text": [
      "estimating pic for spp Syracosphaera orbiculus HET\n",
      "estimating cross study cv for spp\n",
      "estimating cross study cv for spp\n",
      "estimating pic based on resampling\n",
      "mean known for:Syracosphaera orbiculus HET\n",
      "group sd unknown, using cross species sd instead\n",
      "estimating poc for spp Syracosphaera orbiculus HET\n",
      "estimating poc based on GLM\n",
      "resampling size for spp: Umbilicosphaera anulus HET\n",
      "estimating cross study cv for spp\n",
      "estimating cross study cv for spp\n",
      "group sd unknown, using cross species sd instead (size)\n"
     ]
    },
    {
     "name": "stderr",
     "output_type": "stream",
     "text": [
      "/home/phyto-2/miniconda3/envs/cascade-env/lib/python3.12/site-packages/statsmodels/genmod/generalized_linear_model.py:308: DomainWarning: The Identity link function does not respect the domain of the Gamma family.\n",
      "  warnings.warn((f\"The {type(family.link).__name__} link function \"\n",
      "/home/phyto-2/miniconda3/envs/cascade-env/lib/python3.12/site-packages/statsmodels/genmod/generalized_linear_model.py:308: DomainWarning: The Identity link function does not respect the domain of the Gamma family.\n",
      "  warnings.warn((f\"The {type(family.link).__name__} link function \"\n"
     ]
    },
    {
     "name": "stdout",
     "output_type": "stream",
     "text": [
      "estimating pic for spp Umbilicosphaera anulus HET\n",
      "estimating pic based on GLM\n",
      "estimating poc for spp Umbilicosphaera anulus HET\n",
      "estimating poc based on GLM\n",
      "resampling size for spp: Helicosphaera pavimentum HET\n",
      "estimating cross study cv for spp\n"
     ]
    },
    {
     "name": "stderr",
     "output_type": "stream",
     "text": [
      "/home/phyto-2/miniconda3/envs/cascade-env/lib/python3.12/site-packages/statsmodels/genmod/generalized_linear_model.py:308: DomainWarning: The Identity link function does not respect the domain of the Gamma family.\n",
      "  warnings.warn((f\"The {type(family.link).__name__} link function \"\n",
      "/home/phyto-2/miniconda3/envs/cascade-env/lib/python3.12/site-packages/statsmodels/genmod/generalized_linear_model.py:308: DomainWarning: The Identity link function does not respect the domain of the Gamma family.\n",
      "  warnings.warn((f\"The {type(family.link).__name__} link function \"\n",
      "/home/phyto-2/miniconda3/envs/cascade-env/lib/python3.12/site-packages/statsmodels/genmod/generalized_linear_model.py:308: DomainWarning: The Identity link function does not respect the domain of the Gamma family.\n",
      "  warnings.warn((f\"The {type(family.link).__name__} link function \"\n",
      "/home/phyto-2/miniconda3/envs/cascade-env/lib/python3.12/site-packages/statsmodels/genmod/generalized_linear_model.py:308: DomainWarning: The Identity link function does not respect the domain of the Gamma family.\n",
      "  warnings.warn((f\"The {type(family.link).__name__} link function \"\n"
     ]
    },
    {
     "name": "stdout",
     "output_type": "stream",
     "text": [
      "estimating cross study cv for spp\n",
      "estimating pic for spp Helicosphaera pavimentum HET\n",
      "estimating cross study cv for spp\n",
      "estimating cross study cv for spp\n",
      "estimating pic based on resampling\n",
      "estimating poc for spp Helicosphaera pavimentum HET\n",
      "estimating poc based on GLM\n",
      "resampling size for spp: Syracosphaera magnaghii HOL\n",
      "estimating cross study cv for spp\n",
      "estimating cross study cv for spp\n",
      "group sd unknown, using cross species sd instead (size)\n"
     ]
    },
    {
     "name": "stderr",
     "output_type": "stream",
     "text": [
      "/home/phyto-2/miniconda3/envs/cascade-env/lib/python3.12/site-packages/statsmodels/genmod/generalized_linear_model.py:308: DomainWarning: The Identity link function does not respect the domain of the Gamma family.\n",
      "  warnings.warn((f\"The {type(family.link).__name__} link function \"\n",
      "/home/phyto-2/miniconda3/envs/cascade-env/lib/python3.12/site-packages/statsmodels/genmod/generalized_linear_model.py:308: DomainWarning: The Identity link function does not respect the domain of the Gamma family.\n",
      "  warnings.warn((f\"The {type(family.link).__name__} link function \"\n"
     ]
    },
    {
     "name": "stdout",
     "output_type": "stream",
     "text": [
      "estimating pic for spp Syracosphaera magnaghii HOL\n",
      "estimating pic based on GLM\n",
      "estimating poc for spp Syracosphaera magnaghii HOL\n",
      "estimating poc based on GLM\n",
      "resampling size for spp: Syracosphaera arethusae HET\n",
      "estimating cross study cv for spp\n",
      "estimating cross study cv for spp\n",
      "group sd unknown, using cross species sd instead (size)\n"
     ]
    },
    {
     "name": "stderr",
     "output_type": "stream",
     "text": [
      "/home/phyto-2/miniconda3/envs/cascade-env/lib/python3.12/site-packages/statsmodels/genmod/generalized_linear_model.py:308: DomainWarning: The Identity link function does not respect the domain of the Gamma family.\n",
      "  warnings.warn((f\"The {type(family.link).__name__} link function \"\n",
      "/home/phyto-2/miniconda3/envs/cascade-env/lib/python3.12/site-packages/statsmodels/genmod/generalized_linear_model.py:308: DomainWarning: The Identity link function does not respect the domain of the Gamma family.\n",
      "  warnings.warn((f\"The {type(family.link).__name__} link function \"\n",
      "/home/phyto-2/miniconda3/envs/cascade-env/lib/python3.12/site-packages/statsmodels/genmod/generalized_linear_model.py:308: DomainWarning: The Identity link function does not respect the domain of the Gamma family.\n",
      "  warnings.warn((f\"The {type(family.link).__name__} link function \"\n",
      "/home/phyto-2/miniconda3/envs/cascade-env/lib/python3.12/site-packages/statsmodels/genmod/generalized_linear_model.py:308: DomainWarning: The Identity link function does not respect the domain of the Gamma family.\n",
      "  warnings.warn((f\"The {type(family.link).__name__} link function \"\n"
     ]
    },
    {
     "name": "stdout",
     "output_type": "stream",
     "text": [
      "estimating pic for spp Syracosphaera arethusae HET\n",
      "estimating pic based on GLM\n",
      "estimating poc for spp Syracosphaera arethusae HET\n",
      "estimating poc based on GLM\n",
      "resampling size for spp: Alisphaera gaudii HET\n",
      "estimating cross study cv for spp\n",
      "estimating cross study cv for spp\n"
     ]
    },
    {
     "name": "stderr",
     "output_type": "stream",
     "text": [
      "/home/phyto-2/miniconda3/envs/cascade-env/lib/python3.12/site-packages/statsmodels/genmod/generalized_linear_model.py:308: DomainWarning: The Identity link function does not respect the domain of the Gamma family.\n",
      "  warnings.warn((f\"The {type(family.link).__name__} link function \"\n",
      "/home/phyto-2/miniconda3/envs/cascade-env/lib/python3.12/site-packages/statsmodels/genmod/generalized_linear_model.py:308: DomainWarning: The Identity link function does not respect the domain of the Gamma family.\n",
      "  warnings.warn((f\"The {type(family.link).__name__} link function \"\n",
      "/home/phyto-2/miniconda3/envs/cascade-env/lib/python3.12/site-packages/statsmodels/genmod/generalized_linear_model.py:308: DomainWarning: The Identity link function does not respect the domain of the Gamma family.\n",
      "  warnings.warn((f\"The {type(family.link).__name__} link function \"\n",
      "/home/phyto-2/miniconda3/envs/cascade-env/lib/python3.12/site-packages/statsmodels/genmod/generalized_linear_model.py:308: DomainWarning: The Identity link function does not respect the domain of the Gamma family.\n",
      "  warnings.warn((f\"The {type(family.link).__name__} link function \"\n"
     ]
    },
    {
     "name": "stdout",
     "output_type": "stream",
     "text": [
      "group sd unknown, using cross species sd instead (size)\n",
      "estimating pic for spp Alisphaera gaudii HET\n",
      "estimating pic based on GLM\n",
      "estimating poc for spp Alisphaera gaudii HET\n",
      "estimating poc based on GLM\n",
      "resampling size for spp: Syracosphaera aurisinae HOL\n",
      "estimating cross study cv for spp\n"
     ]
    },
    {
     "name": "stderr",
     "output_type": "stream",
     "text": [
      "/home/phyto-2/miniconda3/envs/cascade-env/lib/python3.12/site-packages/statsmodels/genmod/generalized_linear_model.py:308: DomainWarning: The Identity link function does not respect the domain of the Gamma family.\n",
      "  warnings.warn((f\"The {type(family.link).__name__} link function \"\n",
      "/home/phyto-2/miniconda3/envs/cascade-env/lib/python3.12/site-packages/statsmodels/genmod/generalized_linear_model.py:308: DomainWarning: The Identity link function does not respect the domain of the Gamma family.\n",
      "  warnings.warn((f\"The {type(family.link).__name__} link function \"\n",
      "/home/phyto-2/miniconda3/envs/cascade-env/lib/python3.12/site-packages/statsmodels/genmod/generalized_linear_model.py:308: DomainWarning: The Identity link function does not respect the domain of the Gamma family.\n",
      "  warnings.warn((f\"The {type(family.link).__name__} link function \"\n",
      "/home/phyto-2/miniconda3/envs/cascade-env/lib/python3.12/site-packages/statsmodels/genmod/generalized_linear_model.py:308: DomainWarning: The Identity link function does not respect the domain of the Gamma family.\n",
      "  warnings.warn((f\"The {type(family.link).__name__} link function \"\n"
     ]
    },
    {
     "name": "stdout",
     "output_type": "stream",
     "text": [
      "estimating cross study cv for spp\n",
      "estimating pic for spp Syracosphaera aurisinae HOL\n",
      "estimating cross study cv for spp\n",
      "estimating cross study cv for spp\n",
      "estimating pic based on resampling\n",
      "estimating poc for spp Syracosphaera aurisinae HOL\n",
      "estimating poc based on GLM\n",
      "resampling size for spp: Syracosphaera epigrosa HET\n",
      "estimating cross study cv for spp\n",
      "estimating cross study cv for spp\n",
      "group sd unknown, using cross species sd instead (size)\n"
     ]
    },
    {
     "name": "stderr",
     "output_type": "stream",
     "text": [
      "/home/phyto-2/miniconda3/envs/cascade-env/lib/python3.12/site-packages/statsmodels/genmod/generalized_linear_model.py:308: DomainWarning: The Identity link function does not respect the domain of the Gamma family.\n",
      "  warnings.warn((f\"The {type(family.link).__name__} link function \"\n",
      "/home/phyto-2/miniconda3/envs/cascade-env/lib/python3.12/site-packages/statsmodels/genmod/generalized_linear_model.py:308: DomainWarning: The Identity link function does not respect the domain of the Gamma family.\n",
      "  warnings.warn((f\"The {type(family.link).__name__} link function \"\n"
     ]
    },
    {
     "name": "stdout",
     "output_type": "stream",
     "text": [
      "estimating pic for spp Syracosphaera epigrosa HET\n",
      "estimating pic based on GLM\n",
      "estimating poc for spp Syracosphaera epigrosa HET\n",
      "estimating poc based on GLM\n",
      "resampling size for spp: Syracosphaera bannockii HET\n",
      "estimating cross study cv for spp\n",
      "estimating cross study cv for spp\n"
     ]
    },
    {
     "name": "stderr",
     "output_type": "stream",
     "text": [
      "/home/phyto-2/miniconda3/envs/cascade-env/lib/python3.12/site-packages/statsmodels/genmod/generalized_linear_model.py:308: DomainWarning: The Identity link function does not respect the domain of the Gamma family.\n",
      "  warnings.warn((f\"The {type(family.link).__name__} link function \"\n",
      "/home/phyto-2/miniconda3/envs/cascade-env/lib/python3.12/site-packages/statsmodels/genmod/generalized_linear_model.py:308: DomainWarning: The Identity link function does not respect the domain of the Gamma family.\n",
      "  warnings.warn((f\"The {type(family.link).__name__} link function \"\n",
      "/home/phyto-2/miniconda3/envs/cascade-env/lib/python3.12/site-packages/statsmodels/genmod/generalized_linear_model.py:308: DomainWarning: The Identity link function does not respect the domain of the Gamma family.\n",
      "  warnings.warn((f\"The {type(family.link).__name__} link function \"\n",
      "/home/phyto-2/miniconda3/envs/cascade-env/lib/python3.12/site-packages/statsmodels/genmod/generalized_linear_model.py:308: DomainWarning: The Identity link function does not respect the domain of the Gamma family.\n",
      "  warnings.warn((f\"The {type(family.link).__name__} link function \"\n"
     ]
    },
    {
     "name": "stdout",
     "output_type": "stream",
     "text": [
      "estimating pic for spp Syracosphaera bannockii HET\n",
      "estimating cross study cv for spp\n",
      "estimating cross study cv for spp\n",
      "estimating pic based on resampling\n",
      "estimating poc for spp Syracosphaera bannockii HET\n",
      "estimating poc based on GLM\n",
      "resampling size for spp: Alisphaera extenta HET\n",
      "estimating cross study cv for spp\n",
      "estimating cross study cv for spp\n",
      "group sd unknown, using cross species sd instead (size)\n"
     ]
    },
    {
     "name": "stderr",
     "output_type": "stream",
     "text": [
      "/home/phyto-2/miniconda3/envs/cascade-env/lib/python3.12/site-packages/statsmodels/genmod/generalized_linear_model.py:308: DomainWarning: The Identity link function does not respect the domain of the Gamma family.\n",
      "  warnings.warn((f\"The {type(family.link).__name__} link function \"\n",
      "/home/phyto-2/miniconda3/envs/cascade-env/lib/python3.12/site-packages/statsmodels/genmod/generalized_linear_model.py:308: DomainWarning: The Identity link function does not respect the domain of the Gamma family.\n",
      "  warnings.warn((f\"The {type(family.link).__name__} link function \"\n"
     ]
    },
    {
     "name": "stdout",
     "output_type": "stream",
     "text": [
      "estimating pic for spp Alisphaera extenta HET\n",
      "estimating pic based on GLM\n",
      "estimating poc for spp Alisphaera extenta HET\n",
      "estimating poc based on GLM\n",
      "resampling size for spp: Syracosphaera tumularis HET\n",
      "estimating cross study cv for spp\n",
      "estimating cross study cv for spp\n"
     ]
    },
    {
     "name": "stderr",
     "output_type": "stream",
     "text": [
      "/home/phyto-2/miniconda3/envs/cascade-env/lib/python3.12/site-packages/statsmodels/genmod/generalized_linear_model.py:308: DomainWarning: The Identity link function does not respect the domain of the Gamma family.\n",
      "  warnings.warn((f\"The {type(family.link).__name__} link function \"\n",
      "/home/phyto-2/miniconda3/envs/cascade-env/lib/python3.12/site-packages/statsmodels/genmod/generalized_linear_model.py:308: DomainWarning: The Identity link function does not respect the domain of the Gamma family.\n",
      "  warnings.warn((f\"The {type(family.link).__name__} link function \"\n",
      "/home/phyto-2/miniconda3/envs/cascade-env/lib/python3.12/site-packages/statsmodels/genmod/generalized_linear_model.py:308: DomainWarning: The Identity link function does not respect the domain of the Gamma family.\n",
      "  warnings.warn((f\"The {type(family.link).__name__} link function \"\n",
      "/home/phyto-2/miniconda3/envs/cascade-env/lib/python3.12/site-packages/statsmodels/genmod/generalized_linear_model.py:308: DomainWarning: The Identity link function does not respect the domain of the Gamma family.\n",
      "  warnings.warn((f\"The {type(family.link).__name__} link function \"\n"
     ]
    },
    {
     "name": "stdout",
     "output_type": "stream",
     "text": [
      "group sd unknown, using cross species sd instead (size)\n",
      "group sd unknown, using cross species sd instead (size)\n",
      "group sd unknown, using cross species sd instead (size)\n",
      "estimating pic for spp Syracosphaera tumularis HET\n",
      "estimating pic based on GLM\n",
      "estimating poc for spp Syracosphaera tumularis HET\n",
      "estimating poc based on GLM\n",
      "resampling size for spp: Gephyrocapsa parvula HET\n",
      "estimating cross study cv for spp\n"
     ]
    },
    {
     "name": "stderr",
     "output_type": "stream",
     "text": [
      "/home/phyto-2/miniconda3/envs/cascade-env/lib/python3.12/site-packages/statsmodels/genmod/generalized_linear_model.py:308: DomainWarning: The Identity link function does not respect the domain of the Gamma family.\n",
      "  warnings.warn((f\"The {type(family.link).__name__} link function \"\n",
      "/home/phyto-2/miniconda3/envs/cascade-env/lib/python3.12/site-packages/statsmodels/genmod/generalized_linear_model.py:308: DomainWarning: The Identity link function does not respect the domain of the Gamma family.\n",
      "  warnings.warn((f\"The {type(family.link).__name__} link function \"\n",
      "/home/phyto-2/miniconda3/envs/cascade-env/lib/python3.12/site-packages/statsmodels/genmod/generalized_linear_model.py:308: DomainWarning: The Identity link function does not respect the domain of the Gamma family.\n",
      "  warnings.warn((f\"The {type(family.link).__name__} link function \"\n",
      "/home/phyto-2/miniconda3/envs/cascade-env/lib/python3.12/site-packages/statsmodels/genmod/generalized_linear_model.py:308: DomainWarning: The Identity link function does not respect the domain of the Gamma family.\n",
      "  warnings.warn((f\"The {type(family.link).__name__} link function \"\n"
     ]
    },
    {
     "name": "stdout",
     "output_type": "stream",
     "text": [
      "estimating cross study cv for spp\n",
      "estimating pic for spp Gephyrocapsa parvula HET\n",
      "estimating cross study cv for spp\n",
      "estimating cross study cv for spp\n",
      "estimating pic based on resampling\n",
      "estimating poc for spp Gephyrocapsa parvula HET\n",
      "estimating cross study cv for spp\n",
      "estimating cross study cv for spp\n",
      "estimating poc based on resampling\n",
      "resampling size for spp: Helicosphaera wallichii HET\n",
      "estimating cross study cv for spp\n",
      "estimating cross study cv for spp\n",
      "estimating pic for spp Helicosphaera wallichii HET\n",
      "estimating cross study cv for spp\n",
      "estimating cross study cv for spp\n",
      "estimating pic based on resampling\n",
      "estimating poc for spp Helicosphaera wallichii HET\n",
      "estimating poc based on GLM\n",
      "resampling size for spp: Homozygosphaera triarcha HOL\n",
      "estimating cross study cv for spp\n",
      "estimating cross study cv for spp\n",
      "group sd unknown, using cross species sd instead (size)\n"
     ]
    },
    {
     "name": "stderr",
     "output_type": "stream",
     "text": [
      "/home/phyto-2/miniconda3/envs/cascade-env/lib/python3.12/site-packages/statsmodels/genmod/generalized_linear_model.py:308: DomainWarning: The Identity link function does not respect the domain of the Gamma family.\n",
      "  warnings.warn((f\"The {type(family.link).__name__} link function \"\n",
      "/home/phyto-2/miniconda3/envs/cascade-env/lib/python3.12/site-packages/statsmodels/genmod/generalized_linear_model.py:308: DomainWarning: The Identity link function does not respect the domain of the Gamma family.\n",
      "  warnings.warn((f\"The {type(family.link).__name__} link function \"\n"
     ]
    },
    {
     "name": "stdout",
     "output_type": "stream",
     "text": [
      "estimating pic for spp Homozygosphaera triarcha HOL\n",
      "estimating pic based on GLM\n",
      "estimating poc for spp Homozygosphaera triarcha HOL\n",
      "estimating poc based on GLM\n",
      "resampling size for spp: Syracosphaera pulchra HOL galea type\n",
      "Syracosphaera pulchra HET\n",
      "estimating cross study cv for spp\n",
      "estimating cross study cv for spp\n"
     ]
    },
    {
     "name": "stderr",
     "output_type": "stream",
     "text": [
      "/home/phyto-2/miniconda3/envs/cascade-env/lib/python3.12/site-packages/statsmodels/genmod/generalized_linear_model.py:308: DomainWarning: The Identity link function does not respect the domain of the Gamma family.\n",
      "  warnings.warn((f\"The {type(family.link).__name__} link function \"\n",
      "/home/phyto-2/miniconda3/envs/cascade-env/lib/python3.12/site-packages/statsmodels/genmod/generalized_linear_model.py:308: DomainWarning: The Identity link function does not respect the domain of the Gamma family.\n",
      "  warnings.warn((f\"The {type(family.link).__name__} link function \"\n",
      "/home/phyto-2/miniconda3/envs/cascade-env/lib/python3.12/site-packages/statsmodels/genmod/generalized_linear_model.py:308: DomainWarning: The Identity link function does not respect the domain of the Gamma family.\n",
      "  warnings.warn((f\"The {type(family.link).__name__} link function \"\n",
      "/home/phyto-2/miniconda3/envs/cascade-env/lib/python3.12/site-packages/statsmodels/genmod/generalized_linear_model.py:308: DomainWarning: The Identity link function does not respect the domain of the Gamma family.\n",
      "  warnings.warn((f\"The {type(family.link).__name__} link function \"\n"
     ]
    },
    {
     "name": "stdout",
     "output_type": "stream",
     "text": [
      "estimating pic for spp Syracosphaera pulchra HOL galea type\n",
      "estimating pic based on GLM\n",
      "estimating poc for spp Syracosphaera pulchra HOL galea type\n",
      "estimating poc based on GLM\n",
      "resampling size for spp: Syracosphaera ampliora HET\n",
      "estimating cross study cv for spp\n",
      "estimating cross study cv for spp\n"
     ]
    },
    {
     "name": "stderr",
     "output_type": "stream",
     "text": [
      "/home/phyto-2/miniconda3/envs/cascade-env/lib/python3.12/site-packages/statsmodels/genmod/generalized_linear_model.py:308: DomainWarning: The Identity link function does not respect the domain of the Gamma family.\n",
      "  warnings.warn((f\"The {type(family.link).__name__} link function \"\n",
      "/home/phyto-2/miniconda3/envs/cascade-env/lib/python3.12/site-packages/statsmodels/genmod/generalized_linear_model.py:308: DomainWarning: The Identity link function does not respect the domain of the Gamma family.\n",
      "  warnings.warn((f\"The {type(family.link).__name__} link function \"\n",
      "/home/phyto-2/miniconda3/envs/cascade-env/lib/python3.12/site-packages/statsmodels/genmod/generalized_linear_model.py:308: DomainWarning: The Identity link function does not respect the domain of the Gamma family.\n",
      "  warnings.warn((f\"The {type(family.link).__name__} link function \"\n",
      "/home/phyto-2/miniconda3/envs/cascade-env/lib/python3.12/site-packages/statsmodels/genmod/generalized_linear_model.py:308: DomainWarning: The Identity link function does not respect the domain of the Gamma family.\n",
      "  warnings.warn((f\"The {type(family.link).__name__} link function \"\n"
     ]
    },
    {
     "name": "stdout",
     "output_type": "stream",
     "text": [
      "estimating pic for spp Syracosphaera ampliora HET\n",
      "estimating pic based on GLM\n",
      "estimating poc for spp Syracosphaera ampliora HET\n",
      "estimating poc based on GLM\n",
      "resampling size for spp: Syracosphaera mediterranea HOL gracillima type\n",
      "Syracosphaera mediterranea HET\n",
      "estimating cross study cv for spp\n",
      "estimating cross study cv for spp\n"
     ]
    },
    {
     "name": "stderr",
     "output_type": "stream",
     "text": [
      "/home/phyto-2/miniconda3/envs/cascade-env/lib/python3.12/site-packages/statsmodels/genmod/generalized_linear_model.py:308: DomainWarning: The Identity link function does not respect the domain of the Gamma family.\n",
      "  warnings.warn((f\"The {type(family.link).__name__} link function \"\n",
      "/home/phyto-2/miniconda3/envs/cascade-env/lib/python3.12/site-packages/statsmodels/genmod/generalized_linear_model.py:308: DomainWarning: The Identity link function does not respect the domain of the Gamma family.\n",
      "  warnings.warn((f\"The {type(family.link).__name__} link function \"\n",
      "/home/phyto-2/miniconda3/envs/cascade-env/lib/python3.12/site-packages/statsmodels/genmod/generalized_linear_model.py:308: DomainWarning: The Identity link function does not respect the domain of the Gamma family.\n",
      "  warnings.warn((f\"The {type(family.link).__name__} link function \"\n",
      "/home/phyto-2/miniconda3/envs/cascade-env/lib/python3.12/site-packages/statsmodels/genmod/generalized_linear_model.py:308: DomainWarning: The Identity link function does not respect the domain of the Gamma family.\n",
      "  warnings.warn((f\"The {type(family.link).__name__} link function \"\n"
     ]
    },
    {
     "name": "stdout",
     "output_type": "stream",
     "text": [
      "estimating pic for spp Syracosphaera mediterranea HOL gracillima type\n",
      "estimating pic based on GLM\n",
      "estimating poc for spp Syracosphaera mediterranea HOL gracillima type\n",
      "estimating poc based on GLM\n",
      "resampling size for spp: Picarola margalefii HET\n",
      "estimating cross study cv for spp\n",
      "estimating cross study cv for spp\n",
      "group sd unknown, using cross species sd instead (size)\n"
     ]
    },
    {
     "name": "stderr",
     "output_type": "stream",
     "text": [
      "/home/phyto-2/miniconda3/envs/cascade-env/lib/python3.12/site-packages/statsmodels/genmod/generalized_linear_model.py:308: DomainWarning: The Identity link function does not respect the domain of the Gamma family.\n",
      "  warnings.warn((f\"The {type(family.link).__name__} link function \"\n",
      "/home/phyto-2/miniconda3/envs/cascade-env/lib/python3.12/site-packages/statsmodels/genmod/generalized_linear_model.py:308: DomainWarning: The Identity link function does not respect the domain of the Gamma family.\n",
      "  warnings.warn((f\"The {type(family.link).__name__} link function \"\n",
      "/home/phyto-2/miniconda3/envs/cascade-env/lib/python3.12/site-packages/statsmodels/genmod/generalized_linear_model.py:308: DomainWarning: The Identity link function does not respect the domain of the Gamma family.\n",
      "  warnings.warn((f\"The {type(family.link).__name__} link function \"\n",
      "/home/phyto-2/miniconda3/envs/cascade-env/lib/python3.12/site-packages/statsmodels/genmod/generalized_linear_model.py:308: DomainWarning: The Identity link function does not respect the domain of the Gamma family.\n",
      "  warnings.warn((f\"The {type(family.link).__name__} link function \"\n"
     ]
    },
    {
     "name": "stdout",
     "output_type": "stream",
     "text": [
      "estimating pic for spp Picarola margalefii HET\n",
      "estimating pic based on GLM\n",
      "estimating poc for spp Picarola margalefii HET\n",
      "estimating poc based on GLM\n",
      "resampling size for spp: Pontosphaera syracusana HET\n",
      "estimating cross study cv for spp\n",
      "estimating cross study cv for spp\n"
     ]
    },
    {
     "name": "stderr",
     "output_type": "stream",
     "text": [
      "/home/phyto-2/miniconda3/envs/cascade-env/lib/python3.12/site-packages/statsmodels/genmod/generalized_linear_model.py:308: DomainWarning: The Identity link function does not respect the domain of the Gamma family.\n",
      "  warnings.warn((f\"The {type(family.link).__name__} link function \"\n",
      "/home/phyto-2/miniconda3/envs/cascade-env/lib/python3.12/site-packages/statsmodels/genmod/generalized_linear_model.py:308: DomainWarning: The Identity link function does not respect the domain of the Gamma family.\n",
      "  warnings.warn((f\"The {type(family.link).__name__} link function \"\n",
      "/home/phyto-2/miniconda3/envs/cascade-env/lib/python3.12/site-packages/statsmodels/genmod/generalized_linear_model.py:308: DomainWarning: The Identity link function does not respect the domain of the Gamma family.\n",
      "  warnings.warn((f\"The {type(family.link).__name__} link function \"\n",
      "/home/phyto-2/miniconda3/envs/cascade-env/lib/python3.12/site-packages/statsmodels/genmod/generalized_linear_model.py:308: DomainWarning: The Identity link function does not respect the domain of the Gamma family.\n",
      "  warnings.warn((f\"The {type(family.link).__name__} link function \"\n"
     ]
    },
    {
     "name": "stdout",
     "output_type": "stream",
     "text": [
      "group sd unknown, using cross species sd instead (size)\n",
      "estimating pic for spp Pontosphaera syracusana HET\n",
      "estimating pic based on GLM\n",
      "estimating poc for spp Pontosphaera syracusana HET\n",
      "estimating poc based on GLM\n",
      "resampling size for spp: Syracosphaera exigua HET\n",
      "estimating cross study cv for spp\n",
      "estimating cross study cv for spp\n"
     ]
    },
    {
     "name": "stderr",
     "output_type": "stream",
     "text": [
      "/home/phyto-2/miniconda3/envs/cascade-env/lib/python3.12/site-packages/statsmodels/genmod/generalized_linear_model.py:308: DomainWarning: The Identity link function does not respect the domain of the Gamma family.\n",
      "  warnings.warn((f\"The {type(family.link).__name__} link function \"\n",
      "/home/phyto-2/miniconda3/envs/cascade-env/lib/python3.12/site-packages/statsmodels/genmod/generalized_linear_model.py:308: DomainWarning: The Identity link function does not respect the domain of the Gamma family.\n",
      "  warnings.warn((f\"The {type(family.link).__name__} link function \"\n",
      "/home/phyto-2/miniconda3/envs/cascade-env/lib/python3.12/site-packages/statsmodels/genmod/generalized_linear_model.py:308: DomainWarning: The Identity link function does not respect the domain of the Gamma family.\n",
      "  warnings.warn((f\"The {type(family.link).__name__} link function \"\n",
      "/home/phyto-2/miniconda3/envs/cascade-env/lib/python3.12/site-packages/statsmodels/genmod/generalized_linear_model.py:308: DomainWarning: The Identity link function does not respect the domain of the Gamma family.\n",
      "  warnings.warn((f\"The {type(family.link).__name__} link function \"\n"
     ]
    },
    {
     "name": "stdout",
     "output_type": "stream",
     "text": [
      "group sd unknown, using cross species sd instead (size)\n",
      "estimating pic for spp Syracosphaera exigua HET\n",
      "estimating pic based on GLM\n",
      "estimating poc for spp Syracosphaera exigua HET\n",
      "estimating poc based on GLM\n",
      "resampling size for spp: Acanthoica acanthos HET\n",
      "estimating cross study cv for spp\n",
      "estimating cross study cv for spp\n",
      "group sd unknown, using cross species sd instead (size)\n"
     ]
    },
    {
     "name": "stderr",
     "output_type": "stream",
     "text": [
      "/home/phyto-2/miniconda3/envs/cascade-env/lib/python3.12/site-packages/statsmodels/genmod/generalized_linear_model.py:308: DomainWarning: The Identity link function does not respect the domain of the Gamma family.\n",
      "  warnings.warn((f\"The {type(family.link).__name__} link function \"\n",
      "/home/phyto-2/miniconda3/envs/cascade-env/lib/python3.12/site-packages/statsmodels/genmod/generalized_linear_model.py:308: DomainWarning: The Identity link function does not respect the domain of the Gamma family.\n",
      "  warnings.warn((f\"The {type(family.link).__name__} link function \"\n",
      "/home/phyto-2/miniconda3/envs/cascade-env/lib/python3.12/site-packages/statsmodels/genmod/generalized_linear_model.py:308: DomainWarning: The Identity link function does not respect the domain of the Gamma family.\n",
      "  warnings.warn((f\"The {type(family.link).__name__} link function \"\n",
      "/home/phyto-2/miniconda3/envs/cascade-env/lib/python3.12/site-packages/statsmodels/genmod/generalized_linear_model.py:308: DomainWarning: The Identity link function does not respect the domain of the Gamma family.\n",
      "  warnings.warn((f\"The {type(family.link).__name__} link function \"\n"
     ]
    },
    {
     "name": "stdout",
     "output_type": "stream",
     "text": [
      "estimating pic for spp Acanthoica acanthos HET\n",
      "estimating pic based on GLM\n",
      "estimating poc for spp Acanthoica acanthos HET\n",
      "estimating poc based on GLM\n",
      "resampling size for spp: Syracosphaera noroitica HET\n",
      "estimating cross study cv for spp\n",
      "estimating cross study cv for spp\n"
     ]
    },
    {
     "name": "stderr",
     "output_type": "stream",
     "text": [
      "/home/phyto-2/miniconda3/envs/cascade-env/lib/python3.12/site-packages/statsmodels/genmod/generalized_linear_model.py:308: DomainWarning: The Identity link function does not respect the domain of the Gamma family.\n",
      "  warnings.warn((f\"The {type(family.link).__name__} link function \"\n",
      "/home/phyto-2/miniconda3/envs/cascade-env/lib/python3.12/site-packages/statsmodels/genmod/generalized_linear_model.py:308: DomainWarning: The Identity link function does not respect the domain of the Gamma family.\n",
      "  warnings.warn((f\"The {type(family.link).__name__} link function \"\n",
      "/home/phyto-2/miniconda3/envs/cascade-env/lib/python3.12/site-packages/statsmodels/genmod/generalized_linear_model.py:308: DomainWarning: The Identity link function does not respect the domain of the Gamma family.\n",
      "  warnings.warn((f\"The {type(family.link).__name__} link function \"\n",
      "/home/phyto-2/miniconda3/envs/cascade-env/lib/python3.12/site-packages/statsmodels/genmod/generalized_linear_model.py:308: DomainWarning: The Identity link function does not respect the domain of the Gamma family.\n",
      "  warnings.warn((f\"The {type(family.link).__name__} link function \"\n"
     ]
    },
    {
     "name": "stdout",
     "output_type": "stream",
     "text": [
      "estimating pic for spp Syracosphaera noroitica HET\n",
      "estimating cross study cv for spp\n",
      "estimating cross study cv for spp\n",
      "estimating pic based on resampling\n",
      "estimating poc for spp Syracosphaera noroitica HET\n",
      "estimating poc based on GLM\n",
      "resampling size for spp: Acanthoica quattrospina HOL\n",
      "estimating cross study cv for spp\n",
      "estimating cross study cv for spp\n",
      "group sd unknown, using cross species sd instead (size)\n"
     ]
    },
    {
     "name": "stderr",
     "output_type": "stream",
     "text": [
      "/home/phyto-2/miniconda3/envs/cascade-env/lib/python3.12/site-packages/statsmodels/genmod/generalized_linear_model.py:308: DomainWarning: The Identity link function does not respect the domain of the Gamma family.\n",
      "  warnings.warn((f\"The {type(family.link).__name__} link function \"\n",
      "/home/phyto-2/miniconda3/envs/cascade-env/lib/python3.12/site-packages/statsmodels/genmod/generalized_linear_model.py:308: DomainWarning: The Identity link function does not respect the domain of the Gamma family.\n",
      "  warnings.warn((f\"The {type(family.link).__name__} link function \"\n"
     ]
    },
    {
     "name": "stdout",
     "output_type": "stream",
     "text": [
      "estimating pic for spp Acanthoica quattrospina HOL\n",
      "estimating pic based on GLM\n",
      "estimating poc for spp Acanthoica quattrospina HOL\n",
      "estimating poc based on GLM\n",
      "resampling size for spp: Braarudosphaera bigelowii NANO\n",
      "estimating cross study cv for spp\n"
     ]
    },
    {
     "name": "stderr",
     "output_type": "stream",
     "text": [
      "/home/phyto-2/miniconda3/envs/cascade-env/lib/python3.12/site-packages/statsmodels/genmod/generalized_linear_model.py:308: DomainWarning: The Identity link function does not respect the domain of the Gamma family.\n",
      "  warnings.warn((f\"The {type(family.link).__name__} link function \"\n",
      "/home/phyto-2/miniconda3/envs/cascade-env/lib/python3.12/site-packages/statsmodels/genmod/generalized_linear_model.py:308: DomainWarning: The Identity link function does not respect the domain of the Gamma family.\n",
      "  warnings.warn((f\"The {type(family.link).__name__} link function \"\n",
      "/home/phyto-2/miniconda3/envs/cascade-env/lib/python3.12/site-packages/statsmodels/genmod/generalized_linear_model.py:308: DomainWarning: The Identity link function does not respect the domain of the Gamma family.\n",
      "  warnings.warn((f\"The {type(family.link).__name__} link function \"\n",
      "/home/phyto-2/miniconda3/envs/cascade-env/lib/python3.12/site-packages/statsmodels/genmod/generalized_linear_model.py:308: DomainWarning: The Identity link function does not respect the domain of the Gamma family.\n",
      "  warnings.warn((f\"The {type(family.link).__name__} link function \"\n"
     ]
    },
    {
     "name": "stdout",
     "output_type": "stream",
     "text": [
      "estimating cross study cv for spp\n",
      "estimating pic for spp Braarudosphaera bigelowii NANO\n",
      "estimating pic based on GLM\n",
      "estimating poc for spp Braarudosphaera bigelowii NANO\n",
      "estimating poc based on GLM\n",
      "resampling size for spp: Helicosphaera hyalina HET\n",
      "estimating cross study cv for spp\n"
     ]
    },
    {
     "name": "stderr",
     "output_type": "stream",
     "text": [
      "/home/phyto-2/miniconda3/envs/cascade-env/lib/python3.12/site-packages/statsmodels/genmod/generalized_linear_model.py:308: DomainWarning: The Identity link function does not respect the domain of the Gamma family.\n",
      "  warnings.warn((f\"The {type(family.link).__name__} link function \"\n",
      "/home/phyto-2/miniconda3/envs/cascade-env/lib/python3.12/site-packages/statsmodels/genmod/generalized_linear_model.py:308: DomainWarning: The Identity link function does not respect the domain of the Gamma family.\n",
      "  warnings.warn((f\"The {type(family.link).__name__} link function \"\n",
      "/home/phyto-2/miniconda3/envs/cascade-env/lib/python3.12/site-packages/statsmodels/genmod/generalized_linear_model.py:308: DomainWarning: The Identity link function does not respect the domain of the Gamma family.\n",
      "  warnings.warn((f\"The {type(family.link).__name__} link function \"\n",
      "/home/phyto-2/miniconda3/envs/cascade-env/lib/python3.12/site-packages/statsmodels/genmod/generalized_linear_model.py:308: DomainWarning: The Identity link function does not respect the domain of the Gamma family.\n",
      "  warnings.warn((f\"The {type(family.link).__name__} link function \"\n"
     ]
    },
    {
     "name": "stdout",
     "output_type": "stream",
     "text": [
      "estimating cross study cv for spp\n",
      "estimating pic for spp Helicosphaera hyalina HET\n",
      "estimating cross study cv for spp\n",
      "estimating cross study cv for spp\n",
      "estimating pic based on resampling\n",
      "estimating poc for spp Helicosphaera hyalina HET\n",
      "estimating poc based on GLM\n",
      "resampling size for spp: Syracosphaera borealis HET\n",
      "estimating cross study cv for spp\n",
      "estimating cross study cv for spp\n",
      "group sd unknown, using cross species sd instead (size)\n",
      "group sd unknown, using cross species sd instead (size)\n"
     ]
    },
    {
     "name": "stderr",
     "output_type": "stream",
     "text": [
      "/home/phyto-2/miniconda3/envs/cascade-env/lib/python3.12/site-packages/statsmodels/genmod/generalized_linear_model.py:308: DomainWarning: The Identity link function does not respect the domain of the Gamma family.\n",
      "  warnings.warn((f\"The {type(family.link).__name__} link function \"\n",
      "/home/phyto-2/miniconda3/envs/cascade-env/lib/python3.12/site-packages/statsmodels/genmod/generalized_linear_model.py:308: DomainWarning: The Identity link function does not respect the domain of the Gamma family.\n",
      "  warnings.warn((f\"The {type(family.link).__name__} link function \"\n"
     ]
    },
    {
     "name": "stdout",
     "output_type": "stream",
     "text": [
      "estimating pic for spp Syracosphaera borealis HET\n",
      "estimating pic based on GLM\n",
      "estimating poc for spp Syracosphaera borealis HET\n",
      "estimating poc based on GLM\n",
      "resampling size for spp: Syracosphaera squamosa HET\n",
      "estimating cross study cv for spp\n",
      "estimating cross study cv for spp\n",
      "group sd unknown, using cross species sd instead (size)\n"
     ]
    },
    {
     "name": "stderr",
     "output_type": "stream",
     "text": [
      "/home/phyto-2/miniconda3/envs/cascade-env/lib/python3.12/site-packages/statsmodels/genmod/generalized_linear_model.py:308: DomainWarning: The Identity link function does not respect the domain of the Gamma family.\n",
      "  warnings.warn((f\"The {type(family.link).__name__} link function \"\n",
      "/home/phyto-2/miniconda3/envs/cascade-env/lib/python3.12/site-packages/statsmodels/genmod/generalized_linear_model.py:308: DomainWarning: The Identity link function does not respect the domain of the Gamma family.\n",
      "  warnings.warn((f\"The {type(family.link).__name__} link function \"\n",
      "/home/phyto-2/miniconda3/envs/cascade-env/lib/python3.12/site-packages/statsmodels/genmod/generalized_linear_model.py:308: DomainWarning: The Identity link function does not respect the domain of the Gamma family.\n",
      "  warnings.warn((f\"The {type(family.link).__name__} link function \"\n",
      "/home/phyto-2/miniconda3/envs/cascade-env/lib/python3.12/site-packages/statsmodels/genmod/generalized_linear_model.py:308: DomainWarning: The Identity link function does not respect the domain of the Gamma family.\n",
      "  warnings.warn((f\"The {type(family.link).__name__} link function \"\n"
     ]
    },
    {
     "name": "stdout",
     "output_type": "stream",
     "text": [
      "estimating pic for spp Syracosphaera squamosa HET\n",
      "estimating pic based on GLM\n",
      "estimating poc for spp Syracosphaera squamosa HET\n",
      "estimating poc based on GLM\n",
      "resampling size for spp: Syracosphaera gaarderae HET\n",
      "estimating cross study cv for spp\n",
      "estimating cross study cv for spp\n"
     ]
    },
    {
     "name": "stderr",
     "output_type": "stream",
     "text": [
      "/home/phyto-2/miniconda3/envs/cascade-env/lib/python3.12/site-packages/statsmodels/genmod/generalized_linear_model.py:308: DomainWarning: The Identity link function does not respect the domain of the Gamma family.\n",
      "  warnings.warn((f\"The {type(family.link).__name__} link function \"\n",
      "/home/phyto-2/miniconda3/envs/cascade-env/lib/python3.12/site-packages/statsmodels/genmod/generalized_linear_model.py:308: DomainWarning: The Identity link function does not respect the domain of the Gamma family.\n",
      "  warnings.warn((f\"The {type(family.link).__name__} link function \"\n",
      "/home/phyto-2/miniconda3/envs/cascade-env/lib/python3.12/site-packages/statsmodels/genmod/generalized_linear_model.py:308: DomainWarning: The Identity link function does not respect the domain of the Gamma family.\n",
      "  warnings.warn((f\"The {type(family.link).__name__} link function \"\n",
      "/home/phyto-2/miniconda3/envs/cascade-env/lib/python3.12/site-packages/statsmodels/genmod/generalized_linear_model.py:308: DomainWarning: The Identity link function does not respect the domain of the Gamma family.\n",
      "  warnings.warn((f\"The {type(family.link).__name__} link function \"\n"
     ]
    },
    {
     "name": "stdout",
     "output_type": "stream",
     "text": [
      "group sd unknown, using cross species sd instead (size)\n",
      "estimating pic for spp Syracosphaera gaarderae HET\n",
      "estimating pic based on GLM\n",
      "estimating poc for spp Syracosphaera gaarderae HET\n",
      "estimating poc based on GLM\n",
      "resampling size for spp: Corisphaera tyrrheniensis HOL\n",
      "estimating cross study cv for spp\n"
     ]
    },
    {
     "name": "stderr",
     "output_type": "stream",
     "text": [
      "/home/phyto-2/miniconda3/envs/cascade-env/lib/python3.12/site-packages/statsmodels/genmod/generalized_linear_model.py:308: DomainWarning: The Identity link function does not respect the domain of the Gamma family.\n",
      "  warnings.warn((f\"The {type(family.link).__name__} link function \"\n",
      "/home/phyto-2/miniconda3/envs/cascade-env/lib/python3.12/site-packages/statsmodels/genmod/generalized_linear_model.py:308: DomainWarning: The Identity link function does not respect the domain of the Gamma family.\n",
      "  warnings.warn((f\"The {type(family.link).__name__} link function \"\n",
      "/home/phyto-2/miniconda3/envs/cascade-env/lib/python3.12/site-packages/statsmodels/genmod/generalized_linear_model.py:308: DomainWarning: The Identity link function does not respect the domain of the Gamma family.\n",
      "  warnings.warn((f\"The {type(family.link).__name__} link function \"\n",
      "/home/phyto-2/miniconda3/envs/cascade-env/lib/python3.12/site-packages/statsmodels/genmod/generalized_linear_model.py:308: DomainWarning: The Identity link function does not respect the domain of the Gamma family.\n",
      "  warnings.warn((f\"The {type(family.link).__name__} link function \"\n"
     ]
    },
    {
     "name": "stdout",
     "output_type": "stream",
     "text": [
      "estimating cross study cv for spp\n",
      "estimating pic for spp Corisphaera tyrrheniensis HOL\n",
      "estimating cross study cv for spp\n",
      "estimating cross study cv for spp\n",
      "estimating pic based on resampling\n",
      "estimating poc for spp Corisphaera tyrrheniensis HOL\n",
      "estimating poc based on GLM\n",
      "resampling size for spp: Syracosphaera isselii HOL\n",
      "estimating cross study cv for spp\n",
      "estimating cross study cv for spp\n",
      "group sd unknown, using cross species sd instead (size)\n"
     ]
    },
    {
     "name": "stderr",
     "output_type": "stream",
     "text": [
      "/home/phyto-2/miniconda3/envs/cascade-env/lib/python3.12/site-packages/statsmodels/genmod/generalized_linear_model.py:308: DomainWarning: The Identity link function does not respect the domain of the Gamma family.\n",
      "  warnings.warn((f\"The {type(family.link).__name__} link function \"\n",
      "/home/phyto-2/miniconda3/envs/cascade-env/lib/python3.12/site-packages/statsmodels/genmod/generalized_linear_model.py:308: DomainWarning: The Identity link function does not respect the domain of the Gamma family.\n",
      "  warnings.warn((f\"The {type(family.link).__name__} link function \"\n"
     ]
    },
    {
     "name": "stdout",
     "output_type": "stream",
     "text": [
      "estimating pic for spp Syracosphaera isselii HOL\n",
      "estimating pic based on GLM\n",
      "estimating poc for spp Syracosphaera isselii HOL\n",
      "estimating poc based on GLM\n",
      "resampling size for spp: Calyptrolithina multipora HOL\n",
      "estimating cross study cv for spp\n"
     ]
    },
    {
     "name": "stderr",
     "output_type": "stream",
     "text": [
      "/home/phyto-2/miniconda3/envs/cascade-env/lib/python3.12/site-packages/statsmodels/genmod/generalized_linear_model.py:308: DomainWarning: The Identity link function does not respect the domain of the Gamma family.\n",
      "  warnings.warn((f\"The {type(family.link).__name__} link function \"\n",
      "/home/phyto-2/miniconda3/envs/cascade-env/lib/python3.12/site-packages/statsmodels/genmod/generalized_linear_model.py:308: DomainWarning: The Identity link function does not respect the domain of the Gamma family.\n",
      "  warnings.warn((f\"The {type(family.link).__name__} link function \"\n",
      "/home/phyto-2/miniconda3/envs/cascade-env/lib/python3.12/site-packages/statsmodels/genmod/generalized_linear_model.py:308: DomainWarning: The Identity link function does not respect the domain of the Gamma family.\n",
      "  warnings.warn((f\"The {type(family.link).__name__} link function \"\n",
      "/home/phyto-2/miniconda3/envs/cascade-env/lib/python3.12/site-packages/statsmodels/genmod/generalized_linear_model.py:308: DomainWarning: The Identity link function does not respect the domain of the Gamma family.\n",
      "  warnings.warn((f\"The {type(family.link).__name__} link function \"\n"
     ]
    },
    {
     "name": "stdout",
     "output_type": "stream",
     "text": [
      "estimating cross study cv for spp\n",
      "estimating pic for spp Calyptrolithina multipora HOL\n",
      "estimating cross study cv for spp\n",
      "estimating cross study cv for spp\n",
      "estimating pic based on resampling\n",
      "estimating poc for spp Calyptrolithina multipora HOL\n",
      "estimating poc based on GLM\n",
      "resampling size for spp: Zygosphaera marsilii HOL\n",
      "estimating cross study cv for spp\n",
      "estimating cross study cv for spp\n",
      "group sd unknown, using cross species sd instead (size)\n"
     ]
    },
    {
     "name": "stderr",
     "output_type": "stream",
     "text": [
      "/home/phyto-2/miniconda3/envs/cascade-env/lib/python3.12/site-packages/statsmodels/genmod/generalized_linear_model.py:308: DomainWarning: The Identity link function does not respect the domain of the Gamma family.\n",
      "  warnings.warn((f\"The {type(family.link).__name__} link function \"\n",
      "/home/phyto-2/miniconda3/envs/cascade-env/lib/python3.12/site-packages/statsmodels/genmod/generalized_linear_model.py:308: DomainWarning: The Identity link function does not respect the domain of the Gamma family.\n",
      "  warnings.warn((f\"The {type(family.link).__name__} link function \"\n"
     ]
    },
    {
     "name": "stdout",
     "output_type": "stream",
     "text": [
      "estimating pic for spp Zygosphaera marsilii HOL\n",
      "estimating pic based on GLM\n",
      "estimating poc for spp Zygosphaera marsilii HOL\n",
      "estimating poc based on GLM\n",
      "resampling size for spp: Ceratolithus cristatus CER\n",
      "estimating cross study cv for spp\n",
      "estimating cross study cv for spp\n",
      "group sd unknown, using cross species sd instead (size)\n"
     ]
    },
    {
     "name": "stderr",
     "output_type": "stream",
     "text": [
      "/home/phyto-2/miniconda3/envs/cascade-env/lib/python3.12/site-packages/statsmodels/genmod/generalized_linear_model.py:308: DomainWarning: The Identity link function does not respect the domain of the Gamma family.\n",
      "  warnings.warn((f\"The {type(family.link).__name__} link function \"\n",
      "/home/phyto-2/miniconda3/envs/cascade-env/lib/python3.12/site-packages/statsmodels/genmod/generalized_linear_model.py:308: DomainWarning: The Identity link function does not respect the domain of the Gamma family.\n",
      "  warnings.warn((f\"The {type(family.link).__name__} link function \"\n",
      "/home/phyto-2/miniconda3/envs/cascade-env/lib/python3.12/site-packages/statsmodels/genmod/generalized_linear_model.py:308: DomainWarning: The Identity link function does not respect the domain of the Gamma family.\n",
      "  warnings.warn((f\"The {type(family.link).__name__} link function \"\n",
      "/home/phyto-2/miniconda3/envs/cascade-env/lib/python3.12/site-packages/statsmodels/genmod/generalized_linear_model.py:308: DomainWarning: The Identity link function does not respect the domain of the Gamma family.\n",
      "  warnings.warn((f\"The {type(family.link).__name__} link function \"\n"
     ]
    },
    {
     "name": "stdout",
     "output_type": "stream",
     "text": [
      "estimating pic for spp Ceratolithus cristatus CER\n",
      "estimating pic based on GLM\n",
      "estimating poc for spp Ceratolithus cristatus CER\n",
      "estimating poc based on GLM\n",
      "resampling size for spp: Calicasphaera blokii HOL\n",
      "estimating cross study cv for spp\n",
      "estimating cross study cv for spp\n"
     ]
    },
    {
     "name": "stderr",
     "output_type": "stream",
     "text": [
      "/home/phyto-2/miniconda3/envs/cascade-env/lib/python3.12/site-packages/statsmodels/genmod/generalized_linear_model.py:308: DomainWarning: The Identity link function does not respect the domain of the Gamma family.\n",
      "  warnings.warn((f\"The {type(family.link).__name__} link function \"\n",
      "/home/phyto-2/miniconda3/envs/cascade-env/lib/python3.12/site-packages/statsmodels/genmod/generalized_linear_model.py:308: DomainWarning: The Identity link function does not respect the domain of the Gamma family.\n",
      "  warnings.warn((f\"The {type(family.link).__name__} link function \"\n",
      "/home/phyto-2/miniconda3/envs/cascade-env/lib/python3.12/site-packages/statsmodels/genmod/generalized_linear_model.py:308: DomainWarning: The Identity link function does not respect the domain of the Gamma family.\n",
      "  warnings.warn((f\"The {type(family.link).__name__} link function \"\n",
      "/home/phyto-2/miniconda3/envs/cascade-env/lib/python3.12/site-packages/statsmodels/genmod/generalized_linear_model.py:308: DomainWarning: The Identity link function does not respect the domain of the Gamma family.\n",
      "  warnings.warn((f\"The {type(family.link).__name__} link function \"\n"
     ]
    },
    {
     "name": "stdout",
     "output_type": "stream",
     "text": [
      "group sd unknown, using cross species sd instead (size)\n",
      "estimating pic for spp Calicasphaera blokii HOL\n",
      "estimating pic based on GLM\n",
      "estimating poc for spp Calicasphaera blokii HOL\n",
      "estimating poc based on GLM\n",
      "resampling size for spp: Sphaerocalyptra adenensis HOL\n",
      "estimating cross study cv for spp\n",
      "estimating cross study cv for spp\n",
      "group sd unknown, using cross species sd instead (size)\n"
     ]
    },
    {
     "name": "stderr",
     "output_type": "stream",
     "text": [
      "/home/phyto-2/miniconda3/envs/cascade-env/lib/python3.12/site-packages/statsmodels/genmod/generalized_linear_model.py:308: DomainWarning: The Identity link function does not respect the domain of the Gamma family.\n",
      "  warnings.warn((f\"The {type(family.link).__name__} link function \"\n",
      "/home/phyto-2/miniconda3/envs/cascade-env/lib/python3.12/site-packages/statsmodels/genmod/generalized_linear_model.py:308: DomainWarning: The Identity link function does not respect the domain of the Gamma family.\n",
      "  warnings.warn((f\"The {type(family.link).__name__} link function \"\n",
      "/home/phyto-2/miniconda3/envs/cascade-env/lib/python3.12/site-packages/statsmodels/genmod/generalized_linear_model.py:308: DomainWarning: The Identity link function does not respect the domain of the Gamma family.\n",
      "  warnings.warn((f\"The {type(family.link).__name__} link function \"\n",
      "/home/phyto-2/miniconda3/envs/cascade-env/lib/python3.12/site-packages/statsmodels/genmod/generalized_linear_model.py:308: DomainWarning: The Identity link function does not respect the domain of the Gamma family.\n",
      "  warnings.warn((f\"The {type(family.link).__name__} link function \"\n"
     ]
    },
    {
     "name": "stdout",
     "output_type": "stream",
     "text": [
      "estimating pic for spp Sphaerocalyptra adenensis HOL\n",
      "estimating pic based on GLM\n",
      "estimating poc for spp Sphaerocalyptra adenensis HOL\n",
      "estimating poc based on GLM\n",
      "resampling size for spp: Wigwamma antarctica HET\n",
      "estimating cross study cv for spp\n",
      "estimating cross study cv for spp\n",
      "group sd unknown, using cross species sd instead (size)\n"
     ]
    },
    {
     "name": "stderr",
     "output_type": "stream",
     "text": [
      "/home/phyto-2/miniconda3/envs/cascade-env/lib/python3.12/site-packages/statsmodels/genmod/generalized_linear_model.py:308: DomainWarning: The Identity link function does not respect the domain of the Gamma family.\n",
      "  warnings.warn((f\"The {type(family.link).__name__} link function \"\n",
      "/home/phyto-2/miniconda3/envs/cascade-env/lib/python3.12/site-packages/statsmodels/genmod/generalized_linear_model.py:308: DomainWarning: The Identity link function does not respect the domain of the Gamma family.\n",
      "  warnings.warn((f\"The {type(family.link).__name__} link function \"\n",
      "/home/phyto-2/miniconda3/envs/cascade-env/lib/python3.12/site-packages/statsmodels/genmod/generalized_linear_model.py:308: DomainWarning: The Identity link function does not respect the domain of the Gamma family.\n",
      "  warnings.warn((f\"The {type(family.link).__name__} link function \"\n",
      "/home/phyto-2/miniconda3/envs/cascade-env/lib/python3.12/site-packages/statsmodels/genmod/generalized_linear_model.py:308: DomainWarning: The Identity link function does not respect the domain of the Gamma family.\n",
      "  warnings.warn((f\"The {type(family.link).__name__} link function \"\n"
     ]
    },
    {
     "name": "stdout",
     "output_type": "stream",
     "text": [
      "estimating pic for spp Wigwamma antarctica HET\n",
      "estimating pic based on GLM\n",
      "estimating poc for spp Wigwamma antarctica HET\n",
      "estimating poc based on GLM\n",
      "resampling size for spp: Syracosphaera nana HOL\n",
      "estimating cross study cv for spp\n",
      "estimating cross study cv for spp\n",
      "group sd unknown, using cross species sd instead (size)\n"
     ]
    },
    {
     "name": "stderr",
     "output_type": "stream",
     "text": [
      "/home/phyto-2/miniconda3/envs/cascade-env/lib/python3.12/site-packages/statsmodels/genmod/generalized_linear_model.py:308: DomainWarning: The Identity link function does not respect the domain of the Gamma family.\n",
      "  warnings.warn((f\"The {type(family.link).__name__} link function \"\n",
      "/home/phyto-2/miniconda3/envs/cascade-env/lib/python3.12/site-packages/statsmodels/genmod/generalized_linear_model.py:308: DomainWarning: The Identity link function does not respect the domain of the Gamma family.\n",
      "  warnings.warn((f\"The {type(family.link).__name__} link function \"\n",
      "/home/phyto-2/miniconda3/envs/cascade-env/lib/python3.12/site-packages/statsmodels/genmod/generalized_linear_model.py:308: DomainWarning: The Identity link function does not respect the domain of the Gamma family.\n",
      "  warnings.warn((f\"The {type(family.link).__name__} link function \"\n",
      "/home/phyto-2/miniconda3/envs/cascade-env/lib/python3.12/site-packages/statsmodels/genmod/generalized_linear_model.py:308: DomainWarning: The Identity link function does not respect the domain of the Gamma family.\n",
      "  warnings.warn((f\"The {type(family.link).__name__} link function \"\n"
     ]
    },
    {
     "name": "stdout",
     "output_type": "stream",
     "text": [
      "estimating pic for spp Syracosphaera nana HOL\n",
      "estimating pic based on GLM\n",
      "estimating poc for spp Syracosphaera nana HOL\n",
      "estimating poc based on GLM\n",
      "resampling size for spp: Syracosphaera mediterranea HOL marisrubri type\n",
      "Syracosphaera mediterranea HET\n",
      "estimating cross study cv for spp\n"
     ]
    },
    {
     "name": "stderr",
     "output_type": "stream",
     "text": [
      "/home/phyto-2/miniconda3/envs/cascade-env/lib/python3.12/site-packages/statsmodels/genmod/generalized_linear_model.py:308: DomainWarning: The Identity link function does not respect the domain of the Gamma family.\n",
      "  warnings.warn((f\"The {type(family.link).__name__} link function \"\n",
      "/home/phyto-2/miniconda3/envs/cascade-env/lib/python3.12/site-packages/statsmodels/genmod/generalized_linear_model.py:308: DomainWarning: The Identity link function does not respect the domain of the Gamma family.\n",
      "  warnings.warn((f\"The {type(family.link).__name__} link function \"\n",
      "/home/phyto-2/miniconda3/envs/cascade-env/lib/python3.12/site-packages/statsmodels/genmod/generalized_linear_model.py:308: DomainWarning: The Identity link function does not respect the domain of the Gamma family.\n",
      "  warnings.warn((f\"The {type(family.link).__name__} link function \"\n",
      "/home/phyto-2/miniconda3/envs/cascade-env/lib/python3.12/site-packages/statsmodels/genmod/generalized_linear_model.py:308: DomainWarning: The Identity link function does not respect the domain of the Gamma family.\n",
      "  warnings.warn((f\"The {type(family.link).__name__} link function \"\n"
     ]
    },
    {
     "name": "stdout",
     "output_type": "stream",
     "text": [
      "estimating cross study cv for spp\n",
      "estimating pic for spp Syracosphaera mediterranea HOL marisrubri type\n",
      "estimating pic based on GLM\n",
      "estimating poc for spp Syracosphaera mediterranea HOL marisrubri type\n",
      "estimating poc based on GLM\n",
      "resampling size for spp: Syracosphaera mediterranea HOL hellenica type\n",
      "estimating cross study cv for spp\n",
      "estimating cross study cv for spp\n",
      "group sd unknown, using cross species sd instead (size)\n"
     ]
    },
    {
     "name": "stderr",
     "output_type": "stream",
     "text": [
      "/home/phyto-2/miniconda3/envs/cascade-env/lib/python3.12/site-packages/statsmodels/genmod/generalized_linear_model.py:308: DomainWarning: The Identity link function does not respect the domain of the Gamma family.\n",
      "  warnings.warn((f\"The {type(family.link).__name__} link function \"\n",
      "/home/phyto-2/miniconda3/envs/cascade-env/lib/python3.12/site-packages/statsmodels/genmod/generalized_linear_model.py:308: DomainWarning: The Identity link function does not respect the domain of the Gamma family.\n",
      "  warnings.warn((f\"The {type(family.link).__name__} link function \"\n",
      "/home/phyto-2/miniconda3/envs/cascade-env/lib/python3.12/site-packages/statsmodels/genmod/generalized_linear_model.py:308: DomainWarning: The Identity link function does not respect the domain of the Gamma family.\n",
      "  warnings.warn((f\"The {type(family.link).__name__} link function \"\n",
      "/home/phyto-2/miniconda3/envs/cascade-env/lib/python3.12/site-packages/statsmodels/genmod/generalized_linear_model.py:308: DomainWarning: The Identity link function does not respect the domain of the Gamma family.\n",
      "  warnings.warn((f\"The {type(family.link).__name__} link function \"\n"
     ]
    },
    {
     "name": "stdout",
     "output_type": "stream",
     "text": [
      "estimating pic for spp Syracosphaera mediterranea HOL hellenica type\n",
      "estimating pic based on GLM\n",
      "estimating poc for spp Syracosphaera mediterranea HOL hellenica type\n",
      "estimating poc based on GLM\n",
      "resampling size for spp: Alisphaera pinnigera HET\n",
      "estimating cross study cv for spp\n",
      "estimating cross study cv for spp\n"
     ]
    },
    {
     "name": "stderr",
     "output_type": "stream",
     "text": [
      "/home/phyto-2/miniconda3/envs/cascade-env/lib/python3.12/site-packages/statsmodels/genmod/generalized_linear_model.py:308: DomainWarning: The Identity link function does not respect the domain of the Gamma family.\n",
      "  warnings.warn((f\"The {type(family.link).__name__} link function \"\n",
      "/home/phyto-2/miniconda3/envs/cascade-env/lib/python3.12/site-packages/statsmodels/genmod/generalized_linear_model.py:308: DomainWarning: The Identity link function does not respect the domain of the Gamma family.\n",
      "  warnings.warn((f\"The {type(family.link).__name__} link function \"\n",
      "/home/phyto-2/miniconda3/envs/cascade-env/lib/python3.12/site-packages/statsmodels/genmod/generalized_linear_model.py:308: DomainWarning: The Identity link function does not respect the domain of the Gamma family.\n",
      "  warnings.warn((f\"The {type(family.link).__name__} link function \"\n",
      "/home/phyto-2/miniconda3/envs/cascade-env/lib/python3.12/site-packages/statsmodels/genmod/generalized_linear_model.py:308: DomainWarning: The Identity link function does not respect the domain of the Gamma family.\n",
      "  warnings.warn((f\"The {type(family.link).__name__} link function \"\n"
     ]
    },
    {
     "name": "stdout",
     "output_type": "stream",
     "text": [
      "group sd unknown, using cross species sd instead (size)\n",
      "estimating pic for spp Alisphaera pinnigera HET\n",
      "estimating pic based on GLM\n",
      "estimating poc for spp Alisphaera pinnigera HET\n",
      "estimating poc based on GLM\n",
      "resampling size for spp: Coccolithus pelagicus HOL\n",
      "estimating cross study cv for spp\n",
      "estimating cross study cv for spp\n",
      "group sd unknown, using cross species sd instead (size)\n"
     ]
    },
    {
     "name": "stderr",
     "output_type": "stream",
     "text": [
      "/home/phyto-2/miniconda3/envs/cascade-env/lib/python3.12/site-packages/statsmodels/genmod/generalized_linear_model.py:308: DomainWarning: The Identity link function does not respect the domain of the Gamma family.\n",
      "  warnings.warn((f\"The {type(family.link).__name__} link function \"\n",
      "/home/phyto-2/miniconda3/envs/cascade-env/lib/python3.12/site-packages/statsmodels/genmod/generalized_linear_model.py:308: DomainWarning: The Identity link function does not respect the domain of the Gamma family.\n",
      "  warnings.warn((f\"The {type(family.link).__name__} link function \"\n",
      "/home/phyto-2/miniconda3/envs/cascade-env/lib/python3.12/site-packages/statsmodels/genmod/generalized_linear_model.py:308: DomainWarning: The Identity link function does not respect the domain of the Gamma family.\n",
      "  warnings.warn((f\"The {type(family.link).__name__} link function \"\n",
      "/home/phyto-2/miniconda3/envs/cascade-env/lib/python3.12/site-packages/statsmodels/genmod/generalized_linear_model.py:308: DomainWarning: The Identity link function does not respect the domain of the Gamma family.\n",
      "  warnings.warn((f\"The {type(family.link).__name__} link function \"\n"
     ]
    },
    {
     "name": "stdout",
     "output_type": "stream",
     "text": [
      "estimating pic for spp Coccolithus pelagicus HOL\n",
      "estimating pic based on GLM\n",
      "estimating poc for spp Coccolithus pelagicus HOL\n",
      "estimating poc based on GLM\n",
      "resampling size for spp: Syracosphaera reniformis HET\n",
      "estimating cross study cv for spp\n"
     ]
    },
    {
     "name": "stderr",
     "output_type": "stream",
     "text": [
      "/home/phyto-2/miniconda3/envs/cascade-env/lib/python3.12/site-packages/statsmodels/genmod/generalized_linear_model.py:308: DomainWarning: The Identity link function does not respect the domain of the Gamma family.\n",
      "  warnings.warn((f\"The {type(family.link).__name__} link function \"\n",
      "/home/phyto-2/miniconda3/envs/cascade-env/lib/python3.12/site-packages/statsmodels/genmod/generalized_linear_model.py:308: DomainWarning: The Identity link function does not respect the domain of the Gamma family.\n",
      "  warnings.warn((f\"The {type(family.link).__name__} link function \"\n",
      "/home/phyto-2/miniconda3/envs/cascade-env/lib/python3.12/site-packages/statsmodels/genmod/generalized_linear_model.py:308: DomainWarning: The Identity link function does not respect the domain of the Gamma family.\n",
      "  warnings.warn((f\"The {type(family.link).__name__} link function \"\n",
      "/home/phyto-2/miniconda3/envs/cascade-env/lib/python3.12/site-packages/statsmodels/genmod/generalized_linear_model.py:308: DomainWarning: The Identity link function does not respect the domain of the Gamma family.\n",
      "  warnings.warn((f\"The {type(family.link).__name__} link function \"\n"
     ]
    },
    {
     "name": "stdout",
     "output_type": "stream",
     "text": [
      "estimating cross study cv for spp\n",
      "estimating pic for spp Syracosphaera reniformis HET\n",
      "estimating cross study cv for spp\n",
      "estimating cross study cv for spp\n",
      "estimating pic based on resampling\n",
      "estimating poc for spp Syracosphaera reniformis HET\n",
      "estimating poc based on GLM\n",
      "resampling size for spp: Syracosphaera gaarderae HOL\n",
      "estimating cross study cv for spp\n",
      "estimating cross study cv for spp\n",
      "group sd unknown, using cross species sd instead (size)\n"
     ]
    },
    {
     "name": "stderr",
     "output_type": "stream",
     "text": [
      "/home/phyto-2/miniconda3/envs/cascade-env/lib/python3.12/site-packages/statsmodels/genmod/generalized_linear_model.py:308: DomainWarning: The Identity link function does not respect the domain of the Gamma family.\n",
      "  warnings.warn((f\"The {type(family.link).__name__} link function \"\n",
      "/home/phyto-2/miniconda3/envs/cascade-env/lib/python3.12/site-packages/statsmodels/genmod/generalized_linear_model.py:308: DomainWarning: The Identity link function does not respect the domain of the Gamma family.\n",
      "  warnings.warn((f\"The {type(family.link).__name__} link function \"\n"
     ]
    },
    {
     "name": "stdout",
     "output_type": "stream",
     "text": [
      "estimating pic for spp Syracosphaera gaarderae HOL\n",
      "estimating pic based on GLM\n",
      "estimating poc for spp Syracosphaera gaarderae HOL\n",
      "estimating poc based on GLM\n",
      "resampling size for spp: Syracosphaera pulchra HOL pirus type\n",
      "estimating cross study cv for spp\n"
     ]
    },
    {
     "name": "stderr",
     "output_type": "stream",
     "text": [
      "/home/phyto-2/miniconda3/envs/cascade-env/lib/python3.12/site-packages/statsmodels/genmod/generalized_linear_model.py:308: DomainWarning: The Identity link function does not respect the domain of the Gamma family.\n",
      "  warnings.warn((f\"The {type(family.link).__name__} link function \"\n",
      "/home/phyto-2/miniconda3/envs/cascade-env/lib/python3.12/site-packages/statsmodels/genmod/generalized_linear_model.py:308: DomainWarning: The Identity link function does not respect the domain of the Gamma family.\n",
      "  warnings.warn((f\"The {type(family.link).__name__} link function \"\n",
      "/home/phyto-2/miniconda3/envs/cascade-env/lib/python3.12/site-packages/statsmodels/genmod/generalized_linear_model.py:308: DomainWarning: The Identity link function does not respect the domain of the Gamma family.\n",
      "  warnings.warn((f\"The {type(family.link).__name__} link function \"\n",
      "/home/phyto-2/miniconda3/envs/cascade-env/lib/python3.12/site-packages/statsmodels/genmod/generalized_linear_model.py:308: DomainWarning: The Identity link function does not respect the domain of the Gamma family.\n",
      "  warnings.warn((f\"The {type(family.link).__name__} link function \"\n"
     ]
    },
    {
     "name": "stdout",
     "output_type": "stream",
     "text": [
      "estimating cross study cv for spp\n",
      "estimating pic for spp Syracosphaera pulchra HOL pirus type\n",
      "estimating cross study cv for spp\n",
      "estimating cross study cv for spp\n",
      "estimating pic based on resampling\n",
      "mean known for:Syracosphaera pulchra HOL pirus type\n",
      "group sd unknown, using cross species sd instead\n",
      "estimating poc for spp Syracosphaera pulchra HOL pirus type\n",
      "estimating poc based on GLM\n",
      "resampling size for spp: Alisphaera capulata HET\n",
      "estimating cross study cv for spp\n",
      "estimating cross study cv for spp\n",
      "group sd unknown, using cross species sd instead (size)\n",
      "group sd unknown, using cross species sd instead (size)\n",
      "group sd unknown, using cross species sd instead (size)\n"
     ]
    },
    {
     "name": "stderr",
     "output_type": "stream",
     "text": [
      "/home/phyto-2/miniconda3/envs/cascade-env/lib/python3.12/site-packages/statsmodels/genmod/generalized_linear_model.py:308: DomainWarning: The Identity link function does not respect the domain of the Gamma family.\n",
      "  warnings.warn((f\"The {type(family.link).__name__} link function \"\n",
      "/home/phyto-2/miniconda3/envs/cascade-env/lib/python3.12/site-packages/statsmodels/genmod/generalized_linear_model.py:308: DomainWarning: The Identity link function does not respect the domain of the Gamma family.\n",
      "  warnings.warn((f\"The {type(family.link).__name__} link function \"\n"
     ]
    },
    {
     "name": "stdout",
     "output_type": "stream",
     "text": [
      "estimating pic for spp Alisphaera capulata HET\n",
      "estimating cross study cv for spp\n",
      "estimating cross study cv for spp\n",
      "estimating pic based on resampling\n",
      "mean known for:Alisphaera capulata HET\n",
      "group sd unknown, using cross species sd instead\n",
      "estimating poc for spp Alisphaera capulata HET\n",
      "estimating poc based on GLM\n",
      "resampling size for spp: Helicosphaera HOL ponticuliferus type\n",
      "estimating cross study cv for spp\n",
      "estimating cross study cv for spp\n",
      "group sd unknown, using cross species sd instead (size)\n"
     ]
    },
    {
     "name": "stderr",
     "output_type": "stream",
     "text": [
      "/home/phyto-2/miniconda3/envs/cascade-env/lib/python3.12/site-packages/statsmodels/genmod/generalized_linear_model.py:308: DomainWarning: The Identity link function does not respect the domain of the Gamma family.\n",
      "  warnings.warn((f\"The {type(family.link).__name__} link function \"\n",
      "/home/phyto-2/miniconda3/envs/cascade-env/lib/python3.12/site-packages/statsmodels/genmod/generalized_linear_model.py:308: DomainWarning: The Identity link function does not respect the domain of the Gamma family.\n",
      "  warnings.warn((f\"The {type(family.link).__name__} link function \"\n"
     ]
    },
    {
     "name": "stdout",
     "output_type": "stream",
     "text": [
      "estimating pic for spp Helicosphaera HOL ponticuliferus type\n",
      "estimating pic based on GLM\n",
      "estimating poc for spp Helicosphaera HOL ponticuliferus type\n",
      "estimating poc based on GLM\n",
      "resampling size for spp: Alisphaera gaudii POL\n",
      "estimating cross study cv for spp\n",
      "estimating cross study cv for spp\n"
     ]
    },
    {
     "name": "stderr",
     "output_type": "stream",
     "text": [
      "/home/phyto-2/miniconda3/envs/cascade-env/lib/python3.12/site-packages/statsmodels/genmod/generalized_linear_model.py:308: DomainWarning: The Identity link function does not respect the domain of the Gamma family.\n",
      "  warnings.warn((f\"The {type(family.link).__name__} link function \"\n",
      "/home/phyto-2/miniconda3/envs/cascade-env/lib/python3.12/site-packages/statsmodels/genmod/generalized_linear_model.py:308: DomainWarning: The Identity link function does not respect the domain of the Gamma family.\n",
      "  warnings.warn((f\"The {type(family.link).__name__} link function \"\n",
      "/home/phyto-2/miniconda3/envs/cascade-env/lib/python3.12/site-packages/statsmodels/genmod/generalized_linear_model.py:308: DomainWarning: The Identity link function does not respect the domain of the Gamma family.\n",
      "  warnings.warn((f\"The {type(family.link).__name__} link function \"\n",
      "/home/phyto-2/miniconda3/envs/cascade-env/lib/python3.12/site-packages/statsmodels/genmod/generalized_linear_model.py:308: DomainWarning: The Identity link function does not respect the domain of the Gamma family.\n",
      "  warnings.warn((f\"The {type(family.link).__name__} link function \"\n"
     ]
    },
    {
     "name": "stdout",
     "output_type": "stream",
     "text": [
      "group sd unknown, using cross species sd instead (size)\n",
      "estimating pic for spp Alisphaera gaudii POL\n",
      "estimating pic based on GLM\n",
      "estimating poc for spp Alisphaera gaudii POL\n",
      "estimating poc based on GLM\n",
      "resampling size for spp: Gliscolithus amitakareniae HOL\n",
      "estimating cross study cv for spp\n",
      "estimating cross study cv for spp\n"
     ]
    },
    {
     "name": "stderr",
     "output_type": "stream",
     "text": [
      "/home/phyto-2/miniconda3/envs/cascade-env/lib/python3.12/site-packages/statsmodels/genmod/generalized_linear_model.py:308: DomainWarning: The Identity link function does not respect the domain of the Gamma family.\n",
      "  warnings.warn((f\"The {type(family.link).__name__} link function \"\n",
      "/home/phyto-2/miniconda3/envs/cascade-env/lib/python3.12/site-packages/statsmodels/genmod/generalized_linear_model.py:308: DomainWarning: The Identity link function does not respect the domain of the Gamma family.\n",
      "  warnings.warn((f\"The {type(family.link).__name__} link function \"\n",
      "/home/phyto-2/miniconda3/envs/cascade-env/lib/python3.12/site-packages/statsmodels/genmod/generalized_linear_model.py:308: DomainWarning: The Identity link function does not respect the domain of the Gamma family.\n",
      "  warnings.warn((f\"The {type(family.link).__name__} link function \"\n",
      "/home/phyto-2/miniconda3/envs/cascade-env/lib/python3.12/site-packages/statsmodels/genmod/generalized_linear_model.py:308: DomainWarning: The Identity link function does not respect the domain of the Gamma family.\n",
      "  warnings.warn((f\"The {type(family.link).__name__} link function \"\n"
     ]
    },
    {
     "name": "stdout",
     "output_type": "stream",
     "text": [
      "group sd unknown, using cross species sd instead (size)\n",
      "estimating pic for spp Gliscolithus amitakareniae HOL\n",
      "estimating pic based on GLM\n",
      "estimating poc for spp Gliscolithus amitakareniae HOL\n",
      "estimating poc based on GLM\n",
      "resampling size for spp: Pappomonas sp. type 5 HET\n",
      "estimating cross study cv for spp\n",
      "estimating cross study cv for spp\n"
     ]
    },
    {
     "name": "stderr",
     "output_type": "stream",
     "text": [
      "/home/phyto-2/miniconda3/envs/cascade-env/lib/python3.12/site-packages/statsmodels/genmod/generalized_linear_model.py:308: DomainWarning: The Identity link function does not respect the domain of the Gamma family.\n",
      "  warnings.warn((f\"The {type(family.link).__name__} link function \"\n",
      "/home/phyto-2/miniconda3/envs/cascade-env/lib/python3.12/site-packages/statsmodels/genmod/generalized_linear_model.py:308: DomainWarning: The Identity link function does not respect the domain of the Gamma family.\n",
      "  warnings.warn((f\"The {type(family.link).__name__} link function \"\n",
      "/home/phyto-2/miniconda3/envs/cascade-env/lib/python3.12/site-packages/statsmodels/genmod/generalized_linear_model.py:308: DomainWarning: The Identity link function does not respect the domain of the Gamma family.\n",
      "  warnings.warn((f\"The {type(family.link).__name__} link function \"\n",
      "/home/phyto-2/miniconda3/envs/cascade-env/lib/python3.12/site-packages/statsmodels/genmod/generalized_linear_model.py:308: DomainWarning: The Identity link function does not respect the domain of the Gamma family.\n",
      "  warnings.warn((f\"The {type(family.link).__name__} link function \"\n"
     ]
    },
    {
     "name": "stdout",
     "output_type": "stream",
     "text": [
      "group sd unknown, using cross species sd instead (size)\n",
      "estimating pic for spp Pappomonas sp. type 5 HET\n",
      "estimating pic based on GLM\n",
      "estimating poc for spp Pappomonas sp. type 5 HET\n",
      "estimating poc based on GLM\n",
      "resampling size for spp: Pappomonas sp. type 3 HET\n",
      "estimating cross study cv for spp\n",
      "estimating cross study cv for spp\n",
      "group sd unknown, using cross species sd instead (size)\n"
     ]
    },
    {
     "name": "stderr",
     "output_type": "stream",
     "text": [
      "/home/phyto-2/miniconda3/envs/cascade-env/lib/python3.12/site-packages/statsmodels/genmod/generalized_linear_model.py:308: DomainWarning: The Identity link function does not respect the domain of the Gamma family.\n",
      "  warnings.warn((f\"The {type(family.link).__name__} link function \"\n",
      "/home/phyto-2/miniconda3/envs/cascade-env/lib/python3.12/site-packages/statsmodels/genmod/generalized_linear_model.py:308: DomainWarning: The Identity link function does not respect the domain of the Gamma family.\n",
      "  warnings.warn((f\"The {type(family.link).__name__} link function \"\n",
      "/home/phyto-2/miniconda3/envs/cascade-env/lib/python3.12/site-packages/statsmodels/genmod/generalized_linear_model.py:308: DomainWarning: The Identity link function does not respect the domain of the Gamma family.\n",
      "  warnings.warn((f\"The {type(family.link).__name__} link function \"\n",
      "/home/phyto-2/miniconda3/envs/cascade-env/lib/python3.12/site-packages/statsmodels/genmod/generalized_linear_model.py:308: DomainWarning: The Identity link function does not respect the domain of the Gamma family.\n",
      "  warnings.warn((f\"The {type(family.link).__name__} link function \"\n"
     ]
    },
    {
     "name": "stdout",
     "output_type": "stream",
     "text": [
      "estimating pic for spp Pappomonas sp. type 3 HET\n",
      "estimating pic based on GLM\n",
      "estimating poc for spp Pappomonas sp. type 3 HET\n",
      "estimating poc based on GLM\n",
      "resampling size for spp: Calicasphaera concava HOL\n",
      "estimating cross study cv for spp\n",
      "estimating cross study cv for spp\n",
      "group sd unknown, using cross species sd instead (size)\n"
     ]
    },
    {
     "name": "stderr",
     "output_type": "stream",
     "text": [
      "/home/phyto-2/miniconda3/envs/cascade-env/lib/python3.12/site-packages/statsmodels/genmod/generalized_linear_model.py:308: DomainWarning: The Identity link function does not respect the domain of the Gamma family.\n",
      "  warnings.warn((f\"The {type(family.link).__name__} link function \"\n",
      "/home/phyto-2/miniconda3/envs/cascade-env/lib/python3.12/site-packages/statsmodels/genmod/generalized_linear_model.py:308: DomainWarning: The Identity link function does not respect the domain of the Gamma family.\n",
      "  warnings.warn((f\"The {type(family.link).__name__} link function \"\n",
      "/home/phyto-2/miniconda3/envs/cascade-env/lib/python3.12/site-packages/statsmodels/genmod/generalized_linear_model.py:308: DomainWarning: The Identity link function does not respect the domain of the Gamma family.\n",
      "  warnings.warn((f\"The {type(family.link).__name__} link function \"\n",
      "/home/phyto-2/miniconda3/envs/cascade-env/lib/python3.12/site-packages/statsmodels/genmod/generalized_linear_model.py:308: DomainWarning: The Identity link function does not respect the domain of the Gamma family.\n",
      "  warnings.warn((f\"The {type(family.link).__name__} link function \"\n"
     ]
    },
    {
     "name": "stdout",
     "output_type": "stream",
     "text": [
      "estimating pic for spp Calicasphaera concava HOL\n",
      "estimating pic based on GLM\n",
      "estimating poc for spp Calicasphaera concava HOL\n",
      "estimating poc based on GLM\n",
      "resampling size for spp: Formonsella pyramidosa HET\n",
      "estimating cross study cv for spp\n",
      "estimating cross study cv for spp\n",
      "group sd unknown, using cross species sd instead (size)\n"
     ]
    },
    {
     "name": "stderr",
     "output_type": "stream",
     "text": [
      "/home/phyto-2/miniconda3/envs/cascade-env/lib/python3.12/site-packages/statsmodels/genmod/generalized_linear_model.py:308: DomainWarning: The Identity link function does not respect the domain of the Gamma family.\n",
      "  warnings.warn((f\"The {type(family.link).__name__} link function \"\n",
      "/home/phyto-2/miniconda3/envs/cascade-env/lib/python3.12/site-packages/statsmodels/genmod/generalized_linear_model.py:308: DomainWarning: The Identity link function does not respect the domain of the Gamma family.\n",
      "  warnings.warn((f\"The {type(family.link).__name__} link function \"\n",
      "/home/phyto-2/miniconda3/envs/cascade-env/lib/python3.12/site-packages/statsmodels/genmod/generalized_linear_model.py:308: DomainWarning: The Identity link function does not respect the domain of the Gamma family.\n",
      "  warnings.warn((f\"The {type(family.link).__name__} link function \"\n",
      "/home/phyto-2/miniconda3/envs/cascade-env/lib/python3.12/site-packages/statsmodels/genmod/generalized_linear_model.py:308: DomainWarning: The Identity link function does not respect the domain of the Gamma family.\n",
      "  warnings.warn((f\"The {type(family.link).__name__} link function \"\n"
     ]
    },
    {
     "name": "stdout",
     "output_type": "stream",
     "text": [
      "estimating pic for spp Formonsella pyramidosa HET\n",
      "estimating pic based on GLM\n",
      "estimating poc for spp Formonsella pyramidosa HET\n",
      "estimating poc based on GLM\n",
      "resampling size for spp: Hayaster perplexus HET\n",
      "estimating cross study cv for spp\n",
      "estimating cross study cv for spp\n",
      "group sd unknown, using cross species sd instead (size)\n"
     ]
    },
    {
     "name": "stderr",
     "output_type": "stream",
     "text": [
      "/home/phyto-2/miniconda3/envs/cascade-env/lib/python3.12/site-packages/statsmodels/genmod/generalized_linear_model.py:308: DomainWarning: The Identity link function does not respect the domain of the Gamma family.\n",
      "  warnings.warn((f\"The {type(family.link).__name__} link function \"\n",
      "/home/phyto-2/miniconda3/envs/cascade-env/lib/python3.12/site-packages/statsmodels/genmod/generalized_linear_model.py:308: DomainWarning: The Identity link function does not respect the domain of the Gamma family.\n",
      "  warnings.warn((f\"The {type(family.link).__name__} link function \"\n",
      "/home/phyto-2/miniconda3/envs/cascade-env/lib/python3.12/site-packages/statsmodels/genmod/generalized_linear_model.py:308: DomainWarning: The Identity link function does not respect the domain of the Gamma family.\n",
      "  warnings.warn((f\"The {type(family.link).__name__} link function \"\n",
      "/home/phyto-2/miniconda3/envs/cascade-env/lib/python3.12/site-packages/statsmodels/genmod/generalized_linear_model.py:308: DomainWarning: The Identity link function does not respect the domain of the Gamma family.\n",
      "  warnings.warn((f\"The {type(family.link).__name__} link function \"\n"
     ]
    },
    {
     "name": "stdout",
     "output_type": "stream",
     "text": [
      "estimating pic for spp Hayaster perplexus HET\n",
      "estimating pic based on GLM\n",
      "estimating poc for spp Hayaster perplexus HET\n",
      "estimating poc based on GLM\n",
      "resampling size for spp: Syracosphaera strigilis HET\n",
      "estimating cross study cv for spp\n",
      "estimating cross study cv for spp\n"
     ]
    },
    {
     "name": "stderr",
     "output_type": "stream",
     "text": [
      "/home/phyto-2/miniconda3/envs/cascade-env/lib/python3.12/site-packages/statsmodels/genmod/generalized_linear_model.py:308: DomainWarning: The Identity link function does not respect the domain of the Gamma family.\n",
      "  warnings.warn((f\"The {type(family.link).__name__} link function \"\n",
      "/home/phyto-2/miniconda3/envs/cascade-env/lib/python3.12/site-packages/statsmodels/genmod/generalized_linear_model.py:308: DomainWarning: The Identity link function does not respect the domain of the Gamma family.\n",
      "  warnings.warn((f\"The {type(family.link).__name__} link function \"\n",
      "/home/phyto-2/miniconda3/envs/cascade-env/lib/python3.12/site-packages/statsmodels/genmod/generalized_linear_model.py:308: DomainWarning: The Identity link function does not respect the domain of the Gamma family.\n",
      "  warnings.warn((f\"The {type(family.link).__name__} link function \"\n",
      "/home/phyto-2/miniconda3/envs/cascade-env/lib/python3.12/site-packages/statsmodels/genmod/generalized_linear_model.py:308: DomainWarning: The Identity link function does not respect the domain of the Gamma family.\n",
      "  warnings.warn((f\"The {type(family.link).__name__} link function \"\n"
     ]
    },
    {
     "name": "stdout",
     "output_type": "stream",
     "text": [
      "group sd unknown, using cross species sd instead (size)\n",
      "estimating pic for spp Syracosphaera strigilis HET\n",
      "estimating pic based on GLM\n",
      "estimating poc for spp Syracosphaera strigilis HET\n",
      "estimating poc based on GLM\n",
      "resampling size for spp: Helicosphaera HOL confusus type\n",
      "estimating cross study cv for spp\n",
      "estimating cross study cv for spp\n",
      "group sd unknown, using cross species sd instead (size)\n"
     ]
    },
    {
     "name": "stderr",
     "output_type": "stream",
     "text": [
      "/home/phyto-2/miniconda3/envs/cascade-env/lib/python3.12/site-packages/statsmodels/genmod/generalized_linear_model.py:308: DomainWarning: The Identity link function does not respect the domain of the Gamma family.\n",
      "  warnings.warn((f\"The {type(family.link).__name__} link function \"\n",
      "/home/phyto-2/miniconda3/envs/cascade-env/lib/python3.12/site-packages/statsmodels/genmod/generalized_linear_model.py:308: DomainWarning: The Identity link function does not respect the domain of the Gamma family.\n",
      "  warnings.warn((f\"The {type(family.link).__name__} link function \"\n",
      "/home/phyto-2/miniconda3/envs/cascade-env/lib/python3.12/site-packages/statsmodels/genmod/generalized_linear_model.py:308: DomainWarning: The Identity link function does not respect the domain of the Gamma family.\n",
      "  warnings.warn((f\"The {type(family.link).__name__} link function \"\n",
      "/home/phyto-2/miniconda3/envs/cascade-env/lib/python3.12/site-packages/statsmodels/genmod/generalized_linear_model.py:308: DomainWarning: The Identity link function does not respect the domain of the Gamma family.\n",
      "  warnings.warn((f\"The {type(family.link).__name__} link function \"\n"
     ]
    },
    {
     "name": "stdout",
     "output_type": "stream",
     "text": [
      "estimating pic for spp Helicosphaera HOL confusus type\n",
      "estimating pic based on GLM\n",
      "estimating poc for spp Helicosphaera HOL confusus type\n",
      "estimating poc based on GLM\n",
      "resampling size for spp: Helladosphaera pienaarii HOL\n",
      "estimating cross study cv for spp\n",
      "estimating cross study cv for spp\n"
     ]
    },
    {
     "name": "stderr",
     "output_type": "stream",
     "text": [
      "/home/phyto-2/miniconda3/envs/cascade-env/lib/python3.12/site-packages/statsmodels/genmod/generalized_linear_model.py:308: DomainWarning: The Identity link function does not respect the domain of the Gamma family.\n",
      "  warnings.warn((f\"The {type(family.link).__name__} link function \"\n",
      "/home/phyto-2/miniconda3/envs/cascade-env/lib/python3.12/site-packages/statsmodels/genmod/generalized_linear_model.py:308: DomainWarning: The Identity link function does not respect the domain of the Gamma family.\n",
      "  warnings.warn((f\"The {type(family.link).__name__} link function \"\n",
      "/home/phyto-2/miniconda3/envs/cascade-env/lib/python3.12/site-packages/statsmodels/genmod/generalized_linear_model.py:308: DomainWarning: The Identity link function does not respect the domain of the Gamma family.\n",
      "  warnings.warn((f\"The {type(family.link).__name__} link function \"\n",
      "/home/phyto-2/miniconda3/envs/cascade-env/lib/python3.12/site-packages/statsmodels/genmod/generalized_linear_model.py:308: DomainWarning: The Identity link function does not respect the domain of the Gamma family.\n",
      "  warnings.warn((f\"The {type(family.link).__name__} link function \"\n"
     ]
    },
    {
     "name": "stdout",
     "output_type": "stream",
     "text": [
      "group sd unknown, using cross species sd instead (size)\n",
      "group sd unknown, using cross species sd instead (size)\n",
      "estimating pic for spp Helladosphaera pienaarii HOL\n",
      "estimating pic based on GLM\n",
      "estimating poc for spp Helladosphaera pienaarii HOL\n",
      "estimating poc based on GLM\n",
      "resampling size for spp: Syracosphaera lafourcadii HOL\n",
      "estimating cross study cv for spp\n",
      "estimating cross study cv for spp\n",
      "group sd unknown, using cross species sd instead (size)\n"
     ]
    },
    {
     "name": "stderr",
     "output_type": "stream",
     "text": [
      "/home/phyto-2/miniconda3/envs/cascade-env/lib/python3.12/site-packages/statsmodels/genmod/generalized_linear_model.py:308: DomainWarning: The Identity link function does not respect the domain of the Gamma family.\n",
      "  warnings.warn((f\"The {type(family.link).__name__} link function \"\n",
      "/home/phyto-2/miniconda3/envs/cascade-env/lib/python3.12/site-packages/statsmodels/genmod/generalized_linear_model.py:308: DomainWarning: The Identity link function does not respect the domain of the Gamma family.\n",
      "  warnings.warn((f\"The {type(family.link).__name__} link function \"\n",
      "/home/phyto-2/miniconda3/envs/cascade-env/lib/python3.12/site-packages/statsmodels/genmod/generalized_linear_model.py:308: DomainWarning: The Identity link function does not respect the domain of the Gamma family.\n",
      "  warnings.warn((f\"The {type(family.link).__name__} link function \"\n",
      "/home/phyto-2/miniconda3/envs/cascade-env/lib/python3.12/site-packages/statsmodels/genmod/generalized_linear_model.py:308: DomainWarning: The Identity link function does not respect the domain of the Gamma family.\n",
      "  warnings.warn((f\"The {type(family.link).__name__} link function \"\n"
     ]
    },
    {
     "name": "stdout",
     "output_type": "stream",
     "text": [
      "estimating pic for spp Syracosphaera lafourcadii HOL\n",
      "estimating pic based on GLM\n",
      "estimating poc for spp Syracosphaera lafourcadii HOL\n",
      "estimating poc based on GLM\n",
      "resampling size for spp: Calicasphaera diconstricta HOL\n",
      "estimating cross study cv for spp\n",
      "estimating cross study cv for spp\n",
      "group sd unknown, using cross species sd instead (size)\n"
     ]
    },
    {
     "name": "stderr",
     "output_type": "stream",
     "text": [
      "/home/phyto-2/miniconda3/envs/cascade-env/lib/python3.12/site-packages/statsmodels/genmod/generalized_linear_model.py:308: DomainWarning: The Identity link function does not respect the domain of the Gamma family.\n",
      "  warnings.warn((f\"The {type(family.link).__name__} link function \"\n",
      "/home/phyto-2/miniconda3/envs/cascade-env/lib/python3.12/site-packages/statsmodels/genmod/generalized_linear_model.py:308: DomainWarning: The Identity link function does not respect the domain of the Gamma family.\n",
      "  warnings.warn((f\"The {type(family.link).__name__} link function \"\n",
      "/home/phyto-2/miniconda3/envs/cascade-env/lib/python3.12/site-packages/statsmodels/genmod/generalized_linear_model.py:308: DomainWarning: The Identity link function does not respect the domain of the Gamma family.\n",
      "  warnings.warn((f\"The {type(family.link).__name__} link function \"\n",
      "/home/phyto-2/miniconda3/envs/cascade-env/lib/python3.12/site-packages/statsmodels/genmod/generalized_linear_model.py:308: DomainWarning: The Identity link function does not respect the domain of the Gamma family.\n",
      "  warnings.warn((f\"The {type(family.link).__name__} link function \"\n"
     ]
    },
    {
     "name": "stdout",
     "output_type": "stream",
     "text": [
      "estimating pic for spp Calicasphaera diconstricta HOL\n",
      "estimating pic based on GLM\n",
      "estimating poc for spp Calicasphaera diconstricta HOL\n",
      "estimating poc based on GLM\n",
      "resampling size for spp: Turrilithus latericioides HET\n",
      "estimating cross study cv for spp\n",
      "estimating cross study cv for spp\n"
     ]
    },
    {
     "name": "stderr",
     "output_type": "stream",
     "text": [
      "/home/phyto-2/miniconda3/envs/cascade-env/lib/python3.12/site-packages/statsmodels/genmod/generalized_linear_model.py:308: DomainWarning: The Identity link function does not respect the domain of the Gamma family.\n",
      "  warnings.warn((f\"The {type(family.link).__name__} link function \"\n",
      "/home/phyto-2/miniconda3/envs/cascade-env/lib/python3.12/site-packages/statsmodels/genmod/generalized_linear_model.py:308: DomainWarning: The Identity link function does not respect the domain of the Gamma family.\n",
      "  warnings.warn((f\"The {type(family.link).__name__} link function \"\n",
      "/home/phyto-2/miniconda3/envs/cascade-env/lib/python3.12/site-packages/statsmodels/genmod/generalized_linear_model.py:308: DomainWarning: The Identity link function does not respect the domain of the Gamma family.\n",
      "  warnings.warn((f\"The {type(family.link).__name__} link function \"\n",
      "/home/phyto-2/miniconda3/envs/cascade-env/lib/python3.12/site-packages/statsmodels/genmod/generalized_linear_model.py:308: DomainWarning: The Identity link function does not respect the domain of the Gamma family.\n",
      "  warnings.warn((f\"The {type(family.link).__name__} link function \"\n"
     ]
    },
    {
     "name": "stdout",
     "output_type": "stream",
     "text": [
      "group sd unknown, using cross species sd instead (size)\n",
      "estimating pic for spp Turrilithus latericioides HET\n",
      "estimating pic based on GLM\n",
      "estimating poc for spp Turrilithus latericioides HET\n",
      "estimating poc based on GLM\n",
      "resampling size for spp: Algirosphaera cucullata HET\n",
      "estimating cross study cv for spp\n",
      "estimating cross study cv for spp\n"
     ]
    },
    {
     "name": "stderr",
     "output_type": "stream",
     "text": [
      "/home/phyto-2/miniconda3/envs/cascade-env/lib/python3.12/site-packages/statsmodels/genmod/generalized_linear_model.py:308: DomainWarning: The Identity link function does not respect the domain of the Gamma family.\n",
      "  warnings.warn((f\"The {type(family.link).__name__} link function \"\n",
      "/home/phyto-2/miniconda3/envs/cascade-env/lib/python3.12/site-packages/statsmodels/genmod/generalized_linear_model.py:308: DomainWarning: The Identity link function does not respect the domain of the Gamma family.\n",
      "  warnings.warn((f\"The {type(family.link).__name__} link function \"\n",
      "/home/phyto-2/miniconda3/envs/cascade-env/lib/python3.12/site-packages/statsmodels/genmod/generalized_linear_model.py:308: DomainWarning: The Identity link function does not respect the domain of the Gamma family.\n",
      "  warnings.warn((f\"The {type(family.link).__name__} link function \"\n",
      "/home/phyto-2/miniconda3/envs/cascade-env/lib/python3.12/site-packages/statsmodels/genmod/generalized_linear_model.py:308: DomainWarning: The Identity link function does not respect the domain of the Gamma family.\n",
      "  warnings.warn((f\"The {type(family.link).__name__} link function \"\n"
     ]
    },
    {
     "name": "stdout",
     "output_type": "stream",
     "text": [
      "group sd unknown, using cross species sd instead (size)\n",
      "estimating pic for spp Algirosphaera cucullata HET\n",
      "estimating pic based on GLM\n",
      "estimating poc for spp Algirosphaera cucullata HET\n",
      "estimating poc based on GLM\n",
      "resampling size for spp: Sphaerocalyptra sp. 1 HOL\n",
      "estimating cross study cv for spp\n",
      "estimating cross study cv for spp\n"
     ]
    },
    {
     "name": "stderr",
     "output_type": "stream",
     "text": [
      "/home/phyto-2/miniconda3/envs/cascade-env/lib/python3.12/site-packages/statsmodels/genmod/generalized_linear_model.py:308: DomainWarning: The Identity link function does not respect the domain of the Gamma family.\n",
      "  warnings.warn((f\"The {type(family.link).__name__} link function \"\n",
      "/home/phyto-2/miniconda3/envs/cascade-env/lib/python3.12/site-packages/statsmodels/genmod/generalized_linear_model.py:308: DomainWarning: The Identity link function does not respect the domain of the Gamma family.\n",
      "  warnings.warn((f\"The {type(family.link).__name__} link function \"\n",
      "/home/phyto-2/miniconda3/envs/cascade-env/lib/python3.12/site-packages/statsmodels/genmod/generalized_linear_model.py:308: DomainWarning: The Identity link function does not respect the domain of the Gamma family.\n",
      "  warnings.warn((f\"The {type(family.link).__name__} link function \"\n",
      "/home/phyto-2/miniconda3/envs/cascade-env/lib/python3.12/site-packages/statsmodels/genmod/generalized_linear_model.py:308: DomainWarning: The Identity link function does not respect the domain of the Gamma family.\n",
      "  warnings.warn((f\"The {type(family.link).__name__} link function \"\n"
     ]
    },
    {
     "name": "stdout",
     "output_type": "stream",
     "text": [
      "group sd unknown, using cross species sd instead (size)\n",
      "estimating pic for spp Sphaerocalyptra sp. 1 HOL\n",
      "estimating pic based on GLM\n",
      "estimating poc for spp Sphaerocalyptra sp. 1 HOL\n",
      "estimating poc based on GLM\n",
      "resampling size for spp: Poritectolithus maximus HOL\n",
      "estimating cross study cv for spp\n",
      "estimating cross study cv for spp\n"
     ]
    },
    {
     "name": "stderr",
     "output_type": "stream",
     "text": [
      "/home/phyto-2/miniconda3/envs/cascade-env/lib/python3.12/site-packages/statsmodels/genmod/generalized_linear_model.py:308: DomainWarning: The Identity link function does not respect the domain of the Gamma family.\n",
      "  warnings.warn((f\"The {type(family.link).__name__} link function \"\n",
      "/home/phyto-2/miniconda3/envs/cascade-env/lib/python3.12/site-packages/statsmodels/genmod/generalized_linear_model.py:308: DomainWarning: The Identity link function does not respect the domain of the Gamma family.\n",
      "  warnings.warn((f\"The {type(family.link).__name__} link function \"\n",
      "/home/phyto-2/miniconda3/envs/cascade-env/lib/python3.12/site-packages/statsmodels/genmod/generalized_linear_model.py:308: DomainWarning: The Identity link function does not respect the domain of the Gamma family.\n",
      "  warnings.warn((f\"The {type(family.link).__name__} link function \"\n",
      "/home/phyto-2/miniconda3/envs/cascade-env/lib/python3.12/site-packages/statsmodels/genmod/generalized_linear_model.py:308: DomainWarning: The Identity link function does not respect the domain of the Gamma family.\n",
      "  warnings.warn((f\"The {type(family.link).__name__} link function \"\n"
     ]
    },
    {
     "name": "stdout",
     "output_type": "stream",
     "text": [
      "group sd unknown, using cross species sd instead (size)\n",
      "estimating pic for spp Poritectolithus maximus HOL\n",
      "estimating pic based on GLM\n",
      "estimating poc for spp Poritectolithus maximus HOL\n",
      "estimating poc based on GLM\n",
      "resampling size for spp: Holococcolithophora dentata HOL\n",
      "estimating cross study cv for spp\n",
      "estimating cross study cv for spp\n"
     ]
    },
    {
     "name": "stderr",
     "output_type": "stream",
     "text": [
      "/home/phyto-2/miniconda3/envs/cascade-env/lib/python3.12/site-packages/statsmodels/genmod/generalized_linear_model.py:308: DomainWarning: The Identity link function does not respect the domain of the Gamma family.\n",
      "  warnings.warn((f\"The {type(family.link).__name__} link function \"\n",
      "/home/phyto-2/miniconda3/envs/cascade-env/lib/python3.12/site-packages/statsmodels/genmod/generalized_linear_model.py:308: DomainWarning: The Identity link function does not respect the domain of the Gamma family.\n",
      "  warnings.warn((f\"The {type(family.link).__name__} link function \"\n",
      "/home/phyto-2/miniconda3/envs/cascade-env/lib/python3.12/site-packages/statsmodels/genmod/generalized_linear_model.py:308: DomainWarning: The Identity link function does not respect the domain of the Gamma family.\n",
      "  warnings.warn((f\"The {type(family.link).__name__} link function \"\n",
      "/home/phyto-2/miniconda3/envs/cascade-env/lib/python3.12/site-packages/statsmodels/genmod/generalized_linear_model.py:308: DomainWarning: The Identity link function does not respect the domain of the Gamma family.\n",
      "  warnings.warn((f\"The {type(family.link).__name__} link function \"\n"
     ]
    },
    {
     "name": "stdout",
     "output_type": "stream",
     "text": [
      "group sd unknown, using cross species sd instead (size)\n",
      "estimating pic for spp Holococcolithophora dentata HOL\n",
      "estimating pic based on GLM\n",
      "estimating poc for spp Holococcolithophora dentata HOL\n",
      "estimating poc based on GLM\n",
      "resampling size for spp: Syracolithus sp. type A HOL\n",
      "estimating cross study cv for spp\n",
      "estimating cross study cv for spp\n"
     ]
    },
    {
     "name": "stderr",
     "output_type": "stream",
     "text": [
      "/home/phyto-2/miniconda3/envs/cascade-env/lib/python3.12/site-packages/statsmodels/genmod/generalized_linear_model.py:308: DomainWarning: The Identity link function does not respect the domain of the Gamma family.\n",
      "  warnings.warn((f\"The {type(family.link).__name__} link function \"\n",
      "/home/phyto-2/miniconda3/envs/cascade-env/lib/python3.12/site-packages/statsmodels/genmod/generalized_linear_model.py:308: DomainWarning: The Identity link function does not respect the domain of the Gamma family.\n",
      "  warnings.warn((f\"The {type(family.link).__name__} link function \"\n",
      "/home/phyto-2/miniconda3/envs/cascade-env/lib/python3.12/site-packages/statsmodels/genmod/generalized_linear_model.py:308: DomainWarning: The Identity link function does not respect the domain of the Gamma family.\n",
      "  warnings.warn((f\"The {type(family.link).__name__} link function \"\n",
      "/home/phyto-2/miniconda3/envs/cascade-env/lib/python3.12/site-packages/statsmodels/genmod/generalized_linear_model.py:308: DomainWarning: The Identity link function does not respect the domain of the Gamma family.\n",
      "  warnings.warn((f\"The {type(family.link).__name__} link function \"\n"
     ]
    },
    {
     "name": "stdout",
     "output_type": "stream",
     "text": [
      "group sd unknown, using cross species sd instead (size)\n",
      "estimating pic for spp Syracolithus sp. type A HOL\n",
      "estimating pic based on GLM\n",
      "estimating poc for spp Syracolithus sp. type A HOL\n",
      "estimating poc based on GLM\n"
     ]
    },
    {
     "name": "stderr",
     "output_type": "stream",
     "text": [
      "/home/phyto-2/miniconda3/envs/cascade-env/lib/python3.12/site-packages/statsmodels/genmod/generalized_linear_model.py:308: DomainWarning: The Identity link function does not respect the domain of the Gamma family.\n",
      "  warnings.warn((f\"The {type(family.link).__name__} link function \"\n",
      "/home/phyto-2/miniconda3/envs/cascade-env/lib/python3.12/site-packages/statsmodels/genmod/generalized_linear_model.py:308: DomainWarning: The Identity link function does not respect the domain of the Gamma family.\n",
      "  warnings.warn((f\"The {type(family.link).__name__} link function \"\n",
      "/home/phyto-2/miniconda3/envs/cascade-env/lib/python3.12/site-packages/statsmodels/genmod/generalized_linear_model.py:308: DomainWarning: The Identity link function does not respect the domain of the Gamma family.\n",
      "  warnings.warn((f\"The {type(family.link).__name__} link function \"\n",
      "/home/phyto-2/miniconda3/envs/cascade-env/lib/python3.12/site-packages/statsmodels/genmod/generalized_linear_model.py:308: DomainWarning: The Identity link function does not respect the domain of the Gamma family.\n",
      "  warnings.warn((f\"The {type(family.link).__name__} link function \"\n"
     ]
    }
   ],
   "source": [
    "'''\n",
    "Merging size, POC and PIC estimates:\n",
    "\n",
    "'''\n",
    "m = pipeline(root= './data/')\n",
    "m.export_all(\"./data/output/cellular_dataset.csv\",\n",
    "              loop_range = range(0, 139)\n",
    ")"
   ]
  }
 ],
 "metadata": {
  "kernelspec": {
   "display_name": "my-geopandas-env-2",
   "language": "python",
   "name": "python3"
  },
  "language_info": {
   "codemirror_mode": {
    "name": "ipython",
    "version": 3
   },
   "file_extension": ".py",
   "mimetype": "text/x-python",
   "name": "python",
   "nbconvert_exporter": "python",
   "pygments_lexer": "ipython3",
   "version": "3.12.4"
  }
 },
 "nbformat": 4,
 "nbformat_minor": 2
}
