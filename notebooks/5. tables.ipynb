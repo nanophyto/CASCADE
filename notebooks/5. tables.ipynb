{
 "cells": [
  {
   "cell_type": "code",
   "execution_count": 1,
   "metadata": {},
   "outputs": [],
   "source": [
    "import pandas as pd\n",
    "import numpy as np \n",
    "import statsmodels.api as sm\n",
    "import matplotlib.pyplot as plt\n",
    "plt.rcParams.update({'font.size': 18})\n",
    "import sys\n",
    "sys.path.insert(0, '/home/phyto/CoccoData/coccodata/')\n",
    "from regression import regression_simulation\n",
    "from functions import add_months_since_solstice\n",
    "from plots import multipage_plots\n",
    "from post import cellular_dataset_table"
   ]
  },
  {
   "cell_type": "code",
   "execution_count": 1,
   "metadata": {},
   "outputs": [
    {
     "ename": "NameError",
     "evalue": "name 'pd' is not defined",
     "output_type": "error",
     "traceback": [
      "\u001b[0;31m---------------------------------------------------------------------------\u001b[0m",
      "\u001b[0;31mNameError\u001b[0m                                 Traceback (most recent call last)",
      "Cell \u001b[0;32mIn[1], line 1\u001b[0m\n\u001b[0;32m----> 1\u001b[0m d \u001b[38;5;241m=\u001b[39m \u001b[43mpd\u001b[49m\u001b[38;5;241m.\u001b[39mread_csv(\u001b[38;5;124m\"\u001b[39m\u001b[38;5;124m/home/phyto/CoccoData/data/unprocessed/sizes/devries2024.csv\u001b[39m\u001b[38;5;124m\"\u001b[39m, index\u001b[38;5;241m=\u001b[39m\u001b[38;5;28;01mFalse\u001b[39;00m)\n\u001b[1;32m      3\u001b[0m \u001b[38;5;66;03m#read observation counts:\u001b[39;00m\n\u001b[1;32m      4\u001b[0m counts \u001b[38;5;241m=\u001b[39m pd\u001b[38;5;241m.\u001b[39mread_csv(\u001b[38;5;124m\"\u001b[39m\u001b[38;5;124m/home/phyto/CoccoData/data/output/counts.csv\u001b[39m\u001b[38;5;124m\"\u001b[39m)\n",
      "\u001b[0;31mNameError\u001b[0m: name 'pd' is not defined"
     ]
    }
   ],
   "source": [
    "\n",
    "d = pd.read_csv(\"/home/phyto/CoccoData/data/unprocessed/sizes/devries2024.csv\", index=False)\n",
    "\n",
    "#read observation counts:\n",
    "counts = pd.read_csv(\"/home/phyto/CoccoData/data/output/counts.csv\")\n",
    "d.reset_index(inplace=True, drop=True)\n",
    "\n",
    "d = pd.merge(d, counts, on=\"species\")\n",
    "\n",
    "d = d[['species','mean', 'sd', 'shape', 'ref',  'count']]\n",
    "d['sd'] = d['sd'].astype('float')\n",
    "\n",
    "d.rename(columns={\"species\": \"Species\", \"mean\": \"ESD (mean)\", \"sd\": \"ESD (SD)\", \n",
    "                  \"shape\":\"Cell shape\", \"ref\": \"Reference\", \"count\":\"Abundance obs.\"}, inplace=True)\n",
    "\n",
    "d.replace(0, np.nan, inplace=True)\n",
    "\n",
    "d = d.sort_values(by=['Species'])\n",
    "print(d.to_latex(index=False,\n",
    "                  formatters={\"name\": str.upper},\n",
    "                  float_format=\"{:.1f}\".format,\n",
    ")) "
   ]
  },
  {
   "cell_type": "code",
   "execution_count": null,
   "metadata": {},
   "outputs": [],
   "source": [
    "m = cellular_dataset_table(d = pd.read_csv(\"/home/phyto/CoccoData/cellular_dataset.csv\"))\n",
    "m.concat_estimates()"
   ]
  },
  {
   "cell_type": "code",
   "execution_count": null,
   "metadata": {},
   "outputs": [],
   "source": [
    "df = pd.read_csv(\"/home/phyto/CoccoData/phases_table.csv\", sep=\"\\t\")\n",
    "\n",
    "print(df.to_latex(index=False,\n",
    "                formatters={\"name\": str.upper},\n",
    "                float_format=\"{:.1f}\".format,\n",
    ")) "
   ]
  }
 ],
 "metadata": {
  "kernelspec": {
   "display_name": "my-geopandas-env-2",
   "language": "python",
   "name": "python3"
  },
  "language_info": {
   "codemirror_mode": {
    "name": "ipython",
    "version": 3
   },
   "file_extension": ".py",
   "mimetype": "text/x-python",
   "name": "python",
   "nbconvert_exporter": "python",
   "pygments_lexer": "ipython3",
   "version": "3.11.4"
  }
 },
 "nbformat": 4,
 "nbformat_minor": 2
}
