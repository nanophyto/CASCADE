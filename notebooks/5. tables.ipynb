{
 "cells": [
  {
   "cell_type": "code",
   "execution_count": 1,
   "metadata": {},
   "outputs": [],
   "source": [
    "import pandas as pd\n",
    "import numpy as np \n",
    "\n",
    "#Load required dependencies:\n",
    "import os, sys\n",
    "os.chdir('/home/phyto-2/CASCADE/')  # Provide your path here\n",
    "\n",
    "sys.path.insert(0, './cascade/')\n",
    "from functions import abundance_refs_table\n",
    "from post import cellular_dataset_table"
   ]
  },
  {
   "cell_type": "code",
   "execution_count": 2,
   "metadata": {},
   "outputs": [
    {
     "name": "stdout",
     "output_type": "stream",
     "text": [
      "9\n"
     ]
    }
   ],
   "source": [
    "import pandas as pd\n",
    "\n",
    "d = pd.read_csv(\"./data/Zenodo/concatenated_literature_datasets/literature_POC.csv\")\n",
    "\n",
    "print(len(d['species'].unique()))"
   ]
  },
  {
   "cell_type": "code",
   "execution_count": 3,
   "metadata": {},
   "outputs": [
    {
     "name": "stdout",
     "output_type": "stream",
     "text": [
      "number of studies: 49\n",
      "\\begin{tabular}{llrl}\n",
      "\\toprule\n",
      "Reference & Method & Samples & Survey Period \\\\\n",
      "\\midrule\n",
      "Andruleit2003 & SEM & 71 & 1993-1993 \\\\\n",
      "Andruleit2005 & SEM & 21 & 2000-2000 \\\\\n",
      "Andruleit2007 & SEM & 45 & 1999-1999 \\\\\n",
      "Andruleit2013 & SEM & 48 & 2001-2002 \\\\\n",
      "Baumann2000 & SEM & 98 & 1987-1995 \\\\\n",
      "Baumann2008 & SEM & 34 & 1993-1993 \\\\\n",
      "Boeckel2008 & SEM & 56 & 1998-2000 \\\\\n",
      "Bonomo2012 & SEM & 92 & 2008-2008 \\\\\n",
      "Bonomo2014 & SEM & 40 & 2012-2012 \\\\\n",
      "Bonomo2017 & SEM & 120 & 2009-2009 \\\\\n",
      "Bonomo2018 & SEM & 301 & 2010-2014 \\\\\n",
      "Bonomo2021 & SEM & 133 & 2016-2016 \\\\\n",
      "Cepek1996 & SEM & 33 & 1993-1993 \\\\\n",
      "Cerino2017 & SEM & 77 & 2011-2013 \\\\\n",
      "Charalampopoulou2011 & SEM & 59 & 2008-2008 \\\\\n",
      "Charalampopoulou2016 & SEM & 89 & 2009-2009 \\\\\n",
      "Cortes2001 & SEM & 171 & 1994-1996 \\\\\n",
      "Cros2013 & SEM & 113 & 1996-1996 \\\\\n",
      "DAmario2017 & SEM & 44 & 2013-2013 \\\\\n",
      "Daniels2016 & SEM & 19 & 2012-2012 \\\\\n",
      "Dimiza2008 & SEM & 190 & 2001-2004 \\\\\n",
      "Dimiza2015 & SEM & 99 & 2001-2013 \\\\\n",
      "Dimiza2020 & SEM & 12 & 2016-2016 \\\\\n",
      "Eynaud1999 & SEM & 44 & 1995-1995 \\\\\n",
      "Giraudeau2016 & SEM & 146 & 2014-2014 \\\\\n",
      "Godrijan2018 & SEM & 23 & 2008-2009 \\\\\n",
      "Guerreiro2013 & SEM & 108 & 2010-2010 \\\\\n",
      "Guptha1995 & SEM & 12 & 1992-1992 \\\\\n",
      "Hagino2006 & SEM & 225 & 1964-1992 \\\\\n",
      "Haidar2001 & SEM & 193 & 1991-1994 \\\\\n",
      "Karatsolis2017 & SEM & 68 & 2013-2014 \\\\\n",
      "Keuter2022 & SEM & 38 & 2018-2019 \\\\\n",
      "Keuter2023 & SEM & 196 & 2017-2019 \\\\\n",
      "Kinkel2000 & SEM & 40 & 1994-1996 \\\\\n",
      "Kleijne1984 & SEM & 100 & 1985-1985 \\\\\n",
      "Luan2016 & SEM & 52 & 2013-2013 \\\\\n",
      "Malinverno2003 & SEM & 72 & 1997-1997 \\\\\n",
      "Malinverno2015 & SEM & 13 & 2005-2005 \\\\\n",
      "Okada1973 & SEM & 226 & 1968-1969 \\\\\n",
      "Oviedo2015 & SEM & 81 & 2011-2012 \\\\\n",
      "Patil2017 & SEM & 48 & 2010-2010 \\\\\n",
      "Poulton2017 & SEM & 137 & 2003-2005 \\\\\n",
      "Saavedra-Pellitero2014 & SEM & 109 & 2010-2010 \\\\\n",
      "Schiebel2004 & SEM & 47 & 1995-1997 \\\\\n",
      "Schiebel2011 & SEM & 47 & 2004-2004 \\\\\n",
      "Silver2009 & SEM & 13 & 2004-2004 \\\\\n",
      "Smith2017 & SEM & 25 & 2011-2012 \\\\\n",
      "Supraha2016 & SEM & 63 & 2013-2013 \\\\\n",
      "Takahashi2000 & SEM & 118 & 1996-1996 \\\\\n",
      "\\bottomrule\n",
      "\\end{tabular}\n",
      "\n"
     ]
    }
   ],
   "source": [
    "t = abundance_refs_table(\"./data/output/ungridded_abundances.csv\", \n",
    "                         tex=True, method=\"SEM\")"
   ]
  },
  {
   "cell_type": "code",
   "execution_count": 4,
   "metadata": {},
   "outputs": [
    {
     "name": "stdout",
     "output_type": "stream",
     "text": [
      "number of studies: 13\n",
      "\\begin{tabular}{llrl}\n",
      "\\toprule\n",
      "Reference & Method & Samples & Survey Period \\\\\n",
      "\\midrule\n",
      "Acri2019 & LM & 39 & 2015-2016 \\\\\n",
      "Assmy2007 & LM & 28 & 2004-2004 \\\\\n",
      "Dimiza2016 & LM & 9 & 2011-2011 \\\\\n",
      "Estrada1999 & LM & 229 & 1990-1990 \\\\\n",
      "Estrada2016 & LM & 400 & 2010-2011 \\\\\n",
      "Guerreiro2023 & LM & 150 & 2018-2018 \\\\\n",
      "Sal2013 & LM & 474 & 1992-2001 \\\\\n",
      "Valencia-Vila2016 & LM & 75 & 2000-2001 \\\\\n",
      "estrada1991 & LM & 40 & 1985-1985 \\\\\n",
      "grados2007 & LM & 9 & 1995-1995 \\\\\n",
      "karentz2013 & LM & 1 & 2000-2000 \\\\\n",
      "marshall1968 & LM & 32 & 1965-1965 \\\\\n",
      "widdicombe2010 & LM & 482 & 1992-2008 \\\\\n",
      "\\bottomrule\n",
      "\\end{tabular}\n",
      "\n"
     ]
    }
   ],
   "source": [
    "t = abundance_refs_table(\"./data/output/ungridded_abundances.csv\", \n",
    "                         tex=True, method=\"LM\")"
   ]
  }
 ],
 "metadata": {
  "kernelspec": {
   "display_name": "my-geopandas-env-2",
   "language": "python",
   "name": "python3"
  },
  "language_info": {
   "codemirror_mode": {
    "name": "ipython",
    "version": 3
   },
   "file_extension": ".py",
   "mimetype": "text/x-python",
   "name": "python",
   "nbconvert_exporter": "python",
   "pygments_lexer": "ipython3",
   "version": "3.12.3"
  }
 },
 "nbformat": 4,
 "nbformat_minor": 2
}
