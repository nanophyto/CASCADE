{
 "cells": [
  {
   "cell_type": "code",
   "execution_count": 1,
   "metadata": {},
   "outputs": [],
   "source": [
    "import pandas as pd\n",
    "import numpy as np \n",
    "import statsmodels.api as sm\n",
    "import matplotlib.pyplot as plt\n",
    "plt.rcParams.update({'font.size': 18})\n",
    "import sys\n",
    "sys.path.insert(0, '/home/phyto/CASCADE/cascade/')\n",
    "from functions import add_months_since_solstice, abundance_refs_table\n",
    "from post import cellular_dataset_table\n"
   ]
  },
  {
   "cell_type": "code",
   "execution_count": 2,
   "metadata": {},
   "outputs": [
    {
     "name": "stdout",
     "output_type": "stream",
     "text": [
      "number of studies: 47\n",
      "\\begin{tabular}{llrl}\n",
      "\\toprule\n",
      "Reference & Method & Samples & Survey Period \\\\\n",
      "\\midrule\n",
      "Andruleit2003 & SEM & 66 & 1993-1993 \\\\\n",
      "Andruleit2005 & SEM & 21 & 2000-2000 \\\\\n",
      "Andruleit2007 & SEM & 45 & 1999-1999 \\\\\n",
      "Andruleit2013 & SEM & 48 & 2001-2002 \\\\\n",
      "Assmy2007 & LM & 28 & 2004-2004 \\\\\n",
      "Baumann2000 & SEM & 97 & 1987-1995 \\\\\n",
      "Baumann2008 & SEM & 30 & 1993-1993 \\\\\n",
      "Boeckel2008 & SEM & 56 & 1998-2000 \\\\\n",
      "Cepek1996 & SEM & 30 & 1993-1993 \\\\\n",
      "Cerino2017 & SEM & 77 & 2011-2013 \\\\\n",
      "Charalampopoulou2011 & SEM & 59 & 2008-2008 \\\\\n",
      "Charalampopoulou2016 & SEM & 89 & 2009-2009 \\\\\n",
      "Cortes2001 & SEM & 171 & 1994-1996 \\\\\n",
      "Cros2013 & SEM & 113 & 1996-1996 \\\\\n",
      "DAmario2017 & SEM & 44 & 2013-2013 \\\\\n",
      "Daniels2016 & SEM & 18 & 2012-2012 \\\\\n",
      "Dimiza2008 & SEM & 154 & 2001-2004 \\\\\n",
      "Dimiza2015 & SEM & 98 & 2001-2013 \\\\\n",
      "Estrada2016 & LM & 400 & 2010-2011 \\\\\n",
      "Giraudeau2016 & SEM & 85 & 2014-2014 \\\\\n",
      "Godrijan2018 & SEM & 23 & 2008-2009 \\\\\n",
      "Guerreiro2013 & SEM & 108 & 2010-2010 \\\\\n",
      "Guptha1995 & SEM & 8 & 1992-1992 \\\\\n",
      "Haidar2001 & SEM & 193 & 1991-1994 \\\\\n",
      "Karatsolis2017 & SEM & 68 & 2013-2014 \\\\\n",
      "Keuter2022 & SEM & 38 & 2018-2019 \\\\\n",
      "Keuter2023 & SEM & 196 & 2017-2019 \\\\\n",
      "Kinkel2000 & SEM & 40 & 1994-1996 \\\\\n",
      "Luan2016 & SEM & 52 & 2013-2013 \\\\\n",
      "Malinverno2003 & SEM & 72 & 1997-1997 \\\\\n",
      "Malinverno2015 & SEM & 13 & 2005-2005 \\\\\n",
      "Okada1973 & SEM & 128 & 1968-1969 \\\\\n",
      "Patil2017 & SEM & 40 & 2010-2010 \\\\\n",
      "Poulton2017 & SEM & 137 & 2003-2005 \\\\\n",
      "Saavedra-Pellitero2014 & SEM & 109 & 2010-2010 \\\\\n",
      "Sal2013 & LM & 474 & 1992-2001 \\\\\n",
      "Schiebel2004 & SEM & 47 & 1995-1997 \\\\\n",
      "Schiebel2011 & SEM & 47 & 2004-2004 \\\\\n",
      "Silver2009 & SEM & 13 & 2004-2004 \\\\\n",
      "Smith2017 & SEM & 25 & 2011-2012 \\\\\n",
      "Supraha2016 & SEM & 51 & 2013-2013 \\\\\n",
      "Takahashi2000 & SEM & 93 & 1996-1996 \\\\\n",
      "estrada1991 & LM & 37 & 1985-1985 \\\\\n",
      "grados2007 & LM & 9 & 1995-1995 \\\\\n",
      "karentz2013 & LM & 1 & 2000-2000 \\\\\n",
      "marshall1968 & LM & 28 & 1965-1965 \\\\\n",
      "widdicombe2010 & LM & 482 & 1992-2008 \\\\\n",
      "\\bottomrule\n",
      "\\end{tabular}\n",
      "\n"
     ]
    }
   ],
   "source": [
    "t = abundance_refs_table(\"/home/phyto/CASCADE/data/output/ungridded_observations.csv\", \n",
    "                         tex=True)"
   ]
  },
  {
   "cell_type": "code",
   "execution_count": null,
   "metadata": {},
   "outputs": [],
   "source": [
    "d = pd.read_csv(\"/home/phyto/CoccoData/data/output/rare_species.csv\")\n",
    "print(d.to_latex(index=False,\n",
    "                formatters={\"name\": str.upper},\n",
    "                float_format=\"{:.1f}\".format,\n",
    ")) "
   ]
  },
  {
   "cell_type": "code",
   "execution_count": 7,
   "metadata": {},
   "outputs": [
    {
     "name": "stdout",
     "output_type": "stream",
     "text": [
      "\\begin{tabular}{lrrllr}\n",
      "\\toprule\n",
      "Species & ESD (mean) & ESD (SD) & Cell shape & Reference & Abundance obs. \\\\\n",
      "\\midrule\n",
      "Alisphaera gaudii POL & 136.3 & NaN & sphere & cros2002 & 26 \\\\\n",
      "Calciopappus caudatus & 23.2 & NaN & cone & gaarder1954 & 177 \\\\\n",
      "Calicasphaera blokii & 33.5 & NaN & sphere & cros2002 & 32 \\\\\n",
      "Calicasphaera concava & 20.6 & NaN & sphere & cros2002 & 27 \\\\\n",
      "Calyptrosphaera sphaeroidea HOL & 192.4 & NaN & sphere & cros2002 & 81 \\\\\n",
      "Helicosphaera HOL confusus type & 472.8 & NaN & sphere & cros2002 & 27 \\\\\n",
      "Helladosphaera pienaarii & 176.0 & NaN & sphere & norris1985, kleijne1991 & 25 \\\\\n",
      "Ophiaster formosus & 51.8 & NaN & sphere & cros2002 & 187 \\\\\n",
      "Ophiaster hydroideus & 44.7 & NaN & sphere & cros2002 & 490 \\\\\n",
      "Pappomonas sp. type 5 & 47.7 & NaN & sphere & cros2002 & 31 \\\\\n",
      "Sphaerocalyptra adenensis & 70.2 & NaN & sphere & cros2002 & 40 \\\\\n",
      "Syracosphaera aurisinae & 940.1 & NaN & cone & lecal1951 & 91 \\\\\n",
      "Syracosphaera borealis & 82.3 & NaN & sphere & okada1977 & 45 \\\\\n",
      "Syracosphaera reniformis & 60.2 & NaN & sphere & kleijne2009 & 39 \\\\\n",
      "Syracosphaera squamosa & 28.9 & NaN & sphere & kleijne2009 & 48 \\\\\n",
      "Syracosphaera strigilis & 91.6 & NaN & sphere & cros2002 & 24 \\\\\n",
      "Wigwamma antarctica & 65.4 & NaN & sphere & thomsen1988 & 41 \\\\\n",
      "Zygosphaera marsilii & 174.4 & NaN & sphere & cros2002 & 45 \\\\\n",
      "\\bottomrule\n",
      "\\end{tabular}\n",
      "\n"
     ]
    }
   ],
   "source": [
    "\n",
    "d = pd.read_csv(\"/home/phyto/CoccoData/data/unprocessed/sizes/devries2024.csv\")\n",
    "\n",
    "#read observation counts:\n",
    "counts = pd.read_csv(\"/home/phyto/CoccoData/data/output/counts.csv\")\n",
    "d.reset_index(inplace=True, drop=True)\n",
    "\n",
    "d = pd.merge(d, counts, on=\"species\")\n",
    "\n",
    "d = d[['species','mean', 'sd', 'shape', 'ref',  'count']]\n",
    "d['sd'] = d['sd'].astype('float')\n",
    "\n",
    "d.rename(columns={\"species\": \"Species\", \"mean\": \"ESD (mean)\", \"sd\": \"ESD (SD)\", \n",
    "                  \"shape\":\"Cell shape\", \"ref\": \"Reference\", \"count\":\"Abundance obs.\"}, inplace=True)\n",
    "\n",
    "d.replace(0, np.nan, inplace=True)\n",
    "\n",
    "d = d.sort_values(by=['Species'])\n",
    "print(d.to_latex(index=False,\n",
    "                  formatters={\"name\": str.upper},\n",
    "                  float_format=\"{:.1f}\".format,\n",
    ")) "
   ]
  },
  {
   "cell_type": "code",
   "execution_count": null,
   "metadata": {},
   "outputs": [],
   "source": [
    "m = cellular_dataset_table(d = pd.read_csv(\"/home/phyto/CoccoData/cellular_dataset.csv\"))\n",
    "m.concat_estimates()"
   ]
  },
  {
   "cell_type": "code",
   "execution_count": null,
   "metadata": {},
   "outputs": [],
   "source": [
    "df = pd.read_csv(\"/home/phyto/CoccoData/phases_table.csv\", sep=\"\\t\")\n",
    "\n",
    "print(df.to_latex(index=False,\n",
    "                formatters={\"name\": str.upper},\n",
    "                float_format=\"{:.1f}\".format,\n",
    ")) "
   ]
  }
 ],
 "metadata": {
  "kernelspec": {
   "display_name": "my-geopandas-env-2",
   "language": "python",
   "name": "python3"
  },
  "language_info": {
   "codemirror_mode": {
    "name": "ipython",
    "version": 3
   },
   "file_extension": ".py",
   "mimetype": "text/x-python",
   "name": "python",
   "nbconvert_exporter": "python",
   "pygments_lexer": "ipython3",
   "version": "3.11.4"
  }
 },
 "nbformat": 4,
 "nbformat_minor": 2
}
