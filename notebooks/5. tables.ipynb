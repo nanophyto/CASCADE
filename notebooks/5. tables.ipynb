{
 "cells": [
  {
   "cell_type": "code",
   "execution_count": 5,
   "metadata": {},
   "outputs": [],
   "source": [
    "import pandas as pd\n",
    "import numpy as np \n",
    "import statsmodels.api as sm\n",
    "import matplotlib.pyplot as plt\n",
    "plt.rcParams.update({'font.size': 18})\n",
    "import sys\n",
    "sys.path.insert(0, '/home/phyto/CASCADE/cascade/')\n",
    "from functions import add_months_since_solstice, abundance_refs_table\n",
    "from post import cellular_dataset_table\n"
   ]
  },
  {
   "cell_type": "code",
   "execution_count": null,
   "metadata": {},
   "outputs": [],
   "source": [
    "t = abundance_refs_table(\"/home/phyto/CoccoData/data/output/ungridded_observations.csv\", \n",
    "                         tex=True)"
   ]
  },
  {
   "cell_type": "code",
   "execution_count": null,
   "metadata": {},
   "outputs": [],
   "source": [
    "d = pd.read_csv(\"/home/phyto/CoccoData/data/output/rare_species.csv\")\n",
    "print(d.to_latex(index=False,\n",
    "                formatters={\"name\": str.upper},\n",
    "                float_format=\"{:.1f}\".format,\n",
    ")) "
   ]
  },
  {
   "cell_type": "code",
   "execution_count": 7,
   "metadata": {},
   "outputs": [
    {
     "name": "stdout",
     "output_type": "stream",
     "text": [
      "\\begin{tabular}{lrrllr}\n",
      "\\toprule\n",
      "Species & ESD (mean) & ESD (SD) & Cell shape & Reference & Abundance obs. \\\\\n",
      "\\midrule\n",
      "Alisphaera gaudii POL & 136.3 & NaN & sphere & cros2002 & 26 \\\\\n",
      "Calciopappus caudatus & 23.2 & NaN & cone & gaarder1954 & 177 \\\\\n",
      "Calicasphaera blokii & 33.5 & NaN & sphere & cros2002 & 32 \\\\\n",
      "Calicasphaera concava & 20.6 & NaN & sphere & cros2002 & 27 \\\\\n",
      "Calyptrosphaera sphaeroidea HOL & 192.4 & NaN & sphere & cros2002 & 81 \\\\\n",
      "Helicosphaera HOL confusus type & 472.8 & NaN & sphere & cros2002 & 27 \\\\\n",
      "Helladosphaera pienaarii & 176.0 & NaN & sphere & norris1985, kleijne1991 & 25 \\\\\n",
      "Ophiaster formosus & 51.8 & NaN & sphere & cros2002 & 187 \\\\\n",
      "Ophiaster hydroideus & 44.7 & NaN & sphere & cros2002 & 490 \\\\\n",
      "Pappomonas sp. type 5 & 47.7 & NaN & sphere & cros2002 & 31 \\\\\n",
      "Sphaerocalyptra adenensis & 70.2 & NaN & sphere & cros2002 & 40 \\\\\n",
      "Syracosphaera aurisinae & 940.1 & NaN & cone & lecal1951 & 91 \\\\\n",
      "Syracosphaera borealis & 82.3 & NaN & sphere & okada1977 & 45 \\\\\n",
      "Syracosphaera reniformis & 60.2 & NaN & sphere & kleijne2009 & 39 \\\\\n",
      "Syracosphaera squamosa & 28.9 & NaN & sphere & kleijne2009 & 48 \\\\\n",
      "Syracosphaera strigilis & 91.6 & NaN & sphere & cros2002 & 24 \\\\\n",
      "Wigwamma antarctica & 65.4 & NaN & sphere & thomsen1988 & 41 \\\\\n",
      "Zygosphaera marsilii & 174.4 & NaN & sphere & cros2002 & 45 \\\\\n",
      "\\bottomrule\n",
      "\\end{tabular}\n",
      "\n"
     ]
    }
   ],
   "source": [
    "\n",
    "d = pd.read_csv(\"/home/phyto/CoccoData/data/unprocessed/sizes/devries2024.csv\")\n",
    "\n",
    "#read observation counts:\n",
    "counts = pd.read_csv(\"/home/phyto/CoccoData/data/output/counts.csv\")\n",
    "d.reset_index(inplace=True, drop=True)\n",
    "\n",
    "d = pd.merge(d, counts, on=\"species\")\n",
    "\n",
    "d = d[['species','mean', 'sd', 'shape', 'ref',  'count']]\n",
    "d['sd'] = d['sd'].astype('float')\n",
    "\n",
    "d.rename(columns={\"species\": \"Species\", \"mean\": \"ESD (mean)\", \"sd\": \"ESD (SD)\", \n",
    "                  \"shape\":\"Cell shape\", \"ref\": \"Reference\", \"count\":\"Abundance obs.\"}, inplace=True)\n",
    "\n",
    "d.replace(0, np.nan, inplace=True)\n",
    "\n",
    "d = d.sort_values(by=['Species'])\n",
    "print(d.to_latex(index=False,\n",
    "                  formatters={\"name\": str.upper},\n",
    "                  float_format=\"{:.1f}\".format,\n",
    ")) "
   ]
  },
  {
   "cell_type": "code",
   "execution_count": null,
   "metadata": {},
   "outputs": [],
   "source": [
    "m = cellular_dataset_table(d = pd.read_csv(\"/home/phyto/CoccoData/cellular_dataset.csv\"))\n",
    "m.concat_estimates()"
   ]
  },
  {
   "cell_type": "code",
   "execution_count": null,
   "metadata": {},
   "outputs": [],
   "source": [
    "df = pd.read_csv(\"/home/phyto/CoccoData/phases_table.csv\", sep=\"\\t\")\n",
    "\n",
    "print(df.to_latex(index=False,\n",
    "                formatters={\"name\": str.upper},\n",
    "                float_format=\"{:.1f}\".format,\n",
    ")) "
   ]
  }
 ],
 "metadata": {
  "kernelspec": {
   "display_name": "my-geopandas-env-2",
   "language": "python",
   "name": "python3"
  },
  "language_info": {
   "codemirror_mode": {
    "name": "ipython",
    "version": 3
   },
   "file_extension": ".py",
   "mimetype": "text/x-python",
   "name": "python",
   "nbconvert_exporter": "python",
   "pygments_lexer": "ipython3",
   "version": "3.11.4"
  }
 },
 "nbformat": 4,
 "nbformat_minor": 2
}
