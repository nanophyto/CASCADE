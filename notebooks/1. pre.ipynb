{
 "cells": [
  {
   "cell_type": "markdown",
   "metadata": {},
   "source": [
    "These scripts are used for pre-processing data before including it the CASCADE database\n",
    "\n",
    "Included processing:\n",
    "\n",
    "1. pre_size\n",
    "2. pre_poc\n",
    "3. pre_pic: \n",
    "4. pre_allometry: \n",
    "5. pre_abundances:"
   ]
  },
  {
   "cell_type": "code",
   "execution_count": 1,
   "metadata": {},
   "outputs": [],
   "source": [
    "#Load required dependencies:\n",
    "import sys\n",
    "\n",
    "#Load AGATE modules:\n",
    "sys.path.insert(0, '/home/phyto/CoccoData/coccodata/')\n",
    "from pre import pre_size, pre_poc, pre_pic, pre_allometry, pre_abundances"
   ]
  },
  {
   "cell_type": "code",
   "execution_count": 2,
   "metadata": {},
   "outputs": [
    {
     "name": "stdout",
     "output_type": "stream",
     "text": [
      "finished processing: sheward2024\n"
     ]
    }
   ],
   "source": [
    "#run allometry pre-processing:\n",
    "m = pre_allometry(import_path = \"/home/phyto/CoccoData/data/unprocessed/allometry/\", export_path = \"/home/phyto/CoccoData/data/allometry/\")\n",
    "m.pre_sheward_allometry()"
   ]
  },
  {
   "cell_type": "code",
   "execution_count": 3,
   "metadata": {},
   "outputs": [
    {
     "name": "stdout",
     "output_type": "stream",
     "text": [
      "finished processing:\n",
      "villiot2021a\n",
      "villiot2021b\n",
      "obrien2013a\n",
      "devries2024\n",
      "sheward2024\n",
      "young2024\n",
      "gafar2019\n",
      "fiorini2011\n",
      "gerecht2018\n",
      "oviedo2014\n",
      "oviedo2014\n"
     ]
    }
   ],
   "source": [
    "m = pre_size(import_path = \"/home/phyto/CoccoData/data/unprocessed/sizes/\", export_path = \"/home/phyto/CoccoData/data/sizes/\")\n",
    "m.preprocess_all()"
   ]
  },
  {
   "cell_type": "code",
   "execution_count": null,
   "metadata": {},
   "outputs": [],
   "source": [
    "m = pre_poc(import_path = \"/home/phyto/CoccoData/data/unprocessed/poc/\", export_path = \"/home/phyto/CoccoData/data/poc/\")\n"
   ]
  },
  {
   "cell_type": "code",
   "execution_count": null,
   "metadata": {},
   "outputs": [],
   "source": [
    "m = pre_pic(import_path = \"/home/phyto/CoccoData/data/unprocessed/pic/\", export_path = \"/home/phyto/CoccoData/data/pic/\")\n"
   ]
  }
 ],
 "metadata": {
  "kernelspec": {
   "display_name": "my-geopandas-env-2",
   "language": "python",
   "name": "python3"
  },
  "language_info": {
   "codemirror_mode": {
    "name": "ipython",
    "version": 3
   },
   "file_extension": ".py",
   "mimetype": "text/x-python",
   "name": "python",
   "nbconvert_exporter": "python",
   "pygments_lexer": "ipython3",
   "version": "3.11.4"
  }
 },
 "nbformat": 4,
 "nbformat_minor": 2
}
