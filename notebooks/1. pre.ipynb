{
 "cells": [
  {
   "cell_type": "markdown",
   "metadata": {},
   "source": [
    "These scripts are used for pre-processing data before including it the CASCADE database\n",
    "\n",
    "Included processing:\n",
    "\n",
    "1. pre_size\n",
    "2. pre_pic: \n",
    "3. pre_allometry: \n",
    "4. pre_abundances:"
   ]
  },
  {
   "cell_type": "code",
   "execution_count": 1,
   "metadata": {},
   "outputs": [],
   "source": [
    "#Load required dependencies:\n",
    "import os, sys\n",
    "os.chdir('/home/phyto-2/CASCADE/')  # Provide your path here\n",
    "\n",
    "sys.path.insert(0, './cascade/')\n",
    "from pre import pre_size, pre_pic, pre_allometry, pre_abundances"
   ]
  },
  {
   "cell_type": "code",
   "execution_count": 2,
   "metadata": {},
   "outputs": [
    {
     "name": "stdout",
     "output_type": "stream",
     "text": [
      "./data/unprocessed/allometry/\n",
      "finished processing: sheward2024\n"
     ]
    }
   ],
   "source": [
    "#run allometry pre-processing:\n",
    "m = pre_allometry(import_path = \"./data/unprocessed/allometry/\", \n",
    "                    export_path = \"./data/allometry/\",\n",
    "                    classification_path = \"./data/classification/\")\n",
    "m.pre_sheward_allometry()\n",
    "#pre_poulton_allometry"
   ]
  },
  {
   "cell_type": "code",
   "execution_count": 3,
   "metadata": {},
   "outputs": [
    {
     "name": "stderr",
     "output_type": "stream",
     "text": [
      "/home/phyto-2/CASCADE/cascade/functions.py:41: FutureWarning: Downcasting behavior in `replace` is deprecated and will be removed in a future version. To retain the old behavior, explicitly call `result.infer_objects(copy=False)`. To opt-in to the future behavior, set `pd.set_option('future.no_silent_downcasting', True)`\n",
      "  d = d.replace(synonym_dict)\n"
     ]
    },
    {
     "name": "stdout",
     "output_type": "stream",
     "text": [
      "finished processing:\n",
      "villiot2021a\n",
      "villiot2021b\n",
      "obrien2013a\n",
      "devries2024\n",
      "sheward2024\n",
      "young2024\n",
      "gafar2019\n",
      "fiorini2011\n",
      "gerecht2018\n",
      "oviedo2014\n",
      "supraha2015\n"
     ]
    }
   ],
   "source": [
    "m = pre_size(import_path = \"./data/unprocessed/sizes/\", \n",
    "                export_path = \"./data/sizes/\",\n",
    "                classification_path = \"./data/classification/\")\n",
    "m.preprocess_all()"
   ]
  },
  {
   "cell_type": "code",
   "execution_count": 4,
   "metadata": {},
   "outputs": [
    {
     "name": "stdout",
     "output_type": "stream",
     "text": [
      "finished processing:\n",
      "sheward2014\n",
      "sheward2016\n",
      "sheward2024\n",
      "devries2024\n"
     ]
    }
   ],
   "source": [
    "m = pre_pic(import_path = \"./data/unprocessed/pic/\", \n",
    "                export_path = \"./data/pic/\",\n",
    "                classification_path = \"./data/classification/\")\n",
    "m.preprocess_all()"
   ]
  },
  {
   "cell_type": "code",
   "execution_count": 5,
   "metadata": {},
   "outputs": [
    {
     "name": "stdout",
     "output_type": "stream",
     "text": [
      "./\n"
     ]
    },
    {
     "name": "stderr",
     "output_type": "stream",
     "text": [
      "/home/phyto-2/CASCADE/cascade/pre.py:625: FutureWarning: DataFrame.groupby with axis=1 is deprecated. Do `frame.T.groupby(...)` without axis instead.\n",
      "  d = d.groupby(by=d.columns, axis=1).sum()\n",
      "/home/phyto-2/CASCADE/cascade/functions.py:24: FutureWarning: DataFrame.groupby with axis=1 is deprecated. Do `frame.T.groupby(...)` without axis instead.\n",
      "  d = d.groupby(level=0, axis=1).sum()\n"
     ]
    },
    {
     "name": "stdout",
     "output_type": "stream",
     "text": [
      "finished processing abundances\n"
     ]
    }
   ],
   "source": [
    "m = pre_abundances(import_path = \"./data/unprocessed/abundances/\", \n",
    "                root = \"./\",\n",
    "                export_path = \"./data/abundances/\",\n",
    "                reference_path = \"./data/references/\",\n",
    "                classification_path = './data/classification/synonyms.yml')\n",
    "m.preprocess_all()"
   ]
  }
 ],
 "metadata": {
  "kernelspec": {
   "display_name": "my-geopandas-env-2",
   "language": "python",
   "name": "python3"
  },
  "language_info": {
   "codemirror_mode": {
    "name": "ipython",
    "version": 3
   },
   "file_extension": ".py",
   "mimetype": "text/x-python",
   "name": "python",
   "nbconvert_exporter": "python",
   "pygments_lexer": "ipython3",
   "version": "3.11.4"
  }
 },
 "nbformat": 4,
 "nbformat_minor": 2
}
