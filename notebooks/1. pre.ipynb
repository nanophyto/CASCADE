{
 "cells": [
  {
   "cell_type": "markdown",
   "metadata": {},
   "source": [
    "These scripts are used for pre-processing data before including it the CASCADE database\n",
    "\n",
    "Included processing:\n",
    "\n",
    "1. pre_size\n",
    "2. pre_pic: \n",
    "3. pre_allometry: \n",
    "4. pre_abundances:"
   ]
  },
  {
   "cell_type": "code",
   "execution_count": 1,
   "metadata": {},
   "outputs": [],
   "source": [
    "#define root\n",
    "root = \"/home/phyto/CASCADE/\"\n",
    "\n",
    "#Load required dependencies:\n",
    "import sys\n",
    "\n",
    "#Load AGATE modules:\n",
    "sys.path.insert(0, root + 'cascade/')\n",
    "from pre import pre_size, pre_pic, pre_allometry, pre_abundances"
   ]
  },
  {
   "cell_type": "code",
   "execution_count": 2,
   "metadata": {},
   "outputs": [
    {
     "name": "stdout",
     "output_type": "stream",
     "text": [
      "finished processing: sheward2024\n"
     ]
    }
   ],
   "source": [
    "#run allometry pre-processing:\n",
    "m = pre_allometry(import_path = root + \"data/unprocessed/allometry/\", \n",
    "                    export_path = root + \"data/allometry/\",\n",
    "                    classification_path = root + \"data/classification/\")\n",
    "m.pre_sheward_allometry()\n",
    "#pre_poulton_allometry"
   ]
  },
  {
   "cell_type": "code",
   "execution_count": 3,
   "metadata": {},
   "outputs": [
    {
     "name": "stdout",
     "output_type": "stream",
     "text": [
      "finished processing:\n",
      "villiot2021a\n",
      "villiot2021b\n",
      "obrien2013a\n",
      "devries2024\n",
      "sheward2024\n",
      "young2024\n",
      "gafar2019\n",
      "fiorini2011\n",
      "gerecht2018\n",
      "oviedo2014\n",
      "supraha2015\n"
     ]
    }
   ],
   "source": [
    "m = pre_size(import_path = root + \"data/unprocessed/sizes/\", \n",
    "                export_path = root + \"data/sizes/\",\n",
    "                classification_path = root + \"data/classification/\")\n",
    "m.preprocess_all()"
   ]
  },
  {
   "cell_type": "code",
   "execution_count": 4,
   "metadata": {},
   "outputs": [
    {
     "name": "stdout",
     "output_type": "stream",
     "text": [
      "finished processing:\n",
      "sheward2014\n",
      "sheward2016\n",
      "sheward2024\n",
      "devries2024\n"
     ]
    }
   ],
   "source": [
    "m = pre_pic(import_path = root + \"data/unprocessed/pic/\", \n",
    "                export_path = root + \"data/pic/\",\n",
    "                classification_path = root + \"data/classification/\")\n",
    "m.preprocess_all()"
   ]
  },
  {
   "cell_type": "code",
   "execution_count": 5,
   "metadata": {},
   "outputs": [
    {
     "name": "stdout",
     "output_type": "stream",
     "text": [
      "finished processing abundances\n"
     ]
    }
   ],
   "source": [
    "m = pre_abundances(import_path = root + \"data/unprocessed/abundances/\", \n",
    "                export_path = root + \"data/abundances/\",\n",
    "                reference_path = root + \"data/references/\")\n",
    "m.preprocess_all()"
   ]
  }
 ],
 "metadata": {
  "kernelspec": {
   "display_name": "my-geopandas-env-2",
   "language": "python",
   "name": "python3"
  },
  "language_info": {
   "codemirror_mode": {
    "name": "ipython",
    "version": 3
   },
   "file_extension": ".py",
   "mimetype": "text/x-python",
   "name": "python",
   "nbconvert_exporter": "python",
   "pygments_lexer": "ipython3",
   "version": "3.11.4"
  }
 },
 "nbformat": 4,
 "nbformat_minor": 2
}
