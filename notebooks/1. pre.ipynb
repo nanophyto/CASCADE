{
 "cells": [
  {
   "cell_type": "markdown",
   "metadata": {},
   "source": [
    "These scripts are used for pre-processing data before including it the CASCADE database\n",
    "\n",
    "Included processing:\n",
    "\n",
    "1. pre_size\n",
    "2. pre_pic: \n",
    "3. pre_allometry: \n",
    "4. pre_abundances:"
   ]
  },
  {
   "cell_type": "code",
   "execution_count": 1,
   "metadata": {},
   "outputs": [],
   "source": [
    "#define root\n",
    "root = \"/home/phyto/CASCADE/\"\n",
    "\n",
    "#Load required dependencies:\n",
    "import sys\n",
    "\n",
    "#Load AGATE modules:\n",
    "sys.path.insert(0, root + 'cascade/')\n",
    "from pre import pre_size, pre_pic, pre_allometry, pre_abundances"
   ]
  },
  {
   "cell_type": "code",
   "execution_count": 4,
   "metadata": {},
   "outputs": [
    {
     "name": "stdout",
     "output_type": "stream",
     "text": [
      "finished processing: sheward2024\n"
     ]
    }
   ],
   "source": [
    "#run allometry pre-processing:\n",
    "m = pre_allometry(import_path = root + \"data/unprocessed/allometry/\", \n",
    "                    export_path = root + \"data/allometry/\",\n",
    "                    classification_path = root + \"data/classification/\")\n",
    "m.pre_sheward_allometry()\n",
    "#pre_poulton_allometry"
   ]
  },
  {
   "cell_type": "code",
   "execution_count": 5,
   "metadata": {},
   "outputs": [
    {
     "name": "stdout",
     "output_type": "stream",
     "text": [
      "finished processing:\n",
      "villiot2021a\n",
      "villiot2021b\n",
      "obrien2013a\n",
      "devries2024\n",
      "sheward2024\n",
      "young2024\n",
      "gafar2019\n",
      "fiorini2011\n",
      "gerecht2018\n",
      "oviedo2014\n",
      "supraha2015\n"
     ]
    }
   ],
   "source": [
    "m = pre_size(import_path = root + \"data/unprocessed/sizes/\", \n",
    "                export_path = root + \"data/sizes/\",\n",
    "                classification_path = root + \"data/classification/\")\n",
    "m.preprocess_all()"
   ]
  },
  {
   "cell_type": "code",
   "execution_count": 6,
   "metadata": {},
   "outputs": [
    {
     "name": "stdout",
     "output_type": "stream",
     "text": [
      "finished processing:\n",
      "sheward2014\n",
      "sheward2016\n",
      "sheward2024\n",
      "devries2024\n"
     ]
    }
   ],
   "source": [
    "m = pre_pic(import_path = root + \"data/unprocessed/pic/\", \n",
    "                export_path = root + \"data/pic/\",\n",
    "                classification_path = root + \"data/classification/\")\n",
    "m.preprocess_all()"
   ]
  },
  {
   "cell_type": "code",
   "execution_count": 7,
   "metadata": {},
   "outputs": [
    {
     "ename": "TypeError",
     "evalue": "pre_abundances.__init__() got an unexpected keyword argument 'classification_path'",
     "output_type": "error",
     "traceback": [
      "\u001b[0;31m---------------------------------------------------------------------------\u001b[0m",
      "\u001b[0;31mTypeError\u001b[0m                                 Traceback (most recent call last)",
      "Cell \u001b[0;32mIn[7], line 1\u001b[0m\n\u001b[0;32m----> 1\u001b[0m m \u001b[38;5;241m=\u001b[39m \u001b[43mpre_abundances\u001b[49m\u001b[43m(\u001b[49m\u001b[43mimport_path\u001b[49m\u001b[43m \u001b[49m\u001b[38;5;241;43m=\u001b[39;49m\u001b[43m \u001b[49m\u001b[43mroot\u001b[49m\u001b[43m \u001b[49m\u001b[38;5;241;43m+\u001b[39;49m\u001b[43m \u001b[49m\u001b[38;5;124;43m\"\u001b[39;49m\u001b[38;5;124;43mdata/unprocessed/abundances/\u001b[39;49m\u001b[38;5;124;43m\"\u001b[39;49m\u001b[43m,\u001b[49m\u001b[43m \u001b[49m\n\u001b[1;32m      2\u001b[0m \u001b[43m                \u001b[49m\u001b[43mexport_path\u001b[49m\u001b[43m \u001b[49m\u001b[38;5;241;43m=\u001b[39;49m\u001b[43m \u001b[49m\u001b[43mroot\u001b[49m\u001b[43m \u001b[49m\u001b[38;5;241;43m+\u001b[39;49m\u001b[43m \u001b[49m\u001b[38;5;124;43m\"\u001b[39;49m\u001b[38;5;124;43mdata/abundances/\u001b[39;49m\u001b[38;5;124;43m\"\u001b[39;49m\u001b[43m,\u001b[49m\n\u001b[1;32m      3\u001b[0m \u001b[43m                \u001b[49m\u001b[43mclassification_path\u001b[49m\u001b[43m \u001b[49m\u001b[38;5;241;43m=\u001b[39;49m\u001b[43m \u001b[49m\u001b[43mroot\u001b[49m\u001b[43m \u001b[49m\u001b[38;5;241;43m+\u001b[39;49m\u001b[43m \u001b[49m\u001b[38;5;124;43m\"\u001b[39;49m\u001b[38;5;124;43mdata/classification/\u001b[39;49m\u001b[38;5;124;43m\"\u001b[39;49m\u001b[43m)\u001b[49m\n\u001b[1;32m      4\u001b[0m m\u001b[38;5;241m.\u001b[39mpreprocess_all()\n",
      "\u001b[0;31mTypeError\u001b[0m: pre_abundances.__init__() got an unexpected keyword argument 'classification_path'"
     ]
    }
   ],
   "source": [
    "m = pre_abundances(import_path = root + \"data/unprocessed/abundances/\", \n",
    "                export_path = root + \"data/abundances/\",\n",
    "                reference_path = root + \"data/references/\")\n",
    "m.preprocess_all()"
   ]
  }
 ],
 "metadata": {
  "kernelspec": {
   "display_name": "my-geopandas-env-2",
   "language": "python",
   "name": "python3"
  },
  "language_info": {
   "codemirror_mode": {
    "name": "ipython",
    "version": 3
   },
   "file_extension": ".py",
   "mimetype": "text/x-python",
   "name": "python",
   "nbconvert_exporter": "python",
   "pygments_lexer": "ipython3",
   "version": "3.11.4"
  }
 },
 "nbformat": 4,
 "nbformat_minor": 2
}
